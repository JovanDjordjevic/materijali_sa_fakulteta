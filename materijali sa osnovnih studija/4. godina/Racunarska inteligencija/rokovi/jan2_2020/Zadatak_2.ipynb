{
 "cells": [
  {
   "cell_type": "markdown",
   "metadata": {},
   "source": [
    "## Zadatak 2.\n",
    "\n",
    "Jedna od modifikacija osnovne metode gradijentnog spusta je Barzilai-Borvejn metoda u kojoj se korak gradijentnog spusta izračunava na osnovu vrednosti gradijenata u dvema tačkama $x_n$ i $x_{n-1}$ po formuli$$\\gamma_n = \\frac{(x_n-x_{n-1})^T(\\nabla f(x_n)-\\nabla f(x_{n-1}))}{||\\nabla f(x_n)-\\nabla f(x_{n-1})||^2}$$za $n>=2$, a sa namerom da se aproksimira Njutnova metoda i ubrza ceo proces konvergencije."
   ]
  },
  {
   "cell_type": "code",
   "execution_count": 1,
   "metadata": {},
   "outputs": [],
   "source": [
    "import numpy as np\n",
    "from scipy import optimize as opt"
   ]
  },
  {
   "cell_type": "code",
   "execution_count": 2,
   "metadata": {},
   "outputs": [],
   "source": [
    "# x je numpy niz, a=x[0], b=x[1]\n",
    "def f(x):\n",
    "    return (1-x[0])**2 + 100*(x[1]-x[0]**2)**2\n",
    "\n",
    "# x je numpy niz, a=x[0], b=x[1]\n",
    "def gradient(x):\n",
    "    return np.array([\n",
    "                    -2 + 2*x[0] - 2002*x[1] + 400*x[0]**3,\n",
    "                    200*x[1] - 200*x[0]**2\n",
    "                    ])"
   ]
  },
  {
   "cell_type": "markdown",
   "metadata": {},
   "source": [
    "a) Implementirati Barzilai-Borvejn metodu koja za zadatu funkciju $f$ dveju promenljivih, njen gradijent $\\nabla f$, početnu tačku $x_0$ i vrednost koraka $\\gamma_0$ koji se koristi za izračunavanje tačke $x_1$ standardnom gradijentnom iteracijom izračunava minimum funkcije $f$. Algoritam zaustaviti ukoliko je broj iteracija veći od zadatog ograničenja $max\\_iterations$ ili ukoliko je norma gradijenta u tekućoj tački manja od zadate tačnosti $\\epsilon$."
   ]
  },
  {
   "cell_type": "code",
   "execution_count": 32,
   "metadata": {},
   "outputs": [],
   "source": [
    "# ovo mi nesto ne deluje dobro iako daje slican rezultat kao opt.minimize\n",
    "def gradientDescent(f, gradient, x0, gama0, max_iterations, eps):\n",
    "    x_last = x0\n",
    "    x_current = x_last + gama0 * gradient(x_last)\n",
    "        \n",
    "    for it in range(max_iterations):\n",
    "        top = (x_current - x_last).T * (gradient(x_current) - gradient(x_last))\n",
    "        norm = np.linalg.norm(gradient(x_current) - gradient(x_last))\n",
    "        \n",
    "        if norm < eps:\n",
    "            break\n",
    "            \n",
    "        bottom = norm ** 2\n",
    "        gama0 = top / bottom\n",
    "        \n",
    "        x_new = x_current + gama0*gradient(x_current)\n",
    "        \n",
    "        x_last = x_current\n",
    "        x_current = x_new\n",
    "        \n",
    "    print(f\"found value {f(x_current)}\")"
   ]
  },
  {
   "cell_type": "markdown",
   "metadata": {},
   "source": [
    "b) Primeniti implementiranu metodu na funkciju $$𝑓(a,b)=(1−a)^2+100(b−a^2)^2$$\n",
    "\n",
    "Za početnu tačku uzeti $(2.1,1.3)$, za vrednost koraka $\\gamma_0$ u prvoj iteraciji $0.01$, za maksimalan broj iteracija $100$, a za tačnost epsilon $10^{-8}$. "
   ]
  },
  {
   "cell_type": "code",
   "execution_count": 33,
   "metadata": {},
   "outputs": [
    {
     "name": "stdout",
     "output_type": "stream",
     "text": [
      "found value 2.4677625374811276e+73\n"
     ]
    }
   ],
   "source": [
    "x0 = np.array([2.1, 1.3])\n",
    "gradientDescent(f, gradient, x0, 0.01, 100, 10**-8)"
   ]
  },
  {
   "cell_type": "markdown",
   "metadata": {},
   "source": [
    "c) Uporediti ovako dobijeno rešenje sa rešenjem neke od funkcija biblioteke `scipy.optimize`."
   ]
  },
  {
   "cell_type": "code",
   "execution_count": 16,
   "metadata": {},
   "outputs": [
    {
     "data": {
      "text/plain": [
       "      fun: 2.4417687253816623e-11\n",
       " hess_inv: array([[0.4973706 , 0.99475869],\n",
       "       [0.99475869, 1.99444943]])\n",
       "      jac: array([-1.81479897e-06,  4.44015069e-07])\n",
       "  message: 'Optimization terminated successfully.'\n",
       "     nfev: 57\n",
       "      nit: 15\n",
       "     njev: 19\n",
       "   status: 0\n",
       "  success: True\n",
       "        x: array([0.99999506, 0.99999011])"
      ]
     },
     "execution_count": 16,
     "metadata": {},
     "output_type": "execute_result"
    }
   ],
   "source": [
    "opt.minimize(f, x0)"
   ]
  }
 ],
 "metadata": {
  "kernelspec": {
   "display_name": "Python 3 (ipykernel)",
   "language": "python",
   "name": "python3"
  },
  "language_info": {
   "codemirror_mode": {
    "name": "ipython",
    "version": 3
   },
   "file_extension": ".py",
   "mimetype": "text/x-python",
   "name": "python",
   "nbconvert_exporter": "python",
   "pygments_lexer": "ipython3",
   "version": "3.8.0"
  }
 },
 "nbformat": 4,
 "nbformat_minor": 4
}
