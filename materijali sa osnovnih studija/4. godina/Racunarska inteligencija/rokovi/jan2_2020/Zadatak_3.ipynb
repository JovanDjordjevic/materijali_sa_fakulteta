{
 "cells": [
  {
   "cell_type": "markdown",
   "metadata": {},
   "source": [
    "### Zadatak 3.\n",
    "\n",
    "Jedan proizvodjač kafe je u toku 12 nedelja pratio uspešnost prodaje kesica kafe u zavisnosti od širine dela police koju je imao na raspolaganju. Tako dobijene vrednosti su zabeležene u datoteci coffee.csv.\n",
    "\n",
    "a) Nacrtati grafik zavisnosti prodaje kesica kafe u odnosu na širine police. Da li postoji opravdanje za modelovanje ovog problema linearnom regresijom?\n",
    "\n",
    "b) Odrediti odgovarajući regresioni model korišćenjem biblioteke scikit-learn.\n",
    "\n",
    "c) Odrediti regresioni model **bez** korišćenja biblioteke sciki-learn.\n",
    "\n",
    "d) Dati ocenu greške modela na osnovu kontrolnih podataka koji su sadržani u datoteci *coffee_validation.csv*."
   ]
  },
  {
   "cell_type": "code",
   "execution_count": 58,
   "metadata": {},
   "outputs": [],
   "source": [
    "import pandas as pd\n",
    "from matplotlib import pyplot as plt\n",
    "import numpy as np"
   ]
  },
  {
   "cell_type": "code",
   "execution_count": 59,
   "metadata": {},
   "outputs": [],
   "source": [
    "df = pd.read_csv('coffee.csv')\n",
    "shelfSpace = df['ShelfSpace']\n",
    "sales = df['Sales']"
   ]
  },
  {
   "cell_type": "code",
   "execution_count": 60,
   "metadata": {},
   "outputs": [
    {
     "data": {
      "image/png": "[encoded data removed]",
      "text/plain": [
       "<Figure size 432x288 with 1 Axes>"
      ]
     },
     "metadata": {
      "needs_background": "light"
     },
     "output_type": "display_data"
    },
    {
     "data": {
      "image/png": "[encoded data removed]",
      "text/plain": [
       "<Figure size 432x288 with 1 Axes>"
      ]
     },
     "metadata": {
      "needs_background": "light"
     },
     "output_type": "display_data"
    }
   ],
   "source": [
    "#prvi plot\n",
    "plt.scatter(shelfSpace, sales)\n",
    "plt.show()\n",
    "\n",
    "# drugi malo lepsi sa koga se vidi da moze da se modeluje regresijom (?)\n",
    "salesMap = {}\n",
    "for size in shelfSpace.unique():\n",
    "    salesMap[size] = 0\n",
    "    \n",
    "for i in range(len(sales)):\n",
    "    salesMap[shelfSpace[i]] += sales[i]\n",
    "\n",
    "salesPlot = []\n",
    "shelfSizePlot = []\n",
    "\n",
    "for key, value in salesMap.items():\n",
    "    shelfSizePlot.append(key)\n",
    "    salesPlot.append(value)\n",
    "    \n",
    "plt.scatter(shelfSizePlot, salesPlot)\n",
    "plt.show()"
   ]
  },
  {
   "cell_type": "code",
   "execution_count": 61,
   "metadata": {},
   "outputs": [],
   "source": [
    "from sklearn import linear_model\n",
    "from sklearn.model_selection import train_test_split\n",
    "from sklearn.metrics import confusion_matrix, classification_report"
   ]
  },
  {
   "cell_type": "code",
   "execution_count": 62,
   "metadata": {},
   "outputs": [
    {
     "name": "stdout",
     "output_type": "stream",
     "text": [
      "model: 307.91666666666663 + [34.58333333] * x = y\n"
     ]
    }
   ],
   "source": [
    "X_train = shelfSpace.to_numpy()\n",
    "y_train = sales.to_numpy()\n",
    "\n",
    "# skelarn se zali ako ovi nisu zadati kao kolone pa mora ovako (?)\n",
    "X_train = X_train.reshape(-1,1)\n",
    "#y_train = y_train.reshape(-1,1)\n",
    "\n",
    "model = linear_model.LinearRegression()\n",
    "\n",
    "model.fit(X_train, y_train)\n",
    "\n",
    "print(f'model: {model.intercept_} + {model.coef_} * x = y')"
   ]
  },
  {
   "cell_type": "code",
   "execution_count": 63,
   "metadata": {},
   "outputs": [
    {
     "name": "stdout",
     "output_type": "stream",
     "text": [
      "[287 569 580 398 602 440 500]\n",
      "[377.08333333 515.41666667 584.58333333 411.66666667 550.\n",
      " 515.41666667 446.25      ]\n"
     ]
    }
   ],
   "source": [
    "testData = pd.read_csv('coffee_validation.csv')\n",
    "X_test = testData['ShelfSpace'].to_numpy()\n",
    "y_test = testData['Sales'].to_numpy()\n",
    "\n",
    "# skelarn se zali ako ovi nisu zadati kao kolone pa mora ovako (?)\n",
    "X_test = X_test.reshape(-1,1)\n",
    "#y_test = y_test.reshape(-1,1)\n",
    "\n",
    "y_predicted = model.predict(X_test)\n",
    "print(y_test)\n",
    "print(y_predicted)\n",
    "\n",
    "#  ova 2 pucaju iz nekog razloga\n",
    "#confusion_matrix(y_test, y_predicted)\n",
    "#classification_report(y_test, y_predicted)\n"
   ]
  },
  {
   "cell_type": "code",
   "execution_count": 64,
   "metadata": {},
   "outputs": [
    {
     "name": "stdout",
     "output_type": "stream",
     "text": [
      "model: 307.9166666666668 + 34.58333333333336 * x = y\n"
     ]
    },
    {
     "data": {
      "image/png": "[encoded data removed]",
      "text/plain": [
       "<Figure size 432x288 with 1 Axes>"
      ]
     },
     "metadata": {
      "needs_background": "light"
     },
     "output_type": "display_data"
    }
   ],
   "source": [
    "# bez sklearn\n",
    "import numpy.linalg as LA\n",
    "\n",
    "A = shelfSpace.to_numpy()\n",
    "A = np.vstack( (np.ones(len(shelfSpace)), A) ).T\n",
    "b = sales.to_numpy()\n",
    "\n",
    "sol, rss, _, _ = LA.lstsq(A, b, rcond=None)\n",
    "beta0, beta1 = sol\n",
    "print(f'model: {beta0} + {beta1} * x = y')\n",
    "\n",
    "xs = range(10)\n",
    "ys = [beta0 + beta1*x for x in xs]\n",
    "plt.plot(xs, ys)\n",
    "plt.scatter(shelfSpace, sales)\n",
    "plt.show()"
   ]
  }
 ],
 "metadata": {
  "kernelspec": {
   "display_name": "Python 3 (ipykernel)",
   "language": "python",
   "name": "python3"
  },
  "language_info": {
   "codemirror_mode": {
    "name": "ipython",
    "version": 3
   },
   "file_extension": ".py",
   "mimetype": "text/x-python",
   "name": "python",
   "nbconvert_exporter": "python",
   "pygments_lexer": "ipython3",
   "version": "3.8.0"
  }
 },
 "nbformat": 4,
 "nbformat_minor": 4
}
