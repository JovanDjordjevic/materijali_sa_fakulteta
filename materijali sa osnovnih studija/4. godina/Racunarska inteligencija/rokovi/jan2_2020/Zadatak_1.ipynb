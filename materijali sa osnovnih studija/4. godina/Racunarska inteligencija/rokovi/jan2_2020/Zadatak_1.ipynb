{
 "cells": [
  {
   "cell_type": "markdown",
   "metadata": {},
   "source": [
    "### Zadatak 1.\n",
    "\n",
    "Implementirati genetski algoritam za resavanje problema \"Zbir podskupa\".\n",
    "\n",
    "Definicija problema: Za zadati niz brojeva i jedan ciljni broj, odrediti da li postoji neprazan podskup datog niza cija suma je ciljni broj.\n",
    "\n",
    "Primer: \n",
    "    \n",
    "    niz: [6, 2, -4, 23, 56, 8, 3]\n",
    "    \n",
    "    ciljni broj: 34\n",
    "    \n",
    "    resenje: [23, 8, 3]"
   ]
  },
  {
   "cell_type": "code",
   "execution_count": 1,
   "metadata": {},
   "outputs": [],
   "source": [
    "import random"
   ]
  },
  {
   "cell_type": "code",
   "execution_count": 2,
   "metadata": {},
   "outputs": [],
   "source": [
    "array = [6, 2, -4, 23, 56, 8, 3]\n",
    "target = 34"
   ]
  },
  {
   "cell_type": "code",
   "execution_count": 3,
   "metadata": {},
   "outputs": [],
   "source": [
    "class Individual():\n",
    "    \n",
    "    def __init__(self, array, target):\n",
    "        self.array = array.copy()\n",
    "        self.target = target\n",
    "        self.code = self.initialize(len(array))\n",
    "        self.fitness = self.calculateFitness()\n",
    "    \n",
    "    def initialize(self, n):\n",
    "        code = [random.random() < 0.5 for i in range(n)]\n",
    "        return code\n",
    "                \n",
    "    # Sort ce pozvati ovaj metod za poredjenje, ukoliko koristite sort :)\n",
    "    def __lt__(self, other):\n",
    "        return self.fitness < other.fitness\n",
    "        \n",
    "#     def invert(self):\n",
    "#         return None\n",
    "        \n",
    "    def calculateFitness(self):\n",
    "        fitness = 0\n",
    "        for i in range(len(self.array)):\n",
    "            if self.code[i]:\n",
    "                fitness += self.array[i]\n",
    "        return -abs(self.target - fitness)"
   ]
  },
  {
   "cell_type": "markdown",
   "metadata": {},
   "source": [
    "Implementirati turnirsku selekciju"
   ]
  },
  {
   "cell_type": "code",
   "execution_count": 4,
   "metadata": {},
   "outputs": [],
   "source": [
    "def selection(population, size):\n",
    "    return max(random.sample(population, size))"
   ]
  },
  {
   "cell_type": "markdown",
   "metadata": {},
   "source": [
    "Implementirati jednopoziciono ukrstanje"
   ]
  },
  {
   "cell_type": "code",
   "execution_count": 5,
   "metadata": {},
   "outputs": [],
   "source": [
    "def crossover(parent1, parent2):\n",
    "    child1 = Individual(array, target)\n",
    "    child2 = Individual(array, target)\n",
    "    \n",
    "    breakpoint = random.randrange(0, len(parent1.code))\n",
    "    \n",
    "    child1.code = parent1.code[:breakpoint] + parent2.code[breakpoint:]\n",
    "    child2.code = parent2.code[:breakpoint] + parent1.code[breakpoint:]\n",
    "    \n",
    "    child1.fitness = child1.calculateFitness()\n",
    "    child2.fitness = child2.calculateFitness()\n",
    "    \n",
    "    return child1, child2"
   ]
  },
  {
   "cell_type": "code",
   "execution_count": 6,
   "metadata": {},
   "outputs": [],
   "source": [
    "def mutation(individual, probability):\n",
    "    for i in range(len(individual.code)):\n",
    "        if random.random() < probability:\n",
    "            individual.code[i] = not individual.code[i]"
   ]
  },
  {
   "cell_type": "markdown",
   "metadata": {},
   "source": [
    "Implementirati elitizam velicine 30% populacije"
   ]
  },
  {
   "cell_type": "code",
   "execution_count": 16,
   "metadata": {},
   "outputs": [
    {
     "name": "stdout",
     "output_type": "stream",
     "text": [
      "[False, False, False, True, False, True, True]\n",
      "23 8 3 \n",
      "0\n"
     ]
    }
   ],
   "source": [
    "\n",
    "POPULATION_SIZE = 100\n",
    "SELECTION_SIZE = 6\n",
    "MUTATION_PROB = 0.05\n",
    "\n",
    "population = [Individual(array, target) for _ in range(POPULATION_SIZE)]\n",
    "newPopulation = []\n",
    "\n",
    "ELITISM_SIZE = POPULATION_SIZE // 3\n",
    "MAX_ITER = 500\n",
    "\n",
    "for iteration in range(MAX_ITER):\n",
    "    population = sorted(population, reverse=True)\n",
    "\n",
    "    for i in range(ELITISM_SIZE):\n",
    "        newPopulation.append(population[i])\n",
    "    for i in range((POPULATION_SIZE - ELITISM_SIZE) // 2):\n",
    "        parent1 = selection(population, SELECTION_SIZE)\n",
    "        parent2 = selection(population, SELECTION_SIZE)\n",
    "            \n",
    "        child1, child2 = crossover(parent1, parent2)\n",
    "            \n",
    "        mutation(child1, MUTATION_PROB)\n",
    "        mutation(child2, MUTATION_PROB)\n",
    "            \n",
    "        newPopulation.append(child1)\n",
    "        newPopulation.append(child2)\n",
    "        \n",
    "    population = newPopulation\n",
    "    newPopulation = []\n",
    "            \n",
    "bestIndividual = max(population)\n",
    "    \n",
    "print(bestIndividual.code)\n",
    "for i in range(len(bestIndividual.code)):\n",
    "    if bestIndividual.code[i]:\n",
    "        print(array[i], end=\" \")\n",
    "print()\n",
    "print(bestIndividual.fitness)"
   ]
  }
 ],
 "metadata": {
  "kernelspec": {
   "display_name": "Python 3 (ipykernel)",
   "language": "python",
   "name": "python3"
  },
  "language_info": {
   "codemirror_mode": {
    "name": "ipython",
    "version": 3
   },
   "file_extension": ".py",
   "mimetype": "text/x-python",
   "name": "python",
   "nbconvert_exporter": "python",
   "pygments_lexer": "ipython3",
   "version": "3.8.0"
  }
 },
 "nbformat": 4,
 "nbformat_minor": 4
}
