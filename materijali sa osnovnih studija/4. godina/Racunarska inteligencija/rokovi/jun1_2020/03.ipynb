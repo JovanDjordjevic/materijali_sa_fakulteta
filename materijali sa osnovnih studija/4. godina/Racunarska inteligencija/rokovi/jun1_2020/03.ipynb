{
 "cells": [
  {
   "cell_type": "code",
   "execution_count": 48,
   "metadata": {},
   "outputs": [],
   "source": [
    "from keras.datasets import fashion_mnist\n",
    "from matplotlib import pyplot as plt\n",
    "import numpy as np\n",
    "from tensorflow.keras.utils import to_categorical"
   ]
  },
  {
   "cell_type": "markdown",
   "metadata": {},
   "source": [
    "Učitati skup podataka *Fashion MNIST* i ispisati broj i veličinu slika u skupu za obučavanje i skupu za testiranje."
   ]
  },
  {
   "cell_type": "code",
   "execution_count": 49,
   "metadata": {},
   "outputs": [
    {
     "name": "stdout",
     "output_type": "stream",
     "text": [
      "(60000, 28, 28)\n",
      "(60000,)\n",
      "(10000, 28, 28)\n",
      "(10000,)\n"
     ]
    }
   ],
   "source": [
    "(X_train, y_train), (X_test, y_test) = fashion_mnist.load_data()\n",
    "print(X_train.shape)\n",
    "print(y_train.shape)\n",
    "\n",
    "print(X_test.shape)\n",
    "print(y_test.shape)"
   ]
  },
  {
   "cell_type": "markdown",
   "metadata": {},
   "source": [
    "Izvršiti normalizaciju piksela i eventualno promeniti kodiranje ciljne promenljive."
   ]
  },
  {
   "cell_type": "code",
   "execution_count": 50,
   "metadata": {},
   "outputs": [
    {
     "name": "stdout",
     "output_type": "stream",
     "text": [
      "10\n"
     ]
    }
   ],
   "source": [
    "X_train = X_train / 255\n",
    "X_test = X_test / 255\n",
    "\n",
    "numClasses = len(np.unique(y_train))\n",
    "print(numClasses)\n",
    "\n",
    "y_train_categorical = to_categorical(y_train, numClasses)\n",
    "y_test_categorical = to_categorical(y_test, numClasses)"
   ]
  },
  {
   "cell_type": "markdown",
   "metadata": {},
   "source": [
    "Nacrtati prvih $9$ slika iz test skupa, u mreži $3 \\times 3$. Kao naslov svake slike postaviti ime klase kojoj slika pripada."
   ]
  },
  {
   "cell_type": "code",
   "execution_count": 51,
   "metadata": {},
   "outputs": [
    {
     "data": {
      "image/png": "[encoded data removed]",
      "text/plain": [
       "<Figure size 432x288 with 4 Axes>"
      ]
     },
     "metadata": {
      "needs_background": "light"
     },
     "output_type": "display_data"
    }
   ],
   "source": [
    "#crtam 4 jer me mrzi 9\n",
    "fig, axis = plt.subplots(2,2)\n",
    "axis[0,0].imshow(X_test[0])\n",
    "axis[0,0].set_title(y_test[0])\n",
    "axis[0,1].imshow(X_test[1])\n",
    "axis[0,1].set_title(y_test[1])\n",
    "axis[1,0].imshow(X_test[2])\n",
    "axis[1,0].set_title(y_test[2])\n",
    "axis[1,1].imshow(X_test[3])\n",
    "axis[1,1].set_title(y_test[4])\n",
    "plt.show()\n"
   ]
  },
  {
   "cell_type": "markdown",
   "metadata": {},
   "source": [
    "Napraviti potpuno povezanu neuronsku mrežu sa sledećom arhitekturom:\n",
    "- Sloj za ravnanje (Flatten)\n",
    "- Potpuno povezani sloj sa $64$ neurona i ReLu aktivacionom funkcijom\n",
    "- Potpuno povezani sloj sa brojem neurona jednakim broju klasa i softmax aktivacionom funkcijom"
   ]
  },
  {
   "cell_type": "code",
   "execution_count": 52,
   "metadata": {},
   "outputs": [],
   "source": [
    "from tensorflow.keras.models import Sequential\n",
    "from tensorflow.keras.layers import Dense, Flatten"
   ]
  },
  {
   "cell_type": "code",
   "execution_count": 53,
   "metadata": {},
   "outputs": [],
   "source": [
    "model = Sequential()\n",
    "\n",
    "model.add(Flatten(input_shape=X_train.shape[1:]))\n",
    "model.add(Dense(64, activation='relu'))\n",
    "model.add(Dense(numClasses, activation='softmax'))"
   ]
  },
  {
   "cell_type": "markdown",
   "metadata": {},
   "source": [
    "Obučiti model - postaviti veličinu paketa (batch size) na $64$, broj epoha na $10$.\n",
    "\n",
    "Iskoristiti $20\\%$ trening podataka za validaciju."
   ]
  },
  {
   "cell_type": "code",
   "execution_count": 54,
   "metadata": {},
   "outputs": [
    {
     "name": "stdout",
     "output_type": "stream",
     "text": [
      "Model: \"sequential_1\"\n",
      "_________________________________________________________________\n",
      " Layer (type)                Output Shape              Param #   \n",
      "=================================================================\n",
      " flatten_1 (Flatten)         (None, 784)               0         \n",
      "                                                                 \n",
      " dense_2 (Dense)             (None, 64)                50240     \n",
      "                                                                 \n",
      " dense_3 (Dense)             (None, 10)                650       \n",
      "                                                                 \n",
      "=================================================================\n",
      "Total params: 50,890\n",
      "Trainable params: 50,890\n",
      "Non-trainable params: 0\n",
      "_________________________________________________________________\n",
      "Epoch 1/10\n",
      "750/750 [==============================] - 1s 955us/step - loss: 0.5756 - accuracy: 0.8035 - val_loss: 0.4543 - val_accuracy: 0.8414\n",
      "Epoch 2/10\n",
      "750/750 [==============================] - 1s 846us/step - loss: 0.4248 - accuracy: 0.8518 - val_loss: 0.4099 - val_accuracy: 0.8560\n",
      "Epoch 3/10\n",
      "750/750 [==============================] - 1s 830us/step - loss: 0.3899 - accuracy: 0.8625 - val_loss: 0.3883 - val_accuracy: 0.8667\n",
      "Epoch 4/10\n",
      "750/750 [==============================] - 1s 825us/step - loss: 0.3611 - accuracy: 0.8721 - val_loss: 0.3735 - val_accuracy: 0.8668\n",
      "Epoch 5/10\n",
      "750/750 [==============================] - 1s 818us/step - loss: 0.3411 - accuracy: 0.8772 - val_loss: 0.3714 - val_accuracy: 0.8681\n",
      "Epoch 6/10\n",
      "750/750 [==============================] - 1s 818us/step - loss: 0.3276 - accuracy: 0.8800 - val_loss: 0.3757 - val_accuracy: 0.8615\n",
      "Epoch 7/10\n",
      "750/750 [==============================] - 1s 829us/step - loss: 0.3121 - accuracy: 0.8856 - val_loss: 0.3504 - val_accuracy: 0.8727\n",
      "Epoch 8/10\n",
      "750/750 [==============================] - 1s 844us/step - loss: 0.2995 - accuracy: 0.8904 - val_loss: 0.3403 - val_accuracy: 0.8779\n",
      "Epoch 9/10\n",
      "750/750 [==============================] - 1s 836us/step - loss: 0.2911 - accuracy: 0.8931 - val_loss: 0.3463 - val_accuracy: 0.8752\n",
      "Epoch 10/10\n",
      "750/750 [==============================] - 1s 850us/step - loss: 0.2862 - accuracy: 0.8948 - val_loss: 0.3429 - val_accuracy: 0.8793\n"
     ]
    }
   ],
   "source": [
    "model.summary()\n",
    "model.compile(optimizer='adam', loss='categorical_crossentropy', metrics=['accuracy'])\n",
    "history = model.fit(X_train, y_train_categorical, batch_size=64, epochs=10, validation_split=0.2)"
   ]
  },
  {
   "cell_type": "markdown",
   "metadata": {},
   "source": [
    "Nacrtati grafik promene funkcije greške kroz epohe na skupu za obučavanje i za validaciju."
   ]
  },
  {
   "cell_type": "code",
   "execution_count": 55,
   "metadata": {},
   "outputs": [
    {
     "data": {
      "image/png": "[encoded data removed]",
      "text/plain": [
       "<Figure size 432x288 with 1 Axes>"
      ]
     },
     "metadata": {
      "needs_background": "light"
     },
     "output_type": "display_data"
    }
   ],
   "source": [
    "plt.plot(range(10), history.history['loss'])\n",
    "plt.plot(range(10), history.history['val_loss'])\n",
    "plt.show()"
   ]
  },
  {
   "cell_type": "markdown",
   "metadata": {},
   "source": [
    "Nacrtati grafik promene tačnosti kroz epohe na skupu za obučavanje i za validaciju."
   ]
  },
  {
   "cell_type": "code",
   "execution_count": 56,
   "metadata": {},
   "outputs": [
    {
     "data": {
      "image/png": "[encoded data removed]",
      "text/plain": [
       "<Figure size 432x288 with 1 Axes>"
      ]
     },
     "metadata": {
      "needs_background": "light"
     },
     "output_type": "display_data"
    }
   ],
   "source": [
    "plt.plot(range(10), history.history['accuracy'])\n",
    "plt.plot(range(10), history.history['val_accuracy'])\n",
    "plt.show()"
   ]
  },
  {
   "cell_type": "markdown",
   "metadata": {},
   "source": [
    "Izvršiti evaluaciju modela na skupu za testiranje."
   ]
  },
  {
   "cell_type": "code",
   "execution_count": 57,
   "metadata": {},
   "outputs": [
    {
     "name": "stdout",
     "output_type": "stream",
     "text": [
      "313/313 [==============================] - 0s 542us/step - loss: 0.3722 - accuracy: 0.8693\n"
     ]
    },
    {
     "data": {
      "text/plain": [
       "[0.372219055891037, 0.8693000078201294]"
      ]
     },
     "execution_count": 57,
     "metadata": {},
     "output_type": "execute_result"
    }
   ],
   "source": [
    "model.evaluate(X_test, y_test_categorical)"
   ]
  },
  {
   "cell_type": "markdown",
   "metadata": {},
   "source": [
    "Nacrtati istih $9$ instanci kao na početku. Sada pored stvarne klase, dodati i predviđenu klasu u naslov."
   ]
  },
  {
   "cell_type": "code",
   "execution_count": 58,
   "metadata": {},
   "outputs": [],
   "source": [
    "y_predicted = model.predict(X_test)"
   ]
  },
  {
   "cell_type": "code",
   "execution_count": 59,
   "metadata": {},
   "outputs": [
    {
     "data": {
      "image/png": "[encoded data removed]",
      "text/plain": [
       "<Figure size 432x288 with 4 Axes>"
      ]
     },
     "metadata": {
      "needs_background": "light"
     },
     "output_type": "display_data"
    }
   ],
   "source": [
    "#crtam 4 jer me mrzi 9\n",
    "fig, axis = plt.subplots(2,2)\n",
    "axis[0,0].imshow(X_test[0])\n",
    "axis[0,0].set_title('true: ' + str(y_test[0]) + ' predicted: ' + str(np.argmax(y_predicted[0])))\n",
    "axis[0,1].imshow(X_test[1])\n",
    "axis[0,1].set_title('true: ' + str(y_test[1]) + ' predicted: ' + str(np.argmax(y_predicted[1])))\n",
    "axis[1,0].imshow(X_test[2])\n",
    "axis[1,0].set_title('true: ' + str(y_test[2]) + ' predicted: ' + str(np.argmax(y_predicted[2])))\n",
    "axis[1,1].imshow(X_test[3])\n",
    "axis[1,1].set_title('true: ' + str(y_test[3]) + ' predicted: ' + str(np.argmax(y_predicted[3])))\n",
    "plt.show()"
   ]
  }
 ],
 "metadata": {
  "kernelspec": {
   "display_name": "Python 3 (ipykernel)",
   "language": "python",
   "name": "python3"
  },
  "language_info": {
   "codemirror_mode": {
    "name": "ipython",
    "version": 3
   },
   "file_extension": ".py",
   "mimetype": "text/x-python",
   "name": "python",
   "nbconvert_exporter": "python",
   "pygments_lexer": "ipython3",
   "version": "3.8.0"
  }
 },
 "nbformat": 4,
 "nbformat_minor": 4
}
