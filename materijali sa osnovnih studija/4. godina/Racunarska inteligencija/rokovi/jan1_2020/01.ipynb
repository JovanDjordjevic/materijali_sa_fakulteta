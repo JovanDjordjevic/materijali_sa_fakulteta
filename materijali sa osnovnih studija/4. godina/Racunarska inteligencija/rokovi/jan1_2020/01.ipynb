{
 "cells": [
  {
   "cell_type": "code",
   "execution_count": 62,
   "metadata": {},
   "outputs": [],
   "source": [
    "import random\n",
    "import numpy as np"
   ]
  },
  {
   "cell_type": "markdown",
   "metadata": {},
   "source": [
    "Data je matrica rastojanja između gradova $D$."
   ]
  },
  {
   "cell_type": "code",
   "execution_count": 97,
   "metadata": {},
   "outputs": [],
   "source": [
    "D = [[0,4,1,3],\n",
    "     [4,0,2,1],\n",
    "     [1,2,0,5],\n",
    "     [3,1,5,0]\n",
    "    ]"
   ]
  },
  {
   "cell_type": "markdown",
   "metadata": {},
   "source": [
    "Problem trgovačkog putnika: za dati skup gradova i rastojanja između njih, potrebno je odrediti najkraću rutu koja svaki grad posećuje tačno jednom, pri čemu je prvi grad ujedno i poslednji grad na putu."
   ]
  },
  {
   "cell_type": "markdown",
   "metadata": {},
   "source": [
    "Napisati funkciju $initialize$ koja za dati broj gradova $n$ konstruiše početno rešenje (proizvoljnu rutu) za trgovačkog putnika."
   ]
  },
  {
   "cell_type": "code",
   "execution_count": 98,
   "metadata": {},
   "outputs": [],
   "source": [
    "def initialize(n):\n",
    "# POCETAK STUDENTSKOG KODA\n",
    "    sol = list(range(n))\n",
    "    random.shuffle(sol)\n",
    "    return sol\n",
    "# KRAJ STUDENTSKOG KODA"
   ]
  },
  {
   "cell_type": "markdown",
   "metadata": {},
   "source": [
    "Napisati funkciju $calcSolutionValue$ koja za dato rešenje $solution$ i matricu rastojanja $D$ računa vrednost tog rešenja."
   ]
  },
  {
   "cell_type": "code",
   "execution_count": 99,
   "metadata": {},
   "outputs": [],
   "source": [
    "def calcSolutionValue(solution, D):\n",
    "# POCETAK STUDENTSKOG KODA\n",
    "    value = 0\n",
    "    for i in range(len(solution)- 1):\n",
    "        value += D[solution[i]][solution[i+1]]\n",
    "    value += D[solution[len(solution)-1]][solution[0]]\n",
    "    return value\n",
    "# KRAJ STUDENTSKOG KODA"
   ]
  },
  {
   "cell_type": "markdown",
   "metadata": {},
   "source": [
    "Napisati funkciju $createNewSolution$ koja malom izmenom datog trenutnog rešenja $solution$ konstruiše novo rešenje."
   ]
  },
  {
   "cell_type": "code",
   "execution_count": 100,
   "metadata": {},
   "outputs": [],
   "source": [
    "def createNewSolution(solution):\n",
    "# POCETAK STUDENTSKOG KODA\n",
    "    newSol = solution.copy()\n",
    "    index1, index2 = random.sample(range(len(solution)), 2)\n",
    "    tmp = newSol[index1]\n",
    "    newSol[index1] = newSol[index2]\n",
    "    newSol[index2] = tmp\n",
    "    return newSol\n",
    "# KRAJ STUDENTSKOG KODA "
   ]
  },
  {
   "cell_type": "markdown",
   "metadata": {},
   "source": [
    "Konačno, napisati funkciju $simulatedAnnealing$ koja za datu matricu rastojanja $D$ rešava problem trgovačkog putnika primenom simuliranog kaljenja.\n",
    "Uslov zaustavljanja je broj iteracija $iters$.\n",
    "\n",
    "Za funkciju $p$ koristiti $\\frac{1}{\\sqrt{i}}$, gde je $i$ broj trenutne iteracije.\n",
    "\n",
    "Iz funkcije vratiti vrednost najboljeg rešenja i najbolju rutu."
   ]
  },
  {
   "cell_type": "code",
   "execution_count": 134,
   "metadata": {},
   "outputs": [],
   "source": [
    "def simulatedAnnealing(D, iters):\n",
    "# POCETAK STUDENTSKOG KODA\n",
    "    solution = initialize(len(D))\n",
    "    value = calcSolutionValue(solution, D)\n",
    "    \n",
    "    bestSolution = solution.copy()\n",
    "    bestSolutionValue = value\n",
    "    \n",
    "    for i in range(1, iters+1):\n",
    "        newSolution = createNewSolution(solution)\n",
    "        newSolutionValue = calcSolutionValue(newSolution, D)\n",
    "        \n",
    "        if newSolutionValue < value:\n",
    "            solution = newSolution\n",
    "            value = newSolutionValue\n",
    "            if newSolutionValue < bestSolutionValue:\n",
    "                bestSolutionValue = newSolutionValue\n",
    "                bestSolution = newSolution.copy()\n",
    "        else:\n",
    "            p = 1 / np.sqrt(i)\n",
    "            if p > random.uniform(0,1):\n",
    "                solution = newSolution.copy()\n",
    "                value = newSolutionValue\n",
    "            else:\n",
    "                continue\n",
    "\n",
    "    print(bestSolution)\n",
    "    print(bestSolutionValue)\n",
    "# KRAJ STUDENTSKOG KODA"
   ]
  },
  {
   "cell_type": "markdown",
   "metadata": {},
   "source": [
    "1. test primer (matrica rastojanja $D$)\n",
    "\n",
    "Optimalna vrednost: 7\n",
    "\n",
    "Optimalna ruta: 0 -> 2 -> 1 -> 3"
   ]
  },
  {
   "cell_type": "code",
   "execution_count": 138,
   "metadata": {},
   "outputs": [
    {
     "name": "stdout",
     "output_type": "stream",
     "text": [
      "[3, 0, 2, 1]\n",
      "7\n"
     ]
    }
   ],
   "source": [
    "simulatedAnnealing(D, 10)"
   ]
  },
  {
   "cell_type": "code",
   "execution_count": 139,
   "metadata": {},
   "outputs": [],
   "source": [
    "def readFile(filename):\n",
    "    with open(filename, 'r') as f:\n",
    "        numCities = [int(x) for x in f.readline().split()][0]\n",
    "        D = [[int(x) for x in f.readline().split()] for i in range(numCities)]\n",
    "        return D"
   ]
  },
  {
   "cell_type": "code",
   "execution_count": 140,
   "metadata": {},
   "outputs": [],
   "source": [
    "D_2 = readFile('tsp_input.txt')"
   ]
  },
  {
   "cell_type": "markdown",
   "metadata": {},
   "source": [
    "2. test primer (matrica rastojanja $D_2$)\n",
    "\n",
    "Optimalna vrednost: 27603"
   ]
  },
  {
   "cell_type": "code",
   "execution_count": 146,
   "metadata": {},
   "outputs": [
    {
     "name": "stdout",
     "output_type": "stream",
     "text": [
      "[18, 14, 11, 4, 0, 1, 5, 10, 9, 7, 3, 2, 6, 8, 12, 13, 16, 17, 20, 15, 23, 26, 24, 19, 25, 27, 28, 22, 21]\n",
      "30862\n"
     ]
    }
   ],
   "source": [
    "simulatedAnnealing(D_2, 100000)"
   ]
  }
 ],
 "metadata": {
  "kernelspec": {
   "display_name": "Python 3 (ipykernel)",
   "language": "python",
   "name": "python3"
  },
  "language_info": {
   "codemirror_mode": {
    "name": "ipython",
    "version": 3
   },
   "file_extension": ".py",
   "mimetype": "text/x-python",
   "name": "python",
   "nbconvert_exporter": "python",
   "pygments_lexer": "ipython3",
   "version": "3.8.0"
  }
 },
 "nbformat": 4,
 "nbformat_minor": 4
}
