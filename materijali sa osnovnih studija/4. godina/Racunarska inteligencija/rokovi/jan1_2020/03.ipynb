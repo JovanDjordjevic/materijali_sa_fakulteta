{
 "cells": [
  {
   "cell_type": "code",
   "execution_count": 1,
   "metadata": {},
   "outputs": [],
   "source": [
    "from keras.datasets import cifar10\n",
    "from tensorflow.keras.utils import to_categorical\n",
    "from keras.models import Sequential\n",
    "from keras.layers import Conv2D, Dense, MaxPooling2D, Flatten, Dropout\n",
    "from keras.losses import SparseCategoricalCrossentropy\n",
    "from matplotlib import pyplot as plt"
   ]
  },
  {
   "cell_type": "markdown",
   "metadata": {},
   "source": [
    "Učitati skup podataka $cifar10$ i za obučavanje koristiti prvih $10000$ slika iz skupa za obučavanje, a za testiranje koristiti prvih $1000$ slika iz skupa za testiranje."
   ]
  },
  {
   "cell_type": "code",
   "execution_count": 2,
   "metadata": {},
   "outputs": [
    {
     "name": "stdout",
     "output_type": "stream",
     "text": [
      "(10000, 32, 32, 3)\n",
      "(10000, 1)\n",
      "(1000, 32, 32, 3)\n",
      "(1000, 1)\n"
     ]
    }
   ],
   "source": [
    "(X_train, y_train), (X_test, y_test) = cifar10.load_data()\n",
    "\n",
    "X_train = X_train[:10000]\n",
    "y_train = y_train[:10000]\n",
    "X_test = X_test[:1000]\n",
    "y_test = y_test[:1000]\n",
    "\n",
    "print(X_train.shape)\n",
    "print(y_train.shape)\n",
    "print(X_test.shape)\n",
    "print(y_test.shape)\n",
    "\n",
    "# plt.title(y_train[0])\n",
    "# plt.imshow(X_train[0])\n",
    "# plt.show()"
   ]
  },
  {
   "cell_type": "markdown",
   "metadata": {},
   "source": [
    "Izvršiti normalizaciju piksela i eventualno promeniti kodiranje ciljne promenljive."
   ]
  },
  {
   "cell_type": "code",
   "execution_count": 3,
   "metadata": {},
   "outputs": [
    {
     "name": "stdout",
     "output_type": "stream",
     "text": [
      "(10000, 32, 32, 3)\n",
      "(10000, 1)\n",
      "(1000, 32, 32, 3)\n",
      "(1000, 1)\n"
     ]
    }
   ],
   "source": [
    "import keras.backend as K\n",
    "\n",
    "img_size = X_train.shape[1]\n",
    "\n",
    "if K.image_data_format() == 'channels_first':\n",
    "    X_train = X_train.reshape(X_train.shape[0], 3, img_size, img_size)\n",
    "    X_test = X_test.reshape(X_test.shape[0], 3, img_size, img_size)\n",
    "else:\n",
    "    X_train = X_train.reshape(X_train.shape[0], img_size, img_size, 3)\n",
    "    X_test = X_test.reshape(X_test.shape[0], img_size, img_size, 3)\n",
    "    \n",
    "print(X_train.shape)\n",
    "print(y_train.shape)\n",
    "print(X_test.shape)\n",
    "print(y_test.shape)\n",
    "\n",
    "#print(X_train[0])\n",
    "X_train = X_train / 255\n",
    "X_test = X_test / 255\n",
    "#print(X_train[0])\n",
    "\n",
    "numClasses = 10\n",
    "y_train = to_categorical(y_train, numClasses)\n",
    "y_test = to_categorical(y_test, numClasses)"
   ]
  },
  {
   "cell_type": "markdown",
   "metadata": {},
   "source": [
    "Napraviti konvolutivnu neuronsku mrežu sa sledećom arhitekturom:\n",
    "- Konvolutivni sloj sa $32$ filtera veličine $3 \\times 3$ i ReLu aktivacionom funkcijom\n",
    "- Konvolutivni sloj sa $32$ filtera veličine $3 \\times 3$ i ReLu aktivacionom funkcijom\n",
    "- Agregacioni sloj sa veličinom prozora $2 \\times 2$\n",
    "- Konvolutivni sloj sa $64$ filtera veličine $3 \\times 3$ i ReLu aktivacionom funkcijom\n",
    "- Konvolutivni sloj sa $64$ filtera veličine $3 \\times 3$ i ReLu aktivacionom funkcijom\n",
    "- Agregacioni sloj sa veličinom prozora $2 \\times 2$\n",
    "- Sloj za ravnanje (Flatten)\n",
    "- Potpuno povezani sloj sa $64$ neurona i ReLu aktivacionom funkcijom\n",
    "- Potpuno povezani sloj sa brojem neurona jednakim broju klasa i softmax aktivacionom funkcijom"
   ]
  },
  {
   "cell_type": "code",
   "execution_count": 4,
   "metadata": {},
   "outputs": [
    {
     "name": "stdout",
     "output_type": "stream",
     "text": [
      "Model: \"sequential\"\n",
      "_________________________________________________________________\n",
      " Layer (type)                Output Shape              Param #   \n",
      "=================================================================\n",
      " conv2d (Conv2D)             (None, 30, 30, 32)        896       \n",
      "                                                                 \n",
      " conv2d_1 (Conv2D)           (None, 28, 28, 32)        9248      \n",
      "                                                                 \n",
      " max_pooling2d (MaxPooling2D  (None, 14, 14, 32)       0         \n",
      " )                                                               \n",
      "                                                                 \n",
      " conv2d_2 (Conv2D)           (None, 12, 12, 64)        18496     \n",
      "                                                                 \n",
      " conv2d_3 (Conv2D)           (None, 10, 10, 64)        36928     \n",
      "                                                                 \n",
      " max_pooling2d_1 (MaxPooling  (None, 5, 5, 64)         0         \n",
      " 2D)                                                             \n",
      "                                                                 \n",
      " flatten (Flatten)           (None, 1600)              0         \n",
      "                                                                 \n",
      " dense (Dense)               (None, 64)                102464    \n",
      "                                                                 \n",
      " dense_1 (Dense)             (None, 10)                650       \n",
      "                                                                 \n",
      "=================================================================\n",
      "Total params: 168,682\n",
      "Trainable params: 168,682\n",
      "Non-trainable params: 0\n",
      "_________________________________________________________________\n"
     ]
    }
   ],
   "source": [
    "model = Sequential()\n",
    "\n",
    "input_shape = X_train.shape[1:]\n",
    "\n",
    "model.add(Conv2D(32, kernel_size=(3,3), activation='relu', input_shape=input_shape))\n",
    "model.add(Conv2D(32, kernel_size=(3,3), activation='relu'))\n",
    "model.add(MaxPooling2D(pool_size=(2,2)))\n",
    "model.add(Conv2D(64, kernel_size=(3,3), activation='relu'))\n",
    "model.add(Conv2D(64, kernel_size=(3,3), activation='relu'))\n",
    "model.add(MaxPooling2D(pool_size=(2,2)))\n",
    "model.add(Flatten())\n",
    "model.add(Dense(units=64, activation='relu'))\n",
    "model.add(Dense(units=numClasses, activation='softmax'))          \n",
    "          \n",
    "model.summary()\n",
    "\n",
    "model.compile(optimizer='adam', loss='categorical_crossentropy', metrics=['accuracy'])"
   ]
  },
  {
   "cell_type": "markdown",
   "metadata": {},
   "source": [
    "Obučiti model - postaviti veličinu paketa (batch size) na $64$, broj epoha na $10$.\n",
    "\n",
    "Iskoristiti $20\\%$ trening podataka za validaciju."
   ]
  },
  {
   "cell_type": "code",
   "execution_count": 5,
   "metadata": {
    "scrolled": true
   },
   "outputs": [
    {
     "name": "stdout",
     "output_type": "stream",
     "text": [
      "Epoch 1/10\n",
      "125/125 [==============================] - 5s 39ms/step - loss: 2.0230 - accuracy: 0.2406 - val_loss: 1.7954 - val_accuracy: 0.3425\n",
      "Epoch 2/10\n",
      "125/125 [==============================] - 5s 39ms/step - loss: 1.6670 - accuracy: 0.3950 - val_loss: 1.5898 - val_accuracy: 0.4205\n",
      "Epoch 3/10\n",
      "125/125 [==============================] - 5s 38ms/step - loss: 1.5091 - accuracy: 0.4512 - val_loss: 1.4479 - val_accuracy: 0.4640\n",
      "Epoch 4/10\n",
      "125/125 [==============================] - 5s 39ms/step - loss: 1.3867 - accuracy: 0.4980 - val_loss: 1.3534 - val_accuracy: 0.5020\n",
      "Epoch 5/10\n",
      "125/125 [==============================] - 5s 38ms/step - loss: 1.2923 - accuracy: 0.5330 - val_loss: 1.3437 - val_accuracy: 0.5060\n",
      "Epoch 6/10\n",
      "125/125 [==============================] - 5s 38ms/step - loss: 1.2346 - accuracy: 0.5512 - val_loss: 1.3381 - val_accuracy: 0.5195\n",
      "Epoch 7/10\n",
      "125/125 [==============================] - 5s 38ms/step - loss: 1.1402 - accuracy: 0.5946 - val_loss: 1.2798 - val_accuracy: 0.5315\n",
      "Epoch 8/10\n",
      "125/125 [==============================] - 5s 38ms/step - loss: 1.0756 - accuracy: 0.6185 - val_loss: 1.2156 - val_accuracy: 0.5660\n",
      "Epoch 9/10\n",
      "125/125 [==============================] - 5s 39ms/step - loss: 0.9931 - accuracy: 0.6451 - val_loss: 1.2741 - val_accuracy: 0.5450\n",
      "Epoch 10/10\n",
      "125/125 [==============================] - 5s 38ms/step - loss: 0.9290 - accuracy: 0.6755 - val_loss: 1.2193 - val_accuracy: 0.5745\n"
     ]
    }
   ],
   "source": [
    "history = model.fit(X_train, y_train, batch_size=64, epochs=10, validation_split=0.2)"
   ]
  },
  {
   "cell_type": "markdown",
   "metadata": {},
   "source": [
    "Nacrtati grafik promene funkcije greške kroz epohe na skupu za obučavanje i za validaciju."
   ]
  },
  {
   "cell_type": "code",
   "execution_count": 9,
   "metadata": {},
   "outputs": [
    {
     "data": {
      "image/png": "[encoded data removed]",
      "text/plain": [
       "<Figure size 432x288 with 1 Axes>"
      ]
     },
     "metadata": {
      "needs_background": "light"
     },
     "output_type": "display_data"
    }
   ],
   "source": [
    "plt.plot(range(10), history.history['loss'])\n",
    "plt.plot(range(10), history.history['val_loss'])\n",
    "plt.show()"
   ]
  },
  {
   "cell_type": "markdown",
   "metadata": {},
   "source": [
    "Nacrtati grafik promene tačnosti kroz epohe na skupu za obučavanje i za validaciju."
   ]
  },
  {
   "cell_type": "code",
   "execution_count": 10,
   "metadata": {},
   "outputs": [
    {
     "data": {
      "image/png": "[encoded data removed]",
      "text/plain": [
       "<Figure size 432x288 with 1 Axes>"
      ]
     },
     "metadata": {
      "needs_background": "light"
     },
     "output_type": "display_data"
    }
   ],
   "source": [
    "plt.plot(range(10), history.history['accuracy'])\n",
    "plt.plot(range(10), history.history['val_accuracy'])\n",
    "plt.show()"
   ]
  },
  {
   "cell_type": "markdown",
   "metadata": {},
   "source": [
    "Izvršiti evaluaciju modela na skupu za testiranje."
   ]
  },
  {
   "cell_type": "code",
   "execution_count": 11,
   "metadata": {},
   "outputs": [
    {
     "name": "stdout",
     "output_type": "stream",
     "text": [
      "32/32 [==============================] - 0s 4ms/step - loss: 1.1981 - accuracy: 0.5980\n"
     ]
    },
    {
     "data": {
      "text/plain": [
       "[1.1981101036071777, 0.5979999899864197]"
      ]
     },
     "execution_count": 11,
     "metadata": {},
     "output_type": "execute_result"
    }
   ],
   "source": [
    "model.evaluate(X_test, y_test)"
   ]
  },
  {
   "cell_type": "markdown",
   "metadata": {},
   "source": [
    "Napraviti novi model koji ima istu arhitekturu kao prethodni, ali dodatno koristi regularizaciju izostavljanjem - ima $Dropout$ sloj sa faktorom $0.2$ posle svakog agregacionog sloja i između dva potpuno povezana sloja."
   ]
  },
  {
   "cell_type": "code",
   "execution_count": 12,
   "metadata": {},
   "outputs": [
    {
     "name": "stdout",
     "output_type": "stream",
     "text": [
      "Model: \"sequential_1\"\n",
      "_________________________________________________________________\n",
      " Layer (type)                Output Shape              Param #   \n",
      "=================================================================\n",
      " conv2d_4 (Conv2D)           (None, 30, 30, 32)        896       \n",
      "                                                                 \n",
      " conv2d_5 (Conv2D)           (None, 28, 28, 32)        9248      \n",
      "                                                                 \n",
      " max_pooling2d_2 (MaxPooling  (None, 14, 14, 32)       0         \n",
      " 2D)                                                             \n",
      "                                                                 \n",
      " dropout (Dropout)           (None, 14, 14, 32)        0         \n",
      "                                                                 \n",
      " conv2d_6 (Conv2D)           (None, 12, 12, 64)        18496     \n",
      "                                                                 \n",
      " conv2d_7 (Conv2D)           (None, 10, 10, 64)        36928     \n",
      "                                                                 \n",
      " max_pooling2d_3 (MaxPooling  (None, 5, 5, 64)         0         \n",
      " 2D)                                                             \n",
      "                                                                 \n",
      " dropout_1 (Dropout)         (None, 5, 5, 64)          0         \n",
      "                                                                 \n",
      " flatten_1 (Flatten)         (None, 1600)              0         \n",
      "                                                                 \n",
      " dense_2 (Dense)             (None, 64)                102464    \n",
      "                                                                 \n",
      " dropout_2 (Dropout)         (None, 64)                0         \n",
      "                                                                 \n",
      " dense_3 (Dense)             (None, 10)                650       \n",
      "                                                                 \n",
      "=================================================================\n",
      "Total params: 168,682\n",
      "Trainable params: 168,682\n",
      "Non-trainable params: 0\n",
      "_________________________________________________________________\n"
     ]
    }
   ],
   "source": [
    "newModel = Sequential()\n",
    "\n",
    "input_shape = X_train.shape[1:]\n",
    "\n",
    "newModel.add(Conv2D(32, kernel_size=(3,3), activation='relu', input_shape=input_shape))\n",
    "newModel.add(Conv2D(32, kernel_size=(3,3), activation='relu'))\n",
    "newModel.add(MaxPooling2D(pool_size=(2,2)))\n",
    "newModel.add(Dropout(0.2))\n",
    "newModel.add(Conv2D(64, kernel_size=(3,3), activation='relu'))\n",
    "newModel.add(Conv2D(64, kernel_size=(3,3), activation='relu'))\n",
    "newModel.add(MaxPooling2D(pool_size=(2,2)))\n",
    "newModel.add(Dropout(0.2))\n",
    "newModel.add(Flatten())\n",
    "newModel.add(Dense(units=64, activation='relu'))\n",
    "newModel.add(Dropout(0.2))\n",
    "newModel.add(Dense(units=numClasses, activation='softmax'))          \n",
    "          \n",
    "newModel.summary()\n",
    "\n",
    "newModel.compile(optimizer='adam', loss='categorical_crossentropy', metrics=['accuracy'])"
   ]
  },
  {
   "cell_type": "markdown",
   "metadata": {},
   "source": [
    "Obučiti novi model sa istim parametrima kao kod starog modela."
   ]
  },
  {
   "cell_type": "code",
   "execution_count": 13,
   "metadata": {},
   "outputs": [
    {
     "name": "stdout",
     "output_type": "stream",
     "text": [
      "Epoch 1/10\n",
      "125/125 [==============================] - 5s 40ms/step - loss: 2.0983 - accuracy: 0.1990 - val_loss: 1.7823 - val_accuracy: 0.3140\n",
      "Epoch 2/10\n",
      "125/125 [==============================] - 5s 39ms/step - loss: 1.7003 - accuracy: 0.3679 - val_loss: 1.5457 - val_accuracy: 0.4270\n",
      "Epoch 3/10\n",
      "125/125 [==============================] - 5s 39ms/step - loss: 1.5566 - accuracy: 0.4286 - val_loss: 1.4509 - val_accuracy: 0.4560\n",
      "Epoch 4/10\n",
      "125/125 [==============================] - 5s 39ms/step - loss: 1.4430 - accuracy: 0.4748 - val_loss: 1.4083 - val_accuracy: 0.4705\n",
      "Epoch 5/10\n",
      "125/125 [==============================] - 5s 39ms/step - loss: 1.3620 - accuracy: 0.5088 - val_loss: 1.3054 - val_accuracy: 0.5210\n",
      "Epoch 6/10\n",
      "125/125 [==============================] - 5s 39ms/step - loss: 1.2814 - accuracy: 0.5337 - val_loss: 1.4382 - val_accuracy: 0.4775\n",
      "Epoch 7/10\n",
      "125/125 [==============================] - 5s 39ms/step - loss: 1.2514 - accuracy: 0.5495 - val_loss: 1.1884 - val_accuracy: 0.5520\n",
      "Epoch 8/10\n",
      "125/125 [==============================] - 5s 40ms/step - loss: 1.1545 - accuracy: 0.5839 - val_loss: 1.1752 - val_accuracy: 0.5715\n",
      "Epoch 9/10\n",
      "125/125 [==============================] - 5s 41ms/step - loss: 1.1203 - accuracy: 0.5955 - val_loss: 1.1635 - val_accuracy: 0.5695\n",
      "Epoch 10/10\n",
      "125/125 [==============================] - 5s 40ms/step - loss: 1.0610 - accuracy: 0.6144 - val_loss: 1.1158 - val_accuracy: 0.5935\n"
     ]
    }
   ],
   "source": [
    "newHistory = newModel.fit(X_train, y_train, batch_size=64, epochs=10, validation_split=0.2)"
   ]
  },
  {
   "cell_type": "markdown",
   "metadata": {},
   "source": [
    "Nacrtati oba grafika i za novi model."
   ]
  },
  {
   "cell_type": "code",
   "execution_count": 14,
   "metadata": {},
   "outputs": [
    {
     "data": {
      "image/png": "[encoded data removed]",
      "text/plain": [
       "<Figure size 432x288 with 1 Axes>"
      ]
     },
     "metadata": {
      "needs_background": "light"
     },
     "output_type": "display_data"
    },
    {
     "data": {
      "image/png": "[encoded data removed]",
      "text/plain": [
       "<Figure size 432x288 with 1 Axes>"
      ]
     },
     "metadata": {
      "needs_background": "light"
     },
     "output_type": "display_data"
    }
   ],
   "source": [
    "plt.plot(range(10), newHistory.history['loss'])\n",
    "plt.plot(range(10), newHistory.history['val_loss'])\n",
    "plt.show()\n",
    "\n",
    "plt.plot(range(10), newHistory.history['accuracy'])\n",
    "plt.plot(range(10), newHistory.history['val_accuracy'])\n",
    "plt.show()"
   ]
  },
  {
   "cell_type": "markdown",
   "metadata": {},
   "source": [
    "Da li poređenjem ova dva grafika sa prethodna dva možete da zaključite koji model se bolje ponaša i zašto?"
   ]
  },
  {
   "cell_type": "code",
   "execution_count": null,
   "metadata": {},
   "outputs": [],
   "source": [
    "# deluju mi relativno slicno"
   ]
  }
 ],
 "metadata": {
  "kernelspec": {
   "display_name": "Python 3 (ipykernel)",
   "language": "python",
   "name": "python3"
  },
  "language_info": {
   "codemirror_mode": {
    "name": "ipython",
    "version": 3
   },
   "file_extension": ".py",
   "mimetype": "text/x-python",
   "name": "python",
   "nbconvert_exporter": "python",
   "pygments_lexer": "ipython3",
   "version": "3.8.0"
  }
 },
 "nbformat": 4,
 "nbformat_minor": 4
}
