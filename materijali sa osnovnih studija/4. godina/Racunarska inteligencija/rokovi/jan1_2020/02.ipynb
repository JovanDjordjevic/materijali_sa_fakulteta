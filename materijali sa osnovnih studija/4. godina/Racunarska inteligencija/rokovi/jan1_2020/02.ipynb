{
 "cells": [
  {
   "cell_type": "code",
   "execution_count": 52,
   "metadata": {},
   "outputs": [],
   "source": [
    "import numpy as np\n",
    "import random\n",
    "import matplotlib.pyplot as plt"
   ]
  },
  {
   "cell_type": "code",
   "execution_count": 8,
   "metadata": {},
   "outputs": [],
   "source": [
    "def ackley(x):\n",
    "    d = len(x)\n",
    "    a = 20\n",
    "    b = 0.2\n",
    "    c = 2 * np.pi\n",
    "    first_sum = np.sum(np.square(x))\n",
    "    second_sum = np.sum(np.cos(np.multiply(c, x)))\n",
    "    return -a*np.exp(-b*np.sqrt(first_sum / d)) - np.exp(second_sum / d) + a + np.exp(1)"
   ]
  },
  {
   "cell_type": "code",
   "execution_count": 9,
   "metadata": {},
   "outputs": [],
   "source": [
    "n = 5\n",
    "bounds = [(-32, 32) for _ in range(n)]"
   ]
  },
  {
   "cell_type": "markdown",
   "metadata": {},
   "source": [
    "Koristeći optimizaciju rojem čestica (PSO) minimizovati Aklijevu funkciju na datom opsegu.\n",
    "\n",
    "Napraviti klasu $Particle$ koja predstavlja jednu česticu i ima metode $updatePosition$ i $updateVelocity$ koji ažuriraju poziciju i brzinu čestice.\n",
    "\n",
    "Za parametre $w$, $c1$ i $c2$ uzeti redom vrednosti $0.75$, $1$ i $2$."
   ]
  },
  {
   "cell_type": "code",
   "execution_count": 45,
   "metadata": {},
   "outputs": [],
   "source": [
    "class Particle:\n",
    "    \n",
    "    def __init__(self, objective, bounds, w, c1, c2):\n",
    "#         POCETAK STUDENTSKOG KODA\n",
    "        self.position = np.array([random.uniform(b[0], b[1]) for b in bounds])\n",
    "        self.velocity = np.array([random.uniform( -(b[1]-b[0]), (b[1]-b[0])) for b in bounds])\n",
    "#         KRAJ STUDENTSKOG KODA\n",
    "        self.bestPosition = np.array(self.position)\n",
    "        self.currentValue = objective(self.position)\n",
    "        self.bestValue = objective(self.bestPosition)\n",
    "        \n",
    "        self.objective = objective\n",
    "        self.bounds = bounds\n",
    "        self.w = w\n",
    "        self.c1 = c1\n",
    "        self.c2 = c2\n",
    "        \n",
    "    def updatePosition(self, globalBestPosition, globalBestValue):\n",
    "#         POCETAK STUDENTSKOG KODA\n",
    "        lowerBounds = [b[0] for b in bounds]\n",
    "        upperBounds = [b[1] for b in bounds]\n",
    "        self.position = np.clip(self.position + self.velocity, lowerBounds, upperBounds)\n",
    "        \n",
    "        self.currentValue = self.objective(self.position)\n",
    "        \n",
    "        if self.currentValue < self.bestValue:\n",
    "            self.bestPostion = self.position.copy()\n",
    "            self.bestValue = self.currentValue\n",
    "        if self.currentValue < globalBestValue:\n",
    "            globalBestValue = self.currentValue\n",
    "            globalBestPosition = self.position.copy()\n",
    "            \n",
    "#         KRAJ STUDENTSKOG KODA\n",
    "    \n",
    "    def updateVelocity(self, globalBestPosition):\n",
    "#         POCETAK STUDENTSKOG KODA\n",
    "        r_l = random.random()\n",
    "        r_g = random.random()\n",
    "        \n",
    "        self.velocity = (self.w * self.velocity\n",
    "                        + self.c1 * r_l * (self.bestPosition - self.position)\n",
    "                        + self.c2 * r_g * (globalBestPosition - self.position))\n",
    "#         KRAJ STUDENTSKOG KODA"
   ]
  },
  {
   "cell_type": "markdown",
   "metadata": {},
   "source": [
    "Napisati funkciju $pso$ koja pravi roj od $numParticles$ čestica i vrši optimizaciju.\n",
    "\n",
    "Uslov zaustavljanja je broj iteracija $iters$.\n",
    "\n",
    "Nacrtati grafik promene vrednosti najboljeg rešenja kroz iteracije.\n",
    "\n",
    "Iz funkcije vratiti poziciju i vrednost najboljeg rešenja."
   ]
  },
  {
   "cell_type": "code",
   "execution_count": 51,
   "metadata": {},
   "outputs": [],
   "source": [
    "def pso(numParticles, iters):\n",
    "#     POCETAK STUDENTSKOG KODA\n",
    "    swarm = [Particle(ackley, bounds, 0.75, 1, 2) for _ in range(numParticles)]\n",
    "    \n",
    "    globalBestPosition = swarm[0].bestPosition\n",
    "    globalBestValue = swarm[0].bestValue\n",
    "    \n",
    "    bestValues = []\n",
    "    \n",
    "    for i in range(iters):\n",
    "        for particle in swarm:\n",
    "            particle.updateVelocity(globalBestPosition)\n",
    "            particle.updatePosition(globalBestPosition, globalBestValue)\n",
    "        bestValues.append(globalBestValue)\n",
    "        \n",
    "    # NOTE: \n",
    "    # iako kod deluje skroz tacan, ne uspeva da se nadje optimum (?)\n",
    "\n",
    "    plt.plot(range(iters), bestValues)\n",
    "    plt.show()\n",
    "    print(f\"Best position: {globalBestPosition}, value: {globalBestValue}\")\n",
    "#     KRAJ STUDENTSKOG KODA"
   ]
  },
  {
   "cell_type": "markdown",
   "metadata": {},
   "source": [
    "Minimum ove funkcije je nula i dostiže se u nuli."
   ]
  },
  {
   "cell_type": "code",
   "execution_count": 50,
   "metadata": {},
   "outputs": [
    {
     "name": "stdout",
     "output_type": "stream",
     "text": [
      "20.690302663306348\n",
      "20.690302663306348\n",
      "20.690302663306348\n",
      "20.690302663306348\n",
      "20.690302663306348\n"
     ]
    },
    {
     "data": {
      "image/png": "[encoded data removed]",
      "text/plain": [
       "<Figure size 432x288 with 1 Axes>"
      ]
     },
     "metadata": {
      "needs_background": "light"
     },
     "output_type": "display_data"
    },
    {
     "name": "stdout",
     "output_type": "stream",
     "text": [
      "Best position: [ -8.04222477 -30.86859626 -11.06117515 -13.30103973 -30.83889141], value: 20.690302663306348\n"
     ]
    }
   ],
   "source": [
    "pso(25, 300)"
   ]
  }
 ],
 "metadata": {
  "kernelspec": {
   "display_name": "Python 3 (ipykernel)",
   "language": "python",
   "name": "python3"
  },
  "language_info": {
   "codemirror_mode": {
    "name": "ipython",
    "version": 3
   },
   "file_extension": ".py",
   "mimetype": "text/x-python",
   "name": "python",
   "nbconvert_exporter": "python",
   "pygments_lexer": "ipython3",
   "version": "3.8.0"
  }
 },
 "nbformat": 4,
 "nbformat_minor": 4
}
