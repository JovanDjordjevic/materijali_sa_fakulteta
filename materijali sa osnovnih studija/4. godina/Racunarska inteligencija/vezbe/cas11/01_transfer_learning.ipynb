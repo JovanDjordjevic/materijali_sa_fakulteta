{
 "cells": [
  {
   "cell_type": "code",
   "execution_count": 2,
   "id": "3390d581",
   "metadata": {},
   "outputs": [],
   "source": [
    "# imageNet model podataka, milion slika i hljadu klasa\n",
    "# svake godine se odrzava takmicenje ko ce da napravi bolji klasifikator za ovo\n",
    "# neki modeli koji pobede postaju sacuvani, npr ResNet (ima ih jos)\n",
    "\n",
    "# mi mozemo da iskoristimo tezine/filtere koje je ResNet nasao za klasifikaciju nekog naseg skupa\n",
    "# (koji mora da ima iste klase kao imageNet (?))\n",
    "\n",
    "# Recimo da hocemo da iskoristimo nekako ResNet tezine a da pritom imamo malo slika, npr 2000 i neke klase koje\n",
    "# ne postoje u imageNet (npr pas/macka)\n",
    "# Ono sto mozemo da uradimo je da 'ukrademo' konvolutivni deo is ResNeta a da odbacimo \n",
    "# njegov potpuno povezani deo, tj da umesto tog postpuno povezanog iz resneta koristimo neki nas\n",
    "\n",
    "# ovo sto smo opisali zove se   transfer learning"
   ]
  },
  {
   "cell_type": "code",
   "execution_count": 1,
   "id": "51e7a1af",
   "metadata": {},
   "outputs": [],
   "source": [
    "import os\n",
    "from tensorflow.keras.preprocessing import image_dataset_from_directory\n",
    "import tensorflow as tf"
   ]
  },
  {
   "cell_type": "code",
   "execution_count": 4,
   "id": "d9007ac0",
   "metadata": {},
   "outputs": [
    {
     "name": "stdout",
     "output_type": "stream",
     "text": [
      "Found 2000 files belonging to 2 classes.\n",
      "Found 1000 files belonging to 2 classes.\n"
     ]
    }
   ],
   "source": [
    "# ovo je samo skidanje ovog dataseta, nista pametno\n",
    "\n",
    "_URL = 'https://storage.googleapis.com/mledu-datasets/cats_and_dogs_filtered.zip'\n",
    "path_to_zip = tf.keras.utils.get_file('cats_and_dogs.zip', origin=_URL, extract=True)\n",
    "PATH = os.path.join(os.path.dirname(path_to_zip), 'cats_and_dogs_filtered')\n",
    "\n",
    "train_dir = os.path.join(PATH, 'train')\n",
    "validation_dir = os.path.join(PATH, 'validation')\n",
    "\n",
    "BATCH_SIZE = 32\n",
    "IMG_SIZE = (160, 160)\n",
    "\n",
    "train_dataset = image_dataset_from_directory(train_dir,\n",
    "                                             shuffle=True,\n",
    "                                             batch_size=BATCH_SIZE,\n",
    "                                             image_size=IMG_SIZE)\n",
    "\n",
    "validation_dataset = image_dataset_from_directory(validation_dir,\n",
    "                                                  shuffle=True,\n",
    "                                                  batch_size=BATCH_SIZE,\n",
    "                                                  image_size=IMG_SIZE)"
   ]
  },
  {
   "cell_type": "code",
   "execution_count": null,
   "id": "97c22ecc",
   "metadata": {},
   "outputs": [],
   "source": []
  }
 ],
 "metadata": {
  "kernelspec": {
   "display_name": "Python 3 (ipykernel)",
   "language": "python",
   "name": "python3"
  },
  "language_info": {
   "codemirror_mode": {
    "name": "ipython",
    "version": 3
   },
   "file_extension": ".py",
   "mimetype": "text/x-python",
   "name": "python",
   "nbconvert_exporter": "python",
   "pygments_lexer": "ipython3",
   "version": "3.8.0"
  }
 },
 "nbformat": 4,
 "nbformat_minor": 5
}
