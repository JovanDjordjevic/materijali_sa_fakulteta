{
 "cells": [
  {
   "cell_type": "code",
   "execution_count": 1,
   "id": "silver-directory",
   "metadata": {},
   "outputs": [],
   "source": [
    "# vidi beleske za pseudokod PSO algoritma i objasnjenje\n",
    "# PSO je prirodnije koristiti za kontinualnu optimizaciju. Ne moze tek tako da se primeni na diskretne\n",
    "# (ali ima navodno na repozitorijumu od prosle godine primer kako bi se to radilo)\n",
    "\n",
    "# Recimo da je problem da nadjemo minimum neke funkcije na nekom intervalu [lb, ub]\n",
    "# ne mozemo bas da uzmemo neki random primer za ovo jer ce svaki grafik te funkc biti jednostavan\n",
    "# mozemo da udjemo na wikipediju i da nadjemo test functions for optimization i odatle da uzmemo neku\n",
    "# npr Rastrigin funkciju (koja ima gomilu lokalnih minimuma)\n",
    "# Recimo da ako vektor brzine hoce da nas izbaci iz tog itnervala, da cemo da smanjimo intenzitet vektora\n",
    "import random\n",
    "import numpy as np\n",
    "from matplotlib import pyplot as plt"
   ]
  },
  {
   "cell_type": "code",
   "execution_count": 2,
   "id": "warming-triple",
   "metadata": {},
   "outputs": [],
   "source": [
    "# ovako cemo zadavati prostor pretrage \n",
    "# bounds = [(lbx, ubx), (lby, uby), (lbz, ubz), ....]\n",
    "# ove brojeve smo videli na wikipediji za rastrigin funkciju  (radimo ovde u 2 ndimenzije)\n",
    "bounds = [(-5.12, 5.12), (-5.12, 5.12)]"
   ]
  },
  {
   "cell_type": "code",
   "execution_count": 3,
   "id": "tight-cement",
   "metadata": {},
   "outputs": [],
   "source": [
    "# ovo samo implementiramo funkcije koju smo nasli na wikipediji za testiranje\n",
    "# pise tamo is ta su ocekivana resenja\n",
    "def rastrigin(x):\n",
    "    A = 10\n",
    "    n = len(x)\n",
    "    return A*n + sum(x_i ** 2 - A * np.cos(2 * np.pi * x_i) for x_i in x)\n",
    "\n",
    "def rosenbrock(x):\n",
    "    a = 1\n",
    "    b = 100\n",
    "    return (a - x[0]) ** 2 + b * (x[1] - x[0] ** 2) ** 2 "
   ]
  },
  {
   "cell_type": "code",
   "execution_count": 4,
   "id": "sticky-screen",
   "metadata": {},
   "outputs": [],
   "source": [
    "class Particle:\n",
    "    \n",
    "    # najbolja nadjena do sad. Ne mora ovako da se cuva kao static u klasi, to radimo ovde bez nekog razloga\n",
    "    globalBestPosition = None\n",
    "    globalBestValue = None\n",
    "    \n",
    "    # obj func ce biti neka funkcija ciji minimum trazimo, npr rastrigin itd...\n",
    "    # ci, cl, cg su oni parametri (u literaturi se zovu i w, c1, c2)\n",
    "    def __init__(self, bounds, obj_func, c_i, c_l, c_g):\n",
    "        self.bounds = bounds\n",
    "        self.obj_func = obj_func\n",
    "        self.c_i = c_i\n",
    "        self.c_l = c_l\n",
    "        self.c_g = c_g\n",
    "        # pocetna pozicija ce uzeti random broj iz svakog intervala tj dimenzije\n",
    "        self.position = np.array([random.uniform(bound[0], bound[1]) for bound in bounds])\n",
    "        # maksimalna brzina koju neka cestica moze da dostigne ce biti maxv = (ub-lb)\n",
    "        # a minimalna ce biti minv = -maxv\n",
    "        # mozem pocetnubrzinu i da stavimo na 0, ali ovde za primer koristimo random\n",
    "        self.velocity = np.array([random.uniform(-(bound[1] - bound[0]), (bound[1] - bound[0])) for bound in bounds])\n",
    "        # ovo je lokalno/licno najbolje nadjemo resenje za konkretnu cesticu\n",
    "        self.bestPosition = np.array(self.position)\n",
    "        self.currValue = obj_func(self.position)\n",
    "        self.bestValue = self.currValue  # ovo je samo na pocetku jednako sa current\n",
    "        \n",
    "        # mozemo ovako da inic na pocetku , nije bitno\n",
    "        if Particle.globalBestValue == None or self.currValue < Particle.globalBestValue:\n",
    "            Particle.globalBestPosition = self.position.copy()\n",
    "            Particle.globalBestValue = self.currValue\n",
    "    \n",
    "    def updatePosition(self):\n",
    "        # pravili smo position i velocity kao numpy liste jer za njih imamo zghodan overloadovani +\n",
    "        # operator koji sabira po pozicijama, sto nam treba jer sabiramo vektore\n",
    "        # proverimo da li smo izasli iz opsega [lb, ub] i skratimo ako jeste, np.clip bas radi to\n",
    "        # (bitno je da proverimo za svaku dimenziju!!)\n",
    "        lower_bounds = np.array([x[0] for x in self.bounds])\n",
    "        upper_bounds = np.array([x[1] for x in self.bounds])\n",
    "        self.position = np.clip(self.position + self.velocity, lower_bounds, upper_bounds)\n",
    "        # moglo je i kao ispod na klasican nacin\n",
    "#         for i in range(len(self.position)):\n",
    "#             self.position[i] = self.position[i] + self.velocity[i]\n",
    "#             if self.position[i] < self.bounds[i][0]:\n",
    "#                 self.position[i] = self.bounds[i][0]\n",
    "#             elif self.position[i] > self.bounds[i][1]:\n",
    "#                 self.position[i] = self.bounds[i][1]\n",
    "        \n",
    "        self.currValue = self.obj_func(self.position)\n",
    "        if self.bestValue > self.currValue:\n",
    "            self.bestValue = self.currValue\n",
    "            self.bestPosition = self.position.copy()   # copy da nebi bila samo referenca\n",
    "            if self.currValue < Particle.globalBestValue:\n",
    "                Particle.globalBestValue = self.currValue\n",
    "                Particle.globalBestPosition = self.position.copy()\n",
    "        \n",
    "    def updateVelocity(self):\n",
    "        # vidi u beleskama sta su ovi r-ovi\n",
    "#         r_l = random.random()\n",
    "#         r_g = random.random()\n",
    "\n",
    "        # Moze i ovako random broj za svaku dimenziju (mozda bude bolji rezultat jer je veca randomizacija)\n",
    "        r_l = np.random.random(self.velocity.shape)\n",
    "        r_g = np.random.random(self.velocity.shape)\n",
    "        \n",
    "        # ako pravimo vektore za r_l/g imamo mnozenje 2 vektora u numpyju je po koordinatama sto nam i treba \n",
    "        self.velocity = (self.c_i * self.velocity\n",
    "                        + r_l * self.c_l * (self.bestPosition - self.position)           # ovo se zove i cognitive velocity\n",
    "                        + r_g * self.c_g * Particle.globalBestPosition - self.position)  # ovo se zove i social velocity\n",
    "        # NOTE: za cognitive i social velocity treba nam bas vektor brzine, ovako sa oduzimanjem 2 tacke dobijamo vektor    "
   ]
  },
  {
   "cell_type": "code",
   "execution_count": 5,
   "id": "norwegian-sheet",
   "metadata": {},
   "outputs": [
    {
     "name": "stdout",
     "output_type": "stream",
     "text": [
      "Solution: [1.00350632 1.00664005] value: 2.7108106055958448e-05\n"
     ]
    },
    {
     "data": {
      "text/plain": [
       "[<matplotlib.lines.Line2D at 0x2630d503850>]"
      ]
     },
     "execution_count": 5,
     "metadata": {},
     "output_type": "execute_result"
    },
    {
     "data": {
      "image/png": "[encoded data removed]",
      "text/plain": [
       "<Figure size 432x288 with 1 Axes>"
      ]
     },
     "metadata": {
      "needs_background": "light"
     },
     "output_type": "display_data"
    }
   ],
   "source": [
    "SWARM_SIZE = 50\n",
    "MAX_ITERS = 1000\n",
    "\n",
    "# ove brojeve za c_i/l/g trazimo eksperimentalno\n",
    "# swarm = [Particle(bounds, rastrigin, 0.75, 1, 1) for _ in range(SWARM_SIZE)]\n",
    "swarm = [Particle(bounds, rosenbrock, 0.75, 1, 1) for _ in range(SWARM_SIZE)]\n",
    "# npr hocemo da plotujemo kroz iteracije kako se menja vrednost\n",
    "bestValues = []\n",
    "\n",
    "for i in range(MAX_ITERS):\n",
    "    for particle in swarm:\n",
    "        particle.updateVelocity()\n",
    "        particle.updatePosition()\n",
    "        \n",
    "    bestValues.append(Particle.globalBestValue);\n",
    "        \n",
    "print(f'Solution: {Particle.globalBestPosition} value: {Particle.globalBestValue}')\n",
    "\n",
    "plt.plot(range(MAX_ITERS), bestValues)\n",
    "\n",
    "# NOTE: interesantna stvar koja moze da nams e desi kod rosenbrocka, zaokruzice ponekad resenje na [1,1]\n",
    "# ali value nece tacno da zaokruzi na 0 nego ce da bude neki broj sa veoma malim eksponentom\n",
    "# to je zato sto je gustina floating point brojeva manja oko 1 nego oko 0 (?)"
   ]
  }
 ],
 "metadata": {
  "kernelspec": {
   "display_name": "Python 3",
   "language": "python",
   "name": "python3"
  },
  "language_info": {
   "codemirror_mode": {
    "name": "ipython",
    "version": 3
   },
   "file_extension": ".py",
   "mimetype": "text/x-python",
   "name": "python",
   "nbconvert_exporter": "python",
   "pygments_lexer": "ipython3",
   "version": "3.9.0"
  }
 },
 "nbformat": 4,
 "nbformat_minor": 5
}
