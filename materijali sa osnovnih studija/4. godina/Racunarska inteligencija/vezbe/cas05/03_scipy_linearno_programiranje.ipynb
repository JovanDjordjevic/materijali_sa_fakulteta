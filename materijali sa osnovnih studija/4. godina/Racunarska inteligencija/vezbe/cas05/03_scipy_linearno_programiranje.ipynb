{
 "cells": [
  {
   "cell_type": "code",
   "execution_count": 2,
   "id": "instrumental-martial",
   "metadata": {},
   "outputs": [],
   "source": [
    "# ovde u scipy imamo takodje linerano programiranje\n",
    "# kod doclplex smo imali lepsu sintaksu, ovde cemo morati malo da se mucimo (?)\n",
    "from scipy import optimize as opt\n",
    "import numpy as np"
   ]
  },
  {
   "cell_type": "code",
   "execution_count": 3,
   "id": "unauthorized-migration",
   "metadata": {},
   "outputs": [
    {
     "data": {
      "text/plain": [
       "     con: array([], dtype=float64)\n",
       "     fun: 3.407511066229391e-10\n",
       " message: 'Optimization terminated successfully.'\n",
       "     nit: 5\n",
       "   slack: array([1.40000000e+01, 2.81844599e-10, 2.00000000e+00])\n",
       "  status: 0\n",
       " success: True\n",
       "       x: array([9.78753002e-11, 1.17813015e-11])"
      ]
     },
     "execution_count": 3,
     "metadata": {},
     "output_type": "execute_result"
    }
   ],
   "source": [
    "# recimo da hocemo da minimizujemo funkciju   f=3*x1 + 4*x2\n",
    "# sa ogranicenjima:\n",
    "#      x1 + 2*x2 <= 14\n",
    "#      x2 <= 3*x1       \n",
    "#      x1 - x2 <= 2\n",
    "\n",
    "c = np.array([3, 4]) \n",
    "A_ub = np.array([[1,2],\n",
    "                [-3, 1], # PAZI OVDE, ogranicenje mora da se prebaci da svi x budu sa jedne strane!!   -3*x1 + x2 <= 0\n",
    "                [1, -1]])    \n",
    "b_ub = np.array([14,0,2])\n",
    " \n",
    "# TODO: vidi na snimku objasnjenje za parametre, nisam pohvatao sve\n",
    "# ima veze sa onim opstim oblikom problema linearnog programiranja sto je \n",
    "# _ub koristimo akda imamo ogranicenja sa <=, a _eq kada imamo sa == (ali ta nemamo u ovom primeru pa ignorisemo (?))\n",
    "opt.linprog(c=c, A_ub=A_ub, b_ub=b_ub)\n",
    "\n",
    "# nisam ispratio ni tacno sta znaci koji parametar u ispisu, fun je vrednost koja je pronadjena kao minimum"
   ]
  },
  {
   "cell_type": "code",
   "execution_count": 8,
   "id": "underlying-voltage",
   "metadata": {},
   "outputs": [
    {
     "data": {
      "text/plain": [
       "     fun: -2.651528126231868e+284\n",
       "     jac: array([-0.00000000e+000,  3.25670272e+142])\n",
       " message: 'Singular matrix E in LSQ subproblem'\n",
       "    nfev: 170\n",
       "     nit: 51\n",
       "    njev: 51\n",
       "  status: 5\n",
       " success: False\n",
       "       x: array([-6.21060062e+047, -1.62835135e+142])"
      ]
     },
     "execution_count": 8,
     "metadata": {},
     "output_type": "execute_result"
    }
   ],
   "source": [
    "# scipy nam daje i funkciju minimize koja minimizuje diferencijabilne fukncije\n",
    "# sada cemo da vidimo kako radi na nekom primeru\n",
    "# neka je nasa funkcija f(x,y) =2*x*y + 2*x - x*x - y*y   (primetimo da ova funkc nije linearna)\n",
    "# ogrnaicenja:\n",
    "#    g1(x,y) :    x^3 - y == 0\n",
    "#    g2(x,y) :    y-1 >= 0\n",
    "\n",
    "# ovog oblika mora da bude funkcija, dakle prvo e deklarise kao funkcija, a prima jedan parametar\n",
    "# gde je x[0] nase x, a x[1] nase y\n",
    "# nasa funkcija slika R^2 -> R\n",
    "def f(x):\n",
    "    return 2*x[0]*x[1] + 2*x[0] - x[0]**2 - x[1]**2\n",
    "\n",
    "# ovo mora da bude niz ogranicenja, gde je svako ogranicenje mapa. koja mora da ima 'type' koji je 'eq'\n",
    "# ili 'ineq' (nejednakost mora da bude <=  !!), i mora da ima 'fun' koja je funkc koja predstavlja ogranicenje\n",
    "# NOTE: i to ogranicenje mora da bude istog oblika kao f, da prima jedan parametar\n",
    "# treba nam i 'jac'  (jakobijan-matrica parcijalnih izvoda)\n",
    "c = [\n",
    "    {'type' : 'eq',\n",
    "     'fun' : lambda x : np.array(x[0]**3 - x[1]),\n",
    "     'jac': lambda x : np.array([3*x[0]**2, -1])   # (izvod_po_x, izvod_po_y)\n",
    "    },\n",
    "    {'type' : 'ineq',\n",
    "     'fun' : lambda x : np.array(-x[1] + 1),     # PAZI OVDE, drugo ogranicenje mora da bude <= pa prebacujemo na drugu stranu\n",
    "     'jac' : lambda x : np.array([0, -1])\n",
    "    },\n",
    "]\n",
    "\n",
    "# saljemo joj funkciju (koja prima jedan parametar vidi gore), pocetnu tacku, i ostlao je opciono, vidi dokumentaciju\n",
    "opt.minimize(f, x0=(2,3), constraints=c,  method='SLSQP')\n",
    "\n",
    "# NOTE: meni nesto kaze da ne uspeva das se resi problem, a njemu na vezbama radi (?)"
   ]
  }
 ],
 "metadata": {
  "kernelspec": {
   "display_name": "Python 3",
   "language": "python",
   "name": "python3"
  },
  "language_info": {
   "codemirror_mode": {
    "name": "ipython",
    "version": 3
   },
   "file_extension": ".py",
   "mimetype": "text/x-python",
   "name": "python",
   "nbconvert_exporter": "python",
   "pygments_lexer": "ipython3",
   "version": "3.9.0"
  }
 },
 "nbformat": 4,
 "nbformat_minor": 5
}
