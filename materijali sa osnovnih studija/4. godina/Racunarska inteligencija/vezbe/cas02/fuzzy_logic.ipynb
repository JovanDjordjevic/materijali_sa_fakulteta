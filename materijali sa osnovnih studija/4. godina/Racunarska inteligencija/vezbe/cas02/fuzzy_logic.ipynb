{
 "cells": [
  {
   "cell_type": "code",
   "execution_count": 2,
   "id": "stunning-manitoba",
   "metadata": {},
   "outputs": [],
   "source": [
    "# hocemo da iskucamo onaj primer sa automobilom (za pocetak na najgluplji moguci nacin da radi samo za\n",
    "# taj primer i eventualno slicne njemu)\n",
    "# trebaju nam ulazne promenljive, izlazne prom,enljive i pravila, pravimo po klasu za njih\n",
    "\n",
    "class FuzzyInput():\n",
    "    # prosledjujemo ime promenljice i tacke u kojima se menja da li funkcija raste ili opada\n",
    "    # x0 je target (ono sto racunamo za onaj konkretan automobil (?))\n",
    "    def __init__(self, name, xs, ys, x0):\n",
    "        self.name = name\n",
    "        self.points = list(zip(xs, ys))\n",
    "        # ono sto smo zvali 'mi', funkcija pripadnosti\n",
    "        self.mu = self.calcMu(x0)\n",
    "    \n",
    "    def calcMu(self, x0):\n",
    "        if x0 < self.points[0][0]:       # ako je levo od najlevlje tacke\n",
    "            return self.points[0][1]\n",
    "        elif x0 > self.points[-1][0]:  # desno od najdesnjeg\n",
    "            return self.points[-1][1]\n",
    "        for i in range(len(self.points) - 1):  # slucajevi gde je izmedju 2 tacke\n",
    "            x1 = self.points[i][0]\n",
    "            x2 = self.points[i+1][0]\n",
    "            if x0 >= x1 and x0 < x2:\n",
    "                y1 = self.points[i][1]\n",
    "                y2 = self.points[i+1][1]\n",
    "                if y1 == y2:\n",
    "                    return y1\n",
    "                elif y1 < y2:   # slicnost trougla\n",
    "                    return (x0 - x1) / (x2 - x1)\n",
    "                else:\n",
    "                    return (x2 - x0) / (x2 - x1)"
   ]
  },
  {
   "cell_type": "code",
   "execution_count": 4,
   "id": "exotic-stack",
   "metadata": {},
   "outputs": [
    {
     "name": "stdout",
     "output_type": "stream",
     "text": [
      "0.14285714285714285\n"
     ]
    }
   ],
   "source": [
    "x = FuzzyInput('ime', [3,10], [1,0], 9)\n",
    "print(x.mu)"
   ]
  },
  {
   "cell_type": "code",
   "execution_count": 7,
   "id": "leading-monday",
   "metadata": {},
   "outputs": [],
   "source": [
    "class FuzzyOutput:\n",
    "    def __init__(self, name, xs, ys):\n",
    "        self.name = name\n",
    "        self.xs = xs\n",
    "        self.ys = ys\n",
    "        self.mu = 0    # i ovde postoji mi, ali ovde ne znamo sta je (?) a imacemo posle neku klasu za pravila (?)\n",
    "        self.c = 0  # c je u nasem primeru bila neka karakteristicna tacka (?), trazimo prosek x-eva za tacke gde je y=1\n",
    "        n = 0\n",
    "        for x, y in zip(self.xs, self.ys):\n",
    "            if y == 1:\n",
    "                self.c += x\n",
    "                n += 1\n",
    "        self.c /= n     "
   ]
  },
  {
   "cell_type": "code",
   "execution_count": 9,
   "id": "progressive-narrative",
   "metadata": {},
   "outputs": [
    {
     "data": {
      "text/plain": [
       "7.0"
      ]
     },
     "execution_count": 9,
     "metadata": {},
     "output_type": "execute_result"
    }
   ],
   "source": [
    "x = FuzzyOutput('iz', [7,15], [1,0])\n",
    "x.c"
   ]
  },
  {
   "cell_type": "code",
   "execution_count": 14,
   "id": "miniature-genome",
   "metadata": {},
   "outputs": [],
   "source": [
    "# koristimo samo pravila iz primera koji smo radili, npr kodiramo pravila samo oblika\n",
    "# input1 operator input2 => output, gde ce operator da nam bude konjukcija ili disjunkcija (koju cemo da\n",
    "#napravimo kao enum)\n",
    "\n",
    "# ovako se radi sa enumima u pajtonu, mora prvo import pa onda pravimo klasu koja nasledjuje Enum\n",
    "from enum import Enum\n",
    "\n",
    "class LogicOp(Enum):\n",
    "    AND = 0\n",
    "    OR = 1\n",
    "\n",
    "class Rule:   # input1 i input2 ce biti onog FuzzyInput tipa\n",
    "    def __init__(self, input1, input2, output, operator):\n",
    "        self.input1 = input1\n",
    "        self.input2 = input2\n",
    "        self.operator = operator\n",
    "        self.output = output\n",
    "        if operator == LogicOp.AND:\n",
    "            self.output.mu = max(self.output.mu, min(self.input1.mu, self.input2.mu))\n",
    "        else:\n",
    "            self.output.mu = max(self.output.mu, max(self.input1.mu, self.input2.mu))"
   ]
  },
  {
   "cell_type": "code",
   "execution_count": 19,
   "id": "complex-nerve",
   "metadata": {},
   "outputs": [],
   "source": [
    "potrosnja = []\n",
    "potrosnja.append(FuzzyInput('mala', [3,10], [1,0], 9)) \n",
    "potrosnja.append(FuzzyInput('srednja', [7,10,12,15], [0,1,1,0], 9)) \n",
    "potrosnja.append(FuzzyInput('velika', [12,15], [0,1], 9))  \n",
    "\n",
    "pouzdanost = []\n",
    "pouzdanost.append(FuzzyInput('visoka', [5,10], [1,0], 8))\n",
    "pouzdanost.append(FuzzyInput('niska', [8,15], [0,1], 8))\n",
    "\n",
    "vrednost = []\n",
    "vrednost.append(FuzzyOutput('mala', [7,15], [1,0]))\n",
    "vrednost.append(FuzzyOutput('srednja', [7,15,25,40], [0,1,1,0]))\n",
    "vrednost.append(FuzzyOutput('velika', [25,40], [0,1]))\n",
    "\n",
    "rules = []\n",
    "rules.append(Rule(potrosnja[0], pouzdanost[0], vrednost[2], LogicOp.AND))\n",
    "rules.append(Rule(potrosnja[0], pouzdanost[1], vrednost[1], LogicOp.AND))\n",
    "rules.append(Rule(potrosnja[1], pouzdanost[0], vrednost[1], LogicOp.AND))\n",
    "rules.append(Rule(potrosnja[1], pouzdanost[1], vrednost[1], LogicOp.AND))\n",
    "rules.append(Rule(potrosnja[2], pouzdanost[0], vrednost[1], LogicOp.AND))\n",
    "rules.append(Rule(potrosnja[2], pouzdanost[1], vrednost[0], LogicOp.AND))"
   ]
  },
  {
   "cell_type": "code",
   "execution_count": 21,
   "id": "confident-symphony",
   "metadata": {},
   "outputs": [
    {
     "name": "stdout",
     "output_type": "stream",
     "text": [
      "25.26315789473684\n"
     ]
    }
   ],
   "source": [
    "# for v in vrednost:\n",
    "#    print(v.mu)\n",
    "\n",
    "# defazifikacija\n",
    "iznad = 0  # iznad razloamcke crte\n",
    "ispod = 0  # ispid razloamcke crte\n",
    "for v in vrednost:\n",
    "    iznad += v.c * v.mu\n",
    "    ispod += v.mu\n",
    "\n",
    "print(iznad / ispod)\n",
    "    "
   ]
  }
 ],
 "metadata": {
  "kernelspec": {
   "display_name": "Python 3",
   "language": "python",
   "name": "python3"
  },
  "language_info": {
   "codemirror_mode": {
    "name": "ipython",
    "version": 3
   },
   "file_extension": ".py",
   "mimetype": "text/x-python",
   "name": "python",
   "nbconvert_exporter": "python",
   "pygments_lexer": "ipython3",
   "version": "3.9.0"
  }
 },
 "nbformat": 4,
 "nbformat_minor": 5
}
