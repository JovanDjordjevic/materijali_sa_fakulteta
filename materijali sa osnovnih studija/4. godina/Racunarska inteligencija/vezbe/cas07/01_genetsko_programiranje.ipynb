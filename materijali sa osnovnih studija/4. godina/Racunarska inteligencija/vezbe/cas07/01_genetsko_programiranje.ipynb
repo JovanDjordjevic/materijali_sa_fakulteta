{
 "cells": [
  {
   "cell_type": "code",
   "execution_count": 1,
   "id": "upset-document",
   "metadata": {},
   "outputs": [],
   "source": [
    "# Radimo primer genetskog programiranja gde resavamo neki matematicki izraz, tj hocemo da napravimo neko stablo\n",
    "# koje kada se evaluira daje neki broj, npr 100. Ovo samo po sebi je prelako, jer moze samo da se napravi jedan koreni cvor kloji u sebi ima 100\n",
    "# tako da uvodimo ogranicenja:\n",
    "#     hocemo da bude sastavljeno samo od brojeva iz intervala [-10, 10]\n",
    "#     i da stablo uvek ima dubinu 3 (da bude binarno stablo sa 4 lista, tj 7 cvorova ukupno (1    2   4))\n",
    "#     (ovo ce se evaluirati kao      (a op1 b) op2 (c op3 d)         (a,b,c,d su listovi)    )\n",
    "\n",
    "# za unutrasnje cvorove mozemo da imamo +,-,*,/ (ovo zovemo primitivne funkcije)\n",
    "# listovi ce nam biti neki brojevi   (ovo zovemo terminali)\n",
    "import random"
   ]
  },
  {
   "cell_type": "code",
   "execution_count": 2,
   "id": "conservative-prayer",
   "metadata": {},
   "outputs": [],
   "source": [
    "# NOTE: mogli smo da pravimo da jedinke bas budu stabla, ali posto je primer koji radimo\n",
    "# jednostavan, mozemo da se izvucemo i sa tim da nemamo pravo stablo, nego da kao genetski kod cuvamo listu\n",
    "# operatora i brojeva\n",
    "class Individual:\n",
    "#     # ovako bismo npr mogli da napravimo zapravo stablo\n",
    "#     def __init__(self, data, left, right):\n",
    "#         self.data = data\n",
    "#         self.left = left\n",
    "#         self.right = right\n",
    "\n",
    "    def __init__(self, goal=100, num_operators=3, num_terminals=4):\n",
    "        # kod ce biti oblika [op1, op2, op3, a, b, c, d]  ,random inicijalizovan\n",
    "        self.numOperators = num_operators\n",
    "        self.numTerminals = num_terminals\n",
    "        self.goal = goal\n",
    "        self.code = []\n",
    "        for i in range(num_operators):\n",
    "            self.code.append(self.randomOperator())\n",
    "        for i in range(num_terminals):\n",
    "            self.code.append(self.randomTerminal())\n",
    "        self.fitness = self.calcFitness()\n",
    "        \n",
    "    def __str__(self):\n",
    "        a = str(self.code[3])\n",
    "        b = str(self.code[4])\n",
    "        c = str(self.code[5])\n",
    "        d = str(self.code[6])\n",
    "        first = '(' + a + ' ' + self.code[1] + ' ' + b + ')' \n",
    "        second = '(' + c + ' ' + self.code[2] + ' ' + d + ')'\n",
    "        return  first + ' ' + self.code[0] + ' ' + second\n",
    "    \n",
    "    def __lt__(self, other):\n",
    "        return self.fitness < other.fitness\n",
    "            \n",
    "    def randomOperator(self):\n",
    "        operators = ['+', '-', '*']   # NOTE: izbacili smo deljenje da nebi slucajno negde podelili nulom, ali mozemo i bez\n",
    "                                     # deljenja, pritom smo zapravo jos zakomplikovali zadatak\n",
    "        return random.choice(operators)\n",
    "    \n",
    "    def randomTerminal(self, lb=-10, ub=10):\n",
    "        return random.randrange(lb, ub+1)    # vraca neki ceo broj iz intervala\n",
    "    \n",
    "    def calcFitness(self):\n",
    "        # za fitnes hocemo da evaluiramo stablo i da vratimo razliku dobijenog rezultata i 100 (taj broj trazimo)\n",
    "        # u pajtonu psotoji funkcija eval() kojoj se prosledi neki string izraz npr eval('2+3') i ona to izracuna i vrati kao broj\n",
    "        # mi smo ovde za operatore koristili karaktere pa nam je zgodno da korstimo eval\n",
    "        # iznad smo overloadovali i konverziju jedinke u string\n",
    "        value = eval(str(self))\n",
    "        # minus ispred da bi se fitness poklapao sa svojim znacenjem u obicnom genetskom alg\n",
    "        # sto je broj blizi 100 to je fitness veci\n",
    "        return -abs(self.goal - value)\n",
    "        "
   ]
  },
  {
   "cell_type": "code",
   "execution_count": 3,
   "id": "patient-album",
   "metadata": {},
   "outputs": [],
   "source": [
    "# i = Individual()\n",
    "# print(i)\n",
    "\n",
    "# print(i.fitness)\n",
    "# print(eval(str(i)))"
   ]
  },
  {
   "cell_type": "code",
   "execution_count": 4,
   "id": "tamil-garbage",
   "metadata": {},
   "outputs": [],
   "source": [
    "# nadalje samo radimo obican genetski alg"
   ]
  },
  {
   "cell_type": "code",
   "execution_count": 5,
   "id": "internal-experiment",
   "metadata": {},
   "outputs": [],
   "source": [
    "def selection(population):\n",
    "    TOURNAMENT_SIZE = 5\n",
    "    winner = max(random.sample(population, TOURNAMENT_SIZE))\n",
    "    return winner"
   ]
  },
  {
   "cell_type": "code",
   "execution_count": 6,
   "id": "underlying-replacement",
   "metadata": {},
   "outputs": [],
   "source": [
    "def getSubtree(rootIndex, subtreeIndices, totalNumNodes):\n",
    "    # [op1, op2, op3, a, b, c, d]\n",
    "    #  0    1    2    3  4  5  6\n",
    "    # mozemo ovo da uradimo sa 3-4 if-a za ovaj konkretan primer jer je mali, ali za primer cemo da \n",
    "    # kodiramo tako da ova funkc radi i za malo opstiji problem, tj vece stablo\n",
    "    # znamo da za potpuno binarno stablo predstavljeno preko liste, deca nekog cvora i se nalaze na 2*i+1\n",
    "    # i na 2*i+2\n",
    "    if rootIndex > totalNumNodes:\n",
    "        return\n",
    "    subtreeIndices.append(rootIndex)\n",
    "    getSubtree(rootIndex * 2 + 1, subtreeIndices, totalNumNodes)\n",
    "    getSubtree(rootIndex * 2 + 2, subtreeIndices, totalNumNodes)\n",
    "    "
   ]
  },
  {
   "cell_type": "code",
   "execution_count": 7,
   "id": "bibliographic-stopping",
   "metadata": {},
   "outputs": [],
   "source": [
    "# crossover cemo da radimo zamenom 'podstabla'. Ako se odabere koren pri ukrstanju, to nema mnogo smisla\n",
    "# jer ce samo parent1 i parent2 zameniti mesta i postati deca, tako da ne razmatramo indeks 1\n",
    "def crossover(parent1, parent2, child1, child2):\n",
    "    rootIndex = random.randrange(1, len(parent1.code)) \n",
    "    subtreeIndices = []\n",
    "    getSubtree(rootIndex, subtreeIndices, len(parent1.code))\n",
    "    for i in range(len(parent1.code)):\n",
    "        # cvorove iz podstabla menjamo a one koji nisu u podstablu ostavljamo iste\n",
    "        if i in subtreeIndices:\n",
    "            child1.code[i] = parent2.code[i]\n",
    "            child2.code[i] = parent1.code[i]\n",
    "        else: \n",
    "            child1.code[i] = parent1.code[i]\n",
    "            child2.code[i] = parent2.code[i]\n",
    "            "
   ]
  },
  {
   "cell_type": "code",
   "execution_count": 8,
   "id": "fluid-monitoring",
   "metadata": {},
   "outputs": [],
   "source": [
    "def mutation(individual):\n",
    "    MUTATION_PROB = 0.05\n",
    "    for i in range(len(individual.code)):\n",
    "        if random.random() < MUTATION_PROB:\n",
    "            if i < individual.numOperators:\n",
    "                individual.code[i] = individual.randomOperator()\n",
    "            else:\n",
    "                individual.code[i] = individual.randomTerminal()"
   ]
  },
  {
   "cell_type": "code",
   "execution_count": 26,
   "id": "secure-insurance",
   "metadata": {},
   "outputs": [
    {
     "name": "stdout",
     "output_type": "stream",
     "text": [
      "solution: (-9 * -8) * (-5 - -9)  fitness: -1\n"
     ]
    }
   ],
   "source": [
    "POPULATION_SIZE = 100\n",
    "NUM_GENERATIONS = 2000\n",
    "ELITISM_SIZE = POPULATION_SIZE // 3\n",
    "# NOTE: neparan broj za elitism size bi nam u ptelji ispod bacao gresku za index out of range, zato menjamo da uvek bude paran\n",
    "if ELITISM_SIZE % 2 == 1:\n",
    "    ELITISM_SIZE += 1\n",
    "    \n",
    "# ovaj genetski alg nece npr moci da nadje resenje ako je goal neki prost broj van dozvoljenog intervala za terminale\n",
    "# nece moci ni ako je broj prevelik/premali, mozemo da eksperimentisemo sa tim parametrima\n",
    "# jedan nacin da se pretraga olaksa, je da se tokom iteriranja povecava interval za terminale\n",
    "population = [Individual(goal=100) for _ in range(POPULATION_SIZE)]\n",
    "newPopulation = [Individual(goal=100) for _ in range(POPULATION_SIZE)]\n",
    "\n",
    "for i in range(NUM_GENERATIONS):\n",
    "    population.sort(reverse=True)\n",
    "    \n",
    "    # generalno pustamo genetski alg da se vrti NUM_GENERATIONS puta kada ne znamo sta je tacno resenje koje trazimo\n",
    "    # a ovde ako znamo mozemo i ranije da izadjemo iz petlje\n",
    "    if population[0].fitness == 0:\n",
    "        break\n",
    "        \n",
    "    newPopulation[:ELITISM_SIZE] = population[:ELITISM_SIZE]\n",
    "    for j in range(ELITISM_SIZE, POPULATION_SIZE, 2):   # ne zaboravi ovde sa korakom 2 zbog nacina kako radimo sa child\n",
    "        parent1 = selection(population)\n",
    "        parent2 = selection(population)\n",
    "            \n",
    "        crossover(parent1, parent2, newPopulation[j], newPopulation[j+1]) \n",
    "            \n",
    "        mutation(newPopulation[j])\n",
    "        mutation(newPopulation[j+1])\n",
    "        \n",
    "        newPopulation[j].fitness = newPopulation[j].calcFitness();\n",
    "        newPopulation[j+1].fitness = newPopulation[j+1].calcFitness();\n",
    "            \n",
    "    population = newPopulation\n",
    "    \n",
    "best = max(population)\n",
    "\n",
    "print(f'solution: {best}  fitness: {best.fitness}')"
   ]
  }
 ],
 "metadata": {
  "kernelspec": {
   "display_name": "Python 3",
   "language": "python",
   "name": "python3"
  },
  "language_info": {
   "codemirror_mode": {
    "name": "ipython",
    "version": 3
   },
   "file_extension": ".py",
   "mimetype": "text/x-python",
   "name": "python",
   "nbconvert_exporter": "python",
   "pygments_lexer": "ipython3",
   "version": "3.9.0"
  }
 },
 "nbformat": 4,
 "nbformat_minor": 5
}
