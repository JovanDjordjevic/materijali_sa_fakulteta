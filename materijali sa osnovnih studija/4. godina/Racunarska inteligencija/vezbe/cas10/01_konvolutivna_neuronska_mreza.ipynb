{
 "cells": [
  {
   "cell_type": "code",
   "execution_count": 1,
   "id": "dcca95a9",
   "metadata": {},
   "outputs": [],
   "source": [
    "# radimo isti onaj primer sa mnist skupom samo preko konvolutivne mreze\n",
    "from tensorflow.keras.datasets import mnist"
   ]
  },
  {
   "cell_type": "code",
   "execution_count": 2,
   "id": "79da26ba",
   "metadata": {},
   "outputs": [
    {
     "name": "stdout",
     "output_type": "stream",
     "text": [
      "(60000, 28, 28)\n"
     ]
    }
   ],
   "source": [
    "(X_train, y_train) , (X_test, y_test) = mnist.load_data()\n",
    "print(X_train.shape)"
   ]
  },
  {
   "cell_type": "code",
   "execution_count": 3,
   "id": "b39cf28e",
   "metadata": {},
   "outputs": [],
   "source": [
    "#  nisam ispratio ovo za kanale, visi snimak\n",
    "import keras.backend as K"
   ]
  },
  {
   "cell_type": "code",
   "execution_count": 4,
   "id": "a1b54be6",
   "metadata": {},
   "outputs": [
    {
     "name": "stdout",
     "output_type": "stream",
     "text": [
      "(60000, 28, 28, 1)\n"
     ]
    }
   ],
   "source": [
    "img_size = X_train.shape[1]\n",
    "\n",
    "# ulaz u mreze se ocekuje da bude 3d (?) zbog rgba kanala (?) \n",
    "if K.image_data_format() == 'channels_first':\n",
    "    X_train = X_train.reshape(X_train.shape[0], 1, img_size, img_size)\n",
    "    X_test = X_test.reshape(X_test.shape[0], 1, img_size, img_size)\n",
    "else:\n",
    "    X_train = X_train.reshape(X_train.shape[0], img_size, img_size, 1)\n",
    "    X_test = X_test.reshape(X_test.shape[0], img_size, img_size, 1)\n",
    "\n",
    "print(X_train.shape)"
   ]
  },
  {
   "cell_type": "code",
   "execution_count": 5,
   "id": "ca381f85",
   "metadata": {},
   "outputs": [],
   "source": [
    "# opet normalizujemo\n",
    "X_train = X_train / 255\n",
    "X_test = X_test / 255"
   ]
  },
  {
   "cell_type": "code",
   "execution_count": 6,
   "id": "2851b4e4",
   "metadata": {},
   "outputs": [
    {
     "name": "stdout",
     "output_type": "stream",
     "text": [
      "(60000,)\n"
     ]
    }
   ],
   "source": [
    "print(y_train.shape)"
   ]
  },
  {
   "cell_type": "code",
   "execution_count": 7,
   "id": "a71e61b8",
   "metadata": {},
   "outputs": [],
   "source": [
    "from tensorflow.keras.utils import to_categorical"
   ]
  },
  {
   "cell_type": "code",
   "execution_count": 8,
   "id": "1d4014c3",
   "metadata": {},
   "outputs": [
    {
     "name": "stdout",
     "output_type": "stream",
     "text": [
      "(60000, 10)\n"
     ]
    }
   ],
   "source": [
    "# isto kao prosli  put, hocemo da nam rezultati budu kategoricki\n",
    "num_classes = 10\n",
    "y_train = to_categorical(y_train, num_classes)\n",
    "y_test = to_categorical(y_test, num_classes)\n",
    "\n",
    "print(y_train.shape)"
   ]
  },
  {
   "cell_type": "code",
   "execution_count": 9,
   "id": "35b1f61a",
   "metadata": {},
   "outputs": [],
   "source": [
    "from keras.models import Sequential\n",
    "from keras.layers import Conv2D, MaxPooling2D, Dense, Flatten, Dropout   #konvolutivni sloj, koristimo ovaj 2D jer imamo slike, "
   ]
  },
  {
   "cell_type": "code",
   "execution_count": 10,
   "id": "ee1b4093",
   "metadata": {},
   "outputs": [
    {
     "name": "stdout",
     "output_type": "stream",
     "text": [
      "(28, 28, 1)\n"
     ]
    }
   ],
   "source": [
    "# hocemo da ulaz bude slika\n",
    "input_shape = X_train.shape[1:]\n",
    "print(input_shape)"
   ]
  },
  {
   "cell_type": "code",
   "execution_count": 11,
   "id": "8ee2f1fd",
   "metadata": {},
   "outputs": [
    {
     "name": "stdout",
     "output_type": "stream",
     "text": [
      "Model: \"sequential\"\n",
      "_________________________________________________________________\n",
      " Layer (type)                Output Shape              Param #   \n",
      "=================================================================\n",
      " conv2d (Conv2D)             (None, 28, 28, 32)        320       \n",
      "                                                                 \n",
      " max_pooling2d (MaxPooling2D  (None, 14, 14, 32)       0         \n",
      " )                                                               \n",
      "                                                                 \n",
      " conv2d_1 (Conv2D)           (None, 14, 14, 64)        18496     \n",
      "                                                                 \n",
      " max_pooling2d_1 (MaxPooling  (None, 7, 7, 64)         0         \n",
      " 2D)                                                             \n",
      "                                                                 \n",
      " dropout (Dropout)           (None, 7, 7, 64)          0         \n",
      "                                                                 \n",
      " flatten (Flatten)           (None, 3136)              0         \n",
      "                                                                 \n",
      " dense (Dense)               (None, 64)                200768    \n",
      "                                                                 \n",
      " dropout_1 (Dropout)         (None, 64)                0         \n",
      "                                                                 \n",
      " dense_1 (Dense)             (None, 10)                650       \n",
      "                                                                 \n",
      "=================================================================\n",
      "Total params: 220,234\n",
      "Trainable params: 220,234\n",
      "Non-trainable params: 0\n",
      "_________________________________________________________________\n"
     ]
    }
   ],
   "source": [
    "model = Sequential()\n",
    "# prvi arg je broj filtera koji se uci, kernel size je velicina fitlera. Genralno su filteri neparnih dimenzija#\n",
    "# praksa je da se koriste male dimenzije filtera, jer ako je filter preveliki, previse ce se smanjiti dimenzija podataka\n",
    "# na koju je filter primenjen. Bolje je da u tim situacijama umesto jednog elikog fitlera imamo 2 sloja sa po jednim manjim filterom (?)\n",
    "# takodje ako imamo vise manjih filtera, vidi se da ce morati da se nauci manje tezina/parametara, npr jedan filter\n",
    "# velicine 5x5 ima 25 tezina, a 2 3x3 fitlera imaju ukupno 9+9=18 parametara\n",
    "# strides nam pomaze da se brze smanji dimenzija tako sto preskacemo neke pozicije za konvoluciju\n",
    "# padding='same' kazemo da hocemo da dobijemo rezultat iste dimenzije kao polazna slika tako sto se \n",
    "# doda vestacki okvir oko polaznih podataka i onda konvolucija ne smanji dimenziju\n",
    "# (opcija same dodaje okvir nula jer one ne kvare skalarni proizvodm, moze da se doda i neka druga vrednost, npr\n",
    "# vrednost suseda)\n",
    "model.add(Conv2D(32, kernel_size=(3,3), strides=(1,1), padding='same', activation='relu', input_shape=input_shape))\n",
    "model.add(MaxPooling2D(pool_size=(2,2)))\n",
    "model.add(Conv2D(64, kernel_size=(3,3), strides=(1,1), padding='same', activation='relu'))\n",
    "model.add(MaxPooling2D(pool_size=(2,2)))\n",
    "# dropout radi regularizaciju, hocemo da se izlazi iz 20% neurona do sad ignorise, da nebi overfitovao\n",
    "# primetimo da dropout utice na podatke samo pri treningu, tj pri pravljenju mreze\n",
    "# kada se pokrene evaluate, dropout nema nikakvog uticja na test podatke\n",
    "model.add(Dropout(0.2))\n",
    "# od matrice sa ovim flatten dobijamo vektor\n",
    "model.add(Flatten())\n",
    "# sad ulazimo u potpuno povezanu mrezu da bismo uradili klasifikaciju\n",
    "model.add(Dense(units=64, activation='relu'))\n",
    "model.add(Dropout(0.5))\n",
    "model.add(Dense(units=num_classes, activation='softmax'))\n",
    "model.summary()\n",
    "\n",
    "# primetimo da je prednost konv. mreza sto imaju mnogo manje parametara koji se uvce u odnosu na guste"
   ]
  },
  {
   "cell_type": "code",
   "execution_count": 12,
   "id": "c2111085",
   "metadata": {},
   "outputs": [],
   "source": [
    "model.compile(optimizer='adam', loss='categorical_crossentropy', metrics=['accuracy'])"
   ]
  },
  {
   "cell_type": "code",
   "execution_count": 13,
   "id": "66888739",
   "metadata": {},
   "outputs": [
    {
     "name": "stdout",
     "output_type": "stream",
     "text": [
      "Epoch 1/10\n",
      "375/375 [==============================] - 11s 28ms/step - loss: 0.4418 - accuracy: 0.8623 - val_loss: 0.0914 - val_accuracy: 0.9743\n",
      "Epoch 2/10\n",
      "375/375 [==============================] - 11s 28ms/step - loss: 0.1671 - accuracy: 0.9522 - val_loss: 0.0630 - val_accuracy: 0.9822\n",
      "Epoch 3/10\n",
      "375/375 [==============================] - 11s 28ms/step - loss: 0.1266 - accuracy: 0.9616 - val_loss: 0.0493 - val_accuracy: 0.9851\n",
      "Epoch 4/10\n",
      "375/375 [==============================] - 11s 28ms/step - loss: 0.1058 - accuracy: 0.9684 - val_loss: 0.0455 - val_accuracy: 0.9872\n",
      "Epoch 5/10\n",
      "375/375 [==============================] - 11s 28ms/step - loss: 0.0900 - accuracy: 0.9727 - val_loss: 0.0418 - val_accuracy: 0.9862\n",
      "Epoch 6/10\n",
      "375/375 [==============================] - 11s 29ms/step - loss: 0.0818 - accuracy: 0.9755 - val_loss: 0.0423 - val_accuracy: 0.9884\n",
      "Epoch 7/10\n",
      "375/375 [==============================] - 11s 29ms/step - loss: 0.0759 - accuracy: 0.9772 - val_loss: 0.0369 - val_accuracy: 0.9886\n",
      "Epoch 8/10\n",
      "375/375 [==============================] - 10s 28ms/step - loss: 0.0719 - accuracy: 0.9778 - val_loss: 0.0431 - val_accuracy: 0.9887\n",
      "Epoch 9/10\n",
      "375/375 [==============================] - 11s 29ms/step - loss: 0.0660 - accuracy: 0.9798 - val_loss: 0.0385 - val_accuracy: 0.9895\n",
      "Epoch 10/10\n",
      "375/375 [==============================] - 11s 29ms/step - loss: 0.0591 - accuracy: 0.9816 - val_loss: 0.0375 - val_accuracy: 0.9905\n"
     ]
    }
   ],
   "source": [
    "# ovo izvrsavanje dugo traje i zato je koristio gpu na collab-u\n",
    "history = model.fit(X_train, y_train, batch_size=128, epochs=10, validation_split=0.2)"
   ]
  },
  {
   "cell_type": "code",
   "execution_count": 14,
   "id": "52b54248",
   "metadata": {},
   "outputs": [],
   "source": [
    "from matplotlib import pyplot as plt"
   ]
  },
  {
   "cell_type": "code",
   "execution_count": 15,
   "id": "5b9ec77d",
   "metadata": {},
   "outputs": [
    {
     "data": {
      "text/plain": [
       "[<matplotlib.lines.Line2D at 0x2bc80488970>]"
      ]
     },
     "execution_count": 15,
     "metadata": {},
     "output_type": "execute_result"
    },
    {
     "data": {
      "image/png": "[encoded data removed]",
      "text/plain": [
       "<Figure size 432x288 with 1 Axes>"
      ]
     },
     "metadata": {
      "needs_background": "light"
     },
     "output_type": "display_data"
    }
   ],
   "source": [
    "plt.plot(history.epoch, history.history['loss'])\n",
    "plt.plot(history.epoch, history.history['val_loss'])"
   ]
  },
  {
   "cell_type": "code",
   "execution_count": 17,
   "id": "8d63f3e4",
   "metadata": {},
   "outputs": [
    {
     "data": {
      "text/plain": [
       "[<matplotlib.lines.Line2D at 0x2bc825d2f70>]"
      ]
     },
     "execution_count": 17,
     "metadata": {},
     "output_type": "execute_result"
    },
    {
     "data": {
      "image/png": "[encoded data removed]",
      "text/plain": [
       "<Figure size 432x288 with 1 Axes>"
      ]
     },
     "metadata": {
      "needs_background": "light"
     },
     "output_type": "display_data"
    }
   ],
   "source": [
    "plt.plot(history.epoch, history.history['accuracy'])\n",
    "plt.plot(history.epoch, history.history['val_accuracy'])"
   ]
  },
  {
   "cell_type": "code",
   "execution_count": 19,
   "id": "0026bdb2",
   "metadata": {},
   "outputs": [
    {
     "name": "stdout",
     "output_type": "stream",
     "text": [
      "313/313 [==============================] - 1s 2ms/step - loss: 0.0290 - accuracy: 0.9904\n"
     ]
    },
    {
     "data": {
      "text/plain": [
       "[0.0289843138307333, 0.9904000163078308]"
      ]
     },
     "execution_count": 19,
     "metadata": {},
     "output_type": "execute_result"
    }
   ],
   "source": [
    "model.evaluate(X_test, y_test)"
   ]
  },
  {
   "cell_type": "code",
   "execution_count": null,
   "id": "007f92a6",
   "metadata": {},
   "outputs": [],
   "source": []
  },
  {
   "cell_type": "code",
   "execution_count": 27,
   "id": "5e211f60",
   "metadata": {},
   "outputs": [],
   "source": [
    "from sklearn.metrics import confusion_matrix, classification_report\n",
    "import numpy as np"
   ]
  },
  {
   "cell_type": "code",
   "execution_count": 29,
   "id": "7cd5a22d",
   "metadata": {},
   "outputs": [
    {
     "name": "stdout",
     "output_type": "stream",
     "text": [
      "(10000,)\n",
      "(10000,)\n",
      "[[ 973    0    1    0    1    1    2    1    1    0]\n",
      " [   0 1132    2    1    0    0    0    0    0    0]\n",
      " [   1    5 1021    0    1    0    0    3    1    0]\n",
      " [   0    0    0 1000    0    7    0    2    1    0]\n",
      " [   0    0    0    0  978    0    0    0    1    3]\n",
      " [   1    0    0    1    0  887    2    0    0    1]\n",
      " [   2    2    0    0    2    3  946    0    3    0]\n",
      " [   0    3    7    2    0    0    0 1015    1    0]\n",
      " [   2    1    2    0    2    1    1    2  961    2]\n",
      " [   0    3    0    0    5    5    0    3    2  991]]\n",
      "              precision    recall  f1-score   support\n",
      "\n",
      "           0       0.99      0.99      0.99       980\n",
      "           1       0.99      1.00      0.99      1135\n",
      "           2       0.99      0.99      0.99      1032\n",
      "           3       1.00      0.99      0.99      1010\n",
      "           4       0.99      1.00      0.99       982\n",
      "           5       0.98      0.99      0.99       892\n",
      "           6       0.99      0.99      0.99       958\n",
      "           7       0.99      0.99      0.99      1028\n",
      "           8       0.99      0.99      0.99       974\n",
      "           9       0.99      0.98      0.99      1009\n",
      "\n",
      "    accuracy                           0.99     10000\n",
      "   macro avg       0.99      0.99      0.99     10000\n",
      "weighted avg       0.99      0.99      0.99     10000\n",
      "\n"
     ]
    }
   ],
   "source": [
    "y_true = np.argmax(y_test, axis=1)   # radimo unazad onaj to_categorical\n",
    "print(y_true.shape)\n",
    "\n",
    "y_pred = np.argmax(model.predict(X_test), axis=1)\n",
    "print(y_pred.shape)\n",
    "\n",
    "#matr konfuzije nam daje odnos stvarnih klsasa instanci i onih koje su predvidjene, podseti se sa IP\n",
    "# vrste su predicted, kolone su stvarne vrednosti, na dijagonali treba da vidimo najvece brojeve\n",
    "# jer su to instance koje su pravilno predvidjene\n",
    "print(confusion_matrix(y_true, y_pred))\n",
    "\n",
    "# ovaj daje rpeciznost, odziv, f1 itd\n",
    "print(classification_report(y_true, y_pred))"
   ]
  }
 ],
 "metadata": {
  "kernelspec": {
   "display_name": "Python 3 (ipykernel)",
   "language": "python",
   "name": "python3"
  },
  "language_info": {
   "codemirror_mode": {
    "name": "ipython",
    "version": 3
   },
   "file_extension": ".py",
   "mimetype": "text/x-python",
   "name": "python",
   "nbconvert_exporter": "python",
   "pygments_lexer": "ipython3",
   "version": "3.8.0"
  }
 },
 "nbformat": 4,
 "nbformat_minor": 5
}
