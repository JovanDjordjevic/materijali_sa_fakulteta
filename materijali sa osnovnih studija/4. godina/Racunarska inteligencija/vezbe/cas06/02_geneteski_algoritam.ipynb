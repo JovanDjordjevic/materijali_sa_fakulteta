{
 "cells": [
  {
   "cell_type": "code",
   "execution_count": 1,
   "id": "french-sponsorship",
   "metadata": {},
   "outputs": [],
   "source": [
    "# resavamo UFLP sa genetskim algoritmom\n",
    "import random"
   ]
  },
  {
   "cell_type": "code",
   "execution_count": 2,
   "id": "affected-banner",
   "metadata": {},
   "outputs": [],
   "source": [
    "# jedinka\n",
    "class Individual:\n",
    "    def __init__(self, cost, fixedCost):\n",
    "        # kodiranje za jedinku\n",
    "        numResources = len(fixedCost)\n",
    "        # ovde cemo kao u klasicnom genetskom algoritmu da genetski kod jedinke gledamo kao niz 1 i 0  tj true/false\n",
    "        self.code = [random.random() < 0.25 for _ in range(numResources)] # otprilike 1/4 da bude true, ona prica od pre\n",
    "        self.correctNonFeasible();  # za ispravljanje nedopustivog resenja ako se slucajno desi\n",
    "        self.fitness = self.calcFitness(cost, fixedCost)\n",
    "    \n",
    "    # ovo je overload za operator <, ovo nam treba jer cemo negde ispod raditi sortiranje, moglo je samo u\n",
    "    # sortiranju da se prosledi key= neka lambda za poredjenje, ali je hteo da nam pokaze da ovo moze u pajtonu\n",
    "    def __lt__(self, other):\n",
    "        return self.fitness < other.fitness\n",
    "    \n",
    "    # mi ovde pisemo ove neke dodatne funkcije za proveru da li je stanje dopustivo i za ispravljanje nedopustivih\n",
    "    # to je jedan nacin da se ovo radi (ali moze biti nezgodno npr ako negde zaboravimo da pozovemo te metode)\n",
    "    # drugi nacin je da dopustimo nevalidna stanja, ali da im dodelimo najmanji fitness prilikom njegovog racunanja\n",
    "    # time cemo da postignemo da ce evolucija sama da izbaci nedopustiva resenja\n",
    "    def isFeasible(self):\n",
    "        for c in self.code:\n",
    "            if c:\n",
    "                return True\n",
    "        return False\n",
    "    \n",
    "    def invert(self):\n",
    "        randomResource = random.randrange(len(self.code))\n",
    "        self.code[randomResource] = not self.code[randomResource]\n",
    "        if self.isFeasible():\n",
    "            return randomResource\n",
    "        else:\n",
    "            return -1\n",
    "    \n",
    "    def correctNonFeasible(self):\n",
    "        for c in self.code:\n",
    "            if c:\n",
    "                return\n",
    "        randomResource = random.randrange(len(self.code))\n",
    "        self.code[randomResource] = True\n",
    "        \n",
    "    def calcFitness(self, cost, fixedCost):\n",
    "        # fitnes je bolji sto je cena manja\n",
    "        numUsers = len(cost)\n",
    "        numResources = len(fixedCost)\n",
    "        usedResources = [False for _ in range(numResources)]\n",
    "        totalCost = 0\n",
    "        for i in range(numUsers):\n",
    "            minCost = float('inf') \n",
    "            resourceUsed = -1\n",
    "            for j in range(numResources):\n",
    "                if cost[i][j] < minCost and self.code[j]:  # code[j] je tacno kada je resurs uspostavljen\n",
    "                    minCost = cost[i][j]\n",
    "                    resourceUsed = j\n",
    "            totalCost += minCost\n",
    "            usedResources[resourceUsed] = True\n",
    "        # u usedResources su sada resusri koji su uspostavljeni i imaju poentu\n",
    "        # ako se desi ona situacija da je neki resurs beskoristan jer su svim ljudima blizi neki drugi,\n",
    "        # ova linija ce imati smisla\n",
    "        self.code = usedResources\n",
    "        # treba da razmatramo i samu cenu uspostavljanja\n",
    "        for (j, resource) in enumerate(self.code):\n",
    "            if resource:\n",
    "                totalCost += fixedCost[j]\n",
    "        # u klasicnom genetskom, trazi se jedinka sa najvecim fitnesom. Nama fitnes ima veze sa cenom, ali \n",
    "        # nama je bolja jedinka koja ima manju cenu, tako da mozemo da transformisemo ovaj totalCost nekako \n",
    "        # da se poklapa sa znacenjem fitnesa (a i ne moramo). ovde to radimo za primer\n",
    "        fitness = 1 / totalCost  # nikad nece biti deljenje nulom jer se uvek neki resurs dodeli\n",
    "        return fitness"
   ]
  },
  {
   "cell_type": "code",
   "execution_count": 3,
   "id": "vietnamese-atlanta",
   "metadata": {},
   "outputs": [],
   "source": [
    "def readInput(filename):\n",
    "    with open(filename, 'r') as f:\n",
    "        numUsers, numResources = [int(x) for x in f.readline().split()]\n",
    "        cost = [[int(x) for x in f.readline().split()] for i in range(numUsers)]\n",
    "        fixedCost = [int(x) for x in f.readline().split()]\n",
    "        return cost, fixedCost"
   ]
  },
  {
   "cell_type": "code",
   "execution_count": 4,
   "id": "forbidden-packet",
   "metadata": {},
   "outputs": [],
   "source": [
    "cost, fixedCost = readInput('uflp1.txt')"
   ]
  },
  {
   "cell_type": "code",
   "execution_count": 5,
   "id": "structured-platform",
   "metadata": {},
   "outputs": [],
   "source": [
    "# koristicemo turnirsku selekciju\n",
    "def selection(population):\n",
    "    TOURNAMENT_SIZE = 5\n",
    "    bestFitness = float('-inf')\n",
    "    index = -1\n",
    "    for i in range(TOURNAMENT_SIZE):\n",
    "        randomIndividual = random.randrange(len(population))\n",
    "        if population[randomIndividual].fitness > bestFitness:\n",
    "            bestFitness = population[randomIndividual].fitness\n",
    "            index = randomIndividual\n",
    "    # ovo sto smo napisali moze  i u jednoj liniji i da se jos osiguramo da ne budu isti izabrani vise puta\n",
    "    # ali svejedno\n",
    "    # return max(random.sample(population, TOURNAMENT_SIZE))\n",
    "    return index"
   ]
  },
  {
   "cell_type": "code",
   "execution_count": 6,
   "id": "silent-beaver",
   "metadata": {},
   "outputs": [],
   "source": [
    "# radimo jednopoziciono ukrstanje\n",
    "def crossover(parent1, parent2, child1, child2):\n",
    "    breakpoint = random.randrange(len(parent1.code))\n",
    "    \n",
    "    child1.code[:breakpoint] = parent1.code[:breakpoint]\n",
    "    child2.code[:breakpoint] = parent2.code[:breakpoint]\n",
    "    \n",
    "    child1.code[breakpoint:] = parent2.code[breakpoint:]\n",
    "    child2.code[breakpoint:] = parent1.code[breakpoint:]\n",
    "    \n",
    "    child1.correctNonFeasible()\n",
    "    child2.correctNonFeasible()"
   ]
  },
  {
   "cell_type": "code",
   "execution_count": 7,
   "id": "heard-native",
   "metadata": {},
   "outputs": [],
   "source": [
    "# recimo da hocemo da postoji neki % mogucnost da se svaki bit promeni (i da je dozvoljeno da se bukvalno svi promene)\n",
    "def mutation(individual):\n",
    "    MUTATION_PROB = 0.03\n",
    "    for i in range(len(individual.code)):\n",
    "        if random.random() < MUTATION_PROB:\n",
    "            individual.code[i] = not individual.code[i]\n",
    "    individual.correctNonFeasible()"
   ]
  },
  {
   "cell_type": "code",
   "execution_count": 37,
   "id": "difficult-saver",
   "metadata": {},
   "outputs": [
    {
     "name": "stdout",
     "output_type": "stream",
     "text": [
      "solution: [True, False, False], fitness: 0.029411764705882353, cost: 34.0\n"
     ]
    }
   ],
   "source": [
    "POPULATION_SIZE = 100\n",
    "NUM_GENERATIONS = 10\n",
    "# redimo da jednu petinu populacije  (sa najboljim fitnesom) samo prenosimo u narendu generaciju,\n",
    "#a ostale radimo normalno ukrstanjem i mutacijom\n",
    "ELITISM_SIZE = POPULATION_SIZE // 5\n",
    "\n",
    "population = [Individual(cost, fixedCost) for _ in range(POPULATION_SIZE)]\n",
    "# odlucili smo da na pocetku ova 'nova populacija' ne bude prazna pa da se na nju appenduje\n",
    "# nego da vec postoje neke vrednosti pa se menja, jer je kao tako laske\n",
    "# npr u crossoveru cemo da iskoristimo ovo da nebi pravili nove objekte nego vec izmenili postojece\n",
    "newPopulation = [Individual(cost, fixedCost) for _ in range(POPULATION_SIZE)]\n",
    "\n",
    "for i in range(NUM_GENERATIONS):\n",
    "    # nas overload za < sortira rastuce, a mi hocemo da na pocetku populacije budu oni sa najboljim fitnesom\n",
    "    population.sort(reverse=True)\n",
    "    newPopulation[:ELITISM_SIZE] = population[:ELITISM_SIZE]\n",
    "    for j in range(ELITISM_SIZE, POPULATION_SIZE, 2):\n",
    "        parent1Index = selection(population)   # nije strasno ako se desi da isti bude izabran 2 puta, male su sanse za to\n",
    "        parent2Index = selection(population)\n",
    "        \n",
    "        crossover(population[parent1Index], population[parent2Index],    # parent1, parent2\n",
    "                  newPopulation[j], newPopulation[j+1])                  # child1, child2\n",
    "        \n",
    "        mutation(newPopulation[j])     # cild1\n",
    "        mutation(newPopulation[j+1])   # child2\n",
    "        \n",
    "        newPopulation[j].fitness = newPopulation[j].calcFitness(cost, fixedCost)\n",
    "        newPopulation[j+1].fitness = newPopulation[j+1].calcFitness(cost, fixedCost)\n",
    "        \n",
    "    population = newPopulation\n",
    "    \n",
    "bestIndividual = max(population)\n",
    "print(f'solution: {bestIndividual.code}, fitness: {bestIndividual.fitness}, cost: {1 / bestIndividual.fitness}')"
   ]
  },
  {
   "cell_type": "code",
   "execution_count": null,
   "id": "european-russia",
   "metadata": {},
   "outputs": [],
   "source": []
  },
  {
   "cell_type": "code",
   "execution_count": null,
   "id": "exciting-power",
   "metadata": {},
   "outputs": [],
   "source": []
  },
  {
   "cell_type": "code",
   "execution_count": 9,
   "id": "regional-finish",
   "metadata": {},
   "outputs": [],
   "source": [
    "# sada cemo za primer da probamo da kombinujemo genetski alg i simulirano kaljenje\n",
    "# bice sve isto samo sto hocemo da na najbolju jedinku svake generacije primenimo simulirano kaljenje"
   ]
  },
  {
   "cell_type": "code",
   "execution_count": 10,
   "id": "sharing-server",
   "metadata": {},
   "outputs": [],
   "source": [
    "def simulatedAnnealing(individual, cost, fixedCost, iters):\n",
    "    for i in range(1, iters + 1):    # +1 da nebi imali deljenje nulom u else grani\n",
    "        # promenimo malo individual (ovde cemo da invertujemo jedan random bit)\n",
    "        resourceInverted = individual.invert()\n",
    "        if resourceInverted < 0:\n",
    "            continue\n",
    "        newFitness = individual.calcFitness(cost, fixedCost)\n",
    "        if newFitness > individual.fitness:\n",
    "            individual.fitness = newFitness\n",
    "        else:  \n",
    "            # sa malom verovatnocom prihvatamo novo resenje iako je losije\n",
    "            p = 1.0 / i ** 0.5\n",
    "            q = random.uniform(0, 1)\n",
    "            if p > q:\n",
    "                # zadrzimo to novo koje je losije\n",
    "                individual.fitness = newFitness\n",
    "            else:\n",
    "                # vratimo se na prethodno ovde\n",
    "                individual.code[resourceInverted] = not individual.code[resourceInverted]"
   ]
  },
  {
   "cell_type": "code",
   "execution_count": 65,
   "id": "divided-president",
   "metadata": {},
   "outputs": [
    {
     "name": "stdout",
     "output_type": "stream",
     "text": [
      "solution: [False, False, False], fitness: 0.029411764705882353, cost: 34.0\n"
     ]
    }
   ],
   "source": [
    "POPULATION_SIZE = 100\n",
    "NUM_GENERATIONS = 10\n",
    "ELITISM_SIZE = POPULATION_SIZE // 5\n",
    "\n",
    "population = [Individual(cost, fixedCost) for _ in range(POPULATION_SIZE)]\n",
    "newPopulation = [Individual(cost, fixedCost) for _ in range(POPULATION_SIZE)]\n",
    "\n",
    "for i in range(NUM_GENERATIONS):\n",
    "    population.sort(reverse=True)\n",
    "#     for p in population:\n",
    "#         print(p.code)\n",
    "    newPopulation[:ELITISM_SIZE] = population[:ELITISM_SIZE]\n",
    "    for j in range(ELITISM_SIZE, POPULATION_SIZE, 2):\n",
    "        parent1Index = selection(population)   \n",
    "        parent2Index = selection(population)\n",
    "        \n",
    "        crossover(population[parent1Index], population[parent2Index],   \n",
    "                  newPopulation[j], newPopulation[j+1])                \n",
    "        \n",
    "        mutation(newPopulation[j])   \n",
    "        mutation(newPopulation[j+1])  \n",
    "        \n",
    "        newPopulation[j].fitness = newPopulation[j].calcFitness(cost, fixedCost)\n",
    "        newPopulation[j+1].fitness = newPopulation[j+1].calcFitness(cost, fixedCost)\n",
    "        \n",
    "    # pusticemo samo par iteracija simuliranog kaljenja da probamo jos malo da popravimo jedinku\n",
    "    # ova jedinka koju smo izabrali ne mora nuzno da bude najbolja, moglo je da se desi da smo u trenutnoj populaciji\n",
    "    # dobili bolju jedinku ali posto u ovom trenutku nije jos uradjeno sortiranje te nove populacije, ovde na pcoetku niza\n",
    "    # ce da stoji najbolja jedinka iz prosle iteracije\n",
    "    # (naravno mogli smo i bukvalno da nadjemo najbolju pa na nju da primenjujemo, ali ovo je dovoljno za priemr)\n",
    "    simulatedAnnealing(newPopulation[0], cost, fixedCost, iters=10)\n",
    "        \n",
    "    population = newPopulation\n",
    "#     for p in population:\n",
    "#         print(p.code)\n",
    "    \n",
    "bestIndividual = max(population)\n",
    "print(f'solution: {bestIndividual.code}, fitness: {bestIndividual.fitness}, cost: {1 / bestIndividual.fitness}') \n",
    "# NOTE: negde ovde je zaboravljeno ispravljanje nevalidnog stanja jer moze da se desi da bude [False, False, False]\n",
    "# proveri u zvanicnim materijalima da li je ispravljeno"
   ]
  }
 ],
 "metadata": {
  "kernelspec": {
   "display_name": "Python 3",
   "language": "python",
   "name": "python3"
  },
  "language_info": {
   "codemirror_mode": {
    "name": "ipython",
    "version": 3
   },
   "file_extension": ".py",
   "mimetype": "text/x-python",
   "name": "python",
   "nbconvert_exporter": "python",
   "pygments_lexer": "ipython3",
   "version": "3.9.0"
  }
 },
 "nbformat": 4,
 "nbformat_minor": 5
}
