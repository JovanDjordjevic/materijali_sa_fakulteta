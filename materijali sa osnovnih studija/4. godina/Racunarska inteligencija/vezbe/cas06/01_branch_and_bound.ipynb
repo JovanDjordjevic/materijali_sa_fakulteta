{
 "cells": [
  {
   "cell_type": "code",
   "execution_count": 1,
   "id": "assumed-convergence",
   "metadata": {},
   "outputs": [],
   "source": [
    "# implementiramo branch and bound za problem ranca\n",
    "# on sa slike koju je pokazao na casu (vidi snimak)\n",
    "\n",
    "import queue"
   ]
  },
  {
   "cell_type": "code",
   "execution_count": 2,
   "id": "encouraging-construction",
   "metadata": {},
   "outputs": [],
   "source": [
    "class Item:\n",
    "    def __init__(self, weight, value):\n",
    "        self.weight = weight\n",
    "        self.value = value"
   ]
  },
  {
   "cell_type": "code",
   "execution_count": 3,
   "id": "becoming-david",
   "metadata": {},
   "outputs": [],
   "source": [
    "class Node:\n",
    "    def __init__(self, weight, value, level):\n",
    "        self.weight = weight   # ukupna tezina predmeta od korena do ovog cvora\n",
    "        self.value = value\n",
    "        self.level = level\n",
    "        \n",
    "        self.bound = 0"
   ]
  },
  {
   "cell_type": "code",
   "execution_count": 4,
   "id": "returning-corporation",
   "metadata": {},
   "outputs": [],
   "source": [
    "# NOTE: morao sam da izadjem dok je pisao celu ovu fuknkciju, vidi na snimku\n",
    "# objsanenje\n",
    "\n",
    "# funkcija koja nam kaze gornju granicu, tj najbolje sto mozemo da dobijemo u tekucem cvoru\n",
    "def bound(u, items, knapsackCapacity):\n",
    "    # ovu procenu pravimo optimisticno i ovde kazemo da predmete mozemo da delimo na delove\n",
    "    # tj da ne mora ceo predmet da stane u ranac. Ovo radimo jer samo trazimo gornju granicu, a ne\n",
    "    # zapravo neko resenje (ako mozeom da delimo predmete)\n",
    "    if u.weight >= knapsackCapacity:\n",
    "        return 0\n",
    "    totalWeight = u.weight\n",
    "    totalValue = u.value\n",
    "    level = u.level + 1 \n",
    "    while level < len(items) and totalWeight < knapsackCapacity:\n",
    "        totalValue += items[level].value\n",
    "        totalWeight += items[level].weight\n",
    "        level += 1\n",
    "    if level != len(items):\n",
    "        totalValue += items[level].value * (knapsackCapacity - totalWeight) / items[level].weight\n",
    "    return totalValue"
   ]
  },
  {
   "cell_type": "code",
   "execution_count": 5,
   "id": "genetic-table",
   "metadata": {},
   "outputs": [],
   "source": [
    "# branch and bound\n",
    "def bnb(items, knapsackCapacity):\n",
    "    # sortiramo po vrednosti po kilogramu\n",
    "    items = sorted(items, key=lambda x : x.value/x.weight, reverse=True)\n",
    "    Q = queue.Queue()\n",
    "    # neki vestacki cvor koji ce biti iznad korena, da bismo uopste mogli da udjemo u petlju ispod\n",
    "    node = Node(0, 0, -1)\n",
    "    Q.put(node)\n",
    "    maxValue = 0\n",
    "    \n",
    "    while not Q.empty():\n",
    "        u = Q.get()\n",
    "        if u.level == len(items) - 1:  # stigli do dna stabla\n",
    "            continue;\n",
    "            \n",
    "        # cvor na kraju leve grane gde dodajemo item u ranac\n",
    "        v_level = u.level + 1\n",
    "        v = Node(u.weight + items[v_level].weight, \n",
    "                 u.value + items[v_level].value,\n",
    "                 v_level)\n",
    "        \n",
    "        if v.weight <= knapsackCapacity and v.value > maxValue:\n",
    "            maxValue = v.value\n",
    "        \n",
    "        v.bound = bound(v, items, knapsackCapacity)\n",
    "        # ako u ovom cvoru moze da se dobije resenje bolje od poslednjeg, ima smisla da ga stavimo u red\n",
    "        if v.bound > maxValue:\n",
    "            Q.put(v)\n",
    "        \n",
    "        # cvor na kraju desne grane gde ne dodajemo item u ranac\n",
    "        v = Node(u.weight, u.value, v_level)\n",
    "        # i za desnu granu moramo istu proveru da imamo\n",
    "        v.bound = bound(v, items, knapsackCapacity)\n",
    "        if v.bound > maxValue:\n",
    "            Q.put(v)\n",
    "            \n",
    "    return maxValue"
   ]
  },
  {
   "cell_type": "code",
   "execution_count": 7,
   "id": "hawaiian-mistress",
   "metadata": {},
   "outputs": [
    {
     "data": {
      "text/plain": [
       "235"
      ]
     },
     "execution_count": 7,
     "metadata": {},
     "output_type": "execute_result"
    }
   ],
   "source": [
    "# oni itemi sa slike za primer, treba da dobijemo 235\n",
    "items = [Item(2, 40), Item(3.14, 50), Item(1.98, 100), Item(5, 95), Item(3, 30)]\n",
    "\n",
    "bnb(items, knapsackCapacity=10)"
   ]
  },
  {
   "cell_type": "code",
   "execution_count": null,
   "id": "verified-prize",
   "metadata": {},
   "outputs": [],
   "source": []
  }
 ],
 "metadata": {
  "kernelspec": {
   "display_name": "Python 3",
   "language": "python",
   "name": "python3"
  },
  "language_info": {
   "codemirror_mode": {
    "name": "ipython",
    "version": 3
   },
   "file_extension": ".py",
   "mimetype": "text/x-python",
   "name": "python",
   "nbconvert_exporter": "python",
   "pygments_lexer": "ipython3",
   "version": "3.9.0"
  }
 },
 "nbformat": 4,
 "nbformat_minor": 5
}
