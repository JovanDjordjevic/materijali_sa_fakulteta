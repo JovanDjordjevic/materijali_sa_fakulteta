{
 "cells": [
  {
   "cell_type": "code",
   "execution_count": null,
   "id": "worth-virgin",
   "metadata": {},
   "outputs": [],
   "source": [
    "# hocmeo dsada da probamo UFLP da probamo preko lienarnog programiranja\n",
    "\n",
    "# I korisnika, J resursa, C matrica cena, F vektor cena uspostavljanja resursa\n",
    "\n",
    "# neka yj bude neka binarna promenljiva koja kaze da li se neki resurs uspostavlja (=1) ili ne (=0)\n",
    "# neka xij bude binarna promenljiva koja je =1 ako je korisnik i prodruzen resursu j, 0 inace\n",
    "# nasa funkcija cilja ce biti:\n",
    "#     min(  sum_j( yj * fj) + sum_i(sum_j(xij * cij))  )\n",
    "\n",
    "# za ovo nam treba J + I*J bianrnih promenljivih\n",
    "# videcemo da za ovo treba J + I*J ogranicenja\n",
    "# ogranicenja:\n",
    "#    svaki korsnik mora biti dodeljen tacno jednom resursu\n",
    "#    (∀i iz I) sum_j(xij) = 1      (tj u redu matrice Xij sme da bude samo jedna jedinica)     (ovo je zapravo I ogranicenja)\n",
    "#    (∀i iz I)(∀j iz J) xij <= yj  (ako je xij=1 onda mora yj=1, slusaj na snimku objasnjenje, nisam stigao da zapisem)\n",
    "#                                    (ovdew zapreavo ima I*J ogranicenja)\n"
   ]
  },
  {
   "cell_type": "code",
   "execution_count": null,
   "id": "forty-majority",
   "metadata": {},
   "outputs": [],
   "source": [
    "# ista ona readInput funkcija sa proslog casa\n",
    "def readInput(filename):\n",
    "    with open(filename, 'r') as f:\n",
    "        numUsers, numResources = [int(x) for x in f.readline().split()]\n",
    "        cost = [[int(x) for x in f.readline().split()] for _ in range(numUsers)]\n",
    "        fixedCost = [int(x) for x in f.readline().split()]\n",
    "        return numUsers, numResources, cost, fixedCost\n",
    "\n",
    "numUsers, numResources, cost, fixedCost = readInput('uflp1.txt')"
   ]
  },
  {
   "cell_type": "code",
   "execution_count": null,
   "id": "satisfactory-soccer",
   "metadata": {},
   "outputs": [],
   "source": [
    "from docplex.mp.model import Model"
   ]
  },
  {
   "cell_type": "code",
   "execution_count": null,
   "id": "psychological-panama",
   "metadata": {},
   "outputs": [],
   "source": [
    "model = Model(name='uflp')"
   ]
  },
  {
   "cell_type": "code",
   "execution_count": null,
   "id": "civilian-tablet",
   "metadata": {},
   "outputs": [],
   "source": [
    "# matrica binarnih promenljivih\n",
    "x = model.binary_var_matrix(numUsers, numResources, name='x')"
   ]
  },
  {
   "cell_type": "code",
   "execution_count": null,
   "id": "proof-partnership",
   "metadata": {},
   "outputs": [],
   "source": [
    "# lista promenljivih\n",
    "y = mode.binary_var_list(numResources, name='u')"
   ]
  },
  {
   "cell_type": "code",
   "execution_count": null,
   "id": "alpha-pricing",
   "metadata": {},
   "outputs": [],
   "source": [
    "# treba nam lista ogranicenja a ne samo jedno\n",
    "model.add_constraints([sum(x[i,j] for j in range(numResources)) == 1 for i in range(numUsers)])"
   ]
  },
  {
   "cell_type": "code",
   "execution_count": null,
   "id": "metropolitan-blocking",
   "metadata": {},
   "outputs": [],
   "source": [
    "for i in range(numUsers):\n",
    "    for j in range(numResources):\n",
    "        model.add_constraint(x[i,j] <= y[j])"
   ]
  },
  {
   "cell_type": "code",
   "execution_count": 2,
   "id": "reasonable-retreat",
   "metadata": {},
   "outputs": [
    {
     "ename": "NameError",
     "evalue": "name 'model' is not defined",
     "output_type": "error",
     "traceback": [
      "\u001b[1;31m---------------------------------------------------------------------------\u001b[0m",
      "\u001b[1;31mNameError\u001b[0m                                 Traceback (most recent call last)",
      "\u001b[1;32m<ipython-input-2-430da275147c>\u001b[0m in \u001b[0;36m<module>\u001b[1;34m\u001b[0m\n\u001b[1;32m----> 1\u001b[1;33m \u001b[0mmodel\u001b[0m\u001b[1;33m.\u001b[0m\u001b[0mprint_information\u001b[0m\u001b[1;33m(\u001b[0m\u001b[1;33m)\u001b[0m\u001b[1;33m\u001b[0m\u001b[1;33m\u001b[0m\u001b[0m\n\u001b[0m",
      "\u001b[1;31mNameError\u001b[0m: name 'model' is not defined"
     ]
    }
   ],
   "source": [
    "model.print_information()"
   ]
  },
  {
   "cell_type": "code",
   "execution_count": 6,
   "id": "documentary-palestine",
   "metadata": {},
   "outputs": [
    {
     "ename": "NameError",
     "evalue": "name 'numResources' is not defined",
     "output_type": "error",
     "traceback": [
      "\u001b[1;31m---------------------------------------------------------------------------\u001b[0m",
      "\u001b[1;31mNameError\u001b[0m                                 Traceback (most recent call last)",
      "\u001b[1;32m<ipython-input-6-86e053271d68>\u001b[0m in \u001b[0;36m<module>\u001b[1;34m\u001b[0m\n\u001b[0;32m      1\u001b[0m \u001b[1;31m# ubacujemo funkciju cilja, podelicemo je na 2 dela da nam bude lakse\u001b[0m\u001b[1;33m\u001b[0m\u001b[1;33m\u001b[0m\u001b[1;33m\u001b[0m\u001b[0m\n\u001b[1;32m----> 2\u001b[1;33m \u001b[0mfirst\u001b[0m \u001b[1;33m=\u001b[0m \u001b[0msum\u001b[0m\u001b[1;33m(\u001b[0m\u001b[0my\u001b[0m\u001b[1;33m[\u001b[0m\u001b[0mj\u001b[0m\u001b[1;33m]\u001b[0m \u001b[1;33m*\u001b[0m \u001b[0mfixedCost\u001b[0m\u001b[1;33m[\u001b[0m\u001b[0mj\u001b[0m\u001b[1;33m]\u001b[0m \u001b[1;32mfor\u001b[0m \u001b[0mj\u001b[0m \u001b[1;32min\u001b[0m \u001b[0mrange\u001b[0m\u001b[1;33m(\u001b[0m\u001b[0mnumResources\u001b[0m\u001b[1;33m)\u001b[0m\u001b[1;33m)\u001b[0m\u001b[1;33m\u001b[0m\u001b[1;33m\u001b[0m\u001b[0m\n\u001b[0m\u001b[0;32m      3\u001b[0m \u001b[0msecond\u001b[0m \u001b[1;33m=\u001b[0m \u001b[0msum\u001b[0m\u001b[1;33m(\u001b[0m\u001b[0msum\u001b[0m\u001b[1;33m(\u001b[0m\u001b[0mx\u001b[0m\u001b[1;33m[\u001b[0m\u001b[0mi\u001b[0m\u001b[1;33m,\u001b[0m\u001b[0mj\u001b[0m\u001b[1;33m]\u001b[0m \u001b[1;33m*\u001b[0m \u001b[0mcost\u001b[0m\u001b[1;33m[\u001b[0m\u001b[0mi\u001b[0m\u001b[1;33m]\u001b[0m\u001b[1;33m[\u001b[0m\u001b[0mj\u001b[0m\u001b[1;33m]\u001b[0m \u001b[1;32mfor\u001b[0m \u001b[0mj\u001b[0m \u001b[1;32min\u001b[0m \u001b[0mrange\u001b[0m\u001b[1;33m(\u001b[0m\u001b[0mnumResources\u001b[0m\u001b[1;33m)\u001b[0m\u001b[1;33m)\u001b[0m \u001b[1;32mfor\u001b[0m \u001b[0mi\u001b[0m \u001b[1;32min\u001b[0m \u001b[0mrange\u001b[0m\u001b[1;33m(\u001b[0m\u001b[0mnumUsers\u001b[0m\u001b[1;33m)\u001b[0m\u001b[1;33m)\u001b[0m\u001b[1;33m\u001b[0m\u001b[1;33m\u001b[0m\u001b[0m\n\u001b[0;32m      4\u001b[0m \u001b[1;33m\u001b[0m\u001b[0m\n\u001b[0;32m      5\u001b[0m \u001b[0mmodel\u001b[0m\u001b[1;33m.\u001b[0m\u001b[0mminimize\u001b[0m\u001b[1;33m(\u001b[0m\u001b[0mfirst\u001b[0m \u001b[1;33m+\u001b[0m \u001b[0msecond\u001b[0m\u001b[1;33m)\u001b[0m\u001b[1;33m\u001b[0m\u001b[1;33m\u001b[0m\u001b[0m\n",
      "\u001b[1;31mNameError\u001b[0m: name 'numResources' is not defined"
     ]
    }
   ],
   "source": [
    "# ubacujemo funkciju cilja, podelicemo je na 2 dela da nam bude lakse\n",
    "first = sum(y[j] * fixedCost[j] for j in range(numResources))\n",
    "second = sum(sum(x[i,j] * cost[i][j] for j in range(numResources)) for i in range(numUsers))\n",
    "\n",
    "model.minimize(first + second)"
   ]
  },
  {
   "cell_type": "code",
   "execution_count": 9,
   "id": "grave-shakespeare",
   "metadata": {},
   "outputs": [
    {
     "ename": "NameError",
     "evalue": "name 'model' is not defined",
     "output_type": "error",
     "traceback": [
      "\u001b[1;31m---------------------------------------------------------------------------\u001b[0m",
      "\u001b[1;31mNameError\u001b[0m                                 Traceback (most recent call last)",
      "\u001b[1;32m<ipython-input-9-90380adf5875>\u001b[0m in \u001b[0;36m<module>\u001b[1;34m\u001b[0m\n\u001b[1;32m----> 1\u001b[1;33m \u001b[0msolution\u001b[0m \u001b[1;33m=\u001b[0m \u001b[0mmodel\u001b[0m\u001b[1;33m.\u001b[0m\u001b[0msolve\u001b[0m\u001b[1;33m(\u001b[0m\u001b[1;33m)\u001b[0m\u001b[1;33m\u001b[0m\u001b[1;33m\u001b[0m\u001b[0m\n\u001b[0m",
      "\u001b[1;31mNameError\u001b[0m: name 'model' is not defined"
     ]
    }
   ],
   "source": [
    "solution = model.solve()"
   ]
  },
  {
   "cell_type": "code",
   "execution_count": 10,
   "id": "banned-liver",
   "metadata": {},
   "outputs": [
    {
     "ename": "NameError",
     "evalue": "name 'solution' is not defined",
     "output_type": "error",
     "traceback": [
      "\u001b[1;31m---------------------------------------------------------------------------\u001b[0m",
      "\u001b[1;31mNameError\u001b[0m                                 Traceback (most recent call last)",
      "\u001b[1;32m<ipython-input-10-2202aae02dd9>\u001b[0m in \u001b[0;36m<module>\u001b[1;34m\u001b[0m\n\u001b[1;32m----> 1\u001b[1;33m \u001b[0msolution\u001b[0m\u001b[1;33m.\u001b[0m\u001b[0mdisplay\u001b[0m\u001b[1;33m(\u001b[0m\u001b[1;33m)\u001b[0m\u001b[1;33m\u001b[0m\u001b[1;33m\u001b[0m\u001b[0m\n\u001b[0m",
      "\u001b[1;31mNameError\u001b[0m: name 'solution' is not defined"
     ]
    }
   ],
   "source": [
    "# isto sto i model.print_solution()\n",
    "solution.display()"
   ]
  }
 ],
 "metadata": {
  "kernelspec": {
   "display_name": "Python 3",
   "language": "python",
   "name": "python3"
  },
  "language_info": {
   "codemirror_mode": {
    "name": "ipython",
    "version": 3
   },
   "file_extension": ".py",
   "mimetype": "text/x-python",
   "name": "python",
   "nbconvert_exporter": "python",
   "pygments_lexer": "ipython3",
   "version": "3.9.0"
  }
 },
 "nbformat": 4,
 "nbformat_minor": 5
}
