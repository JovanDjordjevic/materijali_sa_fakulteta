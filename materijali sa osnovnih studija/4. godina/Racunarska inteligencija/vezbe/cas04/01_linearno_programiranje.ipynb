{
 "cells": [
  {
   "cell_type": "code",
   "execution_count": null,
   "id": "american-external",
   "metadata": {},
   "outputs": [],
   "source": [
    "# pokusacemo da resimo onaj problem iz beleski\n",
    "\n",
    "#NOTE: dok sam pisao nisam imao podesenu biblioteku\n",
    "\n",
    "from docplex.mp.model import Model"
   ]
  },
  {
   "cell_type": "code",
   "execution_count": null,
   "id": "terminal-boards",
   "metadata": {},
   "outputs": [],
   "source": [
    "model = Model(name='telefoni')"
   ]
  },
  {
   "cell_type": "code",
   "execution_count": null,
   "id": "thirty-ideal",
   "metadata": {},
   "outputs": [],
   "source": [
    "# ovako dodajemo pormenljivu\n",
    "x = model.continuous_var(name='fiksni')"
   ]
  },
  {
   "cell_type": "code",
   "execution_count": null,
   "id": "light-conflict",
   "metadata": {},
   "outputs": [],
   "source": [
    "y = model.continuous_var(name='mobilni')"
   ]
  },
  {
   "cell_type": "code",
   "execution_count": null,
   "id": "recognized-usage",
   "metadata": {},
   "outputs": [],
   "source": [
    "# ovako ogranicenje, u ogranicuenju moze da figurise vise promenljivih\n",
    "model.add_cosntraint(x >= 100)"
   ]
  },
  {
   "cell_type": "code",
   "execution_count": null,
   "id": "gross-condition",
   "metadata": {},
   "outputs": [],
   "source": [
    "model.add_constraint(y >= 100)"
   ]
  },
  {
   "cell_type": "code",
   "execution_count": null,
   "id": "desperate-asian",
   "metadata": {},
   "outputs": [],
   "source": [
    "model.add_constraint(0.2*x + 0.4*y <= 400)"
   ]
  },
  {
   "cell_type": "code",
   "execution_count": null,
   "id": "superior-serbia",
   "metadata": {},
   "outputs": [],
   "source": [
    "model.add_constraint(0.5*x + 0.4*y <= 490)"
   ]
  },
  {
   "cell_type": "code",
   "execution_count": null,
   "id": "underlying-fantasy",
   "metadata": {},
   "outputs": [],
   "source": [
    "# ovako se registruje ciljna funkcija\n",
    "model.maximize(12*x + 20*y)"
   ]
  },
  {
   "cell_type": "code",
   "execution_count": null,
   "id": "mineral-tomorrow",
   "metadata": {},
   "outputs": [],
   "source": [
    "model.print_information()"
   ]
  },
  {
   "cell_type": "code",
   "execution_count": null,
   "id": "speaking-prince",
   "metadata": {},
   "outputs": [],
   "source": [
    "# ovako resavamo model, ima neke parametrre koji mogu da se podesavaju\n",
    "model.solve()"
   ]
  },
  {
   "cell_type": "code",
   "execution_count": null,
   "id": "cognitive-celtic",
   "metadata": {},
   "outputs": [],
   "source": [
    "model.print_solution()"
   ]
  }
 ],
 "metadata": {
  "kernelspec": {
   "display_name": "Python 3",
   "language": "python",
   "name": "python3"
  },
  "language_info": {
   "codemirror_mode": {
    "name": "ipython",
    "version": 3
   },
   "file_extension": ".py",
   "mimetype": "text/x-python",
   "name": "python",
   "nbconvert_exporter": "python",
   "pygments_lexer": "ipython3",
   "version": "3.9.0"
  }
 },
 "nbformat": 4,
 "nbformat_minor": 5
}
