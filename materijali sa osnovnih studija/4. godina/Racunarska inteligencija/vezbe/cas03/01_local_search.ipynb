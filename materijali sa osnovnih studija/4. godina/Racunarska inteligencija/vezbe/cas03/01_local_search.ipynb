{
 "cells": [
  {
   "cell_type": "code",
   "execution_count": 1,
   "id": "varying-flower",
   "metadata": {},
   "outputs": [],
   "source": [
    "import random"
   ]
  },
  {
   "cell_type": "code",
   "execution_count": 2,
   "id": "moral-clone",
   "metadata": {},
   "outputs": [],
   "source": [
    "# hocemo da lokalnom pretragom resimo UFLP problem\n",
    "# recimo da imamo 5 mogucih bolnica, 10 korisnika\n",
    "# c je ona amtrica dimenzije 10x5\n",
    "\n",
    "# recimo da ce resenje biti u obliku nekog niza bool vrednosti koje kaze koje\n",
    "# smo resurse uspostavili a koje nismo, npr solution = [True, False, False, True, False]\n",
    "# korsinike mozemo da pridruzimo najblizoj izgradjenoj bolnici\n",
    "\n",
    "# tezina ovog problema sto zelimo da minimizujemo i sumu cij i sumu fj u isto vreme"
   ]
  },
  {
   "cell_type": "code",
   "execution_count": 3,
   "id": "stopped-truck",
   "metadata": {},
   "outputs": [],
   "source": [
    "# pomocna funkcija koja ispita da li je resenje dopustivo ili ne (dopustivo je ako ima bar jedan True)\n",
    "def isFeasible(solution):\n",
    "    for resource in solution:\n",
    "        if resource:\n",
    "            return True\n",
    "    return False;"
   ]
  },
  {
   "cell_type": "code",
   "execution_count": 4,
   "id": "breeding-complexity",
   "metadata": {},
   "outputs": [],
   "source": [
    "# implementiracemo pomocne funkcije iz pseudokoda\n",
    "def initialize(numResources):\n",
    "    # pocetno resenje moze da nam bude neki random niz true/false\n",
    "    # UFLP problem psotoji vec mnogo godina i ispostavilo se da 0.5 nije dobar izbor za random\n",
    "    # vec 0.25 (te parametre ce nam dati na ispitu)\n",
    "    solution = [random.random() < 0.25 for _ in range(numResources)]\n",
    "    if not isFeasible(solution):\n",
    "        chosenResource = random.randRange(0, numResources)\n",
    "        solution[chosenResource] = True\n",
    "    return solution"
   ]
  },
  {
   "cell_type": "code",
   "execution_count": 5,
   "id": "noted-heath",
   "metadata": {},
   "outputs": [],
   "source": [
    "# u ovu ocenu resenja treba da uracunamo i cij i fj\n",
    "def calcSolutionValue(solution, cost, fixedCost):\n",
    "    value = 0\n",
    "    numUsers = len(cost)\n",
    "    numResources = len(fixedCost)\n",
    "    \n",
    "    used = [False for _ in range(numResources)]\n",
    "    \n",
    "    for i in range(numUsers):\n",
    "        minCost = float('inf')\n",
    "        resourceUsed = -1\n",
    "        for j in range(numResources):\n",
    "            if solution[j] and cost[i][j] < minCost:  # gledamo cenu samo ako je resurs uspostavljen\n",
    "                minCost = cost[i][j]\n",
    "                resourceUsed = j   # belezimo i kom korisniku je najblizi koji resurs\n",
    "        value += minCost\n",
    "        used[resourceUsed] = True\n",
    "        \n",
    "    # moze se desiti da je npr svim korisnicima najblizi neki resurs, tj\n",
    "    # da neki uopste ne bude iskoriscen, u tom slucaju te resurse treba da izbrisemo (*)\n",
    "    # (a samo za one iskoriscene vrednosti fj treba da figurise u finalnu ocenu)\n",
    "    for i in range(numResources):\n",
    "        if used[i]:\n",
    "            value += fixedCost[i]\n",
    "    \n",
    "    # NOTE: ovde smo uradili los dizajn softvera jer funkc treba da izracuna vrednsot \n",
    "    # a ovde menjamo solution, ali na vezbama nas bas briga za ove stvari i nije bitno previse\n",
    "    # (*) ovako 'kao' brisemo one koji nisu iskorisceni\n",
    "    solution = used\n",
    "    \n",
    "    return value"
   ]
  },
  {
   "cell_type": "code",
   "execution_count": 6,
   "id": "blond-error",
   "metadata": {},
   "outputs": [],
   "source": [
    "# ovde samo pazimo da se ne desi nemoguce resenje, tj da sve resursi budu false\n",
    "# menjamo solution inplace\n",
    "def invert(solution):\n",
    "    chouseResource = random.randrange(0, len(solution))\n",
    "    solution[chosenResource] = not solution[chosenResource]\n",
    "    if isFeasible(solution):\n",
    "        return chosenResource\n",
    "    else:  # ako invertovanje ne uspe vracamo neki nemoguc indeks\n",
    "        solution[chosenResource] = not solution[chosenResource]\n",
    "        return -1"
   ]
  },
  {
   "cell_type": "code",
   "execution_count": 7,
   "id": "statutory-persian",
   "metadata": {},
   "outputs": [],
   "source": [
    "########  onaj kao pseudokod ##########\n",
    "#cost ce nam biti matrica Cij, a fixedCost ce biti fj\n",
    "def localSearch(cost, fixedCost, iters):\n",
    "    solution = initialize(numResources=len(fixedCost))                     \n",
    "    currValue = calcSolutionValue(solution, cost, fixedCost)    \n",
    "    bestValue = currValue\n",
    "    \n",
    "    # neka nam kriterijum zaustavljanja bude broj iteracija\n",
    "    while i in range(iters):\n",
    "        resourceInverted = invert(solution)  # izmena vrednosti\n",
    "        if resourceInverted < 0:\n",
    "            continue\n",
    "        newValue = calcSolutionValue(solution, cost, fixedCost)\n",
    "        \n",
    "        # print(currValue)\n",
    "        # print(newValue)\n",
    "        # print(solution)\n",
    "                \n",
    "        if newValue < currValue: \n",
    "            currValue = newValue\n",
    "            if newValue < bestValue:\n",
    "                bestValue = newValue\n",
    "        else:\n",
    "            # vracamo se na stari solution vrednost ako novi nema bolju ocenu\n",
    "            solution[resourceInverted] = not solution[resourceInverted]\n",
    "            \n",
    "    return bestValue"
   ]
  },
  {
   "cell_type": "code",
   "execution_count": 12,
   "id": "incident-finance",
   "metadata": {},
   "outputs": [],
   "source": [
    "# uflp1.txt\n",
    "# 3 3        # 3 korisnika 3 bolnice  \n",
    "# 1 12 3     # naredna tri reda su amtrica\n",
    "# 2 7 41\n",
    "# 19 21 7\n",
    "# 12 11 13   # fixedCost\n",
    "\n",
    "# NOTE: mrzi me da debagujem, nesto mi ne radi citanje inputa iako isti kod radi kod njega na casu\n",
    "\n",
    "def readInput(filename):\n",
    "    with open(filename, 'r') as f:\n",
    "        numUsers, numResources = [int(x) for x in f.readLine().split()]\n",
    "        cost = [[int(x) for x in f.readLine().split()] for _ in range(numUsers)]\n",
    "        fixedCost = [int(x) for x in f.readLine.split()]\n",
    "        return cost, fixedCost"
   ]
  },
  {
   "cell_type": "code",
   "execution_count": 13,
   "id": "expressed-classroom",
   "metadata": {},
   "outputs": [
    {
     "ename": "AttributeError",
     "evalue": "'_io.TextIOWrapper' object has no attribute 'readLine'",
     "output_type": "error",
     "traceback": [
      "\u001b[1;31m---------------------------------------------------------------------------\u001b[0m",
      "\u001b[1;31mAttributeError\u001b[0m                            Traceback (most recent call last)",
      "\u001b[1;32m<ipython-input-13-e39e93fd6747>\u001b[0m in \u001b[0;36m<module>\u001b[1;34m\u001b[0m\n\u001b[1;32m----> 1\u001b[1;33m \u001b[0mcost\u001b[0m\u001b[1;33m,\u001b[0m \u001b[0mfixedCost\u001b[0m \u001b[1;33m=\u001b[0m \u001b[0mreadInput\u001b[0m\u001b[1;33m(\u001b[0m\u001b[1;34m'uflp1.txt'\u001b[0m\u001b[1;33m)\u001b[0m\u001b[1;33m\u001b[0m\u001b[1;33m\u001b[0m\u001b[0m\n\u001b[0m\u001b[0;32m      2\u001b[0m \u001b[0mcost\u001b[0m\u001b[1;33m\u001b[0m\u001b[1;33m\u001b[0m\u001b[0m\n",
      "\u001b[1;32m<ipython-input-12-ae46f9cfdad3>\u001b[0m in \u001b[0;36mreadInput\u001b[1;34m(filename)\u001b[0m\n\u001b[0;32m     10\u001b[0m \u001b[1;32mdef\u001b[0m \u001b[0mreadInput\u001b[0m\u001b[1;33m(\u001b[0m\u001b[0mfilename\u001b[0m\u001b[1;33m)\u001b[0m\u001b[1;33m:\u001b[0m\u001b[1;33m\u001b[0m\u001b[1;33m\u001b[0m\u001b[0m\n\u001b[0;32m     11\u001b[0m     \u001b[1;32mwith\u001b[0m \u001b[0mopen\u001b[0m\u001b[1;33m(\u001b[0m\u001b[0mfilename\u001b[0m\u001b[1;33m,\u001b[0m \u001b[1;34m'r'\u001b[0m\u001b[1;33m)\u001b[0m \u001b[1;32mas\u001b[0m \u001b[0mf\u001b[0m\u001b[1;33m:\u001b[0m\u001b[1;33m\u001b[0m\u001b[1;33m\u001b[0m\u001b[0m\n\u001b[1;32m---> 12\u001b[1;33m         \u001b[0mnumUsers\u001b[0m\u001b[1;33m,\u001b[0m \u001b[0mnumResources\u001b[0m \u001b[1;33m=\u001b[0m \u001b[1;33m[\u001b[0m\u001b[0mint\u001b[0m\u001b[1;33m(\u001b[0m\u001b[0mx\u001b[0m\u001b[1;33m)\u001b[0m \u001b[1;32mfor\u001b[0m \u001b[0mx\u001b[0m \u001b[1;32min\u001b[0m \u001b[0mf\u001b[0m\u001b[1;33m.\u001b[0m\u001b[0mreadLine\u001b[0m\u001b[1;33m(\u001b[0m\u001b[1;33m)\u001b[0m\u001b[1;33m.\u001b[0m\u001b[0msplit\u001b[0m\u001b[1;33m(\u001b[0m\u001b[1;33m)\u001b[0m\u001b[1;33m]\u001b[0m\u001b[1;33m\u001b[0m\u001b[1;33m\u001b[0m\u001b[0m\n\u001b[0m\u001b[0;32m     13\u001b[0m         \u001b[0mcost\u001b[0m \u001b[1;33m=\u001b[0m \u001b[1;33m[\u001b[0m\u001b[1;33m[\u001b[0m\u001b[0mint\u001b[0m\u001b[1;33m(\u001b[0m\u001b[0mx\u001b[0m\u001b[1;33m)\u001b[0m \u001b[1;32mfor\u001b[0m \u001b[0mx\u001b[0m \u001b[1;32min\u001b[0m \u001b[0mf\u001b[0m\u001b[1;33m.\u001b[0m\u001b[0mreadLine\u001b[0m\u001b[1;33m(\u001b[0m\u001b[1;33m)\u001b[0m\u001b[1;33m.\u001b[0m\u001b[0msplit\u001b[0m\u001b[1;33m(\u001b[0m\u001b[1;33m)\u001b[0m\u001b[1;33m]\u001b[0m \u001b[1;32mfor\u001b[0m \u001b[0m_\u001b[0m \u001b[1;32min\u001b[0m \u001b[0mrange\u001b[0m\u001b[1;33m(\u001b[0m\u001b[0mnumUsers\u001b[0m\u001b[1;33m)\u001b[0m\u001b[1;33m]\u001b[0m\u001b[1;33m\u001b[0m\u001b[1;33m\u001b[0m\u001b[0m\n\u001b[0;32m     14\u001b[0m         \u001b[0mfixedCost\u001b[0m \u001b[1;33m=\u001b[0m \u001b[1;33m[\u001b[0m\u001b[0mint\u001b[0m\u001b[1;33m(\u001b[0m\u001b[0mx\u001b[0m\u001b[1;33m)\u001b[0m \u001b[1;32mfor\u001b[0m \u001b[0mx\u001b[0m \u001b[1;32min\u001b[0m \u001b[0mf\u001b[0m\u001b[1;33m.\u001b[0m\u001b[0mreadLine\u001b[0m\u001b[1;33m.\u001b[0m\u001b[0msplit\u001b[0m\u001b[1;33m(\u001b[0m\u001b[1;33m)\u001b[0m\u001b[1;33m]\u001b[0m\u001b[1;33m\u001b[0m\u001b[1;33m\u001b[0m\u001b[0m\n",
      "\u001b[1;31mAttributeError\u001b[0m: '_io.TextIOWrapper' object has no attribute 'readLine'"
     ]
    }
   ],
   "source": [
    "cost, fixedCost = readInput('uflp1.txt')\n",
    "cost"
   ]
  },
  {
   "cell_type": "code",
   "execution_count": null,
   "id": "stylish-selection",
   "metadata": {},
   "outputs": [],
   "source": [
    "localSearch(cost, fixedCost, 100)"
   ]
  }
 ],
 "metadata": {
  "kernelspec": {
   "display_name": "Python 3",
   "language": "python",
   "name": "python3"
  },
  "language_info": {
   "codemirror_mode": {
    "name": "ipython",
    "version": 3
   },
   "file_extension": ".py",
   "mimetype": "text/x-python",
   "name": "python",
   "nbconvert_exporter": "python",
   "pygments_lexer": "ipython3",
   "version": "3.9.0"
  }
 },
 "nbformat": 4,
 "nbformat_minor": 5
}
