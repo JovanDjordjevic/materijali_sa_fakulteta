{
 "cells": [
  {
   "cell_type": "code",
   "execution_count": 3,
   "id": "satisfactory-ecology",
   "metadata": {},
   "outputs": [],
   "source": [
    "import random\n",
    "\n",
    "# simulirano kaljenje\n",
    "\n",
    "# problem sa lokalnom pretragom je sto je pohlepna i moze da se zaglavi u lokalnom ekstremumu\n",
    "# simulirano kaljenje i svi oni ostali nacini koje smo naveli rposli put su samo ancin da se ovaj problem \n",
    "# popravi\n",
    "\n",
    "# simulirano kaljenje dozvoljava sa nekom verovatnocom da se vratimo nazad u losije resenje\n",
    "# u nadi da cemo da krenemo u dobrom smeru posle"
   ]
  },
  {
   "cell_type": "code",
   "execution_count": null,
   "id": "unique-contest",
   "metadata": {},
   "outputs": [],
   "source": [
    "# koristimo iste pomocne funkcije id proslog primera\n",
    "def isFeasible(solution):\n",
    "    for resource in solution:\n",
    "        if resource:\n",
    "            return True\n",
    "    return False;\n",
    "\n",
    "\n",
    "def initialize(numResources):\n",
    "    solution = [random.random() < 0.25 for _ in range(numResources)]\n",
    "    if not isFeasible(solution):\n",
    "        chosenResource = random.randRange(0, numResources)\n",
    "        solution[chosenResource] = True\n",
    "    return solution\n",
    "\n",
    "\n",
    "def calcSolutionValue(solution, cost, fixedCost):\n",
    "    value = 0\n",
    "    numUsers = len(cost)\n",
    "    numResources = len(fixedCost)\n",
    "    \n",
    "    used = [False for _ in range(numResources)]\n",
    "    \n",
    "    for i in range(numUsers):\n",
    "        minCost = float('inf')\n",
    "        resourceUsed = -1\n",
    "        for j in range(numResources):\n",
    "            if solution[j] and cost[i][j] < minCost:  \n",
    "                minCost = cost[i][j]\n",
    "                resourceUsed = j   \n",
    "        value += minCost\n",
    "        used[resourceUsed] = True\n",
    "        \n",
    "    for i in range(numResources):\n",
    "        if used[i]:\n",
    "            value += fixedCost[i]\n",
    "    \n",
    "    solution = used\n",
    "    return value\n",
    "\n",
    "\n",
    "\n",
    "def invert(solution):\n",
    "    chouseResource = random.randrange(0, len(solution))\n",
    "    solution[chosenResource] = not solution[chosenResource]\n",
    "    if isFeasible(solution):\n",
    "        return chosenResource\n",
    "    else:  \n",
    "        solution[chosenResource] = not solution[chosenResource]\n",
    "        return -1"
   ]
  },
  {
   "cell_type": "code",
   "execution_count": 7,
   "id": "derived-feeling",
   "metadata": {},
   "outputs": [],
   "source": [
    "# slicno kao lokalna pretraga samo se razlikuje else\n",
    "\n",
    "def simulatedAnnealing(cost, fixedCost, iters):\n",
    "    solution = initialize(len(fixedCost))\n",
    "    currValue = calcSolutionValue(solution, cost, fixedCost)\n",
    "    bestValue = currValue\n",
    "                          \n",
    "    for i in range(iters):\n",
    "        invertedResource = invert(solution)\n",
    "        if invertedResource < 0:\n",
    "            continue\n",
    "        newValue = calcSolutionValue(solution, cost, fixedCost)\n",
    "                          \n",
    "        if newValue < currValue:\n",
    "            currValue = newValue\n",
    "            if newValue < bestValue:\n",
    "                bestValue = newValue\n",
    "        else:      # odavde se razlikuje u odnosu na lokalnu pretragu\n",
    "            # hocemo da na pocetku pretrage vecu verovatnocu da se vratimo\n",
    "            p = 1.0 / i ** 0.5    # p je nesto sto se smanjuje kako se broj iteracija povecava\n",
    "            q = urandom.uniform(0,1)   # neki random broj iz normalne raspodele izmedju 0 i 1\n",
    "            # ako je taj random broj manji od necega sto se stalno smanjuje onda prihvatamo novu vrednost \n",
    "            # koja je trenutno losija\n",
    "            if p > q:   \n",
    "                currValue = newValue\n",
    "            else:   # ovaj else ovde je isti kao za lokalnu pretragu\n",
    "                solut[ionpinvertedResource] = not solution[invertedResource]\n",
    "    return bestValue"
   ]
  },
  {
   "cell_type": "code",
   "execution_count": 10,
   "id": "passing-hearts",
   "metadata": {},
   "outputs": [
    {
     "ename": "FileNotFoundError",
     "evalue": "[Errno 2] No such file or directory: 'uflp1.txt'",
     "output_type": "error",
     "traceback": [
      "\u001b[1;31m---------------------------------------------------------------------------\u001b[0m",
      "\u001b[1;31mFileNotFoundError\u001b[0m                         Traceback (most recent call last)",
      "\u001b[1;32m<ipython-input-10-ea5237860543>\u001b[0m in \u001b[0;36m<module>\u001b[1;34m\u001b[0m\n\u001b[0;32m      6\u001b[0m         \u001b[1;32mreturn\u001b[0m \u001b[0mcost\u001b[0m\u001b[1;33m,\u001b[0m \u001b[0mfixedCost\u001b[0m\u001b[1;33m\u001b[0m\u001b[1;33m\u001b[0m\u001b[0m\n\u001b[0;32m      7\u001b[0m \u001b[1;33m\u001b[0m\u001b[0m\n\u001b[1;32m----> 8\u001b[1;33m \u001b[0mcost\u001b[0m\u001b[1;33m,\u001b[0m \u001b[0mfixedCost\u001b[0m \u001b[1;33m=\u001b[0m \u001b[0mreadInput\u001b[0m\u001b[1;33m(\u001b[0m\u001b[1;34m'uflp1.txt'\u001b[0m\u001b[1;33m)\u001b[0m\u001b[1;33m\u001b[0m\u001b[1;33m\u001b[0m\u001b[0m\n\u001b[0m\u001b[0;32m      9\u001b[0m \u001b[1;33m\u001b[0m\u001b[0m\n\u001b[0;32m     10\u001b[0m \u001b[0msimulatedAnnealing\u001b[0m\u001b[1;33m(\u001b[0m\u001b[0mcost\u001b[0m\u001b[1;33m,\u001b[0m \u001b[0mfixedCost\u001b[0m\u001b[1;33m,\u001b[0m \u001b[1;36m100\u001b[0m\u001b[1;33m)\u001b[0m\u001b[1;33m\u001b[0m\u001b[1;33m\u001b[0m\u001b[0m\n",
      "\u001b[1;32m<ipython-input-10-ea5237860543>\u001b[0m in \u001b[0;36mreadInput\u001b[1;34m(filename)\u001b[0m\n\u001b[0;32m      1\u001b[0m \u001b[1;32mdef\u001b[0m \u001b[0mreadInput\u001b[0m\u001b[1;33m(\u001b[0m\u001b[0mfilename\u001b[0m\u001b[1;33m)\u001b[0m\u001b[1;33m:\u001b[0m\u001b[1;33m\u001b[0m\u001b[1;33m\u001b[0m\u001b[0m\n\u001b[1;32m----> 2\u001b[1;33m     \u001b[1;32mwith\u001b[0m \u001b[0mopen\u001b[0m\u001b[1;33m(\u001b[0m\u001b[0mfilename\u001b[0m\u001b[1;33m,\u001b[0m \u001b[1;34m'r'\u001b[0m\u001b[1;33m)\u001b[0m \u001b[1;32mas\u001b[0m \u001b[0mf\u001b[0m\u001b[1;33m:\u001b[0m\u001b[1;33m\u001b[0m\u001b[1;33m\u001b[0m\u001b[0m\n\u001b[0m\u001b[0;32m      3\u001b[0m         \u001b[0mnumUsers\u001b[0m\u001b[1;33m,\u001b[0m \u001b[0mnumResources\u001b[0m \u001b[1;33m=\u001b[0m \u001b[1;33m[\u001b[0m\u001b[0mint\u001b[0m\u001b[1;33m(\u001b[0m\u001b[0mx\u001b[0m\u001b[1;33m)\u001b[0m \u001b[1;32mfor\u001b[0m \u001b[0mx\u001b[0m \u001b[1;32min\u001b[0m \u001b[0mf\u001b[0m\u001b[1;33m.\u001b[0m\u001b[0mreadLine\u001b[0m\u001b[1;33m(\u001b[0m\u001b[1;33m)\u001b[0m\u001b[1;33m.\u001b[0m\u001b[0msplit\u001b[0m\u001b[1;33m(\u001b[0m\u001b[1;33m)\u001b[0m\u001b[1;33m]\u001b[0m\u001b[1;33m\u001b[0m\u001b[1;33m\u001b[0m\u001b[0m\n\u001b[0;32m      4\u001b[0m         \u001b[0mcost\u001b[0m \u001b[1;33m=\u001b[0m \u001b[1;33m[\u001b[0m\u001b[1;33m[\u001b[0m\u001b[0mint\u001b[0m\u001b[1;33m(\u001b[0m\u001b[0mx\u001b[0m\u001b[1;33m)\u001b[0m \u001b[1;32mfor\u001b[0m \u001b[0mx\u001b[0m \u001b[1;32min\u001b[0m \u001b[0mf\u001b[0m\u001b[1;33m.\u001b[0m\u001b[0mreadLine\u001b[0m\u001b[1;33m(\u001b[0m\u001b[1;33m)\u001b[0m\u001b[1;33m.\u001b[0m\u001b[0msplit\u001b[0m\u001b[1;33m(\u001b[0m\u001b[1;33m)\u001b[0m\u001b[1;33m]\u001b[0m \u001b[1;32mfor\u001b[0m \u001b[0m_\u001b[0m \u001b[1;32min\u001b[0m \u001b[0mrange\u001b[0m\u001b[1;33m(\u001b[0m\u001b[0mnumUsers\u001b[0m\u001b[1;33m)\u001b[0m\u001b[1;33m]\u001b[0m\u001b[1;33m\u001b[0m\u001b[1;33m\u001b[0m\u001b[0m\n\u001b[0;32m      5\u001b[0m         \u001b[0mfixedCost\u001b[0m \u001b[1;33m=\u001b[0m \u001b[1;33m[\u001b[0m\u001b[0mint\u001b[0m\u001b[1;33m(\u001b[0m\u001b[0mx\u001b[0m\u001b[1;33m)\u001b[0m \u001b[1;32mfor\u001b[0m \u001b[0mx\u001b[0m \u001b[1;32min\u001b[0m \u001b[0mf\u001b[0m\u001b[1;33m.\u001b[0m\u001b[0mreadLine\u001b[0m\u001b[1;33m.\u001b[0m\u001b[0msplit\u001b[0m\u001b[1;33m(\u001b[0m\u001b[1;33m)\u001b[0m\u001b[1;33m]\u001b[0m\u001b[1;33m\u001b[0m\u001b[1;33m\u001b[0m\u001b[0m\n",
      "\u001b[1;31mFileNotFoundError\u001b[0m: [Errno 2] No such file or directory: 'uflp1.txt'"
     ]
    }
   ],
   "source": [
    "def readInput(filename):\n",
    "    with open(filename, 'r') as f:\n",
    "        numUsers, numResources = [int(x) for x in f.readLine().split()]\n",
    "        cost = [[int(x) for x in f.readLine().split()] for _ in range(numUsers)]\n",
    "        fixedCost = [int(x) for x in f.readLine.split()]\n",
    "        return cost, fixedCost\n",
    "    \n",
    "cost, fixedCost = readInput('uflp1.txt')\n",
    "\n",
    "simulatedAnnealing(cost, fixedCost, 100)"
   ]
  }
 ],
 "metadata": {
  "kernelspec": {
   "display_name": "Python 3",
   "language": "python",
   "name": "python3"
  },
  "language_info": {
   "codemirror_mode": {
    "name": "ipython",
    "version": 3
   },
   "file_extension": ".py",
   "mimetype": "text/x-python",
   "name": "python",
   "nbconvert_exporter": "python",
   "pygments_lexer": "ipython3",
   "version": "3.9.0"
  }
 },
 "nbformat": 4,
 "nbformat_minor": 5
}
