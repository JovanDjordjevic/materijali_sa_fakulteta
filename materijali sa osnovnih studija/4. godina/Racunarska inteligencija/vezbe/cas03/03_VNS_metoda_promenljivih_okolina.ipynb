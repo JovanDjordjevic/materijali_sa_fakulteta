{
 "cells": [
  {
   "cell_type": "code",
   "execution_count": 1,
   "id": "aggregate-credit",
   "metadata": {},
   "outputs": [],
   "source": [
    "import random\n",
    "\n",
    "# VNS - variable neighbourhood search\n",
    "# i ova metoda pokusava da promeni nedostatak lokalne pretrage ali na drugaciji nacin\n",
    "\n",
    "# u lokalnoj pretrazi biramo novo potencijalno resenje iz neke male okoline trenutnog resenja(mala izmena)\n",
    "# ovde postepeno prosirujemo okolone tog potecnijalnog resenja dok ne nadjemo nesto bolje"
   ]
  },
  {
   "cell_type": "code",
   "execution_count": 5,
   "id": "beginning-operation",
   "metadata": {},
   "outputs": [],
   "source": [
    "# koristimo iste pomocne funkcije id proslog primera\n",
    "def isFeasible(solution):\n",
    "    for resource in solution:\n",
    "        if resource:\n",
    "            return True\n",
    "    return False;\n",
    "\n",
    "\n",
    "def initialize(numResources):\n",
    "    solution = [random.random() < 0.25 for _ in range(numResources)]\n",
    "    if not isFeasible(solution):\n",
    "        chosenResource = random.randRange(0, numResources)\n",
    "        solution[chosenResource] = True\n",
    "    return solution\n",
    "\n",
    "\n",
    "def calcSolutionValue(solution, cost, fixedCost):\n",
    "    value = 0\n",
    "    numUsers = len(cost)\n",
    "    numResources = len(fixedCost)\n",
    "    \n",
    "    used = [False for _ in range(numResources)]\n",
    "    \n",
    "    for i in range(numUsers):\n",
    "        minCost = float('inf')\n",
    "        resourceUsed = -1\n",
    "        for j in range(numResources):\n",
    "            if solution[j] and cost[i][j] < minCost:  \n",
    "                minCost = cost[i][j]\n",
    "                resourceUsed = j   \n",
    "        value += minCost\n",
    "        used[resourceUsed] = True\n",
    "        \n",
    "    for i in range(numResources):\n",
    "        if used[i]:\n",
    "            value += fixedCost[i]\n",
    "    \n",
    "    solution = used\n",
    "    return value\n",
    "\n",
    "\n",
    "\n",
    "def invert(solution):\n",
    "    chouseResource = random.randrange(0, len(solution))\n",
    "    solution[chosenResource] = not solution[chosenResource]\n",
    "    if isFeasible(solution):\n",
    "        return chosenResource\n",
    "    else:  \n",
    "        solution[chosenResource] = not solution[chosenResource]\n",
    "        return -1"
   ]
  },
  {
   "cell_type": "code",
   "execution_count": 7,
   "id": "random-lesson",
   "metadata": {},
   "outputs": [],
   "source": [
    "# pomocna funkcija za VNS\n",
    "# u nasem primeru, k-ta okolina znaciti da dozvolimo da se invertuje k \n",
    "# vrednosti u resenju\n",
    "\n",
    "def getNeighbor(solution, k):\n",
    "# ovo u komentaru je lose resenje\n",
    "# problem sa ovim je sto moze da se desi ekstremni slucaj da se svaki put \n",
    "# invertuje isti bit i zato radimo sa sample\n",
    "#     for i in range(k):\n",
    "#         chooseIndex = random.randrange(0, len(solution))\n",
    "#         solution[chosenIndex] = not solution[chosenIndex]\n",
    "    indices = range(len(solution))\n",
    "    to_invert = random.sample(indices, k) \n",
    "    for index in toInvert:\n",
    "        solution[index] = not solution[index]\n",
    "        \n",
    "    # obavezno proverimo da li je dobijeno resenje uopste dopustivo\n",
    "    if isFeasible(solution):\n",
    "        return True, toInvert\n",
    "    else:\n",
    "        # NOTE: na vezbama je vracao ovo toInvert pa onda radio restore u glavnoj funkciji\n",
    "        # ali mzoe samo i ovde umseto komentara da se invertuje opet i to je lepse\n",
    "        return False, toInvert"
   ]
  },
  {
   "cell_type": "code",
   "execution_count": 8,
   "id": "executive-formation",
   "metadata": {},
   "outputs": [],
   "source": [
    "def restore(solution, invertedIndices):\n",
    "    for resource in invertedIndices:\n",
    "        solution[resource] = not solution[resource]"
   ]
  },
  {
   "cell_type": "code",
   "execution_count": 11,
   "id": "conscious-johnston",
   "metadata": {},
   "outputs": [],
   "source": [
    "# VNS ima dosta varijacija, mi ovde radimo RVNS\n",
    "\n",
    "def RVNS(cost, fixedCost, iters, max_k):\n",
    "    solution = initialize(len(fixedCost))\n",
    "    currValue = calcSolutionValue(solution, cost, fixedCost)\n",
    "    bestValue = currValue\n",
    "\n",
    "    for i in range(iters):\n",
    "        k = 0\n",
    "        while k <= max_k:       # testiramo okolone do kaksimalnog dozvoljenog broja\n",
    "            success, invertedIndices = getNeighbor(solution, k)   # neki random sused u k-toj okoloni\n",
    "            if not success:\n",
    "                restore(solution, invertedIndices)\n",
    "                continue\n",
    "            newValue = calcSolutionValue(solution, cost, fixedCost)\n",
    "            if newValue < currValue:\n",
    "                currValue = newValue\n",
    "                if newValue < bestValue:\n",
    "                    bestValue = newValue\n",
    "                break   # mozemo da izadjemo iz unutrasnje petlje iako nismo dosli do max_k ako smo nasli bolje\n",
    "            else:\n",
    "                k += 1\n",
    "                restore(solution, invertedIndices)\n",
    "                \n",
    "\n",
    "    return bestValue\n"
   ]
  },
  {
   "cell_type": "code",
   "execution_count": 12,
   "id": "circular-saturday",
   "metadata": {},
   "outputs": [
    {
     "ename": "FileNotFoundError",
     "evalue": "[Errno 2] No such file or directory: 'uflp1.txt'",
     "output_type": "error",
     "traceback": [
      "\u001b[1;31m---------------------------------------------------------------------------\u001b[0m",
      "\u001b[1;31mFileNotFoundError\u001b[0m                         Traceback (most recent call last)",
      "\u001b[1;32m<ipython-input-12-3f77234b3a4b>\u001b[0m in \u001b[0;36m<module>\u001b[1;34m\u001b[0m\n\u001b[0;32m      6\u001b[0m         \u001b[1;32mreturn\u001b[0m \u001b[0mcost\u001b[0m\u001b[1;33m,\u001b[0m \u001b[0mfixedCost\u001b[0m\u001b[1;33m\u001b[0m\u001b[1;33m\u001b[0m\u001b[0m\n\u001b[0;32m      7\u001b[0m \u001b[1;33m\u001b[0m\u001b[0m\n\u001b[1;32m----> 8\u001b[1;33m \u001b[0mcost\u001b[0m\u001b[1;33m,\u001b[0m \u001b[0mfixedCost\u001b[0m \u001b[1;33m=\u001b[0m \u001b[0mreadInput\u001b[0m\u001b[1;33m(\u001b[0m\u001b[1;34m'uflp1.txt'\u001b[0m\u001b[1;33m)\u001b[0m\u001b[1;33m\u001b[0m\u001b[1;33m\u001b[0m\u001b[0m\n\u001b[0m\u001b[0;32m      9\u001b[0m \u001b[1;33m\u001b[0m\u001b[0m\n\u001b[0;32m     10\u001b[0m \u001b[0mRVNS\u001b[0m\u001b[1;33m(\u001b[0m\u001b[0mcost\u001b[0m\u001b[1;33m,\u001b[0m \u001b[0mfixedCost\u001b[0m\u001b[1;33m,\u001b[0m \u001b[1;36m10\u001b[0m\u001b[1;33m,\u001b[0m \u001b[1;36m2\u001b[0m\u001b[1;33m)\u001b[0m\u001b[1;33m\u001b[0m\u001b[1;33m\u001b[0m\u001b[0m\n",
      "\u001b[1;32m<ipython-input-12-3f77234b3a4b>\u001b[0m in \u001b[0;36mreadInput\u001b[1;34m(filename)\u001b[0m\n\u001b[0;32m      1\u001b[0m \u001b[1;32mdef\u001b[0m \u001b[0mreadInput\u001b[0m\u001b[1;33m(\u001b[0m\u001b[0mfilename\u001b[0m\u001b[1;33m)\u001b[0m\u001b[1;33m:\u001b[0m\u001b[1;33m\u001b[0m\u001b[1;33m\u001b[0m\u001b[0m\n\u001b[1;32m----> 2\u001b[1;33m     \u001b[1;32mwith\u001b[0m \u001b[0mopen\u001b[0m\u001b[1;33m(\u001b[0m\u001b[0mfilename\u001b[0m\u001b[1;33m,\u001b[0m \u001b[1;34m'r'\u001b[0m\u001b[1;33m)\u001b[0m \u001b[1;32mas\u001b[0m \u001b[0mf\u001b[0m\u001b[1;33m:\u001b[0m\u001b[1;33m\u001b[0m\u001b[1;33m\u001b[0m\u001b[0m\n\u001b[0m\u001b[0;32m      3\u001b[0m         \u001b[0mnumUsers\u001b[0m\u001b[1;33m,\u001b[0m \u001b[0mnumResources\u001b[0m \u001b[1;33m=\u001b[0m \u001b[1;33m[\u001b[0m\u001b[0mint\u001b[0m\u001b[1;33m(\u001b[0m\u001b[0mx\u001b[0m\u001b[1;33m)\u001b[0m \u001b[1;32mfor\u001b[0m \u001b[0mx\u001b[0m \u001b[1;32min\u001b[0m \u001b[0mf\u001b[0m\u001b[1;33m.\u001b[0m\u001b[0mreadLine\u001b[0m\u001b[1;33m(\u001b[0m\u001b[1;33m)\u001b[0m\u001b[1;33m.\u001b[0m\u001b[0msplit\u001b[0m\u001b[1;33m(\u001b[0m\u001b[1;33m)\u001b[0m\u001b[1;33m]\u001b[0m\u001b[1;33m\u001b[0m\u001b[1;33m\u001b[0m\u001b[0m\n\u001b[0;32m      4\u001b[0m         \u001b[0mcost\u001b[0m \u001b[1;33m=\u001b[0m \u001b[1;33m[\u001b[0m\u001b[1;33m[\u001b[0m\u001b[0mint\u001b[0m\u001b[1;33m(\u001b[0m\u001b[0mx\u001b[0m\u001b[1;33m)\u001b[0m \u001b[1;32mfor\u001b[0m \u001b[0mx\u001b[0m \u001b[1;32min\u001b[0m \u001b[0mf\u001b[0m\u001b[1;33m.\u001b[0m\u001b[0mreadLine\u001b[0m\u001b[1;33m(\u001b[0m\u001b[1;33m)\u001b[0m\u001b[1;33m.\u001b[0m\u001b[0msplit\u001b[0m\u001b[1;33m(\u001b[0m\u001b[1;33m)\u001b[0m\u001b[1;33m]\u001b[0m \u001b[1;32mfor\u001b[0m \u001b[0m_\u001b[0m \u001b[1;32min\u001b[0m \u001b[0mrange\u001b[0m\u001b[1;33m(\u001b[0m\u001b[0mnumUsers\u001b[0m\u001b[1;33m)\u001b[0m\u001b[1;33m]\u001b[0m\u001b[1;33m\u001b[0m\u001b[1;33m\u001b[0m\u001b[0m\n\u001b[0;32m      5\u001b[0m         \u001b[0mfixedCost\u001b[0m \u001b[1;33m=\u001b[0m \u001b[1;33m[\u001b[0m\u001b[0mint\u001b[0m\u001b[1;33m(\u001b[0m\u001b[0mx\u001b[0m\u001b[1;33m)\u001b[0m \u001b[1;32mfor\u001b[0m \u001b[0mx\u001b[0m \u001b[1;32min\u001b[0m \u001b[0mf\u001b[0m\u001b[1;33m.\u001b[0m\u001b[0mreadLine\u001b[0m\u001b[1;33m.\u001b[0m\u001b[0msplit\u001b[0m\u001b[1;33m(\u001b[0m\u001b[1;33m)\u001b[0m\u001b[1;33m]\u001b[0m\u001b[1;33m\u001b[0m\u001b[1;33m\u001b[0m\u001b[0m\n",
      "\u001b[1;31mFileNotFoundError\u001b[0m: [Errno 2] No such file or directory: 'uflp1.txt'"
     ]
    }
   ],
   "source": [
    "def readInput(filename):\n",
    "    with open(filename, 'r') as f:\n",
    "        numUsers, numResources = [int(x) for x in f.readLine().split()]\n",
    "        cost = [[int(x) for x in f.readLine().split()] for _ in range(numUsers)]\n",
    "        fixedCost = [int(x) for x in f.readLine.split()]\n",
    "        return cost, fixedCost\n",
    "    \n",
    "cost, fixedCost = readInput('uflp1.txt')\n",
    "\n",
    "# pazimo samo kada biramo max_k da bude validno, npr ovde bi za 4 pukao program zbog velisine\n",
    "# samog resenja, a i 3 nam je nekako previse\n",
    "RVNS(cost, fixedCost, 10, 2)"
   ]
  }
 ],
 "metadata": {
  "kernelspec": {
   "display_name": "Python 3",
   "language": "python",
   "name": "python3"
  },
  "language_info": {
   "codemirror_mode": {
    "name": "ipython",
    "version": 3
   },
   "file_extension": ".py",
   "mimetype": "text/x-python",
   "name": "python",
   "nbconvert_exporter": "python",
   "pygments_lexer": "ipython3",
   "version": "3.9.0"
  }
 },
 "nbformat": 4,
 "nbformat_minor": 5
}
