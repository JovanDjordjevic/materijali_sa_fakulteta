{
 "cells": [
  {
   "cell_type": "code",
   "execution_count": null,
   "id": "equivalent-invention",
   "metadata": {},
   "outputs": [],
   "source": [
    "import numpy as np"
   ]
  },
  {
   "cell_type": "code",
   "execution_count": null,
   "id": "revolutionary-pierce",
   "metadata": {},
   "outputs": [],
   "source": [
    "# osnovna struktura u numpyju je ovaj array, moze biti visedimenzioni\n",
    "A = np.array( [[1,2,3], [4,5,6]] )"
   ]
  },
  {
   "cell_type": "code",
   "execution_count": null,
   "id": "legal-omaha",
   "metadata": {},
   "outputs": [],
   "source": [
    "# oblik matrice (redova, kolona)\n",
    "A.shape"
   ]
  },
  {
   "cell_type": "code",
   "execution_count": null,
   "id": "prompt-finnish",
   "metadata": {},
   "outputs": [],
   "source": [
    "# jedinicna matrica, ne moramo da prosledimo 2 dimenzije jer je jedinicna kvadratna\n",
    "E = np.eye(5)\n",
    "print(E)"
   ]
  },
  {
   "cell_type": "code",
   "execution_count": null,
   "id": "buried-broadway",
   "metadata": {},
   "outputs": [],
   "source": [
    "# matrica u kojoj su samo nule\n",
    "# videcemo u dokumentaciji da se cesto za oblike traze tuplovi u funkcijama\n",
    "#, pa pazimo da argumenti budu (x,y...) u zagradama\n",
    "np.zeros((2,3))\n",
    "\n",
    "# matrica gde su sve jedeinice\n",
    "ones = np.ones((2,3))"
   ]
  },
  {
   "cell_type": "code",
   "execution_count": null,
   "id": "naked-budget",
   "metadata": {},
   "outputs": [],
   "source": [
    "# mozemo celu matricu da mnozimo nekim skalarom, desava se \"broadcasting\", tj tim skalarom se mnoze\n",
    "# svi elementi (moze i deljenje)\n",
    "-1 * ones"
   ]
  },
  {
   "cell_type": "code",
   "execution_count": null,
   "id": "existing-darwin",
   "metadata": {},
   "outputs": [],
   "source": [
    "# slicno i za sabiranje/oduzimanje, broj se dodaje na svaki element matrice\n",
    "5 + ones"
   ]
  },
  {
   "cell_type": "code",
   "execution_count": null,
   "id": "subsequent-latter",
   "metadata": {},
   "outputs": [],
   "source": [
    "v = np.array([1,2,3])\n",
    "\n",
    "# mozemo da sabiramo i neki vektor i matricu (ako se poklapa dimenzija!), videcemo da \n",
    "# se sabira vektor sa svakim redom u matrici\n",
    "ones + v"
   ]
  },
  {
   "cell_type": "code",
   "execution_count": null,
   "id": "theoretical-partnership",
   "metadata": {},
   "outputs": [],
   "source": [
    "# sinus od svakog elementa u matrici, slicno ima cos, log...\n",
    "np.sin(A)"
   ]
  },
  {
   "cell_type": "code",
   "execution_count": null,
   "id": "furnished-pizza",
   "metadata": {},
   "outputs": [],
   "source": [
    "B = np.array( [[1,2,1], [2,2,3], [4,5,5]] )\n",
    "B.shape"
   ]
  },
  {
   "cell_type": "code",
   "execution_count": null,
   "id": "miniature-reggae",
   "metadata": {},
   "outputs": [],
   "source": [
    "# moslili bismo da je ovo mnozenje matrica, ali nije. Ovo je isto pokusaj broadcastinga, gde ce\n",
    "# se mnoziti elementi na istim pozicijama. Ovo sto smo napisali ce javiti gresku zato sto\n",
    "# se ne poklapaju dimenzije. \n",
    "A * B"
   ]
  },
  {
   "cell_type": "code",
   "execution_count": null,
   "id": "sophisticated-relay",
   "metadata": {},
   "outputs": [],
   "source": [
    "# ovo je zapravo mnozenje matrica na koje smo navikli. Ovde moramo isto da pazimo na dimenzije\n",
    "A.dot(B)"
   ]
  },
  {
   "cell_type": "code",
   "execution_count": null,
   "id": "seven-dryer",
   "metadata": {},
   "outputs": [],
   "source": [
    "# pristup elementima\n",
    "B[0] # vraca ceo red\n",
    "\n",
    "B[0][0]  # ova 2\n",
    "B[0, 0]  # su ista stvar u numpy"
   ]
  },
  {
   "cell_type": "code",
   "execution_count": null,
   "id": "earned-accordance",
   "metadata": {},
   "outputs": [],
   "source": [
    "# mozemo i ono sa : na sta smo navikli u opajtonu\n",
    "v = B[:, 0]  # ovo daje array\n",
    "v"
   ]
  },
  {
   "cell_type": "code",
   "execution_count": null,
   "id": "brilliant-baptist",
   "metadata": {},
   "outputs": [],
   "source": [
    "v = np.array([1,2,3,4,5,6,7])\n",
    "v[::2] # od pocetka do kraja sa korakom 2"
   ]
  },
  {
   "cell_type": "code",
   "execution_count": null,
   "id": "useful-respondent",
   "metadata": {},
   "outputs": [],
   "source": [
    "# korak moze da bude i negativan i dobijamo nacin za obrtanje niza\n",
    "v[::-1]"
   ]
  },
  {
   "cell_type": "code",
   "execution_count": null,
   "id": "olive-federation",
   "metadata": {},
   "outputs": [],
   "source": []
  },
  {
   "cell_type": "code",
   "execution_count": null,
   "id": "political-commissioner",
   "metadata": {},
   "outputs": [],
   "source": []
  },
  {
   "cell_type": "code",
   "execution_count": null,
   "id": "employed-lingerie",
   "metadata": {},
   "outputs": [],
   "source": [
    "from numpy import linalg as LA"
   ]
  },
  {
   "cell_type": "code",
   "execution_count": null,
   "id": "funky-forge",
   "metadata": {},
   "outputs": [],
   "source": [
    "# determinanta (samo od kvadratne matrice)\n",
    "LA.det(B)"
   ]
  },
  {
   "cell_type": "code",
   "execution_count": null,
   "id": "violent-dubai",
   "metadata": {},
   "outputs": [],
   "source": [
    "# determinanta gde su sve jedinice je =0 jer su kolone linerano zavisne (?), nebitno\n",
    "LA.det(np.ones((2,2)))"
   ]
  },
  {
   "cell_type": "code",
   "execution_count": null,
   "id": "visible-twelve",
   "metadata": {},
   "outputs": [],
   "source": [
    "# inverz matrice\n",
    "LA.inv(B)"
   ]
  },
  {
   "cell_type": "code",
   "execution_count": null,
   "id": "powered-cigarette",
   "metadata": {},
   "outputs": [],
   "source": [
    "# norma vektora\n",
    "LA.norm(v)"
   ]
  },
  {
   "cell_type": "code",
   "execution_count": null,
   "id": "generous-stock",
   "metadata": {},
   "outputs": [],
   "source": [
    "# norma matrice, opcioni argument otd je tip norme, ima ona beskonacna, Lp norma...\n",
    "# neka frobeniusova norma (?) koja se kao racuna isto kao norma za vektor (?)\n",
    "LA.norm(B, ord='fro')"
   ]
  },
  {
   "cell_type": "code",
   "execution_count": null,
   "id": "municipal-phrase",
   "metadata": {},
   "outputs": [],
   "source": [
    "# uslobvljenost matrice. To je norma matrice * norma inverza\n",
    "# neki problem je lose uslovljen ako se za malu promenu ulaza mnogo promeni izlaz (npr vremensksa prognoza)\n",
    "# za matrice koje nisu invertibilne, ova racunica ce dati bas ogroman broj, efektivno beskonacno\n",
    "LA.cond(B)\n",
    "\n",
    "# ova provera ce biti False, dobice se malkice drugaciji broj zbog zapisivanja brojeva u racunaru, ali to je to\n",
    "LA.norm(B) * LA.norm(LA.inv(B)) == LA.cond(B)\n",
    "\n",
    "# evo primer neke amtrice kojoj je inverz nestabilan, tj dace se veliki broj za cond\n",
    "LA.cond(np.array([[1,1], [1,0.999]]))"
   ]
  },
  {
   "cell_type": "code",
   "execution_count": null,
   "id": "impressed-heart",
   "metadata": {},
   "outputs": [],
   "source": [
    "# A * x = lambda * x\n",
    "# sopstveni vektori su oni koji ne promene pravac (mogu da promene smer) kada se na njih primeni neka matrica\n",
    "# ovako racunamo sopstvene vrednosti i sopstvene vektore \n",
    "LA.eig(B)"
   ]
  },
  {
   "cell_type": "code",
   "execution_count": null,
   "id": "flush-andrew",
   "metadata": {},
   "outputs": [],
   "source": [
    "\n"
   ]
  },
  {
   "cell_type": "code",
   "execution_count": null,
   "id": "difficult-vault",
   "metadata": {},
   "outputs": [],
   "source": []
  },
  {
   "cell_type": "code",
   "execution_count": null,
   "id": "prostate-possible",
   "metadata": {},
   "outputs": [],
   "source": [
    "# linearna regresija\n",
    "\n",
    "# izvodio je na drugom casu neku matematiu, na kraju smo dobili neki Mur-Penrouzov pseudo inverz\n",
    "# to je kao jedina formula koju bi trebalo da zapamtimo (?)"
   ]
  },
  {
   "cell_type": "code",
   "execution_count": null,
   "id": "abroad-oriental",
   "metadata": {},
   "outputs": [],
   "source": [
    "# sistem Ax = b\n",
    "A = np.array([[2,0], [-1,1], [0,2]])\n",
    "b = np.array([2,0,-2])"
   ]
  },
  {
   "cell_type": "code",
   "execution_count": null,
   "id": "decent-declaration",
   "metadata": {},
   "outputs": [],
   "source": [
    "#Mur-Penrouza mozemo da korsitimo npr za resavanje sistema jednacina, direktno ovde primenjujemo formulu\n",
    "\n",
    "# transponovanje u numpyju je .T\n",
    "x = LA.inv(A.T.dot(A)).dot(A.T).dot(b)\n",
    "x"
   ]
  },
  {
   "cell_type": "code",
   "execution_count": null,
   "id": "inner-tourist",
   "metadata": {},
   "outputs": [],
   "source": [
    "# imamo i ugradjenu funkciju koja radi sve ovo, tj koja primenjuje formulu koju smo rucno pisali iznad\n",
    "# lstsq je skraceno od list squares (?) zove se tako zato sto (?)\n",
    "# ovaj rcond parametar smo prosledili zato sto (?)\n",
    "# ova funkcija vraca vektor koji je resenje, suma reziduala(?) (ukupna greska (?))\n",
    "# , rang matrice A i singularne vrednosti matrice A (ta poseldnja dva nas i ne zanimaju uglavnom) pa mozemo da ih ignorisemo \n",
    "LA.lstsq(A, b, rcond=None)"
   ]
  },
  {
   "cell_type": "code",
   "execution_count": null,
   "id": "ranking-moore",
   "metadata": {},
   "outputs": [],
   "source": []
  },
  {
   "cell_type": "code",
   "execution_count": null,
   "id": "eastern-consumption",
   "metadata": {},
   "outputs": [],
   "source": [
    "# Zadatak1: odrediti koeficijente w0 i w1 tako da funkcija f(x) = w2+ w1x us mislu metode najamnjih \n",
    "# kvadrata najbolje aproksimira skup tacaka (0, 1.2), (0.5, 2.05), (1, 2.9) i (-0.5, 0.1) u ravni"
   ]
  },
  {
   "cell_type": "code",
   "execution_count": null,
   "id": "buried-december",
   "metadata": {},
   "outputs": [],
   "source": [
    "x = np.array([0, 0.5, 1, -0.5]) # vektor prvih koordinata tacaka\n",
    "y = np.array([1.2, 2.05, 2.9, 0.1]) # vektor drugih koordianta tacaka\n",
    "\n",
    "# hocemo da Aw  = x0 + w1x, tj da ima jwednu kolonu gde su jedinice i jednu kolonu gde je x\n",
    "ones = np.ones(4)\n",
    "# vstack (vertical stack), ovim dobijamo prvi red jedinica i onda ispod matricu, a nama treba prva kolona\n",
    "# da budu jedinice ap mozemo da transponujemo\n",
    "A = np.vstack((ones, x)).T\n",
    "\n",
    "LA.lstsq(A, y, rcond=None)"
   ]
  },
  {
   "cell_type": "code",
   "execution_count": null,
   "id": "original-august",
   "metadata": {},
   "outputs": [],
   "source": [
    "# Zadatak2: odrediti vrednosti koeficijenata a i b tako da funkcija f(x) = a+bsinx u smislu metode najmanjih\n",
    "#kvadrata aproskimira skup tacaka (2, 2.6) , (-1.22, -1.7), (8.32, 2.5), (4.32, -1.6). Dati ocenu greske.\n",
    "# Prikazati skup tacaka i nacrtati rezultujucu funkciju"
   ]
  },
  {
   "cell_type": "code",
   "execution_count": null,
   "id": "synthetic-abortion",
   "metadata": {},
   "outputs": [],
   "source": [
    "x = np.array([2, -1.22, 8.32, 4.32]) \n",
    "y = np.array([2.6, -1.7, 2.5, -1.6]) \n",
    "\n",
    "ones = np.ones(4)\n",
    "A = np.vstack((ones, np.sin(x))).T\n",
    "\n",
    "solution, rss, _, _ = LA.lstsq(A, y, rcond=None)\n",
    "a, b = solution\n",
    "print(a,b)\n",
    "\n",
    "# crtanje\n",
    "from matplotlib import pyplot as plt\n",
    "xs = np.linspace(-5, 10, 100)\n",
    "plt.plot(xs, a + b*np.sin(xs))\n",
    "plt.plot(x, y, 'o')\n",
    "plt.show()"
   ]
  },
  {
   "cell_type": "code",
   "execution_count": null,
   "id": "instructional-daniel",
   "metadata": {},
   "outputs": [],
   "source": [
    "# Zadatak3: u datoceci social_reach.csv se nalaze cene reklamiranja za razlicite demografske gtupe, koje su date u hiljadama \n",
    "# evra za 1000 pregleda. Svaka od tri kolone oznacava razlicitu platformu za reklamiranje (facebook, instagram, yt)\n",
    "# Svaki red oznacava razlicitu demografsku grupu, koja moze biti posebna drzava u kojoj se reklama plasira. Potrebno \n",
    "# je odrediti iznos srestava da se ostvari priblizno milion pregleda za svaku demografsku grupu, gledajuci po\n",
    "# svim platformama ukupno"
   ]
  },
  {
   "cell_type": "code",
   "execution_count": null,
   "id": "assigned-break",
   "metadata": {},
   "outputs": [],
   "source": [
    "import pandas as pd\n",
    "\n",
    "df = pd.read_csv('social_reach.csv')\n",
    "print(df)\n",
    "\n",
    "y = 1000 * np.ones(10)\n",
    "\n",
    "A = df[['web1', 'web2', 'web3']]\n",
    "\n",
    "LA.lstsq(A, y, rcond=None)\n",
    "# tumacenje resenja je da treba najvise da ulazemo u youtube"
   ]
  },
  {
   "cell_type": "code",
   "execution_count": null,
   "id": "alpine-imperial",
   "metadata": {},
   "outputs": [],
   "source": [
    "#Zadatak4: Svaki red u fajlu advertising.csv sadrzi infomacije o cenama u hiljadama dolara reklamnih usluga \n",
    "# na odredjenom trzistu. Prva kolona se odnosi na cene reklamiranja na televiziji, druga na radiju,  a treca \n",
    "# u novinama. Cetvrta kolona se odnosu na ukupnu prodaju proizvoda koji su se reklamirali na datim medijima.\n",
    "#Kreirati linearni model koji predvidja prodaju na osnovu reklamiranja"
   ]
  },
  {
   "cell_type": "code",
   "execution_count": null,
   "id": "better-immunology",
   "metadata": {},
   "outputs": [],
   "source": [
    "from sklearn import linear_model\n",
    "from sklearn.model_selection import train_test_split\n",
    "import pandas as pd\n",
    "from matplotlib import pyplot as plt\n",
    "\n",
    "df = pd.read_csv('advertising.csv')\n",
    "df.head()"
   ]
  },
  {
   "cell_type": "code",
   "execution_count": null,
   "id": "knowing-passport",
   "metadata": {},
   "outputs": [],
   "source": [
    "# ciljna promenljiva u cetvrtoj koloni je neki realan broj tako da korsitimo linearnu regresiju\n",
    "\n",
    "# prvo sto mozemo da proverimo je da li postoji neka korelacija medju atributima, tj da li mozda\n",
    "# mozemo neku kolonu da izbacimo iz modela\n",
    "# npr ovde kad plotujemo, vidi se da kako raste jedno, raste i drugo\n",
    "tv = df['TV']\n",
    "sales = df['Sales']\n",
    "plt.scatter(tv, sales)"
   ]
  },
  {
   "cell_type": "code",
   "execution_count": null,
   "id": "painful-surprise",
   "metadata": {},
   "outputs": [],
   "source": [
    "# na ovom grafiku vidimo da je malo razbacanije nego na proslom\n",
    "radio = df['Radio']\n",
    "plt.scatter(radio, sales)"
   ]
  },
  {
   "cell_type": "code",
   "execution_count": null,
   "id": "junior-trustee",
   "metadata": {},
   "outputs": [],
   "source": [
    "# na ovom grafiku vidimo da je jos razbacnaije, ovo nam lici da nema neke jasne korelacije\n",
    "# izmednju atributa newspaper i ciljne kolone sales\n",
    "newspaper = df['Newspaper']\n",
    "plt.scatter(newspaper, sales)"
   ]
  },
  {
   "cell_type": "code",
   "execution_count": null,
   "id": "imported-caribbean",
   "metadata": {},
   "outputs": [],
   "source": [
    "# Vrlo je moguce da mi na osnovu ovakvih grafika mozemo da se zavaramo. Moze se desiti da\n",
    "# kombinacija 2 atributa bude korelisana sa ciljnom promenljivom iako jedan sam atribut nije korelisan\n",
    "# npr ovde bi nam newspoaper izgledao nepozeljno, ali hipoteticki mogao je da zajedno sa npr radio kolonom\n",
    "# bude korelisan\n",
    "# Mi u ovom primeru ne izbacujemo nijednu kolonu"
   ]
  },
  {
   "cell_type": "code",
   "execution_count": null,
   "id": "basic-interface",
   "metadata": {},
   "outputs": [],
   "source": [
    "X_train, X_test, y_train, y_test = train_test_split(X, y, test_size=0.3)"
   ]
  },
  {
   "cell_type": "code",
   "execution_count": null,
   "id": "golden-accused",
   "metadata": {},
   "outputs": [],
   "source": [
    "model = linear_model.LinearRegression()\n",
    "model.fit(X_train, y_train)"
   ]
  },
  {
   "cell_type": "code",
   "execution_count": null,
   "id": "prime-knife",
   "metadata": {},
   "outputs": [],
   "source": [
    "# koeficijenti u linearnnom modelu (oni su uz svaki atribut)\n",
    "print(model.coef_)\n",
    "\n",
    "# slobodni clan lienarnog modela\n",
    "print(model.intercept_)\n",
    "\n",
    "# ceo mdoel je oblika\n",
    "# intercept_ + coef[0]*TV + coef[1]*Radio + coef[2]*Newspaper\n",
    "# na osnovu koeficijenata moozemo da vidimo koliko koji atribut doprinosi rezultatu (naravno ovo nema smisla\n",
    "# ako podaci nisu na istoj skali, tj da su negde cene u hiljadama dolara a negde u stotinama)"
   ]
  },
  {
   "cell_type": "code",
   "execution_count": null,
   "id": "smooth-plain",
   "metadata": {},
   "outputs": [],
   "source": [
    "# predvidjanje\n",
    "y_predicted = model.predict(X_test)"
   ]
  },
  {
   "cell_type": "code",
   "execution_count": 1,
   "id": "important-civilization",
   "metadata": {},
   "outputs": [
    {
     "ename": "NameError",
     "evalue": "name 'y_test' is not defined",
     "output_type": "error",
     "traceback": [
      "\u001b[1;31m---------------------------------------------------------------------------\u001b[0m",
      "\u001b[1;31mNameError\u001b[0m                                 Traceback (most recent call last)",
      "\u001b[1;32m<ipython-input-1-58eb54970f17>\u001b[0m in \u001b[0;36m<module>\u001b[1;34m\u001b[0m\n\u001b[0;32m      2\u001b[0m \u001b[1;32mfrom\u001b[0m \u001b[0msklearn\u001b[0m\u001b[1;33m.\u001b[0m\u001b[0mmetrics\u001b[0m \u001b[1;32mimport\u001b[0m \u001b[0mmean_absolute_error\u001b[0m\u001b[1;33m,\u001b[0m \u001b[0mmean_squared_error\u001b[0m\u001b[1;33m,\u001b[0m \u001b[0mr2_score\u001b[0m\u001b[1;33m\u001b[0m\u001b[1;33m\u001b[0m\u001b[0m\n\u001b[0;32m      3\u001b[0m \u001b[1;33m\u001b[0m\u001b[0m\n\u001b[1;32m----> 4\u001b[1;33m \u001b[0mprint\u001b[0m\u001b[1;33m(\u001b[0m \u001b[0mmean_squared_error\u001b[0m\u001b[1;33m(\u001b[0m\u001b[0my_test\u001b[0m\u001b[1;33m,\u001b[0m \u001b[0my_predicted\u001b[0m\u001b[1;33m)\u001b[0m \u001b[1;33m)\u001b[0m\u001b[1;33m\u001b[0m\u001b[1;33m\u001b[0m\u001b[0m\n\u001b[0m\u001b[0;32m      5\u001b[0m \u001b[0mprint\u001b[0m\u001b[1;33m(\u001b[0m \u001b[0mr2_score\u001b[0m\u001b[1;33m(\u001b[0m\u001b[0my_test\u001b[0m\u001b[1;33m,\u001b[0m \u001b[0my_predicted\u001b[0m\u001b[1;33m)\u001b[0m \u001b[1;33m)\u001b[0m\u001b[1;33m\u001b[0m\u001b[1;33m\u001b[0m\u001b[0m\n\u001b[0;32m      6\u001b[0m \u001b[0mprint\u001b[0m\u001b[1;33m(\u001b[0m \u001b[0mmean_squared_error\u001b[0m\u001b[1;33m(\u001b[0m\u001b[0my_test\u001b[0m\u001b[1;33m,\u001b[0m \u001b[0my_predicted\u001b[0m\u001b[1;33m)\u001b[0m \u001b[1;33m)\u001b[0m\u001b[1;33m\u001b[0m\u001b[1;33m\u001b[0m\u001b[0m\n",
      "\u001b[1;31mNameError\u001b[0m: name 'y_test' is not defined"
     ]
    }
   ],
   "source": [
    "# ocena modela\n",
    "from sklearn.metrics import mean_absolute_error, mean_squared_error, r2_score\n",
    "\n",
    "print( mean_squared_error(y_test, y_predicted) )\n",
    "print( r2_score(y_test, y_predicted) )\n",
    "print( mean_squared_error(y_test, y_predicted) )"
   ]
  },
  {
   "cell_type": "code",
   "execution_count": null,
   "id": "organizational-hollow",
   "metadata": {},
   "outputs": [],
   "source": [
    "from sklearn.model_seleciton import cross_val_score\n",
    "\n",
    "# jos jedan nacin da ocenimo model, koristeci unakrsnu validaciju\n",
    "# ovde smo stavili cv=5, i ono sto ce nam se ispisati je ocena(metrika) za vtih 5 napravljenih modela\n",
    "print( cross_val_score(model, X_train, y_train, cv=5) )"
   ]
  }
 ],
 "metadata": {
  "kernelspec": {
   "display_name": "Python 3",
   "language": "python",
   "name": "python3"
  },
  "language_info": {
   "codemirror_mode": {
    "name": "ipython",
    "version": 3
   },
   "file_extension": ".py",
   "mimetype": "text/x-python",
   "name": "python",
   "nbconvert_exporter": "python",
   "pygments_lexer": "ipython3",
   "version": "3.9.0"
  }
 },
 "nbformat": 4,
 "nbformat_minor": 5
}
