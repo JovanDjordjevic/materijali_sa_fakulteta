{
 "cells": [
  {
   "cell_type": "code",
   "execution_count": 1,
   "id": "053636de",
   "metadata": {},
   "outputs": [],
   "source": [
    "from sklearn import datasets\n",
    "from sklearn.model_selection import train_test_split\n",
    "from sklearn.preprocessing import StandardScaler"
   ]
  },
  {
   "cell_type": "code",
   "execution_count": 2,
   "id": "0d43fa00",
   "metadata": {},
   "outputs": [],
   "source": [
    "# koristicemo neki  ugradjen dataset iz sklearn\n",
    "data = datasets.load_breast_cancer()"
   ]
  },
  {
   "cell_type": "code",
   "execution_count": 3,
   "id": "8b1df349",
   "metadata": {},
   "outputs": [
    {
     "name": "stdout",
     "output_type": "stream",
     "text": [
      "['mean radius' 'mean texture' 'mean perimeter' 'mean area'\n",
      " 'mean smoothness' 'mean compactness' 'mean concavity'\n",
      " 'mean concave points' 'mean symmetry' 'mean fractal dimension'\n",
      " 'radius error' 'texture error' 'perimeter error' 'area error'\n",
      " 'smoothness error' 'compactness error' 'concavity error'\n",
      " 'concave points error' 'symmetry error' 'fractal dimension error'\n",
      " 'worst radius' 'worst texture' 'worst perimeter' 'worst area'\n",
      " 'worst smoothness' 'worst compactness' 'worst concavity'\n",
      " 'worst concave points' 'worst symmetry' 'worst fractal dimension']\n",
      "30\n",
      "[[1.799e+01 1.038e+01 1.228e+02 ... 2.654e-01 4.601e-01 1.189e-01]\n",
      " [2.057e+01 1.777e+01 1.329e+02 ... 1.860e-01 2.750e-01 8.902e-02]\n",
      " [1.969e+01 2.125e+01 1.300e+02 ... 2.430e-01 3.613e-01 8.758e-02]\n",
      " ...\n",
      " [1.660e+01 2.808e+01 1.083e+02 ... 1.418e-01 2.218e-01 7.820e-02]\n",
      " [2.060e+01 2.933e+01 1.401e+02 ... 2.650e-01 4.087e-01 1.240e-01]\n",
      " [7.760e+00 2.454e+01 4.792e+01 ... 0.000e+00 2.871e-01 7.039e-02]]\n",
      "(569, 30)\n",
      "[0 0 0 0 0 0 0 0 0 0 0 0 0 0 0 0 0 0 0 1 1 1 0 0 0 0 0 0 0 0 0 0 0 0 0 0 0\n",
      " 1 0 0 0 0 0 0 0 0 1 0 1 1 1 1 1 0 0 1 0 0 1 1 1 1 0 1 0 0 1 1 1 1 0 1 0 0\n",
      " 1 0 1 0 0 1 1 1 0 0 1 0 0 0 1 1 1 0 1 1 0 0 1 1 1 0 0 1 1 1 1 0 1 1 0 1 1\n",
      " 1 1 1 1 1 1 0 0 0 1 0 0 1 1 1 0 0 1 0 1 0 0 1 0 0 1 1 0 1 1 0 1 1 1 1 0 1\n",
      " 1 1 1 1 1 1 1 1 0 1 1 1 1 0 0 1 0 1 1 0 0 1 1 0 0 1 1 1 1 0 1 1 0 0 0 1 0\n",
      " 1 0 1 1 1 0 1 1 0 0 1 0 0 0 0 1 0 0 0 1 0 1 0 1 1 0 1 0 0 0 0 1 1 0 0 1 1\n",
      " 1 0 1 1 1 1 1 0 0 1 1 0 1 1 0 0 1 0 1 1 1 1 0 1 1 1 1 1 0 1 0 0 0 0 0 0 0\n",
      " 0 0 0 0 0 0 0 1 1 1 1 1 1 0 1 0 1 1 0 1 1 0 1 0 0 1 1 1 1 1 1 1 1 1 1 1 1\n",
      " 1 0 1 1 0 1 0 1 1 1 1 1 1 1 1 1 1 1 1 1 1 0 1 1 1 0 1 0 1 1 1 1 0 0 0 1 1\n",
      " 1 1 0 1 0 1 0 1 1 1 0 1 1 1 1 1 1 1 0 0 0 1 1 1 1 1 1 1 1 1 1 1 0 0 1 0 0\n",
      " 0 1 0 0 1 1 1 1 1 0 1 1 1 1 1 0 1 1 1 0 1 1 0 0 1 1 1 1 1 1 0 1 1 1 1 1 1\n",
      " 1 0 1 1 1 1 1 0 1 1 0 1 1 1 1 1 1 1 1 1 1 1 1 0 1 0 0 1 0 1 1 1 1 1 0 1 1\n",
      " 0 1 0 1 1 0 1 0 1 1 1 1 1 1 1 1 0 0 1 1 1 1 1 1 0 1 1 1 1 1 1 1 1 1 1 0 1\n",
      " 1 1 1 1 1 1 0 1 0 1 1 0 1 1 1 1 1 0 0 1 0 1 0 1 1 1 1 1 0 1 1 0 1 0 1 0 0\n",
      " 1 1 1 0 1 1 1 1 1 1 1 1 1 1 1 0 1 0 0 1 1 1 1 1 1 1 1 1 1 1 1 1 1 1 1 1 1\n",
      " 1 1 1 1 1 1 1 0 0 0 0 0 0 1]\n",
      "(569,)\n"
     ]
    }
   ],
   "source": [
    "print(data.feature_names)\n",
    "print(len(data.feature_names))\n",
    "print(data.data)\n",
    "print(data.data.shape)\n",
    "print(data.target)         # ono sto treba da se dobije klasifikacijom\n",
    "print(data.target.shape)   # ima isti shape kao i podacie"
   ]
  },
  {
   "cell_type": "code",
   "execution_count": 4,
   "id": "1934e207",
   "metadata": {},
   "outputs": [],
   "source": [
    "X = data.data\n",
    "y = data.target"
   ]
  },
  {
   "cell_type": "code",
   "execution_count": 5,
   "id": "4ba86dd8",
   "metadata": {},
   "outputs": [
    {
     "name": "stdout",
     "output_type": "stream",
     "text": [
      "(398, 30)\n",
      "(171, 30)\n",
      "[1.299e+01 1.423e+01 8.408e+01 5.143e+02 9.462e-02 9.965e-02 3.738e-02\n",
      " 2.098e-02 1.652e-01 7.238e-02 1.814e-01 6.412e-01 9.219e-01 1.441e+01\n",
      " 5.231e-03 2.305e-02 3.113e-02 7.315e-03 1.639e-02 5.701e-03 1.372e+01\n",
      " 1.691e+01 8.738e+01 5.760e+02 1.142e-01 1.975e-01 1.450e-01 5.850e-02\n",
      " 2.432e-01 1.009e-01]\n"
     ]
    }
   ],
   "source": [
    "X_train, X_test, y_train, y_test = train_test_split(X, y, test_size=0.3, random_state=123, stratify=y)\n",
    "print(X_train.shape)\n",
    "print(X_test.shape)\n",
    "print(X_train[0])"
   ]
  },
  {
   "cell_type": "code",
   "execution_count": 6,
   "id": "32b1fbbb",
   "metadata": {},
   "outputs": [
    {
     "name": "stdout",
     "output_type": "stream",
     "text": [
      "[-0.32429881 -1.15003767 -0.32535806 -0.39922626 -0.11821685 -0.07701115\n",
      " -0.65482488 -0.73036996 -0.56187199  1.2723845  -0.77917122 -1.031772\n",
      " -0.92191029 -0.53533519 -0.61481545 -0.13138235 -0.03907495 -0.74175781\n",
      " -0.51696191  0.64582948 -0.5278475  -1.41291056 -0.59099941 -0.53390993\n",
      " -0.79622477 -0.36263373 -0.62895927 -0.86662682 -0.76393673  0.89012251]\n"
     ]
    }
   ],
   "source": [
    "# standardizaciju radimo jer podaci mozda nisu na istoj skali\n",
    "scaler = StandardScaler()\n",
    "scaler.fit(X_train)\n",
    "X_train = scaler.transform(X_train)\n",
    "print(X_train[0])\n",
    "\n",
    "# obavezno kada skaliramo test podatke treba da koristimo siti scaler kao za train, podseti se sa IP\n",
    "X_test = scaler.transform(X_test)"
   ]
  },
  {
   "cell_type": "code",
   "execution_count": 7,
   "id": "1a175ba9",
   "metadata": {},
   "outputs": [
    {
     "name": "stdout",
     "output_type": "stream",
     "text": [
      "Model: \"sequential\"\n",
      "_________________________________________________________________\n",
      " Layer (type)                Output Shape              Param #   \n",
      "=================================================================\n",
      " dense (Dense)               (None, 100)               3100      \n",
      "                                                                 \n",
      " dense_1 (Dense)             (None, 40)                4040      \n",
      "                                                                 \n",
      " dense_2 (Dense)             (None, 1)                 41        \n",
      "                                                                 \n",
      "=================================================================\n",
      "Total params: 7,181\n",
      "Trainable params: 7,181\n",
      "Non-trainable params: 0\n",
      "_________________________________________________________________\n"
     ]
    }
   ],
   "source": [
    "# odavde nadalje radimo neurosnke mreze\n",
    "# od neke (nzm koje) verzije tensorflowa, keras je ukljucen u njega\n",
    "from tensorflow.keras.models import Sequential\n",
    "from tensorflow.keras.layers import Dense\n",
    "\n",
    "# pravimo sekvencijalni model\n",
    "model = Sequential()\n",
    "# i dodajemo mu slojeve, Dense je gusti sloj, tj potpuno povezan sloj\n",
    "# ulaz u sloj treba da bude jedna isntanca iz trening skuopa, tj ta dimnzija\n",
    "# broj neurona u sloju se zadaje sa units, treba da zadamo i aktivacionu funkciju na svakom sloju\n",
    "# takodje primetimo dna grafiku za relu da ona nije diferencijabilna, ali smo u jednoj tacki\n",
    "# tj ne moze bas stvarno da se za nju u svakoj tacki nadje gradijent. Verovatnoca da se bas ubode ta tacka je veoma mala\n",
    "# a cak i da se ubode nije strano jer ce samo u jednom koraku da se izracuna 'pogresno'\n",
    "# ova se cesto koristi zato sto je vrlo jednostavna\n",
    "model.add(Dense(input_dim=X_train.shape[1], units=100, activation='relu'))\n",
    "# input dim mora da se zada samo na prvom sloju, jer je ulaz u drugi izlaz iz prvog i model moze\n",
    "# sam da zakljuci koliko je to\n",
    "model.add(Dense(units=40, activation='relu'))\n",
    "model.add(Dense(units=1, activation='sigmoid'))   # sigmoid koristimo zambianrnu klasifikaciju\n",
    "\n",
    "# opise nam kako izgleda nas model+\n",
    "model.summary()"
   ]
  },
  {
   "cell_type": "code",
   "execution_count": 8,
   "id": "526859a9",
   "metadata": {},
   "outputs": [],
   "source": [
    "# optimizer mozemo da uzmemo adam, to je onaj alg iz gradijetnog spusta koji smo pominjali na nekim vezbama pre\n",
    "# loss je funkcija greske koju krositimo, posto krositimo za binarnu klasifikaciju,\n",
    "# mozemo da krositimo bianrnu krosentropiju, vidi formulu na netu\n",
    "# mtrics je lista metrika koje hocemo da pratimo, npr tacnost\n",
    "model.compile(optimizer='adam', loss='binary_crossentropy', metrics=['accuracy'])"
   ]
  },
  {
   "cell_type": "code",
   "execution_count": 9,
   "id": "1597f95f",
   "metadata": {},
   "outputs": [
    {
     "name": "stdout",
     "output_type": "stream",
     "text": [
      "Epoch 1/20\n",
      "5/5 [==============================] - 0s 27ms/step - loss: 0.6698 - accuracy: 0.5629 - val_loss: 0.5964 - val_accuracy: 0.7250\n",
      "Epoch 2/20\n",
      "5/5 [==============================] - 0s 4ms/step - loss: 0.5330 - accuracy: 0.8302 - val_loss: 0.4733 - val_accuracy: 0.8875\n",
      "Epoch 3/20\n",
      "5/5 [==============================] - 0s 5ms/step - loss: 0.4327 - accuracy: 0.8899 - val_loss: 0.3699 - val_accuracy: 0.9500\n",
      "Epoch 4/20\n",
      "5/5 [==============================] - 0s 4ms/step - loss: 0.3485 - accuracy: 0.9245 - val_loss: 0.2805 - val_accuracy: 0.9625\n",
      "Epoch 5/20\n",
      "5/5 [==============================] - 0s 4ms/step - loss: 0.2781 - accuracy: 0.9277 - val_loss: 0.2098 - val_accuracy: 0.9625\n",
      "Epoch 6/20\n",
      "5/5 [==============================] - 0s 4ms/step - loss: 0.2256 - accuracy: 0.9371 - val_loss: 0.1587 - val_accuracy: 0.9625\n",
      "Epoch 7/20\n",
      "5/5 [==============================] - 0s 5ms/step - loss: 0.1873 - accuracy: 0.9403 - val_loss: 0.1239 - val_accuracy: 0.9625\n",
      "Epoch 8/20\n",
      "5/5 [==============================] - 0s 4ms/step - loss: 0.1604 - accuracy: 0.9434 - val_loss: 0.1002 - val_accuracy: 0.9750\n",
      "Epoch 9/20\n",
      "5/5 [==============================] - 0s 4ms/step - loss: 0.1399 - accuracy: 0.9591 - val_loss: 0.0846 - val_accuracy: 0.9750\n",
      "Epoch 10/20\n",
      "5/5 [==============================] - 0s 4ms/step - loss: 0.1244 - accuracy: 0.9654 - val_loss: 0.0738 - val_accuracy: 0.9750\n",
      "Epoch 11/20\n",
      "5/5 [==============================] - 0s 4ms/step - loss: 0.1125 - accuracy: 0.9748 - val_loss: 0.0661 - val_accuracy: 0.9750\n",
      "Epoch 12/20\n",
      "5/5 [==============================] - 0s 5ms/step - loss: 0.1042 - accuracy: 0.9780 - val_loss: 0.0610 - val_accuracy: 0.9750\n",
      "Epoch 13/20\n",
      "5/5 [==============================] - 0s 5ms/step - loss: 0.0971 - accuracy: 0.9780 - val_loss: 0.0560 - val_accuracy: 0.9750\n",
      "Epoch 14/20\n",
      "5/5 [==============================] - 0s 4ms/step - loss: 0.0911 - accuracy: 0.9811 - val_loss: 0.0516 - val_accuracy: 0.9875\n",
      "Epoch 15/20\n",
      "5/5 [==============================] - 0s 4ms/step - loss: 0.0866 - accuracy: 0.9811 - val_loss: 0.0486 - val_accuracy: 0.9875\n",
      "Epoch 16/20\n",
      "5/5 [==============================] - 0s 4ms/step - loss: 0.0826 - accuracy: 0.9811 - val_loss: 0.0452 - val_accuracy: 0.9875\n",
      "Epoch 17/20\n",
      "5/5 [==============================] - 0s 4ms/step - loss: 0.0792 - accuracy: 0.9811 - val_loss: 0.0421 - val_accuracy: 0.9875\n",
      "Epoch 18/20\n",
      "5/5 [==============================] - 0s 4ms/step - loss: 0.0760 - accuracy: 0.9811 - val_loss: 0.0396 - val_accuracy: 0.9875\n",
      "Epoch 19/20\n",
      "5/5 [==============================] - 0s 4ms/step - loss: 0.0728 - accuracy: 0.9811 - val_loss: 0.0379 - val_accuracy: 0.9875\n",
      "Epoch 20/20\n",
      "5/5 [==============================] - 0s 5ms/step - loss: 0.0704 - accuracy: 0.9843 - val_loss: 0.0362 - val_accuracy: 0.9875\n"
     ]
    }
   ],
   "source": [
    "# pokretanje modela\n",
    "# batch size nam kaze koliko isntanci treba da prodje kroz mrezu pre nego sto se uradi backpropagation i \n",
    "# poprave se tezine (?). Ovo nije dobro da bude =1 za slucaj da je ta jedna isntanca outlier i mozda se ne izracuna\n",
    "# lepo gradijent itd. Nije ni dobro da bude prevelik zato sto bi onda treniranje trajalo previse (?)\n",
    "# ovo verbose=1 kaze da se ispisuje progress dok alg radi (?)\n",
    "\n",
    "# stohasticki gradijentni spust - nesto sto nije pravi gradiejnt ali lici na njega, npr to je neka slucajna promenljiva\n",
    "# koja ima isto ocekivanje kao pravi gradijent, tj u proseku se ponasaju isto (?)\n",
    "# stohastickom gradijentu treba manje vremena da se izracuna sto mu je prednost\n",
    "\n",
    "# mini batch - neki kompromis izmedju pravog i stohastickog gradijenta\n",
    "# to je ovo sto mi koristimo ovde, jer smo stavili size-64 (?)\n",
    "\n",
    "# broj epoha nam kaze koliko puta se prolazi kroz ceo skup podataka (to je jedna epoha)\n",
    "history = model.fit(X_train, y_train, batch_size=64, epochs=20, verbose=1, validation_split=0.2)"
   ]
  },
  {
   "cell_type": "code",
   "execution_count": 10,
   "id": "3eab03dc",
   "metadata": {},
   "outputs": [
    {
     "data": {
      "text/plain": [
       "[<matplotlib.lines.Line2D at 0x221a0030490>]"
      ]
     },
     "execution_count": 10,
     "metadata": {},
     "output_type": "execute_result"
    },
    {
     "data": {
      "image/png": "[encoded data removed]",
      "text/plain": [
       "<Figure size 432x288 with 1 Axes>"
      ]
     },
     "metadata": {
      "needs_background": "light"
     },
     "output_type": "display_data"
    }
   ],
   "source": [
    "# history objekat koji vrati fit ima razne podatke u sebi, moze da se npr koristi za plotovanje\n",
    "# kako se tokom epoha ponasao loss\n",
    "\n",
    "from matplotlib import pyplot as plt\n",
    "\n",
    "epochs = history.epoch\n",
    "plt.plot(epochs, history.history['loss'])\n",
    "plt.plot(epochs, history.history['val_loss'])   # val_los je loss na validacionom skupu, slicno dole za accuracy"
   ]
  },
  {
   "cell_type": "code",
   "execution_count": 11,
   "id": "fc1d50d5",
   "metadata": {},
   "outputs": [
    {
     "data": {
      "text/plain": [
       "[<matplotlib.lines.Line2D at 0x221a2122d60>]"
      ]
     },
     "execution_count": 11,
     "metadata": {},
     "output_type": "execute_result"
    },
    {
     "data": {
      "image/png": "[encoded data removed]",
      "text/plain": [
       "<Figure size 432x288 with 1 Axes>"
      ]
     },
     "metadata": {
      "needs_background": "light"
     },
     "output_type": "display_data"
    }
   ],
   "source": [
    "plt.plot(epochs, history.history['accuracy'])\n",
    "plt.plot(epochs, history.history['val_accuracy'])"
   ]
  },
  {
   "cell_type": "code",
   "execution_count": 12,
   "id": "ba041df1",
   "metadata": {},
   "outputs": [
    {
     "name": "stdout",
     "output_type": "stream",
     "text": [
      "3/3 [==============================] - 0s 1000us/step - loss: 0.0843 - accuracy: 0.9825\n"
     ]
    },
    {
     "data": {
      "text/plain": [
       "[0.0843418538570404, 0.9824561476707458]"
      ]
     },
     "execution_count": 12,
     "metadata": {},
     "output_type": "execute_result"
    }
   ],
   "source": [
    "# sada ocenjujemo kako se ponasa na test skupu\n",
    "model.evaluate(X_test, y_test, batch_size=64)"
   ]
  },
  {
   "cell_type": "code",
   "execution_count": null,
   "id": "8166f3f3",
   "metadata": {},
   "outputs": [],
   "source": []
  },
  {
   "cell_type": "code",
   "execution_count": null,
   "id": "b420fe30",
   "metadata": {},
   "outputs": [],
   "source": []
  },
  {
   "cell_type": "code",
   "execution_count": 13,
   "id": "97e3b315",
   "metadata": {},
   "outputs": [],
   "source": [
    "# recimo da hocemo da raimo regresiju sa neuronskom mrezom\n",
    "from keras.datasets import boston_housing"
   ]
  },
  {
   "cell_type": "code",
   "execution_count": 14,
   "id": "656236e9",
   "metadata": {},
   "outputs": [],
   "source": [
    "(X_train, y_train), (X_test, y_tet) = boston_housing.load_data()"
   ]
  },
  {
   "cell_type": "code",
   "execution_count": 15,
   "id": "e5c2f2ef",
   "metadata": {},
   "outputs": [
    {
     "name": "stdout",
     "output_type": "stream",
     "text": [
      "(404, 13)\n",
      "(171,)\n",
      "[1 1 1 1 0 0 0 1 1 1 0 1 0 0 0 1 0 1 1 1 1 1 0 1 0 1 1 1 1 0 1 0 1 1 1 1 0\n",
      " 1 1 1 1 1 1 0 0 1 1 1 1 1 1 0 1 0 1 1 0 1 1 1 1 1 1 0 1 0 0 0 0 0 1 1 1 1\n",
      " 0 1 0 1 0 0 1 0 0 0 1 0 1 1 0 1 1 1 1 1 1 1 0 0 0 1 0 1 1 0 1 0 0 1 1 0 1\n",
      " 0 0 1 1 1 0 0 0 1 1 1 1 1 0 1 1 0 1 0 0 1 1 1 1 1 1 0 1 1 1 0 0 1 1 1 1 0\n",
      " 1 0 1 0 0 0 1 1 1 0 1 0 1 1 1 0 1 1 0 1 0 1 0]\n",
      "[  1.23247   0.        8.14      0.        0.538     6.142    91.7\n",
      "   3.9769    4.      307.       21.      396.9      18.72   ]\n"
     ]
    }
   ],
   "source": [
    "print(X_train.shape)\n",
    "print(y_test.shape)\n",
    "print(y_test)\n",
    "print(X_train[0])"
   ]
  },
  {
   "cell_type": "code",
   "execution_count": 16,
   "id": "f6cd90fc",
   "metadata": {},
   "outputs": [
    {
     "name": "stdout",
     "output_type": "stream",
     "text": [
      "[-0.27224633 -0.48361547 -0.43576161 -0.25683275 -0.1652266  -0.1764426\n",
      "  0.81306188  0.1166983  -0.62624905 -0.59517003  1.14850044  0.44807713\n",
      "  0.8252202 ]\n"
     ]
    }
   ],
   "source": [
    "scaler = StandardScaler()\n",
    "scaler.fit(X_train)\n",
    "X_train = scaler.transform(X_train)\n",
    "X_test = scaler.transform(X_test)\n",
    "\n",
    "print(X_train[0])"
   ]
  },
  {
   "cell_type": "code",
   "execution_count": 17,
   "id": "e5510306",
   "metadata": {},
   "outputs": [
    {
     "name": "stdout",
     "output_type": "stream",
     "text": [
      "Model: \"sequential_1\"\n",
      "_________________________________________________________________\n",
      " Layer (type)                Output Shape              Param #   \n",
      "=================================================================\n",
      " dense_3 (Dense)             (None, 100)               1400      \n",
      "                                                                 \n",
      " dense_4 (Dense)             (None, 1)                 101       \n",
      "                                                                 \n",
      "=================================================================\n",
      "Total params: 1,501\n",
      "Trainable params: 1,501\n",
      "Non-trainable params: 0\n",
      "_________________________________________________________________\n"
     ]
    }
   ],
   "source": [
    "model = Sequential()\n",
    "model.add(Dense(input_dim=X_train.shape[1], units=100, activation='relu'))\n",
    "# ako ne stavimo aktivacionu funkciju, to samo znaci da ce se bas vratiti izlaz iz sloja\n",
    "model.add(Dense(units=1))\n",
    "\n",
    "model.summary()"
   ]
  },
  {
   "cell_type": "code",
   "execution_count": 18,
   "id": "40bfe0aa",
   "metadata": {},
   "outputs": [],
   "source": [
    "# kada radimo regresiju, mozemod a korsitimo mse-means quared error kao loss funkciju\n",
    "# moze i mae- mean average error\n",
    "model.compile(optimizer='adam', loss='mse', metrics=['mae'])"
   ]
  },
  {
   "cell_type": "code",
   "execution_count": 19,
   "id": "59fcdf76",
   "metadata": {},
   "outputs": [
    {
     "name": "stdout",
     "output_type": "stream",
     "text": [
      "Epoch 1/100\n",
      "3/3 [==============================] - 0s 37ms/step - loss: 580.0728 - mae: 22.3779 - val_loss: 647.0811 - val_mae: 23.7946\n",
      "Epoch 2/100\n",
      "3/3 [==============================] - 0s 8ms/step - loss: 573.2120 - mae: 22.2264 - val_loss: 640.0449 - val_mae: 23.6491\n",
      "Epoch 3/100\n",
      "3/3 [==============================] - 0s 8ms/step - loss: 566.3704 - mae: 22.0763 - val_loss: 633.1327 - val_mae: 23.5061\n",
      "Epoch 4/100\n",
      "3/3 [==============================] - 0s 8ms/step - loss: 559.7792 - mae: 21.9281 - val_loss: 626.2643 - val_mae: 23.3633\n",
      "Epoch 5/100\n",
      "3/3 [==============================] - 0s 8ms/step - loss: 553.1254 - mae: 21.7815 - val_loss: 619.4598 - val_mae: 23.2205\n",
      "Epoch 6/100\n",
      "3/3 [==============================] - 0s 8ms/step - loss: 546.5936 - mae: 21.6345 - val_loss: 612.6585 - val_mae: 23.0769\n",
      "Epoch 7/100\n",
      "3/3 [==============================] - 0s 8ms/step - loss: 540.1505 - mae: 21.4872 - val_loss: 605.9002 - val_mae: 22.9333\n",
      "Epoch 8/100\n",
      "3/3 [==============================] - 0s 8ms/step - loss: 533.3910 - mae: 21.3363 - val_loss: 599.1932 - val_mae: 22.7889\n",
      "Epoch 9/100\n",
      "3/3 [==============================] - 0s 8ms/step - loss: 526.9737 - mae: 21.1872 - val_loss: 592.4124 - val_mae: 22.6429\n",
      "Epoch 10/100\n",
      "3/3 [==============================] - 0s 8ms/step - loss: 520.5309 - mae: 21.0372 - val_loss: 585.5869 - val_mae: 22.4956\n",
      "Epoch 11/100\n",
      "3/3 [==============================] - 0s 8ms/step - loss: 513.7347 - mae: 20.8833 - val_loss: 578.7697 - val_mae: 22.3470\n",
      "Epoch 12/100\n",
      "3/3 [==============================] - 0s 8ms/step - loss: 507.1183 - mae: 20.7293 - val_loss: 571.8472 - val_mae: 22.1955\n",
      "Epoch 13/100\n",
      "3/3 [==============================] - ETA: 0s - loss: 446.9183 - mae: 19.78 - 0s 8ms/step - loss: 500.3995 - mae: 20.5726 - val_loss: 564.8283 - val_mae: 22.0419\n",
      "Epoch 14/100\n",
      "3/3 [==============================] - 0s 8ms/step - loss: 493.7006 - mae: 20.4143 - val_loss: 557.7635 - val_mae: 21.8858\n",
      "Epoch 15/100\n",
      "3/3 [==============================] - 0s 8ms/step - loss: 486.8691 - mae: 20.2539 - val_loss: 550.6282 - val_mae: 21.7272\n",
      "Epoch 16/100\n",
      "3/3 [==============================] - 0s 8ms/step - loss: 480.0537 - mae: 20.0905 - val_loss: 543.3770 - val_mae: 21.5653\n",
      "Epoch 17/100\n",
      "3/3 [==============================] - 0s 8ms/step - loss: 472.9556 - mae: 19.9238 - val_loss: 536.0611 - val_mae: 21.4007\n",
      "Epoch 18/100\n",
      "3/3 [==============================] - 0s 8ms/step - loss: 466.1637 - mae: 19.7562 - val_loss: 528.6245 - val_mae: 21.2321\n",
      "Epoch 19/100\n",
      "3/3 [==============================] - 0s 8ms/step - loss: 458.8885 - mae: 19.5824 - val_loss: 521.1594 - val_mae: 21.0597\n",
      "Epoch 20/100\n",
      "3/3 [==============================] - 0s 8ms/step - loss: 451.8256 - mae: 19.4066 - val_loss: 513.5842 - val_mae: 20.8834\n",
      "Epoch 21/100\n",
      "3/3 [==============================] - 0s 8ms/step - loss: 444.3658 - mae: 19.2247 - val_loss: 505.9966 - val_mae: 20.7047\n",
      "Epoch 22/100\n",
      "3/3 [==============================] - 0s 8ms/step - loss: 437.1661 - mae: 19.0412 - val_loss: 498.2133 - val_mae: 20.5209\n",
      "Epoch 23/100\n",
      "3/3 [==============================] - 0s 8ms/step - loss: 429.6912 - mae: 18.8537 - val_loss: 490.3493 - val_mae: 20.3332\n",
      "Epoch 24/100\n",
      "3/3 [==============================] - 0s 8ms/step - loss: 422.0098 - mae: 18.6622 - val_loss: 482.3664 - val_mae: 20.1416\n",
      "Epoch 25/100\n",
      "3/3 [==============================] - 0s 8ms/step - loss: 414.5290 - mae: 18.4706 - val_loss: 474.2128 - val_mae: 19.9448\n",
      "Epoch 26/100\n",
      "3/3 [==============================] - 0s 8ms/step - loss: 406.9077 - mae: 18.2745 - val_loss: 465.9820 - val_mae: 19.7434\n",
      "Epoch 27/100\n",
      "3/3 [==============================] - 0s 8ms/step - loss: 398.9678 - mae: 18.0715 - val_loss: 457.7066 - val_mae: 19.5381\n",
      "Epoch 28/100\n",
      "3/3 [==============================] - 0s 8ms/step - loss: 391.0418 - mae: 17.8660 - val_loss: 449.3505 - val_mae: 19.3283\n",
      "Epoch 29/100\n",
      "3/3 [==============================] - 0s 8ms/step - loss: 383.2596 - mae: 17.6574 - val_loss: 440.8523 - val_mae: 19.1207\n",
      "Epoch 30/100\n",
      "3/3 [==============================] - 0s 8ms/step - loss: 375.1559 - mae: 17.4423 - val_loss: 432.3338 - val_mae: 18.9094\n",
      "Epoch 31/100\n",
      "3/3 [==============================] - 0s 8ms/step - loss: 367.1382 - mae: 17.2251 - val_loss: 423.7309 - val_mae: 18.6934\n",
      "Epoch 32/100\n",
      "3/3 [==============================] - 0s 8ms/step - loss: 359.1350 - mae: 17.0085 - val_loss: 415.0542 - val_mae: 18.4734\n",
      "Epoch 33/100\n",
      "3/3 [==============================] - 0s 8ms/step - loss: 351.1816 - mae: 16.7878 - val_loss: 406.3734 - val_mae: 18.2497\n",
      "Epoch 34/100\n",
      "3/3 [==============================] - 0s 8ms/step - loss: 342.8141 - mae: 16.5582 - val_loss: 397.7557 - val_mae: 18.0236\n",
      "Epoch 35/100\n",
      "3/3 [==============================] - 0s 8ms/step - loss: 334.6258 - mae: 16.3299 - val_loss: 389.0726 - val_mae: 17.7927\n",
      "Epoch 36/100\n",
      "3/3 [==============================] - 0s 8ms/step - loss: 326.5443 - mae: 16.0957 - val_loss: 380.2641 - val_mae: 17.5556\n",
      "Epoch 37/100\n",
      "3/3 [==============================] - 0s 8ms/step - loss: 318.3041 - mae: 15.8600 - val_loss: 371.3720 - val_mae: 17.3124\n",
      "Epoch 38/100\n",
      "3/3 [==============================] - 0s 8ms/step - loss: 310.3073 - mae: 15.6246 - val_loss: 362.3925 - val_mae: 17.0639\n",
      "Epoch 39/100\n",
      "3/3 [==============================] - 0s 7ms/step - loss: 301.7704 - mae: 15.3840 - val_loss: 353.4851 - val_mae: 16.8122\n",
      "Epoch 40/100\n",
      "3/3 [==============================] - 0s 8ms/step - loss: 293.6212 - mae: 15.1455 - val_loss: 344.5536 - val_mae: 16.5552\n",
      "Epoch 41/100\n",
      "3/3 [==============================] - 0s 8ms/step - loss: 285.4938 - mae: 14.9017 - val_loss: 335.6318 - val_mae: 16.2945\n",
      "Epoch 42/100\n",
      "3/3 [==============================] - 0s 8ms/step - loss: 277.3430 - mae: 14.6551 - val_loss: 326.7245 - val_mae: 16.0296\n",
      "Epoch 43/100\n",
      "3/3 [==============================] - 0s 8ms/step - loss: 269.1736 - mae: 14.4126 - val_loss: 317.8355 - val_mae: 15.7606\n",
      "Epoch 44/100\n",
      "3/3 [==============================] - 0s 8ms/step - loss: 261.2149 - mae: 14.1584 - val_loss: 308.9171 - val_mae: 15.4869\n",
      "Epoch 45/100\n",
      "3/3 [==============================] - 0s 8ms/step - loss: 253.1052 - mae: 13.9065 - val_loss: 300.1318 - val_mae: 15.2110\n",
      "Epoch 46/100\n",
      "3/3 [==============================] - 0s 8ms/step - loss: 245.3331 - mae: 13.6533 - val_loss: 291.4073 - val_mae: 14.9320\n",
      "Epoch 47/100\n",
      "3/3 [==============================] - 0s 8ms/step - loss: 237.4496 - mae: 13.3982 - val_loss: 282.7810 - val_mae: 14.6528\n",
      "Epoch 48/100\n",
      "3/3 [==============================] - 0s 8ms/step - loss: 230.0014 - mae: 13.1472 - val_loss: 274.2116 - val_mae: 14.3711\n",
      "Epoch 49/100\n",
      "3/3 [==============================] - 0s 8ms/step - loss: 222.2840 - mae: 12.8825 - val_loss: 265.8538 - val_mae: 14.0897\n",
      "Epoch 50/100\n",
      "3/3 [==============================] - 0s 7ms/step - loss: 214.9495 - mae: 12.6216 - val_loss: 257.5753 - val_mae: 13.8054\n",
      "Epoch 51/100\n",
      "3/3 [==============================] - 0s 8ms/step - loss: 207.5257 - mae: 12.3581 - val_loss: 249.4308 - val_mae: 13.5191\n",
      "Epoch 52/100\n",
      "3/3 [==============================] - 0s 8ms/step - loss: 200.5679 - mae: 12.1005 - val_loss: 241.3617 - val_mae: 13.2335\n",
      "Epoch 53/100\n",
      "3/3 [==============================] - 0s 8ms/step - loss: 193.3661 - mae: 11.8368 - val_loss: 233.5204 - val_mae: 12.9477\n",
      "Epoch 54/100\n",
      "3/3 [==============================] - 0s 8ms/step - loss: 186.7045 - mae: 11.5832 - val_loss: 225.7787 - val_mae: 12.6588\n",
      "Epoch 55/100\n",
      "3/3 [==============================] - 0s 8ms/step - loss: 180.0134 - mae: 11.3305 - val_loss: 218.2184 - val_mae: 12.3699\n",
      "Epoch 56/100\n",
      "3/3 [==============================] - 0s 8ms/step - loss: 173.5628 - mae: 11.0868 - val_loss: 210.8403 - val_mae: 12.0822\n",
      "Epoch 57/100\n",
      "3/3 [==============================] - 0s 8ms/step - loss: 167.3124 - mae: 10.8516 - val_loss: 203.6380 - val_mae: 11.8071\n",
      "Epoch 58/100\n",
      "3/3 [==============================] - 0s 8ms/step - loss: 161.3796 - mae: 10.6170 - val_loss: 196.6346 - val_mae: 11.5318\n",
      "Epoch 59/100\n",
      "3/3 [==============================] - 0s 7ms/step - loss: 155.3853 - mae: 10.3852 - val_loss: 189.9341 - val_mae: 11.2600\n",
      "Epoch 60/100\n",
      "3/3 [==============================] - 0s 8ms/step - loss: 149.6487 - mae: 10.1626 - val_loss: 183.4499 - val_mae: 10.9892\n",
      "Epoch 61/100\n"
     ]
    },
    {
     "name": "stdout",
     "output_type": "stream",
     "text": [
      "3/3 [==============================] - 0s 7ms/step - loss: 144.5348 - mae: 9.9573 - val_loss: 177.0788 - val_mae: 10.7204\n",
      "Epoch 62/100\n",
      "3/3 [==============================] - 0s 7ms/step - loss: 139.2230 - mae: 9.7444 - val_loss: 170.9669 - val_mae: 10.4827\n",
      "Epoch 63/100\n",
      "3/3 [==============================] - 0s 8ms/step - loss: 134.2169 - mae: 9.5373 - val_loss: 165.0694 - val_mae: 10.2531\n",
      "Epoch 64/100\n",
      "3/3 [==============================] - 0s 7ms/step - loss: 129.2582 - mae: 9.3363 - val_loss: 159.4312 - val_mae: 10.0369\n",
      "Epoch 65/100\n",
      "3/3 [==============================] - 0s 8ms/step - loss: 124.8703 - mae: 9.1533 - val_loss: 153.9365 - val_mae: 9.8314\n",
      "Epoch 66/100\n",
      "3/3 [==============================] - 0s 8ms/step - loss: 120.4274 - mae: 8.9677 - val_loss: 148.6667 - val_mae: 9.6355\n",
      "Epoch 67/100\n",
      "3/3 [==============================] - 0s 8ms/step - loss: 116.1313 - mae: 8.7861 - val_loss: 143.6335 - val_mae: 9.4419\n",
      "Epoch 68/100\n",
      "3/3 [==============================] - 0s 8ms/step - loss: 112.2025 - mae: 8.6224 - val_loss: 138.7635 - val_mae: 9.2489\n",
      "Epoch 69/100\n",
      "3/3 [==============================] - 0s 8ms/step - loss: 108.3845 - mae: 8.4624 - val_loss: 134.1112 - val_mae: 9.0671\n",
      "Epoch 70/100\n",
      "3/3 [==============================] - 0s 7ms/step - loss: 104.6375 - mae: 8.3047 - val_loss: 129.6767 - val_mae: 8.8889\n",
      "Epoch 71/100\n",
      "3/3 [==============================] - 0s 7ms/step - loss: 101.0789 - mae: 8.1432 - val_loss: 125.3774 - val_mae: 8.7116\n",
      "Epoch 72/100\n",
      "3/3 [==============================] - 0s 8ms/step - loss: 97.6782 - mae: 7.9872 - val_loss: 121.1947 - val_mae: 8.5346\n",
      "Epoch 73/100\n",
      "3/3 [==============================] - 0s 7ms/step - loss: 94.5125 - mae: 7.8364 - val_loss: 117.1528 - val_mae: 8.3582\n",
      "Epoch 74/100\n",
      "3/3 [==============================] - 0s 7ms/step - loss: 91.3585 - mae: 7.6961 - val_loss: 113.3057 - val_mae: 8.1900\n",
      "Epoch 75/100\n",
      "3/3 [==============================] - 0s 8ms/step - loss: 88.3098 - mae: 7.5548 - val_loss: 109.6130 - val_mae: 8.0432\n",
      "Epoch 76/100\n",
      "3/3 [==============================] - 0s 7ms/step - loss: 85.4364 - mae: 7.4174 - val_loss: 106.0311 - val_mae: 7.9022\n",
      "Epoch 77/100\n",
      "3/3 [==============================] - 0s 8ms/step - loss: 82.7587 - mae: 7.2853 - val_loss: 102.5499 - val_mae: 7.7684\n",
      "Epoch 78/100\n",
      "3/3 [==============================] - 0s 8ms/step - loss: 80.0431 - mae: 7.1533 - val_loss: 99.2524 - val_mae: 7.6393\n",
      "Epoch 79/100\n",
      "3/3 [==============================] - 0s 8ms/step - loss: 77.4819 - mae: 7.0176 - val_loss: 96.0651 - val_mae: 7.5130\n",
      "Epoch 80/100\n",
      "3/3 [==============================] - 0s 8ms/step - loss: 75.0488 - mae: 6.8942 - val_loss: 92.9848 - val_mae: 7.3887\n",
      "Epoch 81/100\n",
      "3/3 [==============================] - 0s 8ms/step - loss: 72.6262 - mae: 6.7717 - val_loss: 90.0350 - val_mae: 7.2668\n",
      "Epoch 82/100\n",
      "3/3 [==============================] - 0s 7ms/step - loss: 70.4222 - mae: 6.6529 - val_loss: 87.1781 - val_mae: 7.1450\n",
      "Epoch 83/100\n",
      "3/3 [==============================] - 0s 7ms/step - loss: 68.2507 - mae: 6.5352 - val_loss: 84.4459 - val_mae: 7.0233\n",
      "Epoch 84/100\n",
      "3/3 [==============================] - 0s 8ms/step - loss: 66.1979 - mae: 6.4230 - val_loss: 81.8198 - val_mae: 6.9028\n",
      "Epoch 85/100\n",
      "3/3 [==============================] - 0s 8ms/step - loss: 64.0919 - mae: 6.3093 - val_loss: 79.3443 - val_mae: 6.7855\n",
      "Epoch 86/100\n",
      "3/3 [==============================] - 0s 8ms/step - loss: 62.2183 - mae: 6.2067 - val_loss: 76.9474 - val_mae: 6.6722\n",
      "Epoch 87/100\n",
      "3/3 [==============================] - 0s 8ms/step - loss: 60.3990 - mae: 6.1048 - val_loss: 74.6121 - val_mae: 6.5597\n",
      "Epoch 88/100\n",
      "3/3 [==============================] - 0s 8ms/step - loss: 58.6029 - mae: 6.0003 - val_loss: 72.3626 - val_mae: 6.4510\n",
      "Epoch 89/100\n",
      "3/3 [==============================] - 0s 8ms/step - loss: 56.9070 - mae: 5.9036 - val_loss: 70.2286 - val_mae: 6.3429\n",
      "Epoch 90/100\n",
      "3/3 [==============================] - 0s 7ms/step - loss: 55.2872 - mae: 5.8037 - val_loss: 68.1932 - val_mae: 6.2365\n",
      "Epoch 91/100\n",
      "3/3 [==============================] - 0s 7ms/step - loss: 53.6867 - mae: 5.7095 - val_loss: 66.2454 - val_mae: 6.1313\n",
      "Epoch 92/100\n",
      "3/3 [==============================] - 0s 7ms/step - loss: 52.1813 - mae: 5.6148 - val_loss: 64.3624 - val_mae: 6.0277\n",
      "Epoch 93/100\n",
      "3/3 [==============================] - 0s 8ms/step - loss: 50.8055 - mae: 5.5265 - val_loss: 62.5389 - val_mae: 5.9285\n",
      "Epoch 94/100\n",
      "3/3 [==============================] - 0s 7ms/step - loss: 49.2957 - mae: 5.4326 - val_loss: 60.8428 - val_mae: 5.8324\n",
      "Epoch 95/100\n",
      "3/3 [==============================] - 0s 8ms/step - loss: 48.0160 - mae: 5.3476 - val_loss: 59.1785 - val_mae: 5.7375\n",
      "Epoch 96/100\n",
      "3/3 [==============================] - 0s 7ms/step - loss: 46.7471 - mae: 5.2619 - val_loss: 57.5780 - val_mae: 5.6445\n",
      "Epoch 97/100\n",
      "3/3 [==============================] - 0s 7ms/step - loss: 45.4946 - mae: 5.1752 - val_loss: 56.0508 - val_mae: 5.5589\n",
      "Epoch 98/100\n",
      "3/3 [==============================] - 0s 7ms/step - loss: 44.3772 - mae: 5.0949 - val_loss: 54.5887 - val_mae: 5.4789\n",
      "Epoch 99/100\n",
      "3/3 [==============================] - 0s 7ms/step - loss: 43.2319 - mae: 5.0123 - val_loss: 53.2110 - val_mae: 5.4009\n",
      "Epoch 100/100\n",
      "3/3 [==============================] - 0s 7ms/step - loss: 42.1424 - mae: 4.9354 - val_loss: 51.9149 - val_mae: 5.3258\n"
     ]
    }
   ],
   "source": [
    "history = model.fit(X_train, y_train, batch_size=128, epochs=100, validation_split=0.2)"
   ]
  },
  {
   "cell_type": "code",
   "execution_count": 20,
   "id": "729ca5c4",
   "metadata": {},
   "outputs": [
    {
     "data": {
      "text/plain": [
       "[<matplotlib.lines.Line2D at 0x221a327a2e0>]"
      ]
     },
     "execution_count": 20,
     "metadata": {},
     "output_type": "execute_result"
    },
    {
     "data": {
      "image/png": "[encoded data removed]",
      "text/plain": [
       "<Figure size 432x288 with 1 Axes>"
      ]
     },
     "metadata": {
      "needs_background": "light"
     },
     "output_type": "display_data"
    }
   ],
   "source": [
    "plt.plot(history.epoch, history.history['loss'])\n",
    "plt.plot(history.epoch, history.history['val_loss'])"
   ]
  },
  {
   "cell_type": "code",
   "execution_count": 21,
   "id": "72b00a2f",
   "metadata": {},
   "outputs": [
    {
     "data": {
      "text/plain": [
       "[<matplotlib.lines.Line2D at 0x221a32afd30>]"
      ]
     },
     "execution_count": 21,
     "metadata": {},
     "output_type": "execute_result"
    },
    {
     "data": {
      "image/png": "[encoded data removed]",
      "text/plain": [
       "<Figure size 432x288 with 1 Axes>"
      ]
     },
     "metadata": {
      "needs_background": "light"
     },
     "output_type": "display_data"
    }
   ],
   "source": [
    "plt.plot(history.epoch, history.history['mae'])\n",
    "plt.plot(history.epoch, history.history['val_mae'])"
   ]
  },
  {
   "cell_type": "code",
   "execution_count": 22,
   "id": "836b16db",
   "metadata": {},
   "outputs": [
    {
     "ename": "ValueError",
     "evalue": "Data cardinality is ambiguous:\n  x sizes: 102\n  y sizes: 171\nMake sure all arrays contain the same number of samples.",
     "output_type": "error",
     "traceback": [
      "\u001b[1;31m---------------------------------------------------------------------------\u001b[0m",
      "\u001b[1;31mValueError\u001b[0m                                Traceback (most recent call last)",
      "\u001b[1;32mC:\\Temp/ipykernel_1684/1083672652.py\u001b[0m in \u001b[0;36m<module>\u001b[1;34m\u001b[0m\n\u001b[1;32m----> 1\u001b[1;33m \u001b[0mmodel\u001b[0m\u001b[1;33m.\u001b[0m\u001b[0mevaluate\u001b[0m\u001b[1;33m(\u001b[0m\u001b[0mX_test\u001b[0m\u001b[1;33m,\u001b[0m \u001b[0my_test\u001b[0m\u001b[1;33m,\u001b[0m \u001b[0mbatch_size\u001b[0m\u001b[1;33m=\u001b[0m\u001b[1;36m128\u001b[0m\u001b[1;33m)\u001b[0m\u001b[1;33m\u001b[0m\u001b[1;33m\u001b[0m\u001b[0m\n\u001b[0m",
      "\u001b[1;32mc:\\users\\jovan\\appdata\\local\\programs\\python\\python38\\lib\\site-packages\\keras\\utils\\traceback_utils.py\u001b[0m in \u001b[0;36merror_handler\u001b[1;34m(*args, **kwargs)\u001b[0m\n\u001b[0;32m     65\u001b[0m     \u001b[1;32mexcept\u001b[0m \u001b[0mException\u001b[0m \u001b[1;32mas\u001b[0m \u001b[0me\u001b[0m\u001b[1;33m:\u001b[0m  \u001b[1;31m# pylint: disable=broad-except\u001b[0m\u001b[1;33m\u001b[0m\u001b[1;33m\u001b[0m\u001b[0m\n\u001b[0;32m     66\u001b[0m       \u001b[0mfiltered_tb\u001b[0m \u001b[1;33m=\u001b[0m \u001b[0m_process_traceback_frames\u001b[0m\u001b[1;33m(\u001b[0m\u001b[0me\u001b[0m\u001b[1;33m.\u001b[0m\u001b[0m__traceback__\u001b[0m\u001b[1;33m)\u001b[0m\u001b[1;33m\u001b[0m\u001b[1;33m\u001b[0m\u001b[0m\n\u001b[1;32m---> 67\u001b[1;33m       \u001b[1;32mraise\u001b[0m \u001b[0me\u001b[0m\u001b[1;33m.\u001b[0m\u001b[0mwith_traceback\u001b[0m\u001b[1;33m(\u001b[0m\u001b[0mfiltered_tb\u001b[0m\u001b[1;33m)\u001b[0m \u001b[1;32mfrom\u001b[0m \u001b[1;32mNone\u001b[0m\u001b[1;33m\u001b[0m\u001b[1;33m\u001b[0m\u001b[0m\n\u001b[0m\u001b[0;32m     68\u001b[0m     \u001b[1;32mfinally\u001b[0m\u001b[1;33m:\u001b[0m\u001b[1;33m\u001b[0m\u001b[1;33m\u001b[0m\u001b[0m\n\u001b[0;32m     69\u001b[0m       \u001b[1;32mdel\u001b[0m \u001b[0mfiltered_tb\u001b[0m\u001b[1;33m\u001b[0m\u001b[1;33m\u001b[0m\u001b[0m\n",
      "\u001b[1;32mc:\\users\\jovan\\appdata\\local\\programs\\python\\python38\\lib\\site-packages\\keras\\engine\\data_adapter.py\u001b[0m in \u001b[0;36m_check_data_cardinality\u001b[1;34m(data)\u001b[0m\n\u001b[0;32m   1655\u001b[0m                            for i in tf.nest.flatten(single_data)))\n\u001b[0;32m   1656\u001b[0m     \u001b[0mmsg\u001b[0m \u001b[1;33m+=\u001b[0m \u001b[1;34m\"Make sure all arrays contain the same number of samples.\"\u001b[0m\u001b[1;33m\u001b[0m\u001b[1;33m\u001b[0m\u001b[0m\n\u001b[1;32m-> 1657\u001b[1;33m     \u001b[1;32mraise\u001b[0m \u001b[0mValueError\u001b[0m\u001b[1;33m(\u001b[0m\u001b[0mmsg\u001b[0m\u001b[1;33m)\u001b[0m\u001b[1;33m\u001b[0m\u001b[1;33m\u001b[0m\u001b[0m\n\u001b[0m\u001b[0;32m   1658\u001b[0m \u001b[1;33m\u001b[0m\u001b[0m\n\u001b[0;32m   1659\u001b[0m \u001b[1;33m\u001b[0m\u001b[0m\n",
      "\u001b[1;31mValueError\u001b[0m: Data cardinality is ambiguous:\n  x sizes: 102\n  y sizes: 171\nMake sure all arrays contain the same number of samples."
     ]
    }
   ],
   "source": [
    "model.evaluate(X_test, y_test, batch_size=128)"
   ]
  },
  {
   "cell_type": "code",
   "execution_count": null,
   "id": "6eeb634b",
   "metadata": {},
   "outputs": [],
   "source": [
    "# mozemo da sacuvamo model nakon sto se istrenira da nebi morali ponovo da  pokrecemo trening iz pocetka\n",
    "# to moze da bude korsino sa bas velikim mrezama jer tu trening moze da taje danima\n",
    "# vidi u dokumentaciji sta sve ovo cuvanje podrazumeva\n",
    "model.save('models/nas_boston_model.hdf5')\n",
    "# alternativno imamo i save_weights() koji cuva samo tezine na ulazima\n",
    "\n",
    "from tensorflow.keras.models import load_model\n",
    "# onako sacuvan model mozemo da ucitamo\n",
    "old_model = load_model('models/nas_boston_model.hdf5')\n",
    "\n",
    "# i sad sa njim radimo sta god...\n",
    "#     nova_instanca = ...\n",
    "#     old_model.predict(nova_instanca)"
   ]
  },
  {
   "cell_type": "code",
   "execution_count": null,
   "id": "68bf06b3",
   "metadata": {},
   "outputs": [],
   "source": []
  },
  {
   "cell_type": "code",
   "execution_count": null,
   "id": "f7474711",
   "metadata": {},
   "outputs": [],
   "source": []
  },
  {
   "cell_type": "code",
   "execution_count": 23,
   "id": "b728a29f",
   "metadata": {},
   "outputs": [],
   "source": [
    "# evo kako bismo korsitili FCNN za klasifikaciju slika\n",
    "# za ovo se obicno korsite konvolutivne mreze ali to radimo sledece nedelje\n",
    "from tensorflow.keras.datasets import mnist"
   ]
  },
  {
   "cell_type": "code",
   "execution_count": 24,
   "id": "95cec19c",
   "metadata": {},
   "outputs": [
    {
     "name": "stdout",
     "output_type": "stream",
     "text": [
      "(60000, 28, 28)\n",
      "(10000, 28, 28)\n"
     ]
    }
   ],
   "source": [
    "(X_train, y_train), (X_test, y_tet) = mnist.load_data()\n",
    "print(X_train.shape)   # shape je (60000, 28, 28) tojset ima 60k slika dimenzija 28x28,\n",
    "                       # posto su slike crno bele dovoljno nam je samo 28x28, da su rbg moralo bi\n",
    "                       # 28x28x3 tj za svaki kanal\n",
    "print(X_test.shape)"
   ]
  },
  {
   "cell_type": "code",
   "execution_count": 25,
   "id": "a71d6d6c",
   "metadata": {},
   "outputs": [
    {
     "data": {
      "text/plain": [
       "<matplotlib.image.AxesImage at 0x221a2179370>"
      ]
     },
     "execution_count": 25,
     "metadata": {},
     "output_type": "execute_result"
    },
    {
     "data": {
      "image/png": "[encoded data removed]",
      "text/plain": [
       "<Figure size 432x288 with 1 Axes>"
      ]
     },
     "metadata": {
      "needs_background": "light"
     },
     "output_type": "display_data"
    }
   ],
   "source": [
    "plt.title(y_train[0])\n",
    "plt.imshow(X_train[0], cmap='gray')"
   ]
  },
  {
   "cell_type": "code",
   "execution_count": 26,
   "id": "aab33009",
   "metadata": {},
   "outputs": [
    {
     "name": "stdout",
     "output_type": "stream",
     "text": [
      "28\n",
      "(60000, 784)\n",
      "(10000, 784)\n"
     ]
    }
   ],
   "source": [
    "# kao ulaz u nasu mrezu mozemo da ubacimo sliku ali predstavljenu kao jedan vektor-kolona\n",
    "# moramo ovako zato sto korsitimo FCNN\n",
    "img_size = X_train.shape[1]\n",
    "print(img_size)\n",
    "\n",
    "X_train = X_train.reshape(X_train.shape[0], img_size*img_size)\n",
    "print(X_train.shape)\n",
    "\n",
    "# moramo i test skup takodje da reshapujemo!\n",
    "X_test = X_test.reshape(X_test.shape[0], img_size*img_size)\n",
    "print(X_test.shape)"
   ]
  },
  {
   "cell_type": "code",
   "execution_count": 27,
   "id": "5af9cba9",
   "metadata": {},
   "outputs": [
    {
     "name": "stdout",
     "output_type": "stream",
     "text": [
      "(60000, 10)\n",
      "60000\n",
      "(171, 10)\n",
      "171\n"
     ]
    }
   ],
   "source": [
    "#  imamo 10 klasa u ovom skupu. kao poslednji sloj imacemo 10 izlaznih neurona\n",
    "# prvi neuron kaze da li je instanca klase 1 ili ne, slicno i za ostale\n",
    "\n",
    "# treba da transformisemo i y u oblik koji ce nam odgovarati ovom obliku, tj da bude nekako\n",
    "# ovako [0,0,0,0,1,0,0,0,0]  (ovo se zove one-hot encoding (?) )\n",
    "# za to imamo ugradjenu funkciju to_categorical\n",
    "from tensorflow.keras.utils import to_categorical\n",
    "\n",
    "# prosledimo skup koji transformisemo i koliko klasa ima\n",
    "y_train = to_categorical(y_train, 10)\n",
    "print(y_train.shape)\n",
    "print(y_train.shape[0])\n",
    "\n",
    "y_test = to_categorical(y_test, 10)\n",
    "print(y_test.shape)\n",
    "print(y_test.shape[0])\n",
    "\n",
    "# hocemo i da prevedemo interval [0,255] u [0,1]   (nisam ispratio zasto (?))\n",
    "X_train = X_train / 255     # note: ako se napise kao X_train /= 255 to pravi gresku\n",
    "                            # zato sto u mestu pokusavamo da podelimo da dobijemo neki float a \n",
    "                            # podaci su integeri (?)  ako napisemo ovako pravilno, zapravo pravimo novu\n",
    "                            # promenljivu (koja se isto zove) (?)\n",
    "\n",
    "# moramo i test isto\n",
    "X_test = X_test / 255"
   ]
  },
  {
   "cell_type": "code",
   "execution_count": 28,
   "id": "b1e833ed",
   "metadata": {},
   "outputs": [
    {
     "name": "stdout",
     "output_type": "stream",
     "text": [
      "(60000, 784)\n",
      "(60000, 10)\n"
     ]
    }
   ],
   "source": [
    "print(X_train.shape)\n",
    "print(y_train.shape)"
   ]
  },
  {
   "cell_type": "code",
   "execution_count": 30,
   "id": "42e26456",
   "metadata": {},
   "outputs": [],
   "source": [
    "from tensorflow.keras.models import Sequential\n",
    "from tensorflow.keras.layers import Dense"
   ]
  },
  {
   "cell_type": "code",
   "execution_count": 35,
   "id": "f9fb464e",
   "metadata": {},
   "outputs": [
    {
     "name": "stdout",
     "output_type": "stream",
     "text": [
      "Model: \"sequential_5\"\n",
      "_________________________________________________________________\n",
      " Layer (type)                Output Shape              Param #   \n",
      "=================================================================\n",
      " dense_10 (Dense)            (None, 128)               100480    \n",
      "                                                                 \n",
      " dense_11 (Dense)            (None, 65)                8385      \n",
      "                                                                 \n",
      " dense_12 (Dense)            (None, 10)                660       \n",
      "                                                                 \n",
      "=================================================================\n",
      "Total params: 109,525\n",
      "Trainable params: 109,525\n",
      "Non-trainable params: 0\n",
      "_________________________________________________________________\n"
     ]
    }
   ],
   "source": [
    "model = Sequential()\n",
    "model.add(Dense(input_dim=X_train.shape[1], units=128, activation='relu'))\n",
    "model.add(Dense(units=65, activation='relu'))\n",
    "# poslednji sloj ima onoliko neurona koliko klasa ima\n",
    "# sigmoidna funkc nam odgovara ako imamo 2 klase, ovako za vise klasa koristicemo softmax\n",
    "model.add(Dense(units=10, activation='softmax'))\n",
    "model.summary()"
   ]
  },
  {
   "cell_type": "code",
   "execution_count": 36,
   "id": "65e80eb0",
   "metadata": {},
   "outputs": [],
   "source": [
    "from tensorflow.keras.losses import CategoricalCrossentropy\n",
    "from tensorflow.keras.optimizers import Adam"
   ]
  },
  {
   "cell_type": "code",
   "execution_count": 37,
   "id": "e5879b46",
   "metadata": {},
   "outputs": [],
   "source": [
    "# za optimizer umesto stringa mozemo da prosledimo i objekte\n",
    "# isto i za loss itd\n",
    "model.compile(optimizer=Adam(), loss=CategoricalCrossentropy(), metrics=['accuracy'])"
   ]
  },
  {
   "cell_type": "code",
   "execution_count": 39,
   "id": "9921f84d",
   "metadata": {},
   "outputs": [
    {
     "name": "stdout",
     "output_type": "stream",
     "text": [
      "Epoch 1/10\n",
      "375/375 [==============================] - 0s 1ms/step - loss: 0.0177 - accuracy: 0.9950 - val_loss: 0.1099 - val_accuracy: 0.9717\n",
      "Epoch 2/10\n",
      "375/375 [==============================] - 0s 1ms/step - loss: 0.0170 - accuracy: 0.9950 - val_loss: 0.1057 - val_accuracy: 0.9740\n",
      "Epoch 3/10\n",
      "375/375 [==============================] - 0s 1ms/step - loss: 0.0126 - accuracy: 0.9966 - val_loss: 0.1091 - val_accuracy: 0.9747\n",
      "Epoch 4/10\n",
      "375/375 [==============================] - 0s 1ms/step - loss: 0.0128 - accuracy: 0.9960 - val_loss: 0.1054 - val_accuracy: 0.9758\n",
      "Epoch 5/10\n",
      "375/375 [==============================] - 0s 1ms/step - loss: 0.0096 - accuracy: 0.9974 - val_loss: 0.1123 - val_accuracy: 0.9747\n",
      "Epoch 6/10\n",
      "375/375 [==============================] - 0s 1ms/step - loss: 0.0094 - accuracy: 0.9972 - val_loss: 0.1053 - val_accuracy: 0.9763\n",
      "Epoch 7/10\n",
      "375/375 [==============================] - 0s 1ms/step - loss: 0.0084 - accuracy: 0.9977 - val_loss: 0.1215 - val_accuracy: 0.9735\n",
      "Epoch 8/10\n",
      "375/375 [==============================] - 0s 1ms/step - loss: 0.0103 - accuracy: 0.9968 - val_loss: 0.1208 - val_accuracy: 0.9740\n",
      "Epoch 9/10\n",
      "375/375 [==============================] - 0s 1ms/step - loss: 0.0096 - accuracy: 0.9967 - val_loss: 0.1217 - val_accuracy: 0.9743\n",
      "Epoch 10/10\n",
      "375/375 [==============================] - 0s 1ms/step - loss: 0.0087 - accuracy: 0.9975 - val_loss: 0.1478 - val_accuracy: 0.9704\n"
     ]
    }
   ],
   "source": [
    "history = model.fit(X_train, y_train, batch_size=128, epochs=10, validation_split=0.2)"
   ]
  },
  {
   "cell_type": "code",
   "execution_count": 45,
   "id": "5b1c8e48",
   "metadata": {},
   "outputs": [
    {
     "data": {
      "text/plain": [
       "[<matplotlib.lines.Line2D at 0x221c9fcc970>]"
      ]
     },
     "execution_count": 45,
     "metadata": {},
     "output_type": "execute_result"
    },
    {
     "data": {
      "image/png": "[encoded data removed]",
      "text/plain": [
       "<Figure size 432x288 with 1 Axes>"
      ]
     },
     "metadata": {
      "needs_background": "light"
     },
     "output_type": "display_data"
    }
   ],
   "source": [
    "plt.plot(history.epoch, history.history['accuracy'])\n",
    "plt.plot(history.epoch, history.history['val_accuracy'])"
   ]
  },
  {
   "cell_type": "code",
   "execution_count": 46,
   "id": "db02e3c8",
   "metadata": {},
   "outputs": [
    {
     "data": {
      "text/plain": [
       "[<matplotlib.lines.Line2D at 0x221ca028d60>]"
      ]
     },
     "execution_count": 46,
     "metadata": {},
     "output_type": "execute_result"
    },
    {
     "data": {
      "image/png": "[encoded data removed]",
      "text/plain": [
       "<Figure size 432x288 with 1 Axes>"
      ]
     },
     "metadata": {
      "needs_background": "light"
     },
     "output_type": "display_data"
    }
   ],
   "source": [
    "plt.plot(history.epoch, history.history['loss'])\n",
    "plt.plot(history.epoch, history.history['val_loss'])"
   ]
  },
  {
   "cell_type": "code",
   "execution_count": 47,
   "id": "1e9f18d7",
   "metadata": {},
   "outputs": [
    {
     "ename": "ValueError",
     "evalue": "Data cardinality is ambiguous:\n  x sizes: 10000\n  y sizes: 171\nMake sure all arrays contain the same number of samples.",
     "output_type": "error",
     "traceback": [
      "\u001b[1;31m---------------------------------------------------------------------------\u001b[0m",
      "\u001b[1;31mValueError\u001b[0m                                Traceback (most recent call last)",
      "\u001b[1;32mC:\\Temp/ipykernel_1684/3899891647.py\u001b[0m in \u001b[0;36m<module>\u001b[1;34m\u001b[0m\n\u001b[1;32m----> 1\u001b[1;33m \u001b[0mmodel\u001b[0m\u001b[1;33m.\u001b[0m\u001b[0mevaluate\u001b[0m\u001b[1;33m(\u001b[0m\u001b[0mX_test\u001b[0m\u001b[1;33m,\u001b[0m \u001b[0my_test\u001b[0m\u001b[1;33m)\u001b[0m\u001b[1;33m\u001b[0m\u001b[1;33m\u001b[0m\u001b[0m\n\u001b[0m",
      "\u001b[1;32mc:\\users\\jovan\\appdata\\local\\programs\\python\\python38\\lib\\site-packages\\keras\\utils\\traceback_utils.py\u001b[0m in \u001b[0;36merror_handler\u001b[1;34m(*args, **kwargs)\u001b[0m\n\u001b[0;32m     65\u001b[0m     \u001b[1;32mexcept\u001b[0m \u001b[0mException\u001b[0m \u001b[1;32mas\u001b[0m \u001b[0me\u001b[0m\u001b[1;33m:\u001b[0m  \u001b[1;31m# pylint: disable=broad-except\u001b[0m\u001b[1;33m\u001b[0m\u001b[1;33m\u001b[0m\u001b[0m\n\u001b[0;32m     66\u001b[0m       \u001b[0mfiltered_tb\u001b[0m \u001b[1;33m=\u001b[0m \u001b[0m_process_traceback_frames\u001b[0m\u001b[1;33m(\u001b[0m\u001b[0me\u001b[0m\u001b[1;33m.\u001b[0m\u001b[0m__traceback__\u001b[0m\u001b[1;33m)\u001b[0m\u001b[1;33m\u001b[0m\u001b[1;33m\u001b[0m\u001b[0m\n\u001b[1;32m---> 67\u001b[1;33m       \u001b[1;32mraise\u001b[0m \u001b[0me\u001b[0m\u001b[1;33m.\u001b[0m\u001b[0mwith_traceback\u001b[0m\u001b[1;33m(\u001b[0m\u001b[0mfiltered_tb\u001b[0m\u001b[1;33m)\u001b[0m \u001b[1;32mfrom\u001b[0m \u001b[1;32mNone\u001b[0m\u001b[1;33m\u001b[0m\u001b[1;33m\u001b[0m\u001b[0m\n\u001b[0m\u001b[0;32m     68\u001b[0m     \u001b[1;32mfinally\u001b[0m\u001b[1;33m:\u001b[0m\u001b[1;33m\u001b[0m\u001b[1;33m\u001b[0m\u001b[0m\n\u001b[0;32m     69\u001b[0m       \u001b[1;32mdel\u001b[0m \u001b[0mfiltered_tb\u001b[0m\u001b[1;33m\u001b[0m\u001b[1;33m\u001b[0m\u001b[0m\n",
      "\u001b[1;32mc:\\users\\jovan\\appdata\\local\\programs\\python\\python38\\lib\\site-packages\\keras\\engine\\data_adapter.py\u001b[0m in \u001b[0;36m_check_data_cardinality\u001b[1;34m(data)\u001b[0m\n\u001b[0;32m   1655\u001b[0m                            for i in tf.nest.flatten(single_data)))\n\u001b[0;32m   1656\u001b[0m     \u001b[0mmsg\u001b[0m \u001b[1;33m+=\u001b[0m \u001b[1;34m\"Make sure all arrays contain the same number of samples.\"\u001b[0m\u001b[1;33m\u001b[0m\u001b[1;33m\u001b[0m\u001b[0m\n\u001b[1;32m-> 1657\u001b[1;33m     \u001b[1;32mraise\u001b[0m \u001b[0mValueError\u001b[0m\u001b[1;33m(\u001b[0m\u001b[0mmsg\u001b[0m\u001b[1;33m)\u001b[0m\u001b[1;33m\u001b[0m\u001b[1;33m\u001b[0m\u001b[0m\n\u001b[0m\u001b[0;32m   1658\u001b[0m \u001b[1;33m\u001b[0m\u001b[0m\n\u001b[0;32m   1659\u001b[0m \u001b[1;33m\u001b[0m\u001b[0m\n",
      "\u001b[1;31mValueError\u001b[0m: Data cardinality is ambiguous:\n  x sizes: 10000\n  y sizes: 171\nMake sure all arrays contain the same number of samples."
     ]
    }
   ],
   "source": [
    "model.evaluate(X_test, y_test)"
   ]
  },
  {
   "cell_type": "code",
   "execution_count": 48,
   "id": "87d4cd02",
   "metadata": {},
   "outputs": [],
   "source": [
    "y_predicted = model.predict(X_test)"
   ]
  },
  {
   "cell_type": "code",
   "execution_count": 53,
   "id": "313a39fa",
   "metadata": {},
   "outputs": [
    {
     "name": "stdout",
     "output_type": "stream",
     "text": [
      "(10000, 10)\n",
      "[1.04395286e-11 3.33747127e-11 8.06462452e-09 3.11794935e-07\n",
      " 8.47045123e-17 2.75795248e-10 1.11384155e-14 9.99999642e-01\n",
      " 4.15748096e-11 2.11762385e-09]\n"
     ]
    }
   ],
   "source": [
    "print(y_predicted.shape)\n",
    "# ovde trazimo najveci broj i on nam kaze koja klasa je predvidjena za [0] intancu u skupu\n",
    "print(y_predicted[0])"
   ]
  },
  {
   "cell_type": "code",
   "execution_count": 54,
   "id": "ed179f82",
   "metadata": {},
   "outputs": [],
   "source": [
    "import numpy as np"
   ]
  },
  {
   "cell_type": "code",
   "execution_count": 57,
   "id": "89ed40c9",
   "metadata": {},
   "outputs": [
    {
     "name": "stdout",
     "output_type": "stream",
     "text": [
      "7\n",
      "1\n"
     ]
    }
   ],
   "source": [
    "pred_class = np.argmax(y_predicted[0])   # ovo vraca poziciju na kojoj je max broj\n",
    "print(pred_class)\n",
    "\n",
    "true_class = np.argmax(y_test[0])   # njemu na vezbama se ppoklapa \n",
    "print(true_class)"
   ]
  },
  {
   "cell_type": "code",
   "execution_count": 59,
   "id": "a1170d97",
   "metadata": {},
   "outputs": [
    {
     "ename": "IndexError",
     "evalue": "index 171 is out of bounds for axis 0 with size 171",
     "output_type": "error",
     "traceback": [
      "\u001b[1;31m---------------------------------------------------------------------------\u001b[0m",
      "\u001b[1;31mIndexError\u001b[0m                                Traceback (most recent call last)",
      "\u001b[1;32mC:\\Temp/ipykernel_1684/1048727338.py\u001b[0m in \u001b[0;36m<module>\u001b[1;34m\u001b[0m\n\u001b[0;32m      2\u001b[0m \u001b[0merrors\u001b[0m \u001b[1;33m=\u001b[0m \u001b[1;33m[\u001b[0m\u001b[1;33m]\u001b[0m\u001b[1;33m\u001b[0m\u001b[1;33m\u001b[0m\u001b[0m\n\u001b[0;32m      3\u001b[0m \u001b[1;32mfor\u001b[0m \u001b[0mi\u001b[0m \u001b[1;32min\u001b[0m \u001b[0mrange\u001b[0m\u001b[1;33m(\u001b[0m\u001b[0mX_test\u001b[0m\u001b[1;33m.\u001b[0m\u001b[0mshape\u001b[0m\u001b[1;33m[\u001b[0m\u001b[1;36m0\u001b[0m\u001b[1;33m]\u001b[0m\u001b[1;33m)\u001b[0m\u001b[1;33m:\u001b[0m\u001b[1;33m\u001b[0m\u001b[1;33m\u001b[0m\u001b[0m\n\u001b[1;32m----> 4\u001b[1;33m     \u001b[0mtrue_class\u001b[0m \u001b[1;33m=\u001b[0m \u001b[0mnp\u001b[0m\u001b[1;33m.\u001b[0m\u001b[0margmax\u001b[0m\u001b[1;33m(\u001b[0m\u001b[0my_test\u001b[0m\u001b[1;33m[\u001b[0m\u001b[0mi\u001b[0m\u001b[1;33m]\u001b[0m\u001b[1;33m)\u001b[0m\u001b[1;33m\u001b[0m\u001b[1;33m\u001b[0m\u001b[0m\n\u001b[0m\u001b[0;32m      5\u001b[0m     \u001b[0mpred_class\u001b[0m \u001b[1;33m=\u001b[0m \u001b[0mnp\u001b[0m\u001b[1;33m.\u001b[0m\u001b[0margmax\u001b[0m\u001b[1;33m(\u001b[0m\u001b[0my_predicted\u001b[0m\u001b[1;33m[\u001b[0m\u001b[0mi\u001b[0m\u001b[1;33m]\u001b[0m\u001b[1;33m)\u001b[0m\u001b[1;33m\u001b[0m\u001b[1;33m\u001b[0m\u001b[0m\n\u001b[0;32m      6\u001b[0m     \u001b[1;32mif\u001b[0m \u001b[0mtrue_class\u001b[0m \u001b[1;33m!=\u001b[0m \u001b[0mpred_class\u001b[0m\u001b[1;33m:\u001b[0m\u001b[1;33m\u001b[0m\u001b[1;33m\u001b[0m\u001b[0m\n",
      "\u001b[1;31mIndexError\u001b[0m: index 171 is out of bounds for axis 0 with size 171"
     ]
    }
   ],
   "source": [
    "# interesuje nas za koju instancu je pogreseno\n",
    "errors = []\n",
    "for i in range(X_test.shape[0]):\n",
    "    true_class = np.argmax(y_test[i])\n",
    "    pred_class = np.argmax(y_predicted[i])\n",
    "    if true_class != pred_class:\n",
    "        # cuvamo indekse onih instanci koje su pogresno klasifikovane\n",
    "        errors.append(i)\n",
    "        \n",
    "print(len(errors))"
   ]
  },
  {
   "cell_type": "code",
   "execution_count": 60,
   "id": "877f41e3",
   "metadata": {},
   "outputs": [],
   "source": [
    "import random"
   ]
  },
  {
   "cell_type": "code",
   "execution_count": null,
   "id": "44136924",
   "metadata": {},
   "outputs": [],
   "source": [
    "# hocemo npr da nam prikaze neku na kojoj smo pogresili\n",
    "random_index = random.choice(errors)\n",
    "true_label = np.argmax(y_Test[random_index])\n",
    "pred_label = np.argmax(y_predicted[random_index])\n",
    "print(true_label, pred_label)\n",
    "# da bismo lepo prikazali sliku moramo da reshapujemo opet posto smo vec reshapovali pre nego sto smo \n",
    "# ubacili u mrezu\n",
    "plt.imshow(X_test[random_index].reshape(img_Size), cmap='gray')"
   ]
  }
 ],
 "metadata": {
  "kernelspec": {
   "display_name": "Python 3 (ipykernel)",
   "language": "python",
   "name": "python3"
  },
  "language_info": {
   "codemirror_mode": {
    "name": "ipython",
    "version": 3
   },
   "file_extension": ".py",
   "mimetype": "text/x-python",
   "name": "python",
   "nbconvert_exporter": "python",
   "pygments_lexer": "ipython3",
   "version": "3.8.0"
  }
 },
 "nbformat": 4,
 "nbformat_minor": 5
}
