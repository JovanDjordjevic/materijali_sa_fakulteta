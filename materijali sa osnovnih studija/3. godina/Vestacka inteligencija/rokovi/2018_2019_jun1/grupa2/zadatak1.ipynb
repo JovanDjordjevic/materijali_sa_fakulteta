{
 "cells": [
  {
   "cell_type": "markdown",
   "metadata": {},
   "source": [
    "# Zadatak 1 - Algoritam `A*`"
   ]
  },
  {
   "cell_type": "code",
   "execution_count": 41,
   "metadata": {},
   "outputs": [],
   "source": [
    "class Graph:\n",
    "        \n",
    "    # Funkcija pretvara listu v u tekstualni oblik\n",
    "    # [1,2,3] -> \"1,2,3\"\n",
    "    def serialize(self, v):\n",
    "        #print(\"ser: \", v, type(v))\n",
    "        return ','.join([str(x) for x in v])\n",
    "    \n",
    "    # Funkcija pretvara v iz tekstualnog oblika u listu\n",
    "    # \"1,2,3\" -> [1,2,3]\n",
    "    def deserialize(self, v):\n",
    "        #print(\"deser: \", v, type(v))\n",
    "        return [int(x) for x in v.split(',')]\n",
    "        \n",
    "    # Funkcija vraca niz susednih stanja u obliku (w, e)\n",
    "    # gde je w susedno stanje a e duzina grane od cvora v\n",
    "    # do cvora w\n",
    "    def get_neighbors(self, v):\n",
    "        w = self.deserialize(v)\n",
    "        neighbors = []\n",
    "        \n",
    "        # === Studentski kod ===\n",
    "        for i in range(len(w)):\n",
    "            neighbor = w.copy()\n",
    "            neighbor[i] = (w[i] + 5) % 14\n",
    "        # ========================\n",
    "            neighbors.append((self.serialize(neighbor), 1))\n",
    "        #print(f'\\tneighbors for {w}: ', neighbors)\n",
    "        return neighbors\n",
    "    \n",
    "    # Funkcija heuristicke procene udaljenosti od stanja v\n",
    "    # do ciljnog stanja\n",
    "    def h(self, v):\n",
    "        #print(\"h: \", v, type(v))\n",
    "        w = self.deserialize(v)\n",
    "        # === Studentski kod ===\n",
    "        return len(set(w))\n",
    "    \n",
    "    # Funkcija pronalazi put od start stanja do ciljnog stanja\n",
    "    # koriscenjem a* algoritma\n",
    "    def astar(self, start):\n",
    "        # === Studentski kod ===\n",
    "        open_set = set([self.serialize(start)])\n",
    "        \n",
    "        shortest_paths = {}\n",
    "        shortest_paths[self.serialize(start)] = 0\n",
    "        \n",
    "        heuristic_guesses = {}\n",
    "        heuristic_guesses[self.serialize(start)] = 0\n",
    "\n",
    "        parents = {}\n",
    "        parents[self.serialize(start)] = None\n",
    "        \n",
    "        path = []\n",
    "        path_found = False\n",
    "        while len(open_set) > 0:\n",
    "            current_node = None\n",
    "            min_hg = float('inf')\n",
    "            for elem in open_set:\n",
    "                hg = heuristic_guesses[elem]\n",
    "                if hg < min_hg:\n",
    "                    min_hg = hg\n",
    "                    current_node = elem\n",
    "            \n",
    "            open_set.remove(current_node)\n",
    "            #print(\"current: \", current_node, type(current_node))\n",
    "            \n",
    "            deserialied_state = self.deserialize(current_node)\n",
    "            if deserialied_state[0] == deserialied_state[1] == deserialied_state[2]:\n",
    "                path_found = True\n",
    "                path.append(deserialied_state)\n",
    "                break;\n",
    "            \n",
    "            for (neighbor, weight) in  self.get_neighbors(current_node):\n",
    "                #print('\\tneighbour: ', neighbor)\n",
    "                if self.serialize(neighbor) not in shortest_paths:\n",
    "                    shortest_paths[neighbor] = float('inf')\n",
    "                    heuristic_guesses[neighbor] = float('inf')\n",
    "                    \n",
    "                possible_shortest_path = shortest_paths[current_node] + weight\n",
    "                if  possible_shortest_path < shortest_paths[neighbor]:\n",
    "                    shortest_paths[neighbor] = possible_shortest_path\n",
    "                    heuristic_guesses[neighbor] = possible_shortest_path + self.h(neighbor)\n",
    "                    parents[neighbor] = current_node\n",
    "                    if neighbor not in open_set:\n",
    "                        open_set.add(neighbor)\n",
    "        \n",
    "        if path_found:\n",
    "            node = path[-1]\n",
    "            node = parents[self.serialize(node)]\n",
    "            while node is not None:\n",
    "                path.append(self.deserialize(node))\n",
    "                node = parents[node]\n",
    "            path.reverse()\n",
    "            return path\n",
    "        else:\n",
    "            print('Put nije pronadjen!')\n",
    "            return None"
   ]
  },
  {
   "cell_type": "code",
   "execution_count": 44,
   "metadata": {},
   "outputs": [
    {
     "data": {
      "text/plain": [
       "[[14, 2, 8],\n",
       " [5, 2, 8],\n",
       " [10, 2, 8],\n",
       " [1, 2, 8],\n",
       " [6, 2, 8],\n",
       " [11, 2, 8],\n",
       " [2, 2, 8],\n",
       " [7, 2, 8],\n",
       " [12, 2, 8],\n",
       " [3, 2, 8],\n",
       " [3, 7, 8],\n",
       " [3, 12, 8],\n",
       " [8, 12, 8],\n",
       " [8, 3, 8],\n",
       " [8, 8, 8]]"
      ]
     },
     "execution_count": 44,
     "metadata": {},
     "output_type": "execute_result"
    }
   ],
   "source": [
    "g = Graph()\n",
    "g.astar([14,2,8])"
   ]
  },
  {
   "cell_type": "code",
   "execution_count": 45,
   "metadata": {},
   "outputs": [
    {
     "data": {
      "text/plain": [
       "[[5, 10, 1], [10, 10, 1], [10, 1, 1], [1, 1, 1]]"
      ]
     },
     "execution_count": 45,
     "metadata": {},
     "output_type": "execute_result"
    }
   ],
   "source": [
    "g.astar([5, 10, 1])"
   ]
  }
 ],
 "metadata": {
  "kernelspec": {
   "display_name": "Python 3",
   "language": "python",
   "name": "python3"
  },
  "language_info": {
   "codemirror_mode": {
    "name": "ipython",
    "version": 3
   },
   "file_extension": ".py",
   "mimetype": "text/x-python",
   "name": "python",
   "nbconvert_exporter": "python",
   "pygments_lexer": "ipython3",
   "version": "3.9.0"
  }
 },
 "nbformat": 4,
 "nbformat_minor": 2
}
