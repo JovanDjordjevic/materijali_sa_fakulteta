{
 "cells": [
  {
   "cell_type": "markdown",
   "metadata": {},
   "source": [
    "# Zadatak 2 - genetski algoritam\n",
    "\n",
    "**NAPOMENA**: Nemojte koristiti ruletsku selekciju vec turnirsku."
   ]
  },
  {
   "cell_type": "code",
   "execution_count": 31,
   "metadata": {},
   "outputs": [],
   "source": [
    "import random\n",
    "import numpy as np\n",
    "from PIL import Image\n",
    "import matplotlib.pyplot as plt"
   ]
  },
  {
   "cell_type": "markdown",
   "metadata": {},
   "source": [
    "Učitava se ciljna slika."
   ]
  },
  {
   "cell_type": "code",
   "execution_count": 32,
   "metadata": {},
   "outputs": [
    {
     "name": "stdout",
     "output_type": "stream",
     "text": [
      "shape (30, 30)\n"
     ]
    }
   ],
   "source": [
    "target_image = Image.open('genetic_target.png').convert('L')\n",
    "image_size = (30, 30)\n",
    "show_size = (300, 300)\n",
    "target_image = target_image.resize(image_size, Image.ANTIALIAS)\n",
    "print('shape', target_image.size)"
   ]
  },
  {
   "cell_type": "markdown",
   "metadata": {},
   "source": [
    "Prebacuje se slika u `numpy` vektor."
   ]
  },
  {
   "cell_type": "code",
   "execution_count": 33,
   "metadata": {},
   "outputs": [
    {
     "name": "stdout",
     "output_type": "stream",
     "text": [
      "(900,)\n"
     ]
    }
   ],
   "source": [
    "# Prebacujemo sliku u numpy vector\n",
    "target = np.array(target_image).ravel()\n",
    "print(target.shape)"
   ]
  },
  {
   "cell_type": "code",
   "execution_count": 34,
   "metadata": {},
   "outputs": [
    {
     "data": {
      "image/png": "[encoded data removed]",
      "text/plain": [
       "<PIL.Image.Image image mode=L size=300x300 at 0x21580553FA0>"
      ]
     },
     "execution_count": 34,
     "metadata": {},
     "output_type": "execute_result"
    }
   ],
   "source": [
    "target_image.resize(show_size)"
   ]
  },
  {
   "cell_type": "code",
   "execution_count": 35,
   "metadata": {},
   "outputs": [],
   "source": [
    "class Chromosome:\n",
    "    '''\n",
    "    Predstavlja jedan hromozom, odnosno jednu sliku.\n",
    "    Slika je data genetskim kodom i ocenom prilagodjenosti \n",
    "    '''\n",
    "    def __init__(self, genetic_code, fitness):\n",
    "        self.genetic_code = genetic_code\n",
    "        self.fitness = fitness\n",
    "    \n",
    "    def __str__(self):\n",
    "        return \"image of shape {} = {}\".format(self.genetic_code.shape, self.fitness)"
   ]
  },
  {
   "cell_type": "markdown",
   "metadata": {},
   "source": [
    "**NAPOMENA**: Nemojte koristiti ruletsku selekciju vec turnirsku."
   ]
  },
  {
   "cell_type": "code",
   "execution_count": 36,
   "metadata": {},
   "outputs": [],
   "source": [
    "class GeneticAlgorithm:\n",
    "    '''\n",
    "    Klasa predstavlja implementaciju genetskog algoritma za resavanje problema pogadjanja niske.\n",
    "    Koristi se:\n",
    "    - Jednopoziciono ukrstanje sa nasumicnom tackom ukrstanja\n",
    "    - Mutacija sa verovatnocom '_mutation_rate'\n",
    "    - Ruletska selekcija ili turnirska selekcija u zavisnosti od parametra self.selection_type\n",
    "    - Zamena generacije se vrsi tako sto se od jedinki izabranih pri selekciji ukrstanjem\n",
    "        pravi celokupna nova generacija (pogledati u knjizi alternativne zamene generacija)\n",
    "    '''\n",
    "    def __init__(self, possible_gene_values, target):\n",
    "        self.target = target                                     # Slika koja se pogadja\n",
    "        self.gene_length = target.shape                          # Ukupan broj piksela u slici koja se pogadja\n",
    "        self.possible_gene_values = possible_gene_values         # Dozvoljene vrednosti koje mogu biti u genu\n",
    "        self.num_gene_values = possible_gene_values.shape[0]     # Duzina dozvoljenih vrednosti\n",
    "        \n",
    "        '''Parametri genetskog algoritma, eksperimentalno izabrani.'''\n",
    "        self.generation_size = 2000                              # Broj jedinki u jednoj generaciji\n",
    "        self.chromosome_size = len(target)                       # Duzina hromozoma\n",
    "        self.reproduction_size = 500                             # Broj jedinki koji ucestvuje u reprodukciji    \n",
    "        self.max_iterations = 400                                # Maksimalni dozvoljeni broj iteracija\n",
    "        self.mutation_rate = 0.1                                 # Verovatnoca da se desi mutacija\n",
    "        self.tournament_size = 10                                # Velicina turnira\n",
    "        \n",
    "        # Vrsta selekcije, moze biti turnirska (tournament) ili ruletska (roulette)\n",
    "        self.selection_type = 'tournament'      \n",
    "\n",
    "   \n",
    "    def calculate_fitness(self, genetic_code):\n",
    "        '''Vraca broj karaktera koji se u genu poklapaju sa pravom vrednoscu.'''\n",
    "        fitness = np.sum((genetic_code - self.target) ** 2)\n",
    "        return fitness\n",
    "        \n",
    "    def initial_population(self):\n",
    "        '''Generise se _generation_size nasumicnih jedinki.'''\n",
    "        init_population = []\n",
    "        \n",
    "        for i in range(self.generation_size):\n",
    "            # generise se i-ti nasumicni genetski kod\n",
    "            genetic_code = np.random.randint(0, 256, size=self.gene_length)\n",
    "            \n",
    "            # ----------------------------------------------------------------\n",
    "            # STUDENTSKI KOD\n",
    "            # ----------------------------------------------------------------\n",
    "            init_population.append(Chromosome(genetic_code, self.calculate_fitness(genetic_code)))\n",
    "            # ----------------------------------------------------------------\n",
    "            \n",
    "        return init_population\n",
    "    \n",
    "    def selection(self, chromosomes):\n",
    "        '''Funkcija za izbor hromozoma za reporodukciju'''\n",
    "        selected = []\n",
    "        \n",
    "        # Bira se self.reproduction_size hromozoma za reprodukciju\n",
    "        # Selekcija moze biti ruletska ili turnirska\n",
    "        for i in range(self.reproduction_size):\n",
    "            if self.selection_type == 'roulette':\n",
    "                selected.append(self.roulette_selection(chromosomes))\n",
    "            elif self.selection_type == 'tournament':\n",
    "                selected.append(self.tournament_selection(chromosomes))\n",
    "          \n",
    "        # Vracaju se izabrani hromozomi za repodukciju\n",
    "        return selected\n",
    "    \n",
    "    def roulette_selection(self, chromosomes):\n",
    "        '''\n",
    "        Bira jednu jedinku koristeci ruletsku selekciju. Ne vrsi normalizaciju\n",
    "        i sortiranje po funkciji prilagodjenosti usled performansi.\n",
    "        '''\n",
    "        # suma svih prilagodjenosti\n",
    "        total_fitness = sum([chromosome.fitness for chromosome in chromosomes])\n",
    "        \n",
    "        # bira se neka random vrednost, sluzi za 'imitiranje' slucajnosti \n",
    "        selected_value = random.randrange(0, -total_fitness)\n",
    "        \n",
    "        current_sum = 0\n",
    "        for i in range(self.generation_size):\n",
    "            current_sum += chromosomes[i].fitness\n",
    "\n",
    "            # vraca se prva jedinka koja ispuni uslov\n",
    "            if current_sum > selected_value:\n",
    "                return chromosomes[i]\n",
    "    \n",
    "    def tournament_selection(self, chromosomes):\n",
    "        '''Bira jednu jedinku koristeci turnirsku selekciju. '''\n",
    "        # Bira se self.tournament_size jediniki za turnir\n",
    "        selected = random.sample(chromosomes, self.tournament_size)\n",
    "        \n",
    "        # Pobednik je onaj sa minimalnom ocenom prilagođenosti\n",
    "        # jer želimo da minimiziramo grešku.\n",
    "        winner = min(selected, key = lambda x: x.fitness)\n",
    "        \n",
    "        return winner\n",
    "        \n",
    "    \n",
    "    def mutate(self, genetic_code):\n",
    "        '''\n",
    "        Vrsi mutaciju nad hromozomom sa verovatnocom self._mutation_rate.\n",
    "        Mutacija se vrsi nad jednim genom (karakterom) sa proizvoljnim indeksom.\n",
    "        '''\n",
    "        random_value = random.random()\n",
    "        \n",
    "        # ukoliko je ispunjen uslov, izvrsi mutaciju\n",
    "        if random_value < self.mutation_rate:\n",
    "            \n",
    "            # izabrati proizvoljan indeks\n",
    "            random_index = random.randrange(self.chromosome_size)\n",
    "            \n",
    "            while True:\n",
    "                # izabrati novu proizvoljnu vrednost za karakter\n",
    "                new_value = random.choice(self.possible_gene_values)\n",
    "                \n",
    "                # ukoliko su vrednosti razlicite, izmeni karakter\n",
    "                if genetic_code[random_index] != new_value:\n",
    "                    break\n",
    "                    \n",
    "            genetic_code[random_index] = new_value\n",
    "            \n",
    "        return genetic_code\n",
    "        \n",
    "    \n",
    "    def create_generation(self, chromosomes):\n",
    "        '''\n",
    "        Od jedinki generise novu generaciju primenjujuci genetske operatore \n",
    "        ukrstanje (crossover) i mutaciju (mutation). \n",
    "        '''\n",
    "        generation = []\n",
    "        generation_size = 0\n",
    "        \n",
    "        while generation_size < self.generation_size:\n",
    "            # Proizvoljno se biraju 2 roditelja za ukrstanje\n",
    "            [parent1, parent2] = random.sample(chromosomes, 2)\n",
    "            \n",
    "            # Dobijaju se 2 detata ukrstanjem\n",
    "            # ----------------------------------------------------------------\n",
    "            # STUDENTSKI KOD\n",
    "            # ----------------------------------------------------------------\n",
    "            child1_code, child2_code = self.crossover(parent1, parent2)\n",
    "            # ----------------------------------------------------------------\n",
    "            \n",
    "            # Vrsi se mutacija nad decom\n",
    "            # ----------------------------------------------------------------\n",
    "            # STUDENTSKI KOD\n",
    "            # ----------------------------------------------------------------\n",
    "            child1_code = self.mutate(child1_code)\n",
    "            child2_code = self.mutate(child2_code)\n",
    "            # ----------------------------------------------------------------\n",
    "            \n",
    "            # Prave se novi hromozomi\n",
    "            child1 = Chromosome(child1_code, self.calculate_fitness(child1_code))\n",
    "            child2 = Chromosome(child2_code, self.calculate_fitness(child2_code))\n",
    "            \n",
    "            # Dodaju se u generaciju\n",
    "            generation.append(child1)\n",
    "            generation.append(child2)\n",
    "            \n",
    "            generation_size += 2\n",
    "            \n",
    "        return generation\n",
    "            \n",
    "    '''Jednopoziciono ukrstanje sa nasumicnom tackom ukrstanja'''\n",
    "    def crossover(self, parent1, parent2):\n",
    "        \n",
    "        # bira se proizvoljna tacka ukrstanja\n",
    "        break_point = random.randrange(1, self.chromosome_size)\n",
    "        \n",
    "        child1 = np.concatenate((parent1.genetic_code[:break_point], parent2.genetic_code[break_point:]))\n",
    "        child2 = np.concatenate((parent2.genetic_code[:break_point], parent1.genetic_code[break_point:]))\n",
    "        \n",
    "        return (child1, child2)\n",
    "        \n",
    "    '''Izvrsavanje genetskog algoritma'''\n",
    "    def optimize(self):\n",
    "        # Generisi pocetnu populaciju jedinki i izracunaj\n",
    "        # prilagodjenost svake jedinke u populaciji\n",
    "        population = self.initial_population()\n",
    "        \n",
    "        # Korak za prikaz optimizacije (kako se ne bi prepunila konzola)\n",
    "        log_step = int(0.1 * self.max_iterations)\n",
    "        for i in range(1, self.max_iterations+1):\n",
    "            # Prikazujemo korisniku dokle se stiglo sa optimizacijom\n",
    "            if i % log_step == 0 or i == self.max_iterations:\n",
    "                print(f'Progress: {i / self.max_iterations * 100}% iterations: {i}/{self.max_iterations} done')\n",
    "                \n",
    "            # ----------------------------------------------------------------\n",
    "            # STUDENTSKI KOD\n",
    "            # ----------------------------------------------------------------\n",
    "            selection = self.selection(population)\n",
    "            population = self.create_generation(selection)\n",
    "            global_best_chromosome = max(population, key=lambda x: x.fitness)\n",
    "            # ----------------------------------------------------------------\n",
    "            \n",
    "            if global_best_chromosome.fitness == self.chromosome_size:\n",
    "                break\n",
    "            \n",
    "        return global_best_chromosome\n",
    " "
   ]
  },
  {
   "cell_type": "markdown",
   "metadata": {},
   "source": [
    "Generišemo vektor brojeva koji predstavlja skup dozvoljenih vrednosti za gen."
   ]
  },
  {
   "cell_type": "code",
   "execution_count": 37,
   "metadata": {},
   "outputs": [],
   "source": [
    "allowed_gene_values = np.arange(0, 256)"
   ]
  },
  {
   "cell_type": "code",
   "execution_count": 38,
   "metadata": {},
   "outputs": [],
   "source": [
    "genetic_algorithm = GeneticAlgorithm(allowed_gene_values, target)"
   ]
  },
  {
   "cell_type": "markdown",
   "metadata": {},
   "source": [
    "Savet: Tokom rada moze vam biti korisno da smanjite parametre genetskog algoritma kako bi se brze izracunavao. Kada budete sigurni\n",
    "da ste pri kraju onda ih mozete povecati i pokusati da dobijete aproksimaciju resenja."
   ]
  },
  {
   "cell_type": "code",
   "execution_count": 39,
   "metadata": {},
   "outputs": [
    {
     "name": "stdout",
     "output_type": "stream",
     "text": [
      "Progress: 10.0% iterations: 40/400 done\n",
      "Progress: 20.0% iterations: 80/400 done\n",
      "Progress: 30.0% iterations: 120/400 done\n",
      "Progress: 40.0% iterations: 160/400 done\n",
      "Progress: 50.0% iterations: 200/400 done\n",
      "Progress: 60.0% iterations: 240/400 done\n",
      "Progress: 70.0% iterations: 280/400 done\n",
      "Progress: 80.0% iterations: 320/400 done\n",
      "Progress: 90.0% iterations: 360/400 done\n",
      "Progress: 100.0% iterations: 400/400 done\n"
     ]
    }
   ],
   "source": [
    "result = genetic_algorithm.optimize()"
   ]
  },
  {
   "cell_type": "code",
   "execution_count": 40,
   "metadata": {},
   "outputs": [
    {
     "name": "stdout",
     "output_type": "stream",
     "text": [
      "Result: image of shape (900,) = 822771\n"
     ]
    }
   ],
   "source": [
    "print('Result: {}'.format(result))"
   ]
  },
  {
   "cell_type": "markdown",
   "metadata": {},
   "source": [
    "Poredimo generisanu sliku naspram ciljane slike"
   ]
  },
  {
   "cell_type": "code",
   "execution_count": 41,
   "metadata": {},
   "outputs": [],
   "source": [
    "np_result = result.genetic_code.reshape(image_size)"
   ]
  },
  {
   "cell_type": "code",
   "execution_count": 42,
   "metadata": {},
   "outputs": [
    {
     "data": {
      "text/plain": [
       "(30, 30)"
      ]
     },
     "execution_count": 42,
     "metadata": {},
     "output_type": "execute_result"
    }
   ],
   "source": [
    "tmp = np.uint8(np_result)\n",
    "tmp.shape"
   ]
  },
  {
   "cell_type": "code",
   "execution_count": 43,
   "metadata": {},
   "outputs": [
    {
     "data": {
      "image/png": "[encoded data removed]",
      "text/plain": [
       "<PIL.Image.Image image mode=L size=300x300 at 0x2157FD355B0>"
      ]
     },
     "execution_count": 43,
     "metadata": {},
     "output_type": "execute_result"
    }
   ],
   "source": [
    "pil_img = Image.fromarray(tmp)\n",
    "pil_img.resize(show_size)"
   ]
  },
  {
   "cell_type": "code",
   "execution_count": 44,
   "metadata": {},
   "outputs": [
    {
     "data": {
      "image/png": "[encoded data removed]",
      "text/plain": [
       "<PIL.Image.Image image mode=L size=300x300 at 0x2155F4E0160>"
      ]
     },
     "execution_count": 44,
     "metadata": {},
     "output_type": "execute_result"
    }
   ],
   "source": [
    "target_image.resize((300, 300))"
   ]
  },
  {
   "cell_type": "markdown",
   "metadata": {},
   "source": [
    "Važan komentar. Dozvoljeno je da modifikujete parametre genetskog algoritma. Zadatak neće biti maksimalno bodova\n",
    "ukoliko ne uspete da dobijete sliku koja iole podseća na ciljnu sliku. Velika količina šuma je dozvoljena, ali\n",
    "je važno da se dobije donekle neka aproksimacija ciljne slike.\n",
    "\n",
    "Na primer, slika u nastavku je jedno moguće dobijeno rešenje. Vaša može biti i bolja, ali i naravno lošija, samo\n",
    "je važno da se uoči da neka sličnost sa ciljnom slikom."
   ]
  },
  {
   "cell_type": "code",
   "execution_count": 45,
   "metadata": {},
   "outputs": [
    {
     "data": {
      "image/png": "[encoded data removed]",
      "text/plain": [
       "<PIL.Image.Image image mode=L size=300x300 at 0x21580565460>"
      ]
     },
     "execution_count": 45,
     "metadata": {},
     "output_type": "execute_result"
    }
   ],
   "source": [
    "Image.open('genetski-resenje.png').convert('L').resize(show_size)"
   ]
  },
  {
   "cell_type": "code",
   "execution_count": null,
   "metadata": {},
   "outputs": [],
   "source": []
  }
 ],
 "metadata": {
  "kernelspec": {
   "display_name": "Python 3",
   "language": "python",
   "name": "python3"
  },
  "language_info": {
   "codemirror_mode": {
    "name": "ipython",
    "version": 3
   },
   "file_extension": ".py",
   "mimetype": "text/x-python",
   "name": "python",
   "nbconvert_exporter": "python",
   "pygments_lexer": "ipython3",
   "version": "3.9.0"
  }
 },
 "nbformat": 4,
 "nbformat_minor": 2
}
