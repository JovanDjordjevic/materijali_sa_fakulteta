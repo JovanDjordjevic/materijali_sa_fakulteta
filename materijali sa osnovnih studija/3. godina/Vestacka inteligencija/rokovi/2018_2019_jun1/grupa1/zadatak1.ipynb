{
 "cells": [
  {
   "cell_type": "markdown",
   "metadata": {},
   "source": [
    "# Zadatak 1 - Algoritam `A*`"
   ]
  },
  {
   "cell_type": "code",
   "execution_count": 17,
   "metadata": {},
   "outputs": [],
   "source": [
    "class Graph:\n",
    "    def __init__(self, elements, target):\n",
    "        self.elements = elements # Raspolozivi brojevi\n",
    "        self.target = target # Ciljni zbir\n",
    "        \n",
    "    # Funkcija vraca niz susednih stanja u obliku (w, e)\n",
    "    # gde je w susedno stanje a e duzina grane od cvora v\n",
    "    # do cvora w\n",
    "    def get_neighbors(self, v):\n",
    "        neighbors = []\n",
    "        # === Studentski kod === #\n",
    "        for elem in self.elements:\n",
    "            neighbors.append( (v + elem, elem) )     \n",
    "        return neighbors\n",
    "    \n",
    "    def h(self, v):\n",
    "        # === Studentski kod === #\n",
    "        return abs(self.target - v)\n",
    "        \n",
    "    def astar(self, start):\n",
    "        # === Studentski kod === #\n",
    "        open_set = set()\n",
    "        open_set.add(start)\n",
    "        \n",
    "        closed_set = set()\n",
    "        \n",
    "        shortest_paths = {}\n",
    "        shortest_paths[start] = start\n",
    "        \n",
    "        parents = {}\n",
    "        parents[start] = start\n",
    "        \n",
    "        while len(open_set) > 0:\n",
    "            \n",
    "            min_hg = float('inf')\n",
    "            n = None\n",
    "            for elem in open_set:\n",
    "                if shortest_paths[elem] + self.h(elem) < min_hg:\n",
    "                    min_hg = shortest_paths[elem] + self.h(elem)\n",
    "                    n = elem\n",
    "            \n",
    "            if n == self.target:\n",
    "                path = []\n",
    "                while n != parents[n]:\n",
    "                    path.append(n)\n",
    "                    n = parents[n]\n",
    "                path.append(start)\n",
    "                path.reverse()\n",
    "                return path\n",
    "            \n",
    "            for (neighbour, weight) in self.get_neighbors(n):\n",
    "                if neighbour not in open_set and neighbour not in closed_set:\n",
    "                    open_set.add(neighbour)\n",
    "                    shortest_paths[neighbour] = shortest_paths[n] + weight\n",
    "                    parents[neighbour] = n\n",
    "                else:\n",
    "                    if shortest_paths[n] + weight + self.h(neighbour) < shortest_paths[neighbour] + self.h(neighbour):\n",
    "                            shortest_paths[neighbour] = shortest_paths[n] + weight\n",
    "                            parents[neighbour] = n\n",
    "                            \n",
    "                            if neighbour in closed_set:\n",
    "                                closed_set.remove(neighbour)\n",
    "                                open_set.add(neighbour)\n",
    "            \n",
    "            open_set.remove(n)\n",
    "            closed_set.add(n)\n",
    "        \n",
    "        print('Put nije pronadjen!')\n",
    "        return None"
   ]
  },
  {
   "cell_type": "code",
   "execution_count": 18,
   "metadata": {},
   "outputs": [
    {
     "name": "stdout",
     "output_type": "stream",
     "text": [
      "1. sabirak: 2\n",
      "2. sabirak: 5\n",
      "3. sabirak: 8\n"
     ]
    }
   ],
   "source": [
    "elements = [1,2,3,5,8]\n",
    "\n",
    "g = Graph(elements, 15)\n",
    "path = g.astar(0)\n",
    "n = len(path)\n",
    "for i in range(1, n):\n",
    "    print('{}. sabirak: {}'.format(i, path[i] - path[i - 1]))"
   ]
  }
 ],
 "metadata": {
  "kernelspec": {
   "display_name": "Python 3",
   "language": "python",
   "name": "python3"
  },
  "language_info": {
   "codemirror_mode": {
    "name": "ipython",
    "version": 3
   },
   "file_extension": ".py",
   "mimetype": "text/x-python",
   "name": "python",
   "nbconvert_exporter": "python",
   "pygments_lexer": "ipython3",
   "version": "3.9.0"
  }
 },
 "nbformat": 4,
 "nbformat_minor": 2
}
