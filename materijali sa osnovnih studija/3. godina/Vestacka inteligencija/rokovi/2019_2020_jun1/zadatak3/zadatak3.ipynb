{
 "cells": [
  {
   "cell_type": "code",
   "execution_count": 133,
   "metadata": {},
   "outputs": [],
   "source": [
    "import numpy as np\n",
    "import matplotlib.pyplot as plt\n",
    "import pandas as pd\n",
    "from sklearn import model_selection\n",
    "\n",
    "import tensorflow as tf\n",
    "from tensorflow import keras\n",
    "\n",
    "# from keras.layers import Dense\n",
    "# from keras.models import Sequential\n",
    "# from keras.utils import to_categorical\n",
    "\n",
    "%matplotlib inline"
   ]
  },
  {
   "cell_type": "code",
   "execution_count": 134,
   "metadata": {},
   "outputs": [],
   "source": [
    "categorical_attributes = ['buying', 'maint', 'doors', 'persons', 'lug_boot', 'safety']\n",
    "target_variable = ['class']"
   ]
  },
  {
   "cell_type": "markdown",
   "metadata": {},
   "source": [
    "a) Učitati podatke iz datoteke `car.csv` za problem klasifikacije. Prikazati referentne statistike za atribute\n",
    "koristeći `pandas` metod `describe`."
   ]
  },
  {
   "cell_type": "code",
   "execution_count": 136,
   "metadata": {},
   "outputs": [
    {
     "data": {
      "text/html": [
       "<div>\n",
       "<style scoped>\n",
       "    .dataframe tbody tr th:only-of-type {\n",
       "        vertical-align: middle;\n",
       "    }\n",
       "\n",
       "    .dataframe tbody tr th {\n",
       "        vertical-align: top;\n",
       "    }\n",
       "\n",
       "    .dataframe thead th {\n",
       "        text-align: right;\n",
       "    }\n",
       "</style>\n",
       "<table border=\"1\" class=\"dataframe\">\n",
       "  <thead>\n",
       "    <tr style=\"text-align: right;\">\n",
       "      <th></th>\n",
       "      <th>buying</th>\n",
       "      <th>maint</th>\n",
       "      <th>doors</th>\n",
       "      <th>persons</th>\n",
       "      <th>lug_boot</th>\n",
       "      <th>safety</th>\n",
       "      <th>class</th>\n",
       "    </tr>\n",
       "  </thead>\n",
       "  <tbody>\n",
       "    <tr>\n",
       "      <th>0</th>\n",
       "      <td>vhigh</td>\n",
       "      <td>vhigh</td>\n",
       "      <td>2</td>\n",
       "      <td>2</td>\n",
       "      <td>small</td>\n",
       "      <td>low</td>\n",
       "      <td>unacc</td>\n",
       "    </tr>\n",
       "    <tr>\n",
       "      <th>1</th>\n",
       "      <td>vhigh</td>\n",
       "      <td>vhigh</td>\n",
       "      <td>2</td>\n",
       "      <td>2</td>\n",
       "      <td>small</td>\n",
       "      <td>med</td>\n",
       "      <td>unacc</td>\n",
       "    </tr>\n",
       "    <tr>\n",
       "      <th>2</th>\n",
       "      <td>vhigh</td>\n",
       "      <td>vhigh</td>\n",
       "      <td>2</td>\n",
       "      <td>2</td>\n",
       "      <td>small</td>\n",
       "      <td>high</td>\n",
       "      <td>unacc</td>\n",
       "    </tr>\n",
       "    <tr>\n",
       "      <th>3</th>\n",
       "      <td>vhigh</td>\n",
       "      <td>vhigh</td>\n",
       "      <td>2</td>\n",
       "      <td>2</td>\n",
       "      <td>med</td>\n",
       "      <td>low</td>\n",
       "      <td>unacc</td>\n",
       "    </tr>\n",
       "    <tr>\n",
       "      <th>4</th>\n",
       "      <td>vhigh</td>\n",
       "      <td>vhigh</td>\n",
       "      <td>2</td>\n",
       "      <td>2</td>\n",
       "      <td>med</td>\n",
       "      <td>med</td>\n",
       "      <td>unacc</td>\n",
       "    </tr>\n",
       "  </tbody>\n",
       "</table>\n",
       "</div>"
      ],
      "text/plain": [
       "  buying  maint doors persons lug_boot safety  class\n",
       "0  vhigh  vhigh     2       2    small    low  unacc\n",
       "1  vhigh  vhigh     2       2    small    med  unacc\n",
       "2  vhigh  vhigh     2       2    small   high  unacc\n",
       "3  vhigh  vhigh     2       2      med    low  unacc\n",
       "4  vhigh  vhigh     2       2      med    med  unacc"
      ]
     },
     "execution_count": 136,
     "metadata": {},
     "output_type": "execute_result"
    }
   ],
   "source": [
    "df = pd.read_csv('car.csv')\n",
    "df.describe()\n",
    "#df.head()"
   ]
  },
  {
   "cell_type": "markdown",
   "metadata": {},
   "source": [
    "b) Kategoričke atribute enkodirati koristeći *dummy* enkodiranje."
   ]
  },
  {
   "cell_type": "code",
   "execution_count": 150,
   "metadata": {},
   "outputs": [
    {
     "name": "stderr",
     "output_type": "stream",
     "text": [
      "<ipython-input-150-653c814dcf17>:8: SettingWithCopyWarning: \n",
      "A value is trying to be set on a copy of a slice from a DataFrame.\n",
      "Try using .loc[row_indexer,col_indexer] = value instead\n",
      "\n",
      "See the caveats in the documentation: https://pandas.pydata.org/pandas-docs/stable/user_guide/indexing.html#returning-a-view-versus-a-copy\n",
      "  y['class'] = y['class'].map({'acc': 0, 'good': 1, 'unacc': 2, 'vgood': 3})\n"
     ]
    }
   ],
   "source": [
    "X = df.drop('class', axis = 1)\n",
    "#X.head()\n",
    "\n",
    "X = pd.get_dummies(X)\n",
    "#X.head()\n",
    "\n",
    "y = df[['class']]\n",
    "y['class'] = y['class'].map({'acc': 0, 'good': 1, 'unacc': 2, 'vgood': 3})\n",
    "#y.head()"
   ]
  },
  {
   "cell_type": "markdown",
   "metadata": {},
   "source": [
    "c) Učitane podatke razdvojiti u dva podskupa, $X$ gde se nalaze svi atributi bez ciljne promenljive `class`, i $y$ gde se\n",
    "nalazi ciljna promenljiva `class`. Dozvoljeno je koristiti sve dostupne bibliotečke funkcije."
   ]
  },
  {
   "cell_type": "code",
   "execution_count": null,
   "metadata": {},
   "outputs": [],
   "source": [
    "# to je ovo gore"
   ]
  },
  {
   "cell_type": "markdown",
   "metadata": {},
   "source": [
    "d) Podeliti podatke na skup za obučavanje i validaciju u razmeri 3:1. "
   ]
  },
  {
   "cell_type": "code",
   "execution_count": 160,
   "metadata": {},
   "outputs": [
    {
     "data": {
      "text/plain": [
       "(1296, 21)"
      ]
     },
     "execution_count": 160,
     "metadata": {},
     "output_type": "execute_result"
    }
   ],
   "source": [
    "y = tf.keras.utils.to_categorical(y, 4)\n",
    "\n",
    "X_train, X_test, y_train, y_test = model_selection.train_test_split(X, y, train_size=0.75)\n",
    "X_train.shape"
   ]
  },
  {
   "cell_type": "markdown",
   "metadata": {},
   "source": [
    "e) Napraviti potpuno povezano neuronsku mrežu koja ima jedan skriveni sloj sa 32 neurona."
   ]
  },
  {
   "cell_type": "code",
   "execution_count": 159,
   "metadata": {},
   "outputs": [],
   "source": [
    "model = tf.keras.models.Sequential()\n",
    "model.add( tf.keras.layers.Dense(32, activation='relu') )#, input_shape=(1,21)) )\n",
    "model.add( tf.keras.layers.Dense(4, activation='softmax') )"
   ]
  },
  {
   "cell_type": "markdown",
   "metadata": {},
   "source": [
    "f) Izvršiti obučavanje prethodno definisane mreže na 10 epoha sa veličinom podskupa 32. Kao grešku koristiti kategoričku kros entropiju, ostale parametre odabrati proizvoljno. Postaviti i podatke za validaciju."
   ]
  },
  {
   "cell_type": "code",
   "execution_count": 175,
   "metadata": {},
   "outputs": [
    {
     "name": "stdout",
     "output_type": "stream",
     "text": [
      "Epoch 1/10\n",
      "41/41 [==============================] - 0s 3ms/step - loss: 0.0974 - accuracy: 0.9753 - val_loss: 0.1066 - val_accuracy: 0.9745\n",
      "Epoch 2/10\n",
      "41/41 [==============================] - 0s 826us/step - loss: 0.0952 - accuracy: 0.9745 - val_loss: 0.1052 - val_accuracy: 0.9699\n",
      "Epoch 3/10\n",
      "41/41 [==============================] - 0s 800us/step - loss: 0.0924 - accuracy: 0.9792 - val_loss: 0.1008 - val_accuracy: 0.9722\n",
      "Epoch 4/10\n",
      "41/41 [==============================] - 0s 825us/step - loss: 0.0897 - accuracy: 0.9792 - val_loss: 0.1015 - val_accuracy: 0.9769\n",
      "Epoch 5/10\n",
      "41/41 [==============================] - 0s 849us/step - loss: 0.0872 - accuracy: 0.9830 - val_loss: 0.0974 - val_accuracy: 0.9769\n",
      "Epoch 6/10\n",
      "41/41 [==============================] - 0s 826us/step - loss: 0.0853 - accuracy: 0.9807 - val_loss: 0.0957 - val_accuracy: 0.9769\n",
      "Epoch 7/10\n",
      "41/41 [==============================] - 0s 824us/step - loss: 0.0829 - accuracy: 0.9838 - val_loss: 0.0925 - val_accuracy: 0.9769\n",
      "Epoch 8/10\n",
      "41/41 [==============================] - 0s 826us/step - loss: 0.0816 - accuracy: 0.9838 - val_loss: 0.0912 - val_accuracy: 0.9792\n",
      "Epoch 9/10\n",
      "41/41 [==============================] - 0s 825us/step - loss: 0.0791 - accuracy: 0.9846 - val_loss: 0.0890 - val_accuracy: 0.9769\n",
      "Epoch 10/10\n",
      "41/41 [==============================] - 0s 801us/step - loss: 0.0773 - accuracy: 0.9830 - val_loss: 0.0885 - val_accuracy: 0.9722\n"
     ]
    }
   ],
   "source": [
    "epochs = 10\n",
    "batch_size = 32\n",
    "\n",
    "model.compile(optimizer='adam', loss=tf.keras.losses.CategoricalCrossentropy(), metrics=['accuracy'])\n",
    "\n",
    "history = model.fit(X_train, y_train, batch_size=batch_size, epochs=epochs\n",
    "         , validation_data=(X_test, y_test))"
   ]
  },
  {
   "cell_type": "code",
   "execution_count": 172,
   "metadata": {},
   "outputs": [
    {
     "name": "stdout",
     "output_type": "stream",
     "text": [
      "Model: \"sequential_6\"\n",
      "_________________________________________________________________\n",
      "Layer (type)                 Output Shape              Param #   \n",
      "=================================================================\n",
      "dense_9 (Dense)              (None, 32)                704       \n",
      "_________________________________________________________________\n",
      "dense_10 (Dense)             (None, 4)                 132       \n",
      "=================================================================\n",
      "Total params: 836\n",
      "Trainable params: 836\n",
      "Non-trainable params: 0\n",
      "_________________________________________________________________\n"
     ]
    }
   ],
   "source": [
    "model.summary()"
   ]
  },
  {
   "cell_type": "markdown",
   "metadata": {},
   "source": [
    "g) Nacrtati na istoj slici kako se menjala tačnost kroz epohe na skupovima za obučavanje i validaciju. Označiti u legendi šta označava koja linija."
   ]
  },
  {
   "cell_type": "code",
   "execution_count": 176,
   "metadata": {},
   "outputs": [
    {
     "data": {
      "image/png": "[encoded data removed]",
      "text/plain": [
       "<Figure size 432x288 with 1 Axes>"
      ]
     },
     "metadata": {
      "needs_background": "light"
     },
     "output_type": "display_data"
    }
   ],
   "source": [
    "plt.plot(history.history['accuracy'])\n",
    "plt.plot(history.history['val_accuracy'])\n",
    "plt.show()"
   ]
  },
  {
   "cell_type": "markdown",
   "metadata": {},
   "source": [
    "h) Testirati nekoliko verzija prethodne arhitekture tako što im se varira veličina skrivenog sloja (1, 2, 3, 10, 32, 64).\n",
    "Obučiti svaki mrežu nad podacima za obučavanje i nacrtati kako se menjala tačnost kroz epohe nad skupovima za obučavanje i validaciju.\n",
    "Koristiti iste parametre pri obučavanju kao u delu (e)."
   ]
  },
  {
   "cell_type": "code",
   "execution_count": 180,
   "metadata": {},
   "outputs": [
    {
     "name": "stdout",
     "output_type": "stream",
     "text": [
      "Epoch 1/10\n",
      "41/41 [==============================] - 0s 3ms/step - loss: 1.5111 - accuracy: 0.2986 - val_loss: 1.4354 - val_accuracy: 0.4213\n",
      "Epoch 2/10\n",
      "41/41 [==============================] - 0s 825us/step - loss: 1.4105 - accuracy: 0.4483 - val_loss: 1.3634 - val_accuracy: 0.5417\n",
      "Epoch 3/10\n",
      "41/41 [==============================] - 0s 775us/step - loss: 1.3459 - accuracy: 0.5556 - val_loss: 1.3149 - val_accuracy: 0.6296\n",
      "Epoch 4/10\n",
      "41/41 [==============================] - 0s 800us/step - loss: 1.2993 - accuracy: 0.6142 - val_loss: 1.2768 - val_accuracy: 0.6806\n",
      "Epoch 5/10\n",
      "41/41 [==============================] - 0s 775us/step - loss: 1.2622 - accuracy: 0.6605 - val_loss: 1.2434 - val_accuracy: 0.6921\n",
      "Epoch 6/10\n",
      "41/41 [==============================] - 0s 775us/step - loss: 1.2302 - accuracy: 0.6821 - val_loss: 1.2140 - val_accuracy: 0.7060\n",
      "Epoch 7/10\n",
      "41/41 [==============================] - 0s 775us/step - loss: 1.2016 - accuracy: 0.6898 - val_loss: 1.1868 - val_accuracy: 0.7106\n",
      "Epoch 8/10\n",
      "41/41 [==============================] - 0s 775us/step - loss: 1.1754 - accuracy: 0.6937 - val_loss: 1.1618 - val_accuracy: 0.7106\n",
      "Epoch 9/10\n",
      "41/41 [==============================] - 0s 825us/step - loss: 1.1513 - accuracy: 0.6960 - val_loss: 1.1383 - val_accuracy: 0.7130\n",
      "Epoch 10/10\n",
      "41/41 [==============================] - 0s 850us/step - loss: 1.1289 - accuracy: 0.6960 - val_loss: 1.1165 - val_accuracy: 0.7130\n",
      "modeli with 1 layers is done\n",
      "Epoch 1/10\n",
      "41/41 [==============================] - 0s 3ms/step - loss: 1.5119 - accuracy: 0.4460 - val_loss: 1.4148 - val_accuracy: 0.5324\n",
      "Epoch 2/10\n",
      "41/41 [==============================] - 0s 801us/step - loss: 1.3812 - accuracy: 0.5648 - val_loss: 1.3030 - val_accuracy: 0.6157\n",
      "Epoch 3/10\n",
      "41/41 [==============================] - 0s 775us/step - loss: 1.2863 - accuracy: 0.6319 - val_loss: 1.2186 - val_accuracy: 0.6505\n",
      "Epoch 4/10\n",
      "41/41 [==============================] - 0s 800us/step - loss: 1.2097 - accuracy: 0.6566 - val_loss: 1.1452 - val_accuracy: 0.6736\n",
      "Epoch 5/10\n",
      "41/41 [==============================] - 0s 775us/step - loss: 1.1415 - accuracy: 0.6813 - val_loss: 1.0802 - val_accuracy: 0.6921\n",
      "Epoch 6/10\n",
      "41/41 [==============================] - 0s 800us/step - loss: 1.0806 - accuracy: 0.6883 - val_loss: 1.0245 - val_accuracy: 0.6991\n",
      "Epoch 7/10\n",
      "41/41 [==============================] - 0s 800us/step - loss: 1.0255 - accuracy: 0.6960 - val_loss: 0.9744 - val_accuracy: 0.7037\n",
      "Epoch 8/10\n",
      "41/41 [==============================] - 0s 776us/step - loss: 0.9749 - accuracy: 0.6998 - val_loss: 0.9296 - val_accuracy: 0.7060\n",
      "Epoch 9/10\n",
      "41/41 [==============================] - 0s 800us/step - loss: 0.9289 - accuracy: 0.7037 - val_loss: 0.8897 - val_accuracy: 0.7106\n",
      "Epoch 10/10\n",
      "41/41 [==============================] - 0s 826us/step - loss: 0.8878 - accuracy: 0.7037 - val_loss: 0.8548 - val_accuracy: 0.7153\n",
      "modeli with 2 layers is done\n",
      "Epoch 1/10\n",
      "41/41 [==============================] - 0s 3ms/step - loss: 1.3289 - accuracy: 0.5718 - val_loss: 1.2672 - val_accuracy: 0.6574\n",
      "Epoch 2/10\n",
      "41/41 [==============================] - 0s 775us/step - loss: 1.2183 - accuracy: 0.6628 - val_loss: 1.1598 - val_accuracy: 0.6991\n",
      "Epoch 3/10\n",
      "41/41 [==============================] - 0s 800us/step - loss: 1.1151 - accuracy: 0.6929 - val_loss: 1.0615 - val_accuracy: 0.7130\n",
      "Epoch 4/10\n",
      "41/41 [==============================] - 0s 800us/step - loss: 1.0224 - accuracy: 0.6960 - val_loss: 0.9776 - val_accuracy: 0.7130\n",
      "Epoch 5/10\n",
      "41/41 [==============================] - 0s 850us/step - loss: 0.9484 - accuracy: 0.6960 - val_loss: 0.9144 - val_accuracy: 0.7130\n",
      "Epoch 6/10\n",
      "41/41 [==============================] - 0s 825us/step - loss: 0.8944 - accuracy: 0.6960 - val_loss: 0.8706 - val_accuracy: 0.7130\n",
      "Epoch 7/10\n",
      "41/41 [==============================] - 0s 801us/step - loss: 0.8559 - accuracy: 0.6960 - val_loss: 0.8385 - val_accuracy: 0.7130\n",
      "Epoch 8/10\n",
      "41/41 [==============================] - 0s 825us/step - loss: 0.8269 - accuracy: 0.6960 - val_loss: 0.8135 - val_accuracy: 0.7130\n",
      "Epoch 9/10\n",
      "41/41 [==============================] - 0s 826us/step - loss: 0.8029 - accuracy: 0.6960 - val_loss: 0.7923 - val_accuracy: 0.7130\n",
      "Epoch 10/10\n",
      "41/41 [==============================] - 0s 800us/step - loss: 0.7814 - accuracy: 0.6960 - val_loss: 0.7729 - val_accuracy: 0.7130\n",
      "modeli with 3 layers is done\n",
      "Epoch 1/10\n",
      "41/41 [==============================] - 0s 3ms/step - loss: 1.2676 - accuracy: 0.4506 - val_loss: 1.1112 - val_accuracy: 0.5602\n",
      "Epoch 2/10\n",
      "41/41 [==============================] - 0s 850us/step - loss: 0.9771 - accuracy: 0.6628 - val_loss: 0.8835 - val_accuracy: 0.6921\n",
      "Epoch 3/10\n",
      "41/41 [==============================] - 0s 825us/step - loss: 0.8176 - accuracy: 0.7068 - val_loss: 0.7722 - val_accuracy: 0.7130\n",
      "Epoch 4/10\n",
      "41/41 [==============================] - 0s 800us/step - loss: 0.7332 - accuracy: 0.7153 - val_loss: 0.7078 - val_accuracy: 0.7245\n",
      "Epoch 5/10\n",
      "41/41 [==============================] - 0s 825us/step - loss: 0.6724 - accuracy: 0.7284 - val_loss: 0.6587 - val_accuracy: 0.7361\n",
      "Epoch 6/10\n",
      "41/41 [==============================] - 0s 825us/step - loss: 0.6217 - accuracy: 0.7392 - val_loss: 0.6161 - val_accuracy: 0.7523\n",
      "Epoch 7/10\n",
      "41/41 [==============================] - 0s 826us/step - loss: 0.5770 - accuracy: 0.7461 - val_loss: 0.5776 - val_accuracy: 0.7616\n",
      "Epoch 8/10\n",
      "41/41 [==============================] - 0s 850us/step - loss: 0.5388 - accuracy: 0.7677 - val_loss: 0.5440 - val_accuracy: 0.7708\n",
      "Epoch 9/10\n",
      "41/41 [==============================] - 0s 850us/step - loss: 0.5049 - accuracy: 0.7855 - val_loss: 0.5127 - val_accuracy: 0.7801\n",
      "Epoch 10/10\n",
      "41/41 [==============================] - 0s 849us/step - loss: 0.4751 - accuracy: 0.8025 - val_loss: 0.4853 - val_accuracy: 0.8032\n",
      "modeli with 10 layers is done\n",
      "Epoch 1/10\n",
      "41/41 [==============================] - 0s 3ms/step - loss: 1.1416 - accuracy: 0.5656 - val_loss: 0.9090 - val_accuracy: 0.7130\n",
      "Epoch 2/10\n",
      "41/41 [==============================] - 0s 824us/step - loss: 0.8200 - accuracy: 0.6960 - val_loss: 0.7588 - val_accuracy: 0.7130\n",
      "Epoch 3/10\n",
      "41/41 [==============================] - 0s 801us/step - loss: 0.7154 - accuracy: 0.6960 - val_loss: 0.6945 - val_accuracy: 0.7130\n",
      "Epoch 4/10\n",
      "41/41 [==============================] - 0s 825us/step - loss: 0.6459 - accuracy: 0.6975 - val_loss: 0.6310 - val_accuracy: 0.7130\n",
      "Epoch 5/10\n",
      "41/41 [==============================] - 0s 824us/step - loss: 0.5816 - accuracy: 0.7114 - val_loss: 0.5716 - val_accuracy: 0.7315\n",
      "Epoch 6/10\n",
      "41/41 [==============================] - 0s 849us/step - loss: 0.5213 - accuracy: 0.7485 - val_loss: 0.5167 - val_accuracy: 0.8079\n",
      "Epoch 7/10\n",
      "41/41 [==============================] - 0s 874us/step - loss: 0.4661 - accuracy: 0.8310 - val_loss: 0.4663 - val_accuracy: 0.8241\n",
      "Epoch 8/10\n",
      "41/41 [==============================] - 0s 824us/step - loss: 0.4199 - accuracy: 0.8588 - val_loss: 0.4236 - val_accuracy: 0.8657\n",
      "Epoch 9/10\n",
      "41/41 [==============================] - 0s 824us/step - loss: 0.3810 - accuracy: 0.8704 - val_loss: 0.3892 - val_accuracy: 0.8704\n",
      "Epoch 10/10\n",
      "41/41 [==============================] - 0s 824us/step - loss: 0.3503 - accuracy: 0.8873 - val_loss: 0.3570 - val_accuracy: 0.8750\n",
      "modeli with 32 layers is done\n",
      "Epoch 1/10\n",
      "41/41 [==============================] - 0s 3ms/step - loss: 0.9632 - accuracy: 0.6744 - val_loss: 0.7955 - val_accuracy: 0.7153\n",
      "Epoch 2/10\n",
      "41/41 [==============================] - 0s 824us/step - loss: 0.7165 - accuracy: 0.7006 - val_loss: 0.6663 - val_accuracy: 0.7153\n",
      "Epoch 3/10\n",
      "41/41 [==============================] - 0s 824us/step - loss: 0.5920 - accuracy: 0.7292 - val_loss: 0.5590 - val_accuracy: 0.7731\n",
      "Epoch 4/10\n",
      "41/41 [==============================] - 0s 824us/step - loss: 0.4912 - accuracy: 0.8194 - val_loss: 0.4730 - val_accuracy: 0.8287\n",
      "Epoch 5/10\n",
      "41/41 [==============================] - 0s 825us/step - loss: 0.4169 - accuracy: 0.8673 - val_loss: 0.4054 - val_accuracy: 0.8495\n",
      "Epoch 6/10\n",
      "41/41 [==============================] - 0s 826us/step - loss: 0.3639 - accuracy: 0.8765 - val_loss: 0.3681 - val_accuracy: 0.8611\n",
      "Epoch 7/10\n",
      "41/41 [==============================] - 0s 801us/step - loss: 0.3256 - accuracy: 0.8927 - val_loss: 0.3288 - val_accuracy: 0.8565\n"
     ]
    },
    {
     "name": "stdout",
     "output_type": "stream",
     "text": [
      "Epoch 8/10\n",
      "41/41 [==============================] - 0s 826us/step - loss: 0.2968 - accuracy: 0.8943 - val_loss: 0.3052 - val_accuracy: 0.8796\n",
      "Epoch 9/10\n",
      "41/41 [==============================] - 0s 824us/step - loss: 0.2718 - accuracy: 0.9020 - val_loss: 0.2807 - val_accuracy: 0.8773\n",
      "Epoch 10/10\n",
      "41/41 [==============================] - 0s 850us/step - loss: 0.2544 - accuracy: 0.9043 - val_loss: 0.2623 - val_accuracy: 0.8912\n",
      "modeli with 64 layers is done\n"
     ]
    }
   ],
   "source": [
    "def build_network(layer_size):\n",
    "    model = tf.keras.models.Sequential()\n",
    "    model.add( tf.keras.layers.Dense(layer_size, activation='relu') )\n",
    "    model.add( tf.keras.layers.Dense(4, activation='softmax') )\n",
    "    return model\n",
    "\n",
    "layer_sizes = [1, 2, 3, 10, 32, 64]\n",
    "histories = []\n",
    "for layer_size in layer_sizes:\n",
    "    model = build_network(layer_size)\n",
    "    model.compile(optimizer='adam', loss=tf.keras.losses.CategoricalCrossentropy(), metrics=['accuracy'])\n",
    "    history = model.fit(X_train, y_train, batch_size=batch_size, epochs=epochs\n",
    "                        , validation_data=(X_test, y_test))\n",
    "    histories.append(history)\n",
    "    print(f'modeli with {layer_size} layers is done')"
   ]
  },
  {
   "cell_type": "markdown",
   "metadata": {},
   "source": [
    "i) Nacrtati kako se menjala tačnost kroz epohe svih modela na skupu za obučavanje (1. slika) i skupu za validaciju (2. slika). Na slikama označiti koja linija označava koju verziju arhitekture.\n"
   ]
  },
  {
   "cell_type": "code",
   "execution_count": null,
   "metadata": {},
   "outputs": [],
   "source": [
    "# ..."
   ]
  }
 ],
 "metadata": {
  "kernelspec": {
   "display_name": "Python 3",
   "language": "python",
   "name": "python3"
  },
  "language_info": {
   "codemirror_mode": {
    "name": "ipython",
    "version": 3
   },
   "file_extension": ".py",
   "mimetype": "text/x-python",
   "name": "python",
   "nbconvert_exporter": "python",
   "pygments_lexer": "ipython3",
   "version": "3.9.0"
  }
 },
 "nbformat": 4,
 "nbformat_minor": 4
}
