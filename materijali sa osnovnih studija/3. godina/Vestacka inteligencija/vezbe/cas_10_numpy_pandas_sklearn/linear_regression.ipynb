{
 "cells": [
  {
   "cell_type": "code",
   "execution_count": 14,
   "id": "generous-stopping",
   "metadata": {},
   "outputs": [],
   "source": [
    "# uradicemo jednu linearnu regresiju nad nekim podacima. To je algoritam nadgeldanog ucenja\n",
    "# pokusavamo da predvidimo neku ciljanu vrednost\n",
    "\n",
    "# pipeline koji je vrlo cest kod problema masinskog ucenja:\n",
    "# 1) Priprema i obrada podataka\n",
    "# 2) Treniranje modela\n",
    "# 3) Evaulacija modela\n",
    "# 4) Koriscenje modela "
   ]
  },
  {
   "cell_type": "code",
   "execution_count": 40,
   "id": "thick-placement",
   "metadata": {},
   "outputs": [],
   "source": [
    "import pandas as pd\n",
    "import numpy as np\n",
    "\n",
    "# ne mroamo da pamtimo ove includove jer ce ih cesto biti gomila. na ispitu dobijamo verovatno vec gotove\n",
    "from sklearn.model_selection import train_test_split\n",
    "from sklearn.linear_model import LinearRegression\n",
    "from sklearn.metrics import r2_score, mean_squared_error"
   ]
  },
  {
   "cell_type": "code",
   "execution_count": 18,
   "id": "close-turkey",
   "metadata": {},
   "outputs": [
    {
     "name": "stdout",
     "output_type": "stream",
     "text": [
      "    mpg  cylinders  displacement  horsepower  weight  acceleration  model-year\n",
      "0  18.0          8         307.0       130.0    3504          12.0          70\n",
      "1  15.0          8         350.0       165.0    3693          11.5          70\n",
      "2  18.0          8         318.0       150.0    3436          11.0          70\n",
      "3  16.0          8         304.0       150.0    3433          12.0          70\n",
      "4  17.0          8         302.0       140.0    3449          10.5          70\n"
     ]
    }
   ],
   "source": [
    "# mpg je miles per galon, ovo cemo pokusavati da predvidimo\n",
    "df = pd.read_csv('auto-mpg.csv')   \n",
    "print(df.head())"
   ]
  },
  {
   "cell_type": "code",
   "execution_count": 20,
   "id": "optional-tooth",
   "metadata": {},
   "outputs": [],
   "source": [
    "# 1) prvo cemo obraditi podatke\n",
    "\n",
    "# jedna jednostavna obrada koju mozemo da radimo je da nekako resimo nepostojece vrednosti. \n",
    "# cesto se u csv fajlovima nepostojece vrednosti oznace npr sa ? ili sa # ili praznim karakterom\n",
    "# u nasem konkretnom csv-u nemamo nedostajuce vrednosti, ali radimo ovo za primer\n",
    "# replace(sta_menjamo, cime_menjamo)\n",
    "df = df.replace('?', np.nan)\n",
    "# mi ovde npr izbacujemo sve nepostojece vrednosti\n",
    "df = df.dropna()"
   ]
  },
  {
   "cell_type": "code",
   "execution_count": 25,
   "id": "frank-uncle",
   "metadata": {},
   "outputs": [
    {
     "name": "stdout",
     "output_type": "stream",
     "text": [
      "   cylinders  displacement  horsepower  weight  acceleration  model-year\n",
      "0          8         307.0       130.0    3504          12.0          70\n",
      "1          8         350.0       165.0    3693          11.5          70\n",
      "2          8         318.0       150.0    3436          11.0          70\n",
      "3          8         304.0       150.0    3433          12.0          70\n",
      "4          8         302.0       140.0    3449          10.5          70\n",
      "\n",
      "    mpg\n",
      "0  18.0\n",
      "1  15.0\n",
      "2  18.0\n",
      "3  16.0\n",
      "4  17.0\n"
     ]
    }
   ],
   "source": [
    "# razdvojicemo podatke na ulazne podatke i na podatke koje hocemod a predvidimo\n",
    "# ulazni podaci su nam svi oni bez miles per galon\n",
    "X = df.drop('mpg', axis=1)\n",
    "# a ovo su podaci koje predvidjamo\n",
    "Y = df[['mpg']]\n",
    "\n",
    "print(X.head())\n",
    "print()\n",
    "print(Y.head())"
   ]
  },
  {
   "cell_type": "code",
   "execution_count": 29,
   "id": "amateur-inflation",
   "metadata": {},
   "outputs": [],
   "source": [
    "# potrebno je podeliti podatke na trening i test skup, da se slucajno nebi desilo preprilagodjavanje\n",
    "# (ne mora uvek nuzno na trening i test, ima i drugih podela, npr unakrsna validacija)\n",
    "# mozemo ovo raditi rucno u pandasu ali u sklearn imamo vec ugradjenu funkciju za ovo\n",
    "\n",
    "# test_size je u procentima koliko ukupnog skupa ce biti test skup \n",
    "# (alternativno,mogli smo da koristimo i train_size=...)\n",
    "# random_state=... je seed za random brojeve na osnovu kojih ce se birati skupovi, ako ovo setujemo rucno,\n",
    "# svaki put ce se raditi sa istim seedom, tj uvek ce biti slicna podela na train i test.\n",
    "# ovo moze da nam bude korisno za testiranje promena koje napravimo \n",
    "# rezultat su podeljeni ulazni i izlazni podaci na train i test (naravno, podaci ce odgovarati bas\n",
    "# onim podacima iz tabele, npr ako u train skupu treba da se nadje prvi red iz X, nacice se i prvi red iz Y)\n",
    "X_train, X_test, Y_train, Y_test = train_test_split(X, Y, test_size=0.25, random_state=42)"
   ]
  },
  {
   "cell_type": "code",
   "execution_count": 38,
   "id": "fixed-count",
   "metadata": {},
   "outputs": [
    {
     "name": "stdout",
     "output_type": "stream",
     "text": [
      "-13.824169113397168\n",
      "coef za cylinders = -0.2381301557148593\n",
      "coef za displacement = 0.001683903382560182\n",
      "coef za horsepower = -0.00025019058188301623\n",
      "coef za weight = -0.006621560986020143\n",
      "coef za acceleration = 0.010273669827510268\n",
      "coef za model-year = 0.7625231149758138\n"
     ]
    }
   ],
   "source": [
    "# 2) pravimo i treniramo model\n",
    "\n",
    "# i za linearnu regresiju ne moramo sami da implementiramo nista, koristimo ugradjeno iz sklearn\n",
    "# svi modeli iz biblioteke prate neku konvenciju. Svi imaju metode fit i predict\n",
    "reg = LinearRegression()\n",
    "# funkcija fit ce za nas napraviti neki model koji odgovara podacima naseg train skupa\n",
    "reg.fit(X_train, Y_train)\n",
    "\n",
    "# mozemo npr da vidimo slobodnog clana iz modela linearne regresije\n",
    "print(reg.intercept_[0])\n",
    "\n",
    "# nnpr da vidimo vrednosti modela dodeljene svakoj koloni\n",
    "for idx, col_name in enumerate(X_train.columns):\n",
    "    print(f'coef za {col_name} = {reg.coef_[0][idx]}')\n"
   ]
  },
  {
   "cell_type": "code",
   "execution_count": 45,
   "id": "realistic-george",
   "metadata": {},
   "outputs": [
    {
     "name": "stdout",
     "output_type": "stream",
     "text": [
      "r2 test 0.7757849559316723\n",
      "r2 train 0.8134917530842111\n",
      "mse test 11.054880997716923\n",
      "mse train 12.04121219273428\n",
      "rmse test 3.3248881180750915\n",
      "rmse train 3.4700449842522616\n"
     ]
    }
   ],
   "source": [
    "# 3) evaluiramo model\n",
    "\n",
    "# mozemo iz sklearn da koristimo vec neke ugradjene evaluacije npr r2 metriku i srednje kvadratnu gresku\n",
    "# r2 metrika\n",
    "r2_test = reg.score(X_test, Y_test)\n",
    "r2_train = reg.score(X_train, Y_train)\n",
    "print(f'r2 test {r2_test}')\n",
    "print(f'r2 train {r2_train}')\n",
    "\n",
    "# srednje kvadratna greska\n",
    "# pazimo samo na argumente. Prvi argument su originalne vrednosti iz skupa, \n",
    "# a drugi treba da bude ono sto nas model predvidja\n",
    "mse_test = mean_squared_error(Y_test, reg.predict(X_test))\n",
    "mse_train = mean_squared_error(Y_train, reg.predict(X_train))\n",
    "print(f'mse test {mse_test}')\n",
    "print(f'mse train {mse_train}')\n",
    "\n",
    "# mozemo saznati i za koliko u proseku milja po galonu gresimo tako sto uzmemo koren (jer je srednje kvadratna greska)\n",
    "rmse_test = np.sqrt(mse_test)\n",
    "rmse_train = np.sqrt(mse_train)\n",
    "print(f'rmse test {rmse_test}')\n",
    "print(f'rmse train {rmse_train}')"
   ]
  },
  {
   "cell_type": "code",
   "execution_count": 51,
   "id": "identified-connection",
   "metadata": {},
   "outputs": [
    {
     "data": {
      "text/plain": [
       "array([[15.05317559]])"
      ]
     },
     "execution_count": 51,
     "metadata": {},
     "output_type": "execute_result"
    }
   ],
   "source": [
    "# 4) primer koriscenja modela\n",
    "\n",
    "class MPGEvaluator:\n",
    "    def __init__(self, model):\n",
    "        self.model = model\n",
    "        \n",
    "    def predict(self, car_data):\n",
    "        return self.model.predict(car_data)\n",
    "    \n",
    "mpgEvaluator = MPGEvaluator(reg)\n",
    "\n",
    "# neki podatak za primer da vidimo kako ovo radi\n",
    "# posto predvidjamo mpg, podaci ne treba da ga sadrze\n",
    "# cylinders  displacement  horsepower  weight  acceleration  model-year\n",
    "car_data = [8, 307.0, 130.0, 3504, 12.0, 70]\n",
    "mpgEvaluator.predict([car_data])"
   ]
  }
 ],
 "metadata": {
  "kernelspec": {
   "display_name": "Python 3",
   "language": "python",
   "name": "python3"
  },
  "language_info": {
   "codemirror_mode": {
    "name": "ipython",
    "version": 3
   },
   "file_extension": ".py",
   "mimetype": "text/x-python",
   "name": "python",
   "nbconvert_exporter": "python",
   "pygments_lexer": "ipython3",
   "version": "3.9.0"
  }
 },
 "nbformat": 4,
 "nbformat_minor": 5
}
