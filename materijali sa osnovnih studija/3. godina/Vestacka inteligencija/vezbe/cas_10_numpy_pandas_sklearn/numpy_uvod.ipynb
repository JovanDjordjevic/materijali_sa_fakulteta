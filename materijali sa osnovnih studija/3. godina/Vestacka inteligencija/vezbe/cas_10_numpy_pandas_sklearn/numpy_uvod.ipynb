{
 "cells": [
  {
   "cell_type": "code",
   "execution_count": 5,
   "id": "stunning-dialogue",
   "metadata": {},
   "outputs": [],
   "source": [
    "import numpy as np"
   ]
  },
  {
   "cell_type": "code",
   "execution_count": 12,
   "id": "fixed-theology",
   "metadata": {},
   "outputs": [
    {
     "name": "stdout",
     "output_type": "stream",
     "text": [
      "[1 2 3]\n",
      "(3,)\n",
      "<class 'numpy.ndarray'>\n",
      "1 2 3\n",
      "[1 2 5]\n"
     ]
    }
   ],
   "source": [
    "a = np.array([1,2,3])   # jednodimenzioni niz\n",
    "print(a)\n",
    "print(a.shape)   # ako u shape fali drugi element kao ovde, onda je to niz a ne matrica\n",
    "print(type(a))\n",
    "print(a[0], a[1], a[2])\n",
    "a[2] = 5\n",
    "print(a)"
   ]
  },
  {
   "cell_type": "code",
   "execution_count": 14,
   "id": "angry-hearts",
   "metadata": {},
   "outputs": [
    {
     "name": "stdout",
     "output_type": "stream",
     "text": [
      "2\n"
     ]
    }
   ],
   "source": [
    "# visedimenzioni niz je niz nizova\n",
    "b = np.array([ [1,2,3], [4,5,6]])\n",
    "# mozemo indeksirati onako standarno sa [i][j] ali preporuka je da se za numpy nizove koristi\n",
    "# indeksiranje sa [i, j]. To je zato sto se u pozadini ako imamo [][] pravi temp niz posle prvog []\n",
    "print( b[0,1])"
   ]
  },
  {
   "cell_type": "code",
   "execution_count": 22,
   "id": "assisted-orlando",
   "metadata": {},
   "outputs": [
    {
     "name": "stdout",
     "output_type": "stream",
     "text": [
      "[[1. 0. 0. 0.]\n",
      " [0. 1. 0. 0.]\n",
      " [0. 0. 1. 0.]\n",
      " [0. 0. 0. 1.]]\n",
      "[[0. 0.]\n",
      " [0. 0.]]\n",
      "[[1. 1. 1.]\n",
      " [1. 1. 1.]]\n",
      "[[7 7 7 7]\n",
      " [7 7 7 7]\n",
      " [7 7 7 7]]\n",
      "[[0.37454012 0.95071431]\n",
      " [0.73199394 0.59865848]]\n"
     ]
    }
   ],
   "source": [
    "# jedinicna matrica\n",
    "a = np.eye(4)\n",
    "print(a)\n",
    "\n",
    "# niz inicijalizovan nulama (prosledimo dimenzije)\n",
    "b = np.zeros((2,2))\n",
    "print(b)\n",
    "\n",
    "# niz inicijalizovan jedinicama\n",
    "c = np.ones((2,3))\n",
    "print(c)\n",
    "\n",
    "# niz inicijalizovan nekom vrednoscu koju zelimo\n",
    "d = np.full((3,4), 7)\n",
    "print(d)\n",
    "\n",
    "# matrica sa nasumicnim vrednostima, moramo prvo postaviti neki seed\n",
    "np.random.seed(42)\n",
    "e = np.random.random((2,2))\n",
    "print(e)"
   ]
  },
  {
   "cell_type": "code",
   "execution_count": 25,
   "id": "attempted-wonder",
   "metadata": {},
   "outputs": [
    {
     "name": "stdout",
     "output_type": "stream",
     "text": [
      "[[2 3]\n",
      " [6 7]]\n",
      "[[ 1 77  3  4]\n",
      " [ 5  6  7  8]\n",
      " [ 9 10 11 12]]\n"
     ]
    }
   ],
   "source": [
    "# VAZNO:\n",
    "# recimo da hocemo da napravimo matricu (3x4)\n",
    "a = np.array( [[1,2,3,4], [5,6,7,8],[9,10,11,12] ])\n",
    "\n",
    "# mozemo raditi slice-ovanje ndimenzionog niza u numpyju ali ima specificnost\n",
    "b = a[:2, 1:3]\n",
    "print(b)\n",
    "\n",
    "# ALI, kada izmenimo vrednost u toj novoj matrici, izmenice se i polazna matrica\n",
    "# znaci mi smo samo napravili \"pogled\"/ referencu na deo polaznog niza\n",
    "# znaci OBAVEZNO raditi deepcopy!\n",
    "b[0][0] = 77\n",
    "print(a)"
   ]
  },
  {
   "cell_type": "code",
   "execution_count": 27,
   "id": "foster-stretch",
   "metadata": {},
   "outputs": [
    {
     "name": "stdout",
     "output_type": "stream",
     "text": [
      "[[ 6  8]\n",
      " [10 12]]\n",
      "[[-4 -4]\n",
      " [-4 -4]]\n",
      "[[ 5 12]\n",
      " [21 32]]\n",
      "[[0.2        0.33333333]\n",
      " [0.42857143 0.5       ]]\n"
     ]
    }
   ],
   "source": [
    "# ako ne navedemo tip, on ce sam biti zakljucen (ovde bi bio int) i to moze uticati na rezultat operacija\n",
    "x = np.array([[1,2], [3,4]], dtype=np.float64)\n",
    "y = np.array([[5,6], [7,8]], dtype=np.float64)\n",
    "\n",
    "# imamo operacije sa matricama po koordinatama\n",
    "print(x+y)\n",
    "print(x-y)\n",
    "print(x*y)   # OVO JE KOORDINATNO MNOZENJE, A NE MNOZENJE MATRICA\n",
    "print(x/y)\n",
    "\n",
    "print(x.dot(y)) # OVO JE PRAVO MNOZENJE MATRICA\n",
    "\n",
    "v = np.array([9, 10])\n",
    "w = np.array([11, 12])\n",
    "print(v.dot(w))         #skalarni proizvod vektora (jednodimenzionih nizova)"
   ]
  }
 ],
 "metadata": {
  "kernelspec": {
   "display_name": "Python 3",
   "language": "python",
   "name": "python3"
  },
  "language_info": {
   "codemirror_mode": {
    "name": "ipython",
    "version": 3
   },
   "file_extension": ".py",
   "mimetype": "text/x-python",
   "name": "python",
   "nbconvert_exporter": "python",
   "pygments_lexer": "ipython3",
   "version": "3.9.0"
  }
 },
 "nbformat": 4,
 "nbformat_minor": 5
}
