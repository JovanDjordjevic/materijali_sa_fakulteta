{
 "cells": [
  {
   "cell_type": "code",
   "execution_count": 28,
   "id": "imperial-treatment",
   "metadata": {},
   "outputs": [],
   "source": [
    "# konvolutivne mreze imaju neku kombinaciju slojeva konvolucije i sojeva agregacije. Poenta tih slojeva je \n",
    "# da smanjimo velicinu ulaza u neku neuronsku mrezu (prvih 15ak minuta na snimku vezbi je okej objasnjenje\n",
    "\n",
    "# u ovom primeru naucicemo neku mrezu da za nas klasifikuje slike u boji iz cifar10 dataseta\n",
    "import tensorflow as tf\n",
    "from tensorflow.keras import datasets, layers, models\n",
    "import matplotlib.pyplot as plt"
   ]
  },
  {
   "cell_type": "code",
   "execution_count": 29,
   "id": "parliamentary-creek",
   "metadata": {},
   "outputs": [],
   "source": [
    "# kao na proslom casu, u kerasu ovaj dataset vec postoji ugradjen\n",
    "(train_images, train_labels), (test_images, test_labels) = datasets.cifar10.load_data()"
   ]
  },
  {
   "cell_type": "code",
   "execution_count": 30,
   "id": "focused-wagon",
   "metadata": {},
   "outputs": [
    {
     "name": "stdout",
     "output_type": "stream",
     "text": [
      "(50000, 32, 32, 3)\n"
     ]
    }
   ],
   "source": [
    "# kada smo ucitali podatke, dobra praksa je uvek da pogledamo sta su ti podaci, da viidmo shape itd\n",
    "# vidimo da imamo 50000 slika dimenzija 32x32x3  (x3 za RGB jer su u boji)\n",
    "print(train_images.shape)"
   ]
  },
  {
   "cell_type": "code",
   "execution_count": 31,
   "id": "infinite-advance",
   "metadata": {},
   "outputs": [],
   "source": [
    "# imamo samo labele koji su brojevi, pa cemo napraviti i neki niz imena koja tim brojevima odgovaraju\n",
    "# ovo smo videli na netu koje to tacno kategorije treba da budu\n",
    "class_names = ['airplane', 'automobile', 'bird', 'car', 'deer', 'dog', 'frog', 'horse', 'ship', 'truck'] "
   ]
  },
  {
   "cell_type": "code",
   "execution_count": 32,
   "id": "engaging-extreme",
   "metadata": {},
   "outputs": [
    {
     "name": "stdout",
     "output_type": "stream",
     "text": [
      "255\n",
      "0\n",
      "1.0\n",
      "0.0\n"
     ]
    }
   ],
   "source": [
    "# stampamo min i max vrednosti, cisto da vidimo u kom opsegu se nalaze. Dobra praksa je uvek da te vrednosti\n",
    "# normalizujemo na interval [0,1]\n",
    "print(train_images.max())\n",
    "print(train_images.min())\n",
    "\n",
    "# pazimo ovde na mogucu gresku pomenutu na proslom casu!\n",
    "train_images_normalized = train_images / 255.0\n",
    "test_images_normalized = test_images / 255.0\n",
    "\n",
    "# radi provere\n",
    "print(train_images_normalized.max())\n",
    "print(train_images_normalized.min())"
   ]
  },
  {
   "cell_type": "code",
   "execution_count": 33,
   "id": "victorian-plasma",
   "metadata": {},
   "outputs": [],
   "source": [
    "# slike su vec za nas podeljene u train i test, tako da mozemod a pocnemo da pravimo model\n",
    "model = models.Sequential()\n",
    "\n",
    "# nakon sto se primeni konvolucija matrica, u dobijenoj matrici, nad svakim clan treba da se primeni \n",
    "# funkcija aktivacije. To se radi da bismo mogli da modelujemo i neke nelinearne zavisnosti (?)\n",
    "# Linearna regresija moze da modeluje samo linearne zavisnosti, dok je moc neuronskih mreza sto moze da\n",
    "# modeluje i nelinearne (jer aktuvacione funkcije ne moraju biti linearne)\n",
    "\n",
    "# ono sto mi ucimo u mrezi je filter/filteri koji se primenjuju na matrice tokom konvolucije(?)\n",
    "# filteri se zovu i kerneli\n",
    "\n",
    "# dodajemo slojeve. Posto radimo konvoluciju matrica, potrebno je da stavimo 2D\n",
    "# Conv2D( broj_filtera_koji_se_uci_na_sloju, shape_za_svaki_filter, aktivaciona_funkcija, shape_inputa)\n",
    "# mi smo ovde stavili da se za svaki kanal R G i B uci 32 filtera vec na prvom sloju\n",
    "\n",
    "# pomenuo je jos i opciju padding='...' Padding radi to da oko nase ulazen matrice ubaci jos jedan praznan\n",
    "# sloj. Ovo se radi zato sto se tokom konvolucije dosta gube ti ivicni podaci. tu postoje razne vrste paddinga\n",
    "# paddin='same' kaze da ce se padding sloj popuniti istim brojevima kao ivicni red/kolona    (ovo je najcesce) \n",
    "# moze i padding sa nulama\n",
    "# padding ima smisla samo ovde na konvolutivnom sloju\n",
    "model.add( layers.Conv2D(32, (3,3), activation='relu', input_shape=(32, 32, 3)) )\n",
    "# najcesce posle jednog(ili vise) konvolutivnog sloja ide sloj agregacje \n",
    "# agregacija se jos zove i pooling. Ima razlzicitih vrsta poolinga, npr max pooling, average pooling itd..\n",
    "# 2D jer je ulaz u ovaj sloj matrica\n",
    "# argument je koliku podmatricu menjamo jednim brojem. Znaci mi ovde svaku 2x2 podmatricu iz ulaza\n",
    "# u ovaj sloj menjamo jednim brojem \n",
    "# naravno, svi ovi parametri (dimenzije, broj filtera itd...) su promenljivi dok se trenira mreza\n",
    "model.add( layers.MaxPooling2D((2,2)) )\n",
    "# mozemo opet npr staviti jedan sloj konvolucije\n",
    "model.add( layers.Conv2D(64, (3,3), activation='relu') )\n",
    "# itd mozemo dodavati slojeve kako zelimo...\n",
    "model.add( layers.MaxPooling2D((2,2)) )\n",
    "model.add( layers.Conv2D(64, (3,3), activation='relu') )"
   ]
  },
  {
   "cell_type": "code",
   "execution_count": 34,
   "id": "noble-morrison",
   "metadata": {},
   "outputs": [
    {
     "name": "stdout",
     "output_type": "stream",
     "text": [
      "Model: \"sequential_2\"\n",
      "_________________________________________________________________\n",
      "Layer (type)                 Output Shape              Param #   \n",
      "=================================================================\n",
      "conv2d_3 (Conv2D)            (None, 30, 30, 32)        896       \n",
      "_________________________________________________________________\n",
      "max_pooling2d_2 (MaxPooling2 (None, 15, 15, 32)        0         \n",
      "_________________________________________________________________\n",
      "conv2d_4 (Conv2D)            (None, 13, 13, 64)        18496     \n",
      "_________________________________________________________________\n",
      "max_pooling2d_3 (MaxPooling2 (None, 6, 6, 64)          0         \n",
      "_________________________________________________________________\n",
      "conv2d_5 (Conv2D)            (None, 4, 4, 64)          36928     \n",
      "=================================================================\n",
      "Total params: 56,320\n",
      "Trainable params: 56,320\n",
      "Non-trainable params: 0\n",
      "_________________________________________________________________\n"
     ]
    }
   ],
   "source": [
    "# i dalje smo u fazi pre ulazenja u onu obicnu neuronsku mrezu. Ovde npr mozemo uraditi neki pregled\n",
    "# onoga sto imamo do sad\n",
    "model.summary()"
   ]
  },
  {
   "cell_type": "code",
   "execution_count": 35,
   "id": "universal-smart",
   "metadata": {},
   "outputs": [],
   "source": [
    "# sada dodajemo one ostale slojeve kao sto smo ih koristili na proslom casu. U tu obicnu neuronsku mrezu\n",
    "# ulaz treba da bude vektor, tj mi svaki podatak koji je izasao iz ovog dela sa konvolucijom i agregacijom \n",
    "# treba nekako da razvucemo u vektor\n",
    "model.add( layers.Flatten() )\n",
    "model.add( layers.Dense(64, activation='relu'))\n",
    "# i u ovom poslednejm sloju radimo onu klasifikaciju, 10 neurona jer ima 10 klassa,\n",
    "# akticationa funkcija je softmax zato sto se ona koristi za viseklasnu klasifikaciju\n",
    "# za poslednji sloj je pokazao i funkciju 'sigmoid' (ne za ova primer nego za cats and dogs  na kraju vezbi)\n",
    "# sigmoid ceo domen [-inf, inf] slika u [0,1] . Ona se UVEK radi na jednim neuronom, bez obiza da li \n",
    "# imamo 2 ili vise klasa:   layers.Dense(1, activation='sigmoid')\n",
    "# na sigmoidnoj funkciji se jasno vidi granica izmedju klasa (?)\n",
    "model.add( layers.Dense(10, activation='softmax') )"
   ]
  },
  {
   "cell_type": "code",
   "execution_count": 36,
   "id": "nasty-profile",
   "metadata": {},
   "outputs": [
    {
     "name": "stdout",
     "output_type": "stream",
     "text": [
      "Model: \"sequential_2\"\n",
      "_________________________________________________________________\n",
      "Layer (type)                 Output Shape              Param #   \n",
      "=================================================================\n",
      "conv2d_3 (Conv2D)            (None, 30, 30, 32)        896       \n",
      "_________________________________________________________________\n",
      "max_pooling2d_2 (MaxPooling2 (None, 15, 15, 32)        0         \n",
      "_________________________________________________________________\n",
      "conv2d_4 (Conv2D)            (None, 13, 13, 64)        18496     \n",
      "_________________________________________________________________\n",
      "max_pooling2d_3 (MaxPooling2 (None, 6, 6, 64)          0         \n",
      "_________________________________________________________________\n",
      "conv2d_5 (Conv2D)            (None, 4, 4, 64)          36928     \n",
      "_________________________________________________________________\n",
      "flatten_2 (Flatten)          (None, 1024)              0         \n",
      "_________________________________________________________________\n",
      "dense_4 (Dense)              (None, 64)                65600     \n",
      "_________________________________________________________________\n",
      "dense_5 (Dense)              (None, 10)                650       \n",
      "=================================================================\n",
      "Total params: 122,570\n",
      "Trainable params: 122,570\n",
      "Non-trainable params: 0\n",
      "_________________________________________________________________\n"
     ]
    }
   ],
   "source": [
    "# pregledamo sta smo dobili\n",
    "model.summary()"
   ]
  },
  {
   "cell_type": "code",
   "execution_count": 37,
   "id": "reported-alliance",
   "metadata": {},
   "outputs": [],
   "source": [
    "# sada kao i sa svakom drugom neuronskom mrezom treba da obucimo model, da kazemo koji je optimizator, epohe itd\n",
    "# recimo npr 10 epoha\n",
    "epochs = 10\n",
    "# cesta praksa je da se u svako epohi dok se trenira, ne racuna gradijent na osnovu celog skupa, vec\n",
    "# na osnovu nekog podskupa. Mi ovde npr uzmemo podskup 64, tj u svakoj epohi ce se 64 slik\n",
    "# provuci kroz mrezu (?)\n",
    "batch_size = 64\n",
    "num_classes = len(class_names)   # imamo 10 kategorija"
   ]
  },
  {
   "cell_type": "code",
   "execution_count": 43,
   "id": "apparent-scott",
   "metadata": {},
   "outputs": [],
   "source": [
    "# kao prolsi put, pretvaramo labele u one vektore\n",
    "train_labels_cat = tf.keras.utils.to_categorical(train_labels, num_classes)\n",
    "test_labels_cat = tf.keras.utils.to_categorical(test_labels, num_classes)"
   ]
  },
  {
   "cell_type": "code",
   "execution_count": 46,
   "id": "accessible-exercise",
   "metadata": {},
   "outputs": [
    {
     "name": "stdout",
     "output_type": "stream",
     "text": [
      "Epoch 1/10\n",
      "782/782 [==============================] - 14s 17ms/step - loss: 1.5845 - accuracy: 0.4203 - val_loss: 1.3388 - val_accuracy: 0.5214\n",
      "Epoch 2/10\n",
      "782/782 [==============================] - 13s 17ms/step - loss: 1.2271 - accuracy: 0.5653 - val_loss: 1.2558 - val_accuracy: 0.5563\n",
      "Epoch 3/10\n",
      "782/782 [==============================] - 13s 17ms/step - loss: 1.0835 - accuracy: 0.6209 - val_loss: 1.0135 - val_accuracy: 0.6436\n",
      "Epoch 4/10\n",
      "782/782 [==============================] - 14s 17ms/step - loss: 0.9818 - accuracy: 0.6547 - val_loss: 0.9817 - val_accuracy: 0.6591\n",
      "Epoch 5/10\n",
      "782/782 [==============================] - 14s 18ms/step - loss: 0.9013 - accuracy: 0.6856 - val_loss: 0.9812 - val_accuracy: 0.6607\n",
      "Epoch 6/10\n",
      "782/782 [==============================] - 13s 17ms/step - loss: 0.8357 - accuracy: 0.7103 - val_loss: 0.9032 - val_accuracy: 0.6843\n",
      "Epoch 7/10\n",
      "782/782 [==============================] - 13s 17ms/step - loss: 0.7936 - accuracy: 0.7217 - val_loss: 0.9037 - val_accuracy: 0.6875\n",
      "Epoch 8/10\n",
      "782/782 [==============================] - 13s 17ms/step - loss: 0.7436 - accuracy: 0.7398 - val_loss: 0.8488 - val_accuracy: 0.7095\n",
      "Epoch 9/10\n",
      "782/782 [==============================] - 13s 17ms/step - loss: 0.7011 - accuracy: 0.7561 - val_loss: 0.8950 - val_accuracy: 0.6936\n",
      "Epoch 10/10\n",
      "782/782 [==============================] - 13s 17ms/step - loss: 0.6698 - accuracy: 0.7658 - val_loss: 0.8571 - val_accuracy: 0.7082\n"
     ]
    }
   ],
   "source": [
    "# kompajliramo model, tj navodimo optimizer, loss funkciju i metrike\n",
    "# poemuo je da za binarnu klasifikaciju imamo i BinaryCrossentropy()   (npr u cats and dogs primeru)\n",
    "model.compile(optimizer='adam', loss=tf.keras.losses.CategoricalCrossentropy(), metrics=['accuracy'])\n",
    "\n",
    "# pokrecemo model tako sto pozivamo fit (pazimo da prosledimo one obradjene, normalizovane podatke)\n",
    "history = model.fit(train_images_normalized, train_labels_cat\n",
    "                    , epochs=epochs, batch_size=batch_size\n",
    "                    , validation_data=(test_images_normalized, test_labels_cat))"
   ]
  },
  {
   "cell_type": "code",
   "execution_count": 52,
   "id": "raised-stream",
   "metadata": {},
   "outputs": [
    {
     "data": {
      "text/plain": [
       "<matplotlib.legend.Legend at 0x1ccaaa9f400>"
      ]
     },
     "execution_count": 52,
     "metadata": {},
     "output_type": "execute_result"
    },
    {
     "data": {
      "image/png": "[encoded data removed]",
      "text/plain": [
       "<Figure size 432x288 with 1 Axes>"
      ]
     },
     "metadata": {
      "needs_background": "light"
     },
     "output_type": "display_data"
    }
   ],
   "source": [
    "# mozemo sad vizuelizovati ono sto nas zanima\n",
    "# note: accuracy se u ranijim verzijama tensorflowa zvao acc, pa da obratimo paznju na to koju verziju imamo\n",
    "plt.plot(history.history['accuracy'], label = 'accuracy')\n",
    "plt.plot(history.history['val_accuracy'], label = 'val_accuracy')\n",
    "plt.xlabel('Epochs')\n",
    "plt.ylabel('Accuracy')\n",
    "plt.ylim([0.5, 1])\n",
    "plt.legend(loc='lower right')"
   ]
  },
  {
   "cell_type": "code",
   "execution_count": 55,
   "id": "daily-wages",
   "metadata": {},
   "outputs": [
    {
     "name": "stdout",
     "output_type": "stream",
     "text": [
      "313/313 - 1s - loss: 0.8571 - accuracy: 0.7082\n"
     ]
    }
   ],
   "source": [
    "# mozemo sad da vidimo kako se nas model ponasa na test skupu\n",
    "# pogledaj ispis kada se pokrene sa i bez verbose\n",
    "test_loss, test_acc = model.evaluate(test_images_normalized, test_labels_cat, verbose=2) "
   ]
  },
  {
   "cell_type": "code",
   "execution_count": 60,
   "id": "covered-creature",
   "metadata": {},
   "outputs": [
    {
     "name": "stderr",
     "output_type": "stream",
     "text": [
      "A subdirectory or file models already exists.\n"
     ]
    },
    {
     "name": "stdout",
     "output_type": "stream",
     "text": [
      " Volume in drive C has no label.\n",
      " Volume Serial Number is A4E9-A988\n",
      "\n",
      " Directory of C:\\Users\\Jovan\\Desktop\\VI\\vezbe\\cas_12_konvolutivne_neuronske_mreze\n",
      "\n",
      "06/28/2021  12:33 PM    <DIR>          .\n",
      "06/28/2021  12:33 PM    <DIR>          ..\n",
      "06/28/2021  11:12 AM    <DIR>          .ipynb_checkpoints\n",
      "06/28/2021  12:33 PM    <DIR>          models\n",
      "06/28/2021  12:33 PM            40,445 Untitled.ipynb\n",
      "               1 File(s)         40,445 bytes\n",
      "               4 Dir(s)  397,047,115,776 bytes free\n",
      " Volume in drive C has no label.\n",
      " Volume Serial Number is A4E9-A988\n",
      "\n",
      " Directory of C:\\Users\\Jovan\\Desktop\\VI\\vezbe\\cas_12_konvolutivne_neuronske_mreze\\models\n",
      "\n",
      "06/28/2021  12:33 PM    <DIR>          .\n",
      "06/28/2021  12:33 PM    <DIR>          ..\n",
      "06/28/2021  12:33 PM         1,522,648 basic_network.h5\n",
      "               1 File(s)      1,522,648 bytes\n",
      "               2 Dir(s)  397,047,115,776 bytes free\n"
     ]
    }
   ],
   "source": [
    "# u realnim okolnostima, ovo sto smo mi radili sa ovim mrezama ne ide bas tako. Cesto se na odredjen broj\n",
    "# iteracija, mreza sacuva na disk na neki nacin da bi mogla posle ponvo da se korsiti\n",
    "# ovde je na vezbama pokazao kako bismo to mogli da uradimo\n",
    "\n",
    "# u jupyter notebooku, mozemo da izvrssavamo komande koje su terminal tipa tako sto koristimo !\n",
    "! mkdir models\n",
    "# na windowsu je dir isto sto i ls na lionuxu\n",
    "! dir\n",
    "\n",
    "# h5 je opste prihvacena ekstenzija za cuvanje neuronskih mreza\n",
    "model_path = \"models/basic_network.h5\"\n",
    "# ovo ce zamaptiri i arhitekturu mreze i naucene tezine\n",
    "model.save(model_path)\n",
    "\n",
    "! dir models\\"
   ]
  },
  {
   "cell_type": "code",
   "execution_count": 64,
   "id": "mobile-thought",
   "metadata": {},
   "outputs": [
    {
     "name": "stdout",
     "output_type": "stream",
     "text": [
      "None\n",
      "<tensorflow.python.keras.engine.sequential.Sequential object at 0x000001CCAAE48070>\n",
      "Model: \"sequential_2\"\n",
      "_________________________________________________________________\n",
      "Layer (type)                 Output Shape              Param #   \n",
      "=================================================================\n",
      "conv2d_3 (Conv2D)            (None, 30, 30, 32)        896       \n",
      "_________________________________________________________________\n",
      "max_pooling2d_2 (MaxPooling2 (None, 15, 15, 32)        0         \n",
      "_________________________________________________________________\n",
      "conv2d_4 (Conv2D)            (None, 13, 13, 64)        18496     \n",
      "_________________________________________________________________\n",
      "max_pooling2d_3 (MaxPooling2 (None, 6, 6, 64)          0         \n",
      "_________________________________________________________________\n",
      "conv2d_5 (Conv2D)            (None, 4, 4, 64)          36928     \n",
      "_________________________________________________________________\n",
      "flatten_2 (Flatten)          (None, 1024)              0         \n",
      "_________________________________________________________________\n",
      "dense_4 (Dense)              (None, 64)                65600     \n",
      "_________________________________________________________________\n",
      "dense_5 (Dense)              (None, 10)                650       \n",
      "=================================================================\n",
      "Total params: 122,570\n",
      "Trainable params: 122,570\n",
      "Non-trainable params: 0\n",
      "_________________________________________________________________\n"
     ]
    }
   ],
   "source": [
    "# evo sada kako da npr ucitamo taj model ponovo u memoriju\n",
    "# napravicemo neki backup prvo, da nebi bas izgubili sve sad\n",
    "backup_model = model\n",
    "model = None   # ovim brisemo nas model iz memorije\n",
    "\n",
    "#print(model)\n",
    "\n",
    "# ovako mozemo ucitati neki vec postojeci model\n",
    "model = tf.keras.models.load_model( model_path )\n",
    "#print(model)\n",
    "\n",
    "# i sad sa njim mozemo sve ono standarno kao i pre\n",
    "model.summary()"
   ]
  },
  {
   "cell_type": "code",
   "execution_count": null,
   "id": "vietnamese-state",
   "metadata": {},
   "outputs": [],
   "source": []
  }
 ],
 "metadata": {
  "kernelspec": {
   "display_name": "Python 3",
   "language": "python",
   "name": "python3"
  },
  "language_info": {
   "codemirror_mode": {
    "name": "ipython",
    "version": 3
   },
   "file_extension": ".py",
   "mimetype": "text/x-python",
   "name": "python",
   "nbconvert_exporter": "python",
   "pygments_lexer": "ipython3",
   "version": "3.9.0"
  }
 },
 "nbformat": 4,
 "nbformat_minor": 5
}
