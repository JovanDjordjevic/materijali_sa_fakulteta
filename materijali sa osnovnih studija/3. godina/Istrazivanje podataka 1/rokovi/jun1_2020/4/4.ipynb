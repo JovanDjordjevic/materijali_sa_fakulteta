{
 "cells": [
  {
   "cell_type": "code",
   "execution_count": 1,
   "id": "pretty-privacy",
   "metadata": {},
   "outputs": [],
   "source": [
    "import pandas as pd\n",
    "\n",
    "from sklearn.cluster import AgglomerativeClustering\n",
    "from sklearn.metrics import silhouette_score\n",
    "from sklearn.preprocessing import StandardScaler\n",
    "from matplotlib import pyplot as plt"
   ]
  },
  {
   "cell_type": "code",
   "execution_count": 2,
   "id": "certain-chick",
   "metadata": {},
   "outputs": [
    {
     "data": {
      "text/html": [
       "<div>\n",
       "<style scoped>\n",
       "    .dataframe tbody tr th:only-of-type {\n",
       "        vertical-align: middle;\n",
       "    }\n",
       "\n",
       "    .dataframe tbody tr th {\n",
       "        vertical-align: top;\n",
       "    }\n",
       "\n",
       "    .dataframe thead th {\n",
       "        text-align: right;\n",
       "    }\n",
       "</style>\n",
       "<table border=\"1\" class=\"dataframe\">\n",
       "  <thead>\n",
       "    <tr style=\"text-align: right;\">\n",
       "      <th></th>\n",
       "      <th>a</th>\n",
       "      <th>b</th>\n",
       "    </tr>\n",
       "  </thead>\n",
       "  <tbody>\n",
       "    <tr>\n",
       "      <th>0</th>\n",
       "      <td>-6.474178</td>\n",
       "      <td>-6.030731</td>\n",
       "    </tr>\n",
       "    <tr>\n",
       "      <th>1</th>\n",
       "      <td>7.348183</td>\n",
       "      <td>-2.775302</td>\n",
       "    </tr>\n",
       "    <tr>\n",
       "      <th>2</th>\n",
       "      <td>4.860236</td>\n",
       "      <td>6.628770</td>\n",
       "    </tr>\n",
       "    <tr>\n",
       "      <th>3</th>\n",
       "      <td>-6.506293</td>\n",
       "      <td>-6.162907</td>\n",
       "    </tr>\n",
       "    <tr>\n",
       "      <th>4</th>\n",
       "      <td>-3.562805</td>\n",
       "      <td>7.264862</td>\n",
       "    </tr>\n",
       "  </tbody>\n",
       "</table>\n",
       "</div>"
      ],
      "text/plain": [
       "          a         b\n",
       "0 -6.474178 -6.030731\n",
       "1  7.348183 -2.775302\n",
       "2  4.860236  6.628770\n",
       "3 -6.506293 -6.162907\n",
       "4 -3.562805  7.264862"
      ]
     },
     "execution_count": 2,
     "metadata": {},
     "output_type": "execute_result"
    }
   ],
   "source": [
    "df = pd.read_csv('klasterovanje.csv')\n",
    "df.head()"
   ]
  },
  {
   "cell_type": "code",
   "execution_count": 3,
   "id": "quarterly-electronics",
   "metadata": {},
   "outputs": [
    {
     "data": {
      "text/html": [
       "<div>\n",
       "<style scoped>\n",
       "    .dataframe tbody tr th:only-of-type {\n",
       "        vertical-align: middle;\n",
       "    }\n",
       "\n",
       "    .dataframe tbody tr th {\n",
       "        vertical-align: top;\n",
       "    }\n",
       "\n",
       "    .dataframe thead th {\n",
       "        text-align: right;\n",
       "    }\n",
       "</style>\n",
       "<table border=\"1\" class=\"dataframe\">\n",
       "  <thead>\n",
       "    <tr style=\"text-align: right;\">\n",
       "      <th></th>\n",
       "      <th>a</th>\n",
       "      <th>b</th>\n",
       "    </tr>\n",
       "  </thead>\n",
       "  <tbody>\n",
       "    <tr>\n",
       "      <th>count</th>\n",
       "      <td>800.000000</td>\n",
       "      <td>800.000000</td>\n",
       "    </tr>\n",
       "    <tr>\n",
       "      <th>mean</th>\n",
       "      <td>1.344177</td>\n",
       "      <td>0.344285</td>\n",
       "    </tr>\n",
       "    <tr>\n",
       "      <th>std</th>\n",
       "      <td>5.255670</td>\n",
       "      <td>5.521842</td>\n",
       "    </tr>\n",
       "    <tr>\n",
       "      <th>min</th>\n",
       "      <td>-7.647969</td>\n",
       "      <td>-9.810303</td>\n",
       "    </tr>\n",
       "    <tr>\n",
       "      <th>25%</th>\n",
       "      <td>-3.376759</td>\n",
       "      <td>-4.600700</td>\n",
       "    </tr>\n",
       "    <tr>\n",
       "      <th>50%</th>\n",
       "      <td>0.016030</td>\n",
       "      <td>0.695802</td>\n",
       "    </tr>\n",
       "    <tr>\n",
       "      <th>75%</th>\n",
       "      <td>6.517812</td>\n",
       "      <td>5.735028</td>\n",
       "    </tr>\n",
       "    <tr>\n",
       "      <th>max</th>\n",
       "      <td>10.506171</td>\n",
       "      <td>10.701262</td>\n",
       "    </tr>\n",
       "  </tbody>\n",
       "</table>\n",
       "</div>"
      ],
      "text/plain": [
       "                a           b\n",
       "count  800.000000  800.000000\n",
       "mean     1.344177    0.344285\n",
       "std      5.255670    5.521842\n",
       "min     -7.647969   -9.810303\n",
       "25%     -3.376759   -4.600700\n",
       "50%      0.016030    0.695802\n",
       "75%      6.517812    5.735028\n",
       "max     10.506171   10.701262"
      ]
     },
     "execution_count": 3,
     "metadata": {},
     "output_type": "execute_result"
    }
   ],
   "source": [
    "df.describe(include='all')"
   ]
  },
  {
   "cell_type": "code",
   "execution_count": 8,
   "id": "affected-cloud",
   "metadata": {},
   "outputs": [
    {
     "data": {
      "text/plain": [
       "<matplotlib.collections.PathCollection at 0x160281bd4c0>"
      ]
     },
     "execution_count": 8,
     "metadata": {},
     "output_type": "execute_result"
    },
    {
     "data": {
      "image/png": "[encoded data removed]",
      "text/plain": [
       "<Figure size 432x288 with 1 Axes>"
      ]
     },
     "metadata": {
      "needs_background": "light"
     },
     "output_type": "display_data"
    }
   ],
   "source": [
    "# nije potrebno skaliranje, podaci su vec otprilike na istoj skali\n",
    "plt.scatter(df['a'], df['b'])"
   ]
  },
  {
   "cell_type": "code",
   "execution_count": 5,
   "id": "ruled-helena",
   "metadata": {},
   "outputs": [
    {
     "data": {
      "image/png": "[encoded data removed]",
      "text/plain": [
       "<Figure size 864x720 with 3 Axes>"
      ]
     },
     "metadata": {
      "needs_background": "light"
     },
     "output_type": "display_data"
    },
    {
     "name": "stdout",
     "output_type": "stream",
     "text": [
      "best params: \n",
      "\tmax silhouette: 0.6919137253033582\n",
      "\tlinkage: average \n",
      "\tclusters: 7\n"
     ]
    }
   ],
   "source": [
    "num_of_clusters = range(3, 14)\n",
    "linkages = ['single', 'complete', 'average']\n",
    "\n",
    "max_n = -1\n",
    "max_linkage = None\n",
    "max_silhouette = -1\n",
    "\n",
    "fig = plt.figure(figsize=(12, 10))\n",
    "\n",
    "for i, linkage in enumerate(linkages):\n",
    "    silohuettes = []\n",
    "    \n",
    "    for n in num_of_clusters:\n",
    "        model = AgglomerativeClustering(n_clusters=n, linkage=linkage)\n",
    "        model.fit(df)\n",
    "        silhouette = silhouette_score(df, model.labels_)\n",
    "        silohuettes.append(silhouette)\n",
    "        if silhouette > max_silhouette:\n",
    "            max_silhouette = silhouette\n",
    "            max_linkage = linkage\n",
    "            max_n = n\n",
    "        \n",
    "    plt.subplot(1, 3, i + 1)\n",
    "    plt.title(linkage)\n",
    "    plt.bar(num_of_clusters, silohuettes)\n",
    "\n",
    "plt.show()\n",
    "\n",
    "print(f\"best params: \\n\\tmax silhouette: {max_silhouette}\\n\\tlinkage: {max_linkage} \\n\\tclusters: {max_n}\" )"
   ]
  },
  {
   "cell_type": "code",
   "execution_count": 6,
   "id": "commercial-corruption",
   "metadata": {},
   "outputs": [],
   "source": [
    "best_model = AgglomerativeClustering(n_clusters=max_n, linkage=max_linkage)\n",
    "model.fit(df)\n",
    "df['label'] = model.labels_"
   ]
  },
  {
   "cell_type": "code",
   "execution_count": 7,
   "id": "coated-complement",
   "metadata": {},
   "outputs": [
    {
     "data": {
      "image/png": "[encoded data removed]",
      "text/plain": [
       "<Figure size 432x288 with 1 Axes>"
      ]
     },
     "metadata": {
      "needs_background": "light"
     },
     "output_type": "display_data"
    }
   ],
   "source": [
    "colors = ['red', 'green', 'blue', 'cyan', 'magenta', 'yellow', 'orange', 'black']\n",
    "\n",
    "for n in range(max_n):\n",
    "    isntances = df[df['label'] == n]\n",
    "    plt.scatter(isntances['a'], isntances['b'], color=colors[n])\n",
    "\n",
    "# NOTE: kada se ova slika uporedi sa onom sto se dobije na pocetku zadatka izgleda kao da fali jedan\n",
    "# klaster, nisam nasao zasto"
   ]
  }
 ],
 "metadata": {
  "kernelspec": {
   "display_name": "Python 3",
   "language": "python",
   "name": "python3"
  },
  "language_info": {
   "codemirror_mode": {
    "name": "ipython",
    "version": 3
   },
   "file_extension": ".py",
   "mimetype": "text/x-python",
   "name": "python",
   "nbconvert_exporter": "python",
   "pygments_lexer": "ipython3",
   "version": "3.9.0"
  }
 },
 "nbformat": 4,
 "nbformat_minor": 5
}
