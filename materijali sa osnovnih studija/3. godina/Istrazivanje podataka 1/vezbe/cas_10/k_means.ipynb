{
 "cells": [
  {
   "cell_type": "code",
   "execution_count": 1,
   "source": [
    "# radimo klasterovanje na skupu dogs na osnovu visine i tezine\r\n",
    "\r\n",
    "import pandas as pd\r\n",
    "from matplotlib import pyplot as plt\r\n",
    "from sklearn.preprocessing import MinMaxScaler\r\n",
    "\r\n",
    "from sklearn.cluster import KMeans"
   ],
   "outputs": [],
   "metadata": {}
  },
  {
   "cell_type": "code",
   "execution_count": 2,
   "source": [
    "df = pd.read_csv('../dogs.csv')\r\n",
    "df.describe()"
   ],
   "outputs": [
    {
     "output_type": "execute_result",
     "data": {
      "text/plain": [
       "          height      weight\n",
       "count  11.000000   11.000000\n",
       "mean   19.545455   59.818182\n",
       "std     7.659812   47.023012\n",
       "min     6.000000    7.000000\n",
       "25%    17.000000   27.500000\n",
       "50%    20.000000   50.000000\n",
       "75%    24.000000   74.000000\n",
       "max    32.000000  160.000000"
      ],
      "text/html": [
       "<div>\n",
       "<style scoped>\n",
       "    .dataframe tbody tr th:only-of-type {\n",
       "        vertical-align: middle;\n",
       "    }\n",
       "\n",
       "    .dataframe tbody tr th {\n",
       "        vertical-align: top;\n",
       "    }\n",
       "\n",
       "    .dataframe thead th {\n",
       "        text-align: right;\n",
       "    }\n",
       "</style>\n",
       "<table border=\"1\" class=\"dataframe\">\n",
       "  <thead>\n",
       "    <tr style=\"text-align: right;\">\n",
       "      <th></th>\n",
       "      <th>height</th>\n",
       "      <th>weight</th>\n",
       "    </tr>\n",
       "  </thead>\n",
       "  <tbody>\n",
       "    <tr>\n",
       "      <th>count</th>\n",
       "      <td>11.000000</td>\n",
       "      <td>11.000000</td>\n",
       "    </tr>\n",
       "    <tr>\n",
       "      <th>mean</th>\n",
       "      <td>19.545455</td>\n",
       "      <td>59.818182</td>\n",
       "    </tr>\n",
       "    <tr>\n",
       "      <th>std</th>\n",
       "      <td>7.659812</td>\n",
       "      <td>47.023012</td>\n",
       "    </tr>\n",
       "    <tr>\n",
       "      <th>min</th>\n",
       "      <td>6.000000</td>\n",
       "      <td>7.000000</td>\n",
       "    </tr>\n",
       "    <tr>\n",
       "      <th>25%</th>\n",
       "      <td>17.000000</td>\n",
       "      <td>27.500000</td>\n",
       "    </tr>\n",
       "    <tr>\n",
       "      <th>50%</th>\n",
       "      <td>20.000000</td>\n",
       "      <td>50.000000</td>\n",
       "    </tr>\n",
       "    <tr>\n",
       "      <th>75%</th>\n",
       "      <td>24.000000</td>\n",
       "      <td>74.000000</td>\n",
       "    </tr>\n",
       "    <tr>\n",
       "      <th>max</th>\n",
       "      <td>32.000000</td>\n",
       "      <td>160.000000</td>\n",
       "    </tr>\n",
       "  </tbody>\n",
       "</table>\n",
       "</div>"
      ]
     },
     "metadata": {},
     "execution_count": 2
    }
   ],
   "metadata": {}
  },
  {
   "cell_type": "code",
   "execution_count": 3,
   "source": [
    "df.head()"
   ],
   "outputs": [
    {
     "output_type": "execute_result",
     "data": {
      "text/plain": [
       "              breed  height  weight\n",
       "0     Border Collie      20      45\n",
       "1    Boston Terrier      16      20\n",
       "2  Brittany Spaniel      18      35\n",
       "3       Bullmastiff      27     120\n",
       "4         Chihuahua       8       8"
      ],
      "text/html": [
       "<div>\n",
       "<style scoped>\n",
       "    .dataframe tbody tr th:only-of-type {\n",
       "        vertical-align: middle;\n",
       "    }\n",
       "\n",
       "    .dataframe tbody tr th {\n",
       "        vertical-align: top;\n",
       "    }\n",
       "\n",
       "    .dataframe thead th {\n",
       "        text-align: right;\n",
       "    }\n",
       "</style>\n",
       "<table border=\"1\" class=\"dataframe\">\n",
       "  <thead>\n",
       "    <tr style=\"text-align: right;\">\n",
       "      <th></th>\n",
       "      <th>breed</th>\n",
       "      <th>height</th>\n",
       "      <th>weight</th>\n",
       "    </tr>\n",
       "  </thead>\n",
       "  <tbody>\n",
       "    <tr>\n",
       "      <th>0</th>\n",
       "      <td>Border Collie</td>\n",
       "      <td>20</td>\n",
       "      <td>45</td>\n",
       "    </tr>\n",
       "    <tr>\n",
       "      <th>1</th>\n",
       "      <td>Boston Terrier</td>\n",
       "      <td>16</td>\n",
       "      <td>20</td>\n",
       "    </tr>\n",
       "    <tr>\n",
       "      <th>2</th>\n",
       "      <td>Brittany Spaniel</td>\n",
       "      <td>18</td>\n",
       "      <td>35</td>\n",
       "    </tr>\n",
       "    <tr>\n",
       "      <th>3</th>\n",
       "      <td>Bullmastiff</td>\n",
       "      <td>27</td>\n",
       "      <td>120</td>\n",
       "    </tr>\n",
       "    <tr>\n",
       "      <th>4</th>\n",
       "      <td>Chihuahua</td>\n",
       "      <td>8</td>\n",
       "      <td>8</td>\n",
       "    </tr>\n",
       "  </tbody>\n",
       "</table>\n",
       "</div>"
      ]
     },
     "metadata": {},
     "execution_count": 3
    }
   ],
   "metadata": {}
  },
  {
   "cell_type": "code",
   "execution_count": 4,
   "source": [
    "# primetimo da K-means ne moze direktno da radi sa kategorickima tributima, zato sto nema smisla racuanti\r\n",
    "# za njih centroide (npr kako bi bio prosek za Border Collie i Bullmastif, pa nikako)\r\n",
    "# kategoricke moramo nekako da pretvorimo u numericke (to nismo radili u ovom primeru vec smo ih samo ignorisali)\r\n",
    "# npr jedan nacin za ovo je objasnjen na slajovima. Za svaku kateogriju koja postoji u okviru nekog \r\n",
    "# atributa (za svaki kategoricki atibut) napravimo novi binarni atribut, i on je 0 ili sqrt(1/2) u zavisnosti da li jeste\r\n",
    "# ili nije te kategorije (taj broj biramo zato sto pri racunanju rastojanja razlika izmedju ta dva nova atributa bi bila 2 \r\n",
    "# umesto 1 (po 1 za svaki (?)) pa bi ispalo da je on vazniji od nekog drugog (?))\r\n",
    "\r\n",
    "feature_names = df.columns[1:]    # height i weight\r\n",
    "X = df[feature_names]\r\n",
    "print(X)"
   ],
   "outputs": [
    {
     "output_type": "stream",
     "name": "stdout",
     "text": [
      "    height  weight\n",
      "0       20      45\n",
      "1       16      20\n",
      "2       18      35\n",
      "3       27     120\n",
      "4        8       8\n",
      "5       25      78\n",
      "6       23      70\n",
      "7       32     160\n",
      "8       21      50\n",
      "9       19      65\n",
      "10       6       7\n"
     ]
    }
   ],
   "metadata": {}
  },
  {
   "cell_type": "code",
   "execution_count": 5,
   "source": [
    "# za k means nam je uglanom pozeljno da dovedemo podatke na istu skalu, npr ne zelimo situaciju da se visina\r\n",
    "# meri u milimetrima (velik broj) a tezina u kilogramima (mali broj), pa da ne ispada da je neki atribut\r\n",
    "# znacajniji\r\n",
    "# dakle pozeljno je da ih normalizujemo\r\n",
    "\r\n",
    "# u sklearn pored StandardScaler imamo dostupan i MinMaxScaler, on bas radi normalizaciju, tj dovodi podatke \r\n",
    "# na skalu [0,1], formulom  y = (x - xmin) / (xmax - xmin)\r\n",
    "scaler = MinMaxScaler()\r\n",
    "scaler.fit(X)\r\n",
    "X = scaler.transform(X)"
   ],
   "outputs": [],
   "metadata": {}
  },
  {
   "cell_type": "code",
   "execution_count": 6,
   "source": [
    "# primetimo da X vise nije dataframe nego numpy niz\r\n",
    "print(X)"
   ],
   "outputs": [
    {
     "output_type": "stream",
     "name": "stdout",
     "text": [
      "[[0.53846154 0.24836601]\n",
      " [0.38461538 0.08496732]\n",
      " [0.46153846 0.18300654]\n",
      " [0.80769231 0.73856209]\n",
      " [0.07692308 0.00653595]\n",
      " [0.73076923 0.46405229]\n",
      " [0.65384615 0.41176471]\n",
      " [1.         1.        ]\n",
      " [0.57692308 0.28104575]\n",
      " [0.5        0.37908497]\n",
      " [0.         0.        ]]\n"
     ]
    }
   ],
   "metadata": {}
  },
  {
   "cell_type": "code",
   "execution_count": 7,
   "source": [
    "# mozemo da ga vratimo nazad u dataframe da nam bude lakse za\r\n",
    "X = pd.DataFrame(X, columns=feature_names)\r\n",
    "print(X)"
   ],
   "outputs": [
    {
     "output_type": "stream",
     "name": "stdout",
     "text": [
      "      height    weight\n",
      "0   0.538462  0.248366\n",
      "1   0.384615  0.084967\n",
      "2   0.461538  0.183007\n",
      "3   0.807692  0.738562\n",
      "4   0.076923  0.006536\n",
      "5   0.730769  0.464052\n",
      "6   0.653846  0.411765\n",
      "7   1.000000  1.000000\n",
      "8   0.576923  0.281046\n",
      "9   0.500000  0.379085\n",
      "10  0.000000  0.000000\n"
     ]
    }
   ],
   "metadata": {}
  },
  {
   "cell_type": "code",
   "execution_count": 8,
   "source": [
    "# mi na pocetku nemamo pojma koliko klastera moze da psotoji u skupu pa smo lupili neki borj, npr 2\r\n",
    "# centroide na pocetku mozemo da biramo na vise nacina, npr mozemo da uzmemo random tacke,\r\n",
    "# mozemo i nekako pametno da ih izaberemo tako da ubrzamo konvergenciju, to mozemo sa init='k-means++'\r\n",
    "# ako vise puta pokrenemo klasterovanje, ne moramo nuznno uvek da dobijemo isti rezultat\r\n",
    "# pa sa n_init mozemo da kazemo koliko puta cemo pokrenuti ceo proces klasterovanja (u nadi da dobijemo bolje)\r\n",
    "# prekida se algoritam ili kada se desi ili max iteracija ili kada se dostigne zeljena tolerancija\r\n",
    "kmeans = KMeans(n_clusters=2, init='k-means++')"
   ],
   "outputs": [],
   "metadata": {}
  },
  {
   "cell_type": "code",
   "execution_count": 9,
   "source": [
    "# kao i vecina stvari iz sklearn, imamo fit, ali ovde nemamo predict zato sto kmeans spada u nenadgledano\r\n",
    "kmeans.fit(X)"
   ],
   "outputs": [
    {
     "output_type": "execute_result",
     "data": {
      "text/plain": [
       "KMeans(n_clusters=2)"
      ]
     },
     "metadata": {},
     "execution_count": 9
    }
   ],
   "metadata": {}
  },
  {
   "cell_type": "code",
   "execution_count": 10,
   "source": [
    "# mozemo da vidimo pozicije centroida\r\n",
    "print(kmeans.cluster_centers_)\r\n",
    "\r\n",
    "# inercija je ono sto mo mi na slajdovima zvali SSE\r\n",
    "print(kmeans.inertia_)\r\n",
    "\r\n",
    "# labels su redom klasteri koje smo pridruzili instancama\r\n",
    "print(kmeans.labels_)"
   ],
   "outputs": [
    {
     "output_type": "stream",
     "name": "stdout",
     "text": [
      "[[0.79807692 0.65359477]\n",
      " [0.36263736 0.16900093]]\n",
      "0.732128510026434\n",
      "[1 1 1 0 1 0 0 0 1 1 1]\n"
     ]
    }
   ],
   "metadata": {}
  },
  {
   "cell_type": "code",
   "execution_count": 20,
   "source": [
    "# sada hocemo npr da nacrtamo na nekom grafiku da se klasteri vide lepo (posto imamo 2 atributa\r\n",
    "# crtanje je izvodljivo)\r\n",
    "\r\n",
    "# nabrojimo neke boje jer cemo posle da probamo sa vise klastera, pa da svaki bude obojen drugom bojom\r\n",
    "# u ekstremnom slucaju, mozemo da imamo onoliko klastera koliko imamo instanci, (u nasem skupu je to 11)\r\n",
    "# drugi ekstremni slucaj je da imamo samo 1 klaster u kom su svi podaci\r\n",
    "colors = ['red', 'green', 'blue', 'yellow', 'purple', 'grey', 'black', \r\n",
    "          'orange', 'cyan', 'pink', 'brown']\r\n",
    "\r\n",
    "# probamo razlicite k-ove, za nas ima smisla od 1 do 11 pa cemo za svaki da crtamo grafik\r\n",
    "ks = range(1, X.shape[0] + 1)\r\n",
    "# isprobacemo i razlicite metode za inicijalizaciju\r\n",
    "init_methods = ['k-means++', 'random']\r\n",
    "\r\n",
    "# prakticno radimo gird search rucno, ali pritom i da crtamo, zato ne korsitimo ugradjen GridSearchCV\r\n",
    "# crtacemo sve u dve kolone, gde je red k, a kolona init metod, to radimo sa figure\r\n",
    "# NOTE: ovo figsize se NE odnosi na broj subplotova nego na velicinu na ekranu (?)\r\n",
    "fig = plt.figure(figsize=(10, 20))\r\n",
    "\r\n",
    "# cuvacemo one inercije u svakoj iteraciji da bismo videli kako se smanjuju \r\n",
    "inertias = []\r\n",
    "\r\n",
    "plt_index = 1\r\n",
    "for k in ks:\r\n",
    "    for init_method in init_methods:\r\n",
    "        kmeans = KMeans(n_clusters=k, init=init_method)\r\n",
    "        kmeans.fit(X)\r\n",
    "        # listu klastera koju nam kmeans vrati mozemo da dodamo u nas dataframe\r\n",
    "        df['label'] = kmeans.labels_\r\n",
    "        \r\n",
    "        # arg za subplot su koliko redova i kolona figura ima, i pozicija na koju subplot ide\r\n",
    "        # note: ne idu indeksima [][] kao u nekoj matrici nego su numerisani redom\r\n",
    "        fig.add_subplot(len(ks), len(init_methods), plt_index)\r\n",
    "        # znamo da ce labeli biti nazvani 0, 1, ... k\r\n",
    "        # hocemo sada svaki cluster da dodamo na scatter plot razlicitmo bojom\r\n",
    "        # taj scater plot ce se nacrtati tacno na poziciji koju smo naglasili\r\n",
    "        # sa add_subplot\r\n",
    "        for label in range(k):\r\n",
    "            cluster = df[df['label'] == label]\r\n",
    "            plt.scatter(cluster['height'], cluster['weight'], color=colors[label])\r\n",
    "            \r\n",
    "        # mozemo na svaki crtez da dodamo i centroide\r\n",
    "        # NOTE: primetimo da posto smo normalizovali podakte, centroidi koje dobijamo su takodje u \r\n",
    "        # intervalu [0, 1], ali na graficima smo za X i Y osu koristili nenormalizovane podatke direktno\r\n",
    "        # iz dataframea\r\n",
    "        # moramo da nekako reversujemo skaliranje, a za to imamo ugradjenu funkciju\r\n",
    "        # TODO: proveri da li se inverzuje samo poslednja odradjena transformacija u slcucaju da smo ih \r\n",
    "        # uradili vise ili samo poslednja\r\n",
    "        cs = scaler.inverse_transform(kmeans.cluster_centers_) \r\n",
    "        # pravimo dataframe jer nam je lakse\r\n",
    "        centroids = pd.DataFrame(cs, columns=feature_names)\r\n",
    "        # i dodamo na plot \r\n",
    "        plt.scatter(centroids['height'], centroids['weight'], marker='x', color='black')\r\n",
    "        \r\n",
    "        plt_index += 1\r\n",
    "    \r\n",
    "    # pamtimo inerciju (primetimo da ovde ispada da uzimamo inerciju samo za random metod)\r\n",
    "    # ali svejedno nam je jer dodje na isto\r\n",
    "    inertias.append(kmeans.inertia_)\r\n",
    "\r\n",
    "plt.show()"
   ],
   "outputs": [
    {
     "output_type": "display_data",
     "data": {
      "text/plain": [
       "<Figure size 720x1440 with 22 Axes>"
      ],
      "image/png": "[encoded data removed]"
     },
     "metadata": {
      "needs_background": "light"
     }
    }
   ],
   "metadata": {}
  },
  {
   "cell_type": "code",
   "execution_count": 22,
   "source": [
    "# plotujemo inercije da vidimo kako se smanjuju sa povecanjem klastera\n",
    "plt.plot(ks, inertias, marker='o')\n",
    "\n",
    "# primetimo da posle nekog broja klastera, smanjenje inercije nije onoliko veliko kao u proslom koraku,\n",
    "# tj nije vise isplativo deliti na vise klastera. Ta granica, tj \"lakat\" na ovom grafiku je obicno ono\n",
    "# k koje se uzima za klasterovanje (to biranje je heuristika, nije egzaktan nacin), npr ovde je 3 "
   ],
   "outputs": [
    {
     "output_type": "execute_result",
     "data": {
      "text/plain": [
       "[<matplotlib.lines.Line2D at 0x23b31cbfe80>]"
      ]
     },
     "metadata": {},
     "execution_count": 22
    },
    {
     "output_type": "display_data",
     "data": {
      "text/plain": [
       "<Figure size 432x288 with 1 Axes>"
      ],
      "image/png": "[encoded data removed]"
     },
     "metadata": {
      "needs_background": "light"
     }
    }
   ],
   "metadata": {}
  }
 ],
 "metadata": {
  "kernelspec": {
   "display_name": "Python 3",
   "language": "python",
   "name": "python3"
  },
  "language_info": {
   "codemirror_mode": {
    "name": "ipython",
    "version": 3
   },
   "file_extension": ".py",
   "mimetype": "text/x-python",
   "name": "python",
   "nbconvert_exporter": "python",
   "pygments_lexer": "ipython3",
   "version": "3.9.0"
  }
 },
 "nbformat": 4,
 "nbformat_minor": 5
}