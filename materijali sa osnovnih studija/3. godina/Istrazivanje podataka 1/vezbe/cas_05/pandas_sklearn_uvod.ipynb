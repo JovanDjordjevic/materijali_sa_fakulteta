{
 "cells": [
  {
   "cell_type": "code",
   "execution_count": 196,
   "source": [
    "# u jupyteru Shift + Tab + Tab nam daje dokumentaciju \r\n",
    "\r\n",
    "import pandas as pd\r\n",
    "\r\n",
    "from sklearn.model_selection import train_test_split, GridSearchCV\r\n",
    "from sklearn.tree import DecisionTreeClassifier\r\n",
    "from sklearn import tree\r\n",
    "from sklearn.metrics import accuracy_score, confusion_matrix, classification_report\r\n",
    "\r\n",
    "from matplotlib import pyplot as plt\r\n",
    "\r\n",
    "# pandas je biblioteka koja nam omogucava da radimo sa nekakvim tabelama\r\n",
    "# sklearn je neka biblioteka za masinsko ucenje, mi ovde importujemo samo neke konkretne \r\n",
    "# funkcije jer su nam dovoljne"
   ],
   "outputs": [],
   "metadata": {}
  },
  {
   "cell_type": "code",
   "execution_count": 197,
   "source": [
    "# u pd postoje dve osnovne strukture Series i Dataframe\r\n",
    "\r\n",
    "# Series(serija) je jednodimenzioni niz, stim sto pored samih podataka imamo i nekakve indekse\r\n",
    "# u ispisu, ona prva kolona levo su indeksi, ostalo su podaci\r\n",
    "# pazimo da ono sto prosledimo konstruktoru bude niz, moramo [], generalno je tako za vecinu stvari u pandasu\r\n",
    "pd.Series([1, 3, 6, 7, 10])\r\n",
    "\r\n",
    "# indekse mozemo i sami da naglasimo (ali obavezno pazimo da ono sto prosledimo bude iste duzine kao niz u seriji)\r\n",
    "s1 = pd.Series([1, 3, 6, 7, 10], index=['a', 'b', 'c', 'd', 'e'])\r\n",
    "s2 = pd.Series([2, 4, 6, 8, 10])\r\n",
    "\r\n",
    "# ocekivali bismo da ako saberemo s1 i s2 dobijemo niz iste dimenzije kao s1 i s2 gde su elementi na \r\n",
    "# istim pozicijama sabrani, ali ako samo ovako ostavimo sa nasim s1 i s2 dobicemo svugde NaN. To je zato\r\n",
    "# sto ovo sabiranje ne ide bas po poziciji u nizu nego po pridruzenom indeksu (a mi u s1 imamo custom indekse)\r\n",
    "print(s1 + s2)\r\n",
    "\r\n",
    "s3 = pd.Series([1, 3, 6, 7, 10])\r\n",
    "# ali kada su indeksi isti, lepo se izracuna kao sto ocekujemo\r\n",
    "print(s2 + s3)"
   ],
   "outputs": [
    {
     "output_type": "stream",
     "name": "stdout",
     "text": [
      "a   NaN\n",
      "b   NaN\n",
      "c   NaN\n",
      "d   NaN\n",
      "e   NaN\n",
      "0   NaN\n",
      "1   NaN\n",
      "2   NaN\n",
      "3   NaN\n",
      "4   NaN\n",
      "dtype: float64\n",
      "0     3\n",
      "1     7\n",
      "2    12\n",
      "3    15\n",
      "4    20\n",
      "dtype: int64\n"
     ]
    }
   ],
   "metadata": {}
  },
  {
   "cell_type": "code",
   "execution_count": 198,
   "source": [
    "# iloc je skraceno od integer location, to nije metod nego clan, pa onda njega indeksiramo\r\n",
    "# iloc nam daje pristup kao u obicnim nizovima na koje smo navikli, onaj element na poziciji [i]\r\n",
    "print(s1.iloc[2])\r\n",
    "# mozemo da radimo sve one stvari na koje smo navikli vec u pajtonu\r\n",
    "print(s1.iloc[2:4])"
   ],
   "outputs": [
    {
     "output_type": "stream",
     "name": "stdout",
     "text": [
      "6\n",
      "c    6\n",
      "d    7\n",
      "dtype: int64\n"
     ]
    }
   ],
   "metadata": {}
  },
  {
   "cell_type": "code",
   "execution_count": 199,
   "source": [
    "# ako imamo custom indekse, index ce vratiti Index objekat sa njima\r\n",
    "print(s1.index)\r\n",
    "print()\r\n",
    "# a ako imamo one podrazumevane, bude ovako\r\n",
    "print(s2.index)"
   ],
   "outputs": [
    {
     "output_type": "stream",
     "name": "stdout",
     "text": [
      "Index(['a', 'b', 'c', 'd', 'e'], dtype='object')\n",
      "\n",
      "RangeIndex(start=0, stop=5, step=1)\n"
     ]
    }
   ],
   "metadata": {}
  },
  {
   "cell_type": "code",
   "execution_count": 200,
   "source": [
    "# values vraca niz vrednosti(type(...) nam za to kaze da je to numpy array)\r\n",
    "print(s1.values)"
   ],
   "outputs": [
    {
     "output_type": "stream",
     "name": "stdout",
     "text": [
      "[ 1  3  6  7 10]\n"
     ]
    }
   ],
   "metadata": {}
  },
  {
   "cell_type": "code",
   "execution_count": 201,
   "source": [
    "# metod koji nam vraca koliko podataka imamo za svaku vrednost koja se pojavljuje\r\n",
    "print(s1.value_counts())"
   ],
   "outputs": [
    {
     "output_type": "stream",
     "name": "stdout",
     "text": [
      "1     1\n",
      "10    1\n",
      "3     1\n",
      "6     1\n",
      "7     1\n",
      "dtype: int64\n"
     ]
    }
   ],
   "metadata": {}
  },
  {
   "cell_type": "code",
   "execution_count": 202,
   "source": [
    "# druga osnovna struktura u pandasu je Dataframe, mozemo rucno da ga pravimo, ali se sa ovim\r\n",
    "# uglavnom radi tako sto se ucita iz nekog fajla\r\n",
    "df1 = pd.DataFrame( [ [1,2,3], [4,5,6] ] )\r\n",
    "print(df1)\r\n",
    "\r\n",
    "# mozemo i ovde da damo neke nase nazive za indekse, ali ovde mozemo da stavimo i nase nazive za kolone\r\n",
    "df2 = pd.DataFrame( data=[['pera',23], ['maja', 22]], columns=['ime', 'godine'] )\r\n",
    "print(df2)"
   ],
   "outputs": [
    {
     "output_type": "stream",
     "name": "stdout",
     "text": [
      "   0  1  2\n",
      "0  1  2  3\n",
      "1  4  5  6\n",
      "    ime  godine\n",
      "0  pera      23\n",
      "1  maja      22\n"
     ]
    }
   ],
   "metadata": {}
  },
  {
   "cell_type": "code",
   "execution_count": 203,
   "source": [
    "# mozemo napraviti DataFrame i od nekakve mape\r\n",
    "people = {'ime' : pd.Series(['pera', 'maja']),\r\n",
    "          'godine' : pd.Series([23, 22]) \r\n",
    "         }\r\n",
    "\r\n",
    "df3 = pd.DataFrame(people)\r\n",
    "print(df3)"
   ],
   "outputs": [
    {
     "output_type": "stream",
     "name": "stdout",
     "text": [
      "    ime  godine\n",
      "0  pera      23\n",
      "1  maja      22\n"
     ]
    }
   ],
   "metadata": {}
  },
  {
   "cell_type": "code",
   "execution_count": 204,
   "source": [
    "# poadaci o tipovima u dataframe-u\r\n",
    "#integeri ce biti int64, a stringovi ce biti object\r\n",
    "print(df3.dtypes)"
   ],
   "outputs": [
    {
     "output_type": "stream",
     "name": "stdout",
     "text": [
      "ime       object\n",
      "godine     int64\n",
      "dtype: object\n"
     ]
    }
   ],
   "metadata": {}
  },
  {
   "cell_type": "code",
   "execution_count": 205,
   "source": [
    "# mozemo da izvucemo celu kolonu (primetimo da ovo vraca pd.Series)\r\n",
    "print(df3['ime'])\r\n",
    "print(type(df3['ime']))\r\n",
    "\r\n",
    "# iz serije naravno mozemo da izvucemo i neki pojedinacni element sa []\r\n",
    "print(df3['ime'][0])\r\n",
    "\r\n",
    "# primetimo da nije isto da dohvatamo kolonu sa [] i sa [[]], ovo drugo vraca pd.DataFrame\r\n",
    "print(df3[['ime']])\r\n",
    "print(type(df3[['ime']]))"
   ],
   "outputs": [
    {
     "output_type": "stream",
     "name": "stdout",
     "text": [
      "0    pera\n",
      "1    maja\n",
      "Name: ime, dtype: object\n",
      "<class 'pandas.core.series.Series'>\n",
      "pera\n",
      "    ime\n",
      "0  pera\n",
      "1  maja\n",
      "<class 'pandas.core.frame.DataFrame'>\n"
     ]
    }
   ],
   "metadata": {}
  },
  {
   "cell_type": "code",
   "execution_count": 206,
   "source": [
    "# one spoljasnje  [] su operator pristupa, u prvom slucaju mi smo prosledili jednu stvar, a u drugom smo\r\n",
    "# kao prosledili niz sa jednim elementom. Mozemo proslediti vise kolona za dohvatanje ovako:\r\n",
    "print(df3[['ime', 'godine']])"
   ],
   "outputs": [
    {
     "output_type": "stream",
     "name": "stdout",
     "text": [
      "    ime  godine\n",
      "0  pera      23\n",
      "1  maja      22\n"
     ]
    }
   ],
   "metadata": {}
  },
  {
   "cell_type": "code",
   "execution_count": 207,
   "source": [
    "# na DF isto mozemo da koristimo iloc, samo nece biti [][] nego  [i, j]\r\n",
    "print(df3.iloc[0, 1]) "
   ],
   "outputs": [
    {
     "output_type": "stream",
     "name": "stdout",
     "text": [
      "23\n"
     ]
    }
   ],
   "metadata": {}
  },
  {
   "cell_type": "code",
   "execution_count": 208,
   "source": [
    "# slicno kao iloc imamo loc. U iloc smo prosledjivali neke brojeve koji kao simuliraju poziciju u obicnoj \r\n",
    "# matrici, a u loc bas prosledjujemo indekse (ovo se lepo ilustruje kada imamo neke custom indekse)\r\n",
    "df4 = pd.DataFrame( data=[['pera',23], ['maja', 22]], columns=['ime', 'godine'], index=['a','b'] )\r\n",
    "print(df4.loc['a'])"
   ],
   "outputs": [
    {
     "output_type": "stream",
     "name": "stdout",
     "text": [
      "ime       pera\n",
      "godine      23\n",
      "Name: a, dtype: object\n"
     ]
    }
   ],
   "metadata": {}
  },
  {
   "cell_type": "code",
   "execution_count": 209,
   "source": [
    "# imamo jos jedan interesantan nacin da dohvatamo podatke, npr ovo je kao neko filtriranje\r\n",
    "print(df3[ df3['godine'] > 22 ])\r\n",
    "print()\r\n",
    "print(df3[ df3['godine'] > 22 ]['ime'])\r\n",
    "print()\r\n",
    "print(df3[ df3['godine'] > 22 ][['ime']])\r\n"
   ],
   "outputs": [
    {
     "output_type": "stream",
     "name": "stdout",
     "text": [
      "    ime  godine\n",
      "0  pera      23\n",
      "\n",
      "0    pera\n",
      "Name: ime, dtype: object\n",
      "\n",
      "    ime\n",
      "0  pera\n"
     ]
    }
   ],
   "metadata": {}
  },
  {
   "cell_type": "code",
   "execution_count": 210,
   "source": [
    "# ucitavanje podataka npr iz nekog fajla (imamo vise opcija, moze iz csv, iz excela itd (Tab za autocomplete))\r\n",
    "# hocemo npr da ucitamo iris skup\r\n",
    "df = pd.read_csv('../iris.csv')\r\n",
    "\r\n",
    "# head nam vraca prbih nekoliko elemenata, cisto da bismo proverili da li je ucitano lepo\r\n",
    "df.head()"
   ],
   "outputs": [
    {
     "output_type": "execute_result",
     "data": {
      "text/plain": [
       "   Sepal_Length  Sepal_Width  Petal_Length  Petal_Width Species\n",
       "0           5.1          3.5           1.4          0.2  setosa\n",
       "1           4.9          3.0           1.4          0.2  setosa\n",
       "2           4.7          3.2           1.3          0.2  setosa\n",
       "3           4.6          3.1           1.5          0.2  setosa\n",
       "4           5.0          3.6           1.4          0.2  setosa"
      ],
      "text/html": [
       "<div>\n",
       "<style scoped>\n",
       "    .dataframe tbody tr th:only-of-type {\n",
       "        vertical-align: middle;\n",
       "    }\n",
       "\n",
       "    .dataframe tbody tr th {\n",
       "        vertical-align: top;\n",
       "    }\n",
       "\n",
       "    .dataframe thead th {\n",
       "        text-align: right;\n",
       "    }\n",
       "</style>\n",
       "<table border=\"1\" class=\"dataframe\">\n",
       "  <thead>\n",
       "    <tr style=\"text-align: right;\">\n",
       "      <th></th>\n",
       "      <th>Sepal_Length</th>\n",
       "      <th>Sepal_Width</th>\n",
       "      <th>Petal_Length</th>\n",
       "      <th>Petal_Width</th>\n",
       "      <th>Species</th>\n",
       "    </tr>\n",
       "  </thead>\n",
       "  <tbody>\n",
       "    <tr>\n",
       "      <th>0</th>\n",
       "      <td>5.1</td>\n",
       "      <td>3.5</td>\n",
       "      <td>1.4</td>\n",
       "      <td>0.2</td>\n",
       "      <td>setosa</td>\n",
       "    </tr>\n",
       "    <tr>\n",
       "      <th>1</th>\n",
       "      <td>4.9</td>\n",
       "      <td>3.0</td>\n",
       "      <td>1.4</td>\n",
       "      <td>0.2</td>\n",
       "      <td>setosa</td>\n",
       "    </tr>\n",
       "    <tr>\n",
       "      <th>2</th>\n",
       "      <td>4.7</td>\n",
       "      <td>3.2</td>\n",
       "      <td>1.3</td>\n",
       "      <td>0.2</td>\n",
       "      <td>setosa</td>\n",
       "    </tr>\n",
       "    <tr>\n",
       "      <th>3</th>\n",
       "      <td>4.6</td>\n",
       "      <td>3.1</td>\n",
       "      <td>1.5</td>\n",
       "      <td>0.2</td>\n",
       "      <td>setosa</td>\n",
       "    </tr>\n",
       "    <tr>\n",
       "      <th>4</th>\n",
       "      <td>5.0</td>\n",
       "      <td>3.6</td>\n",
       "      <td>1.4</td>\n",
       "      <td>0.2</td>\n",
       "      <td>setosa</td>\n",
       "    </tr>\n",
       "  </tbody>\n",
       "</table>\n",
       "</div>"
      ]
     },
     "metadata": {},
     "execution_count": 210
    }
   ],
   "metadata": {}
  },
  {
   "cell_type": "code",
   "execution_count": 211,
   "source": [
    "# describe nam vraca neke opisne statistike, koliko ih ima, srednje vrednosti itd itd\r\n",
    "# ovde imamo samo numericke podatke \r\n",
    "df.describe()"
   ],
   "outputs": [
    {
     "output_type": "execute_result",
     "data": {
      "text/plain": [
       "       Sepal_Length  Sepal_Width  Petal_Length  Petal_Width\n",
       "count    150.000000   150.000000    150.000000   150.000000\n",
       "mean       5.843333     3.057333      3.758000     1.199333\n",
       "std        0.828066     0.435866      1.765298     0.762238\n",
       "min        4.300000     2.000000      1.000000     0.100000\n",
       "25%        5.100000     2.800000      1.600000     0.300000\n",
       "50%        5.800000     3.000000      4.350000     1.300000\n",
       "75%        6.400000     3.300000      5.100000     1.800000\n",
       "max        7.900000     4.400000      6.900000     2.500000"
      ],
      "text/html": [
       "<div>\n",
       "<style scoped>\n",
       "    .dataframe tbody tr th:only-of-type {\n",
       "        vertical-align: middle;\n",
       "    }\n",
       "\n",
       "    .dataframe tbody tr th {\n",
       "        vertical-align: top;\n",
       "    }\n",
       "\n",
       "    .dataframe thead th {\n",
       "        text-align: right;\n",
       "    }\n",
       "</style>\n",
       "<table border=\"1\" class=\"dataframe\">\n",
       "  <thead>\n",
       "    <tr style=\"text-align: right;\">\n",
       "      <th></th>\n",
       "      <th>Sepal_Length</th>\n",
       "      <th>Sepal_Width</th>\n",
       "      <th>Petal_Length</th>\n",
       "      <th>Petal_Width</th>\n",
       "    </tr>\n",
       "  </thead>\n",
       "  <tbody>\n",
       "    <tr>\n",
       "      <th>count</th>\n",
       "      <td>150.000000</td>\n",
       "      <td>150.000000</td>\n",
       "      <td>150.000000</td>\n",
       "      <td>150.000000</td>\n",
       "    </tr>\n",
       "    <tr>\n",
       "      <th>mean</th>\n",
       "      <td>5.843333</td>\n",
       "      <td>3.057333</td>\n",
       "      <td>3.758000</td>\n",
       "      <td>1.199333</td>\n",
       "    </tr>\n",
       "    <tr>\n",
       "      <th>std</th>\n",
       "      <td>0.828066</td>\n",
       "      <td>0.435866</td>\n",
       "      <td>1.765298</td>\n",
       "      <td>0.762238</td>\n",
       "    </tr>\n",
       "    <tr>\n",
       "      <th>min</th>\n",
       "      <td>4.300000</td>\n",
       "      <td>2.000000</td>\n",
       "      <td>1.000000</td>\n",
       "      <td>0.100000</td>\n",
       "    </tr>\n",
       "    <tr>\n",
       "      <th>25%</th>\n",
       "      <td>5.100000</td>\n",
       "      <td>2.800000</td>\n",
       "      <td>1.600000</td>\n",
       "      <td>0.300000</td>\n",
       "    </tr>\n",
       "    <tr>\n",
       "      <th>50%</th>\n",
       "      <td>5.800000</td>\n",
       "      <td>3.000000</td>\n",
       "      <td>4.350000</td>\n",
       "      <td>1.300000</td>\n",
       "    </tr>\n",
       "    <tr>\n",
       "      <th>75%</th>\n",
       "      <td>6.400000</td>\n",
       "      <td>3.300000</td>\n",
       "      <td>5.100000</td>\n",
       "      <td>1.800000</td>\n",
       "    </tr>\n",
       "    <tr>\n",
       "      <th>max</th>\n",
       "      <td>7.900000</td>\n",
       "      <td>4.400000</td>\n",
       "      <td>6.900000</td>\n",
       "      <td>2.500000</td>\n",
       "    </tr>\n",
       "  </tbody>\n",
       "</table>\n",
       "</div>"
      ]
     },
     "metadata": {},
     "execution_count": 211
    }
   ],
   "metadata": {}
  },
  {
   "cell_type": "code",
   "execution_count": 212,
   "source": [
    "# shape nam daje oblik podataka, prvi broj je broj instanc, drugi je broj kolona/atributa\r\n",
    "df.shape"
   ],
   "outputs": [
    {
     "output_type": "execute_result",
     "data": {
      "text/plain": [
       "(150, 5)"
      ]
     },
     "metadata": {},
     "execution_count": 212
    }
   ],
   "metadata": {}
  },
  {
   "cell_type": "code",
   "execution_count": 213,
   "source": [
    "# posto mi hocemo da radimo neko istrazivanje na ovim podacima, korisno je da proverimo da li imamo neke\r\n",
    "# NaN vrednosti, dobicemo neki novi dataframe gde je True ako jeste NaN a false ako nije\r\n",
    "# u iris skupu nemamo nijedan NaN\r\n",
    "print(df.isna())\r\n",
    "\r\n",
    "# a sa any mozemo da imamo kraci prikaz za svaki atribut\r\n",
    "print(df.isna().any())"
   ],
   "outputs": [
    {
     "output_type": "stream",
     "name": "stdout",
     "text": [
      "     Sepal_Length  Sepal_Width  Petal_Length  Petal_Width  Species\n",
      "0           False        False         False        False    False\n",
      "1           False        False         False        False    False\n",
      "2           False        False         False        False    False\n",
      "3           False        False         False        False    False\n",
      "4           False        False         False        False    False\n",
      "..            ...          ...           ...          ...      ...\n",
      "145         False        False         False        False    False\n",
      "146         False        False         False        False    False\n",
      "147         False        False         False        False    False\n",
      "148         False        False         False        False    False\n",
      "149         False        False         False        False    False\n",
      "\n",
      "[150 rows x 5 columns]\n",
      "Sepal_Length    False\n",
      "Sepal_Width     False\n",
      "Petal_Length    False\n",
      "Petal_Width     False\n",
      "Species         False\n",
      "dtype: bool\n"
     ]
    }
   ],
   "metadata": {}
  },
  {
   "cell_type": "code",
   "execution_count": 214,
   "source": [
    "# ako negde slucajno budemo imali NaN, a algoritam koji koristimo ne radi ako skup ima NaNove,\r\n",
    "# mozemo jednostavno da samo izbacimo sve te podatke sa dropna() (ovde za iris to nema poente)\r\n",
    "print(df.dropna())\r\n",
    "\r\n",
    "# alternativno, mozemo da zamenimo NaN nekim vrednostima sa fillna()\r\n",
    "print(df.fillna(0))"
   ],
   "outputs": [
    {
     "output_type": "stream",
     "name": "stdout",
     "text": [
      "     Sepal_Length  Sepal_Width  Petal_Length  Petal_Width    Species\n",
      "0             5.1          3.5           1.4          0.2     setosa\n",
      "1             4.9          3.0           1.4          0.2     setosa\n",
      "2             4.7          3.2           1.3          0.2     setosa\n",
      "3             4.6          3.1           1.5          0.2     setosa\n",
      "4             5.0          3.6           1.4          0.2     setosa\n",
      "..            ...          ...           ...          ...        ...\n",
      "145           6.7          3.0           5.2          2.3  virginica\n",
      "146           6.3          2.5           5.0          1.9  virginica\n",
      "147           6.5          3.0           5.2          2.0  virginica\n",
      "148           6.2          3.4           5.4          2.3  virginica\n",
      "149           5.9          3.0           5.1          1.8  virginica\n",
      "\n",
      "[150 rows x 5 columns]\n",
      "     Sepal_Length  Sepal_Width  Petal_Length  Petal_Width    Species\n",
      "0             5.1          3.5           1.4          0.2     setosa\n",
      "1             4.9          3.0           1.4          0.2     setosa\n",
      "2             4.7          3.2           1.3          0.2     setosa\n",
      "3             4.6          3.1           1.5          0.2     setosa\n",
      "4             5.0          3.6           1.4          0.2     setosa\n",
      "..            ...          ...           ...          ...        ...\n",
      "145           6.7          3.0           5.2          2.3  virginica\n",
      "146           6.3          2.5           5.0          1.9  virginica\n",
      "147           6.5          3.0           5.2          2.0  virginica\n",
      "148           6.2          3.4           5.4          2.3  virginica\n",
      "149           5.9          3.0           5.1          1.8  virginica\n",
      "\n",
      "[150 rows x 5 columns]\n"
     ]
    }
   ],
   "metadata": {}
  },
  {
   "cell_type": "code",
   "execution_count": 215,
   "source": [
    "# mozemo da vidimo korelaciju izmedju kolona. Moze se desiti da podaci koje dobijemo imaju dve kolone sa \r\n",
    "# skroz istim vrednostima, ako to bude slucaj, imacemo verednost 1 na tom mestu\r\n",
    "print(df.corr())"
   ],
   "outputs": [
    {
     "output_type": "stream",
     "name": "stdout",
     "text": [
      "              Sepal_Length  Sepal_Width  Petal_Length  Petal_Width\n",
      "Sepal_Length      1.000000    -0.117570      0.871754     0.817941\n",
      "Sepal_Width      -0.117570     1.000000     -0.428440    -0.366126\n",
      "Petal_Length      0.871754    -0.428440      1.000000     0.962865\n",
      "Petal_Width       0.817941    -0.366126      0.962865     1.000000\n"
     ]
    }
   ],
   "metadata": {}
  },
  {
   "cell_type": "code",
   "execution_count": 216,
   "source": [
    "# obicno za klasifikaciju treba da nekako razdvojimo oone ciljne kategoricke atribute i ostale, \r\n",
    "# to mozemo ovako\r\n",
    "feature_names = ['Sepal_Length', 'Sepal_Width', 'Petal_Length', 'Petal_Width']\r\n",
    "X = df[ feature_names ]\r\n",
    "y = df[ ['Species'] ]"
   ],
   "outputs": [],
   "metadata": {}
  },
  {
   "cell_type": "code",
   "execution_count": 217,
   "source": [
    "# pre klasifikacije treba da podelimo na trening i test skup\r\n",
    "# to mozemo lako sa funkcijom iz sklearn\r\n",
    "# test_size ili train_size nam odredjuju procenat koji ide u taj skup, ostalo ide u drugi\r\n",
    "# sa random_state mozemo da stavimo seed za generisanje slucajnih brojeva, ovo je korisno ako vise puta\r\n",
    "# tokom razvoja zelimo da proverimo model nad skroz istom podelom na train i test\r\n",
    "# sa shuffle=True mozemo da izmesamo podatke pre podele na skupove\r\n",
    "# stratify moze da nam obezbedi da imamo i u trening i u test skupu podjednako zastupljene sve razlicite \r\n",
    "# klase koje mogu da se dobiju. Ako koristimo ovo, navodimo po cemu cemo da stratifikujemo. Za nas\r\n",
    "# ce to biti po samom skupu y\r\n",
    "X_train, X_test, y_train, y_test = train_test_split(X, y, test_size=0.3, random_state=15, stratify=y)\r\n",
    "\r\n",
    "print(X_train.shape)\r\n",
    "print(X_test.shape)\r\n",
    "print(y_train.shape)\r\n",
    "print(y_train.shape)"
   ],
   "outputs": [
    {
     "output_type": "stream",
     "name": "stdout",
     "text": [
      "(105, 4)\n",
      "(45, 4)\n",
      "(105, 1)\n",
      "(105, 1)\n"
     ]
    }
   ],
   "metadata": {}
  },
  {
   "cell_type": "code",
   "execution_count": 218,
   "source": [
    "# pravimo model, npr ovde stablo odlucivanja\r\n",
    "# skoro sve klase iz sklearn imaju isti api, i slicno se koriste\r\n",
    "# pogledaj opcione parametre za DecisionTreeClassifier konstruktor sa shift+tab+tab\r\n",
    "model = DecisionTreeClassifier()"
   ],
   "outputs": [],
   "metadata": {}
  },
  {
   "cell_type": "code",
   "execution_count": 219,
   "source": [
    "# fit izvrsava obucavanje\r\n",
    "model.fit(X_train, y_train)"
   ],
   "outputs": [
    {
     "output_type": "execute_result",
     "data": {
      "text/plain": [
       "DecisionTreeClassifier()"
      ]
     },
     "metadata": {},
     "execution_count": 219
    }
   ],
   "metadata": {}
  },
  {
   "cell_type": "code",
   "execution_count": 220,
   "source": [
    "# mozemo da vidimo u koje klase nas model razvrstava\r\n",
    "print(model.classes_)\r\n",
    "\r\n",
    "# mozemo da vidimo koliko je koji atribut bio bitan pri klasifikaciji\r\n",
    "print(model.feature_importances_)"
   ],
   "outputs": [
    {
     "output_type": "stream",
     "name": "stdout",
     "text": [
      "['setosa' 'versicolor' 'virginica']\n",
      "[0.03333333 0.         0.03641457 0.9302521 ]\n"
     ]
    }
   ],
   "metadata": {}
  },
  {
   "cell_type": "code",
   "execution_count": 221,
   "source": [
    "# nakons to fitujemo, radimo predict da bismo proverili kako model radi\r\n",
    "# predict ce nam vratiti niz predvidjenih klasa\r\n",
    "# ovo treba da koristimo sa test podacima, ako koristimo sa train videcemo da model radi savrseno\r\n",
    "y_train_predicted = model.predict(X_train)\r\n",
    "# to da se sve poklapa mozemo da vidimo ovako sa accuracy score\r\n",
    "print(accuracy_score(y_train, y_train_predicted))\r\n",
    "# a mozemo i matricom konfuzije, imacemo nenula elemente samo na dijagonali, to znaci da su svi pravilno pogodjeni\r\n",
    "print(confusion_matrix(y_train, y_train_predicted))"
   ],
   "outputs": [
    {
     "output_type": "stream",
     "name": "stdout",
     "text": [
      "1.0\n",
      "[[35  0  0]\n",
      " [ 0 35  0]\n",
      " [ 0  0 35]]\n"
     ]
    }
   ],
   "metadata": {}
  },
  {
   "cell_type": "code",
   "execution_count": 222,
   "source": [
    "# a ovo je intended use, predvidjamo klase za test skup\r\n",
    "y_test_predicted = model.predict(X_test)\r\n",
    "print(accuracy_score(y_test, y_test_predicted))\r\n",
    "print(confusion_matrix(y_test, y_test_predicted))"
   ],
   "outputs": [
    {
     "output_type": "stream",
     "name": "stdout",
     "text": [
      "0.9555555555555556\n",
      "[[15  0  0]\n",
      " [ 0 15  0]\n",
      " [ 0  2 13]]\n"
     ]
    }
   ],
   "metadata": {}
  },
  {
   "cell_type": "code",
   "execution_count": 223,
   "source": [
    "# jos jedan nacin da ocenimo klasifikaciju je sa classification_report(). Tu dobijamo i preciznost i recall \r\n",
    "# i f1 meru itd\r\n",
    "print(classification_report(y_test, y_test_predicted))"
   ],
   "outputs": [
    {
     "output_type": "stream",
     "name": "stdout",
     "text": [
      "              precision    recall  f1-score   support\n",
      "\n",
      "      setosa       1.00      1.00      1.00        15\n",
      "  versicolor       0.88      1.00      0.94        15\n",
      "   virginica       1.00      0.87      0.93        15\n",
      "\n",
      "    accuracy                           0.96        45\n",
      "   macro avg       0.96      0.96      0.96        45\n",
      "weighted avg       0.96      0.96      0.96        45\n",
      "\n"
     ]
    }
   ],
   "metadata": {}
  },
  {
   "cell_type": "code",
   "execution_count": 224,
   "source": [
    "# ako zelimo da bas iscrtamo stablo odlucivanja iz naseg modela, treba nam tree modul iz sklearn\r\n",
    "# ovo crtanje nije deo samog modela nego postoji nezavisno od njega, model je argument poziva\r\n",
    "# feature_names opcioni parametar koristimo da nebi pisali redni brojevi atributa na crtezu\r\n",
    "# nego bas ti prosledjeni, da bi bilo lepse\r\n",
    "# class_names podesimo da bi bas videli imena klasa a ne neke redne brojeve\r\n",
    "# filled=True nam daje obojene cvorove \r\n",
    "\r\n",
    "# ovo plt.figure i _ smo radili da bi slika bila veca i lepsa (pogledaj sta se dobije ako samo printujemo\r\n",
    "# rezulat poziva plot_tree) (pogledaj i ispise bez ovih opcionih parametara)\r\n",
    "plt.figure(figsize=(10, 10))\r\n",
    "_ = tree.plot_tree(model, feature_names=feature_names, class_names=model.classes_, filled=True)"
   ],
   "outputs": [
    {
     "output_type": "display_data",
     "data": {
      "text/plain": [
       "<Figure size 720x720 with 1 Axes>"
      ],
      "image/png": "[encoded data removed]"
     },
     "metadata": {
      "needs_background": "light"
     }
    }
   ],
   "metadata": {}
  },
  {
   "cell_type": "code",
   "execution_count": 225,
   "source": [
    "# CV iz GridSearch je skraceno od Cross Validation \r\n",
    "# kada ne se trudimo da nadjemo najbolje parametre za model (tipa ne znamo da li je bolje da radimo gini\r\n",
    "# , ili entropiju, ili ne znamo sta je najbolje za neki drugi parametar), umesto da rucno pisemo sve moguce \r\n",
    "# kombinacije, mozemo da koristimo GridSeachCV. On ce za nas pronaci najbolje parametre za model tako sto ce\r\n",
    "# da isproba sve kombinacije parametara koje mu trazimo\r\n",
    "\r\n",
    "# parametre koje hocemod a isprobamo najlakse je da  ih unesemo u mapu i tako prosledimo GridSearchCV-u\r\n",
    "# imena parametara odgovaraju onima koji postoje u DecisionTreeClassifier-u (tj u nekom drugom modelu,\r\n",
    "# ako nismo koristili ovaj decision tree (ti parametri mogu da se vide u dokumentaciji za konkretan model))\r\n",
    "params = {'criterion' : ['gini', 'entropy'],\r\n",
    "          'max_depth' : [2, 3, 4],\r\n",
    "          'min_samples_leaf' : [2, 4]}\r\n",
    "\r\n",
    "# scoring mozemo da koristimo da naglasimo na osnovu cega poredimo modele koje GridSearchCV napravi. \r\n",
    "# Neke cesto koriscene ocene vec postoje ugradjene pa mogu da se proslede ovako kao string, a mozemo i da \r\n",
    "# napravimo neku nasu funkciju i onda nju da prosledimo\r\n",
    "# cv parametar je za cross validaciju, kaze koliko slojeva imamo (po defaultu je 5 foldova)\r\n",
    "# GridSearchCV na na kraju vrati najbolji model\r\n",
    "model = GridSearchCV(DecisionTreeClassifier(), param_grid=params, scoring='accuracy', cv=6)"
   ],
   "outputs": [],
   "metadata": {}
  },
  {
   "cell_type": "code",
   "execution_count": 226,
   "source": [
    "# sada taj dobijeni najbolji model mozemo da treniramo (sada koristimo ceo trening skup, a ne delimican \r\n",
    "# koji je bio koriscen tokom GridSearch-a zbog cross validacije)\r\n",
    "model.fit(X_train, y_train)\r\n",
    "\r\n",
    "# ovako vidimo koja kombinacija parametara je dala najbolji model\r\n",
    "print(model.best_params_)\r\n",
    "\r\n",
    "# tj mozemo i da vidimo te najbolje parametre i u kontekstu konkretnog tipa modela koji koristimo\r\n",
    "print(model.best_estimator_)\r\n",
    "\r\n",
    "# score za taj najbolji model (ovde je score accuracy jer smo tako naveli kao argument funkcije, ali moglo je i nesto drugo)\r\n",
    "print(model.best_score_)"
   ],
   "outputs": [
    {
     "output_type": "stream",
     "name": "stdout",
     "text": [
      "{'criterion': 'gini', 'max_depth': 2, 'min_samples_leaf': 2}\n",
      "DecisionTreeClassifier(max_depth=2, min_samples_leaf=2)\n",
      "0.952069716775599\n"
     ]
    }
   ],
   "metadata": {}
  },
  {
   "cell_type": "code",
   "execution_count": 228,
   "source": [
    "# sada mozemo da vidimo kako se taj najbolji nadjen model ponasa na test skupu\r\n",
    "y_predicted = model.predict(X_test)\r\n",
    "print(accuracy_score(y_test, y_test_predicted))\r\n",
    "print(confusion_matrix(y_test, y_test_predicted))"
   ],
   "outputs": [
    {
     "output_type": "stream",
     "name": "stdout",
     "text": [
      "0.9555555555555556\n",
      "[[15  0  0]\n",
      " [ 0 15  0]\n",
      " [ 0  2 13]]\n"
     ]
    }
   ],
   "metadata": {}
  }
 ],
 "metadata": {
  "kernelspec": {
   "display_name": "Python 3",
   "language": "python",
   "name": "python3"
  },
  "language_info": {
   "codemirror_mode": {
    "name": "ipython",
    "version": 3
   },
   "file_extension": ".py",
   "mimetype": "text/x-python",
   "name": "python",
   "nbconvert_exporter": "python",
   "pygments_lexer": "ipython3",
   "version": "3.9.0"
  }
 },
 "nbformat": 4,
 "nbformat_minor": 5
}