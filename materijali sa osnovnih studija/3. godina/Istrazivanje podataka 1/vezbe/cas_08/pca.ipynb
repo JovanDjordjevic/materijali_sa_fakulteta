{
 "cells": [
  {
   "cell_type": "code",
   "execution_count": 12,
   "id": "geological-frank",
   "metadata": {},
   "outputs": [],
   "source": [
    "# u ovom primeru radimo PCA - principal component analysis za iris\n",
    "\n",
    "import pandas as pd\n",
    "\n",
    "from sklearn.preprocessing import StandardScaler\n",
    "from matplotlib import pyplot as plt\n",
    "import numpy as np\n",
    "\n",
    "from sklearn.decomposition import PCA"
   ]
  },
  {
   "cell_type": "code",
   "execution_count": 2,
   "id": "julian-mission",
   "metadata": {},
   "outputs": [
    {
     "data": {
      "text/html": [
       "<div>\n",
       "<style scoped>\n",
       "    .dataframe tbody tr th:only-of-type {\n",
       "        vertical-align: middle;\n",
       "    }\n",
       "\n",
       "    .dataframe tbody tr th {\n",
       "        vertical-align: top;\n",
       "    }\n",
       "\n",
       "    .dataframe thead th {\n",
       "        text-align: right;\n",
       "    }\n",
       "</style>\n",
       "<table border=\"1\" class=\"dataframe\">\n",
       "  <thead>\n",
       "    <tr style=\"text-align: right;\">\n",
       "      <th></th>\n",
       "      <th>Sepal_Length</th>\n",
       "      <th>Sepal_Width</th>\n",
       "      <th>Petal_Length</th>\n",
       "      <th>Petal_Width</th>\n",
       "      <th>Species</th>\n",
       "    </tr>\n",
       "  </thead>\n",
       "  <tbody>\n",
       "    <tr>\n",
       "      <th>0</th>\n",
       "      <td>5.1</td>\n",
       "      <td>3.5</td>\n",
       "      <td>1.4</td>\n",
       "      <td>0.2</td>\n",
       "      <td>setosa</td>\n",
       "    </tr>\n",
       "    <tr>\n",
       "      <th>1</th>\n",
       "      <td>4.9</td>\n",
       "      <td>3.0</td>\n",
       "      <td>1.4</td>\n",
       "      <td>0.2</td>\n",
       "      <td>setosa</td>\n",
       "    </tr>\n",
       "    <tr>\n",
       "      <th>2</th>\n",
       "      <td>4.7</td>\n",
       "      <td>3.2</td>\n",
       "      <td>1.3</td>\n",
       "      <td>0.2</td>\n",
       "      <td>setosa</td>\n",
       "    </tr>\n",
       "    <tr>\n",
       "      <th>3</th>\n",
       "      <td>4.6</td>\n",
       "      <td>3.1</td>\n",
       "      <td>1.5</td>\n",
       "      <td>0.2</td>\n",
       "      <td>setosa</td>\n",
       "    </tr>\n",
       "    <tr>\n",
       "      <th>4</th>\n",
       "      <td>5.0</td>\n",
       "      <td>3.6</td>\n",
       "      <td>1.4</td>\n",
       "      <td>0.2</td>\n",
       "      <td>setosa</td>\n",
       "    </tr>\n",
       "  </tbody>\n",
       "</table>\n",
       "</div>"
      ],
      "text/plain": [
       "   Sepal_Length  Sepal_Width  Petal_Length  Petal_Width Species\n",
       "0           5.1          3.5           1.4          0.2  setosa\n",
       "1           4.9          3.0           1.4          0.2  setosa\n",
       "2           4.7          3.2           1.3          0.2  setosa\n",
       "3           4.6          3.1           1.5          0.2  setosa\n",
       "4           5.0          3.6           1.4          0.2  setosa"
      ]
     },
     "execution_count": 2,
     "metadata": {},
     "output_type": "execute_result"
    }
   ],
   "source": [
    "df = pd.read_csv('../iris.csv')\n",
    "df.head()"
   ]
  },
  {
   "cell_type": "code",
   "execution_count": 3,
   "id": "parental-debate",
   "metadata": {},
   "outputs": [],
   "source": [
    "X = df.drop('Species', axis=1)\n",
    "y = df['Species']"
   ]
  },
  {
   "cell_type": "code",
   "execution_count": 4,
   "id": "possible-alignment",
   "metadata": {},
   "outputs": [
    {
     "data": {
      "text/html": [
       "<div>\n",
       "<style scoped>\n",
       "    .dataframe tbody tr th:only-of-type {\n",
       "        vertical-align: middle;\n",
       "    }\n",
       "\n",
       "    .dataframe tbody tr th {\n",
       "        vertical-align: top;\n",
       "    }\n",
       "\n",
       "    .dataframe thead th {\n",
       "        text-align: right;\n",
       "    }\n",
       "</style>\n",
       "<table border=\"1\" class=\"dataframe\">\n",
       "  <thead>\n",
       "    <tr style=\"text-align: right;\">\n",
       "      <th></th>\n",
       "      <th>Sepal_Length</th>\n",
       "      <th>Sepal_Width</th>\n",
       "      <th>Petal_Length</th>\n",
       "      <th>Petal_Width</th>\n",
       "    </tr>\n",
       "  </thead>\n",
       "  <tbody>\n",
       "    <tr>\n",
       "      <th>0</th>\n",
       "      <td>-0.900681</td>\n",
       "      <td>1.019004</td>\n",
       "      <td>-1.340227</td>\n",
       "      <td>-1.315444</td>\n",
       "    </tr>\n",
       "    <tr>\n",
       "      <th>1</th>\n",
       "      <td>-1.143017</td>\n",
       "      <td>-0.131979</td>\n",
       "      <td>-1.340227</td>\n",
       "      <td>-1.315444</td>\n",
       "    </tr>\n",
       "    <tr>\n",
       "      <th>2</th>\n",
       "      <td>-1.385353</td>\n",
       "      <td>0.328414</td>\n",
       "      <td>-1.397064</td>\n",
       "      <td>-1.315444</td>\n",
       "    </tr>\n",
       "    <tr>\n",
       "      <th>3</th>\n",
       "      <td>-1.506521</td>\n",
       "      <td>0.098217</td>\n",
       "      <td>-1.283389</td>\n",
       "      <td>-1.315444</td>\n",
       "    </tr>\n",
       "    <tr>\n",
       "      <th>4</th>\n",
       "      <td>-1.021849</td>\n",
       "      <td>1.249201</td>\n",
       "      <td>-1.340227</td>\n",
       "      <td>-1.315444</td>\n",
       "    </tr>\n",
       "  </tbody>\n",
       "</table>\n",
       "</div>"
      ],
      "text/plain": [
       "   Sepal_Length  Sepal_Width  Petal_Length  Petal_Width\n",
       "0     -0.900681     1.019004     -1.340227    -1.315444\n",
       "1     -1.143017    -0.131979     -1.340227    -1.315444\n",
       "2     -1.385353     0.328414     -1.397064    -1.315444\n",
       "3     -1.506521     0.098217     -1.283389    -1.315444\n",
       "4     -1.021849     1.249201     -1.340227    -1.315444"
      ]
     },
     "execution_count": 4,
     "metadata": {},
     "output_type": "execute_result"
    }
   ],
   "source": [
    "# ne pravimo nikakav model nego hocemo da vizuelizujemo. iris ima ukupno 5 atributa, a posto ne mozemo da \n",
    "# crtamo u 5 dimenzija vec najvise u 3, treba nekako da ih redukujemo\n",
    "\n",
    "# ne mroamo nuzno uvek raditi normalizaciju /standardizaciju. Npr ako su podaci vec na nekoj slicnoj skali\n",
    "# onda ne moramo, ali mi ovde radimo skaliranje\n",
    "scaler = StandardScaler()\n",
    "\n",
    "feature_names = X.columns.tolist()\n",
    "\n",
    "# napravimo dataframe da bi bilo preglednije\n",
    "X = pd.DataFrame(scaler.fit_transform(X), columns=feature_names)\n",
    "X.head()"
   ]
  },
  {
   "cell_type": "code",
   "execution_count": 5,
   "id": "fuzzy-adoption",
   "metadata": {},
   "outputs": [],
   "source": [
    "# PCA se korsiti identicno kao sve druge transforacije iz sklearn\n",
    "pca = PCA()"
   ]
  },
  {
   "cell_type": "code",
   "execution_count": 6,
   "id": "combined-uruguay",
   "metadata": {},
   "outputs": [
    {
     "data": {
      "text/html": [
       "<div>\n",
       "<style scoped>\n",
       "    .dataframe tbody tr th:only-of-type {\n",
       "        vertical-align: middle;\n",
       "    }\n",
       "\n",
       "    .dataframe tbody tr th {\n",
       "        vertical-align: top;\n",
       "    }\n",
       "\n",
       "    .dataframe thead th {\n",
       "        text-align: right;\n",
       "    }\n",
       "</style>\n",
       "<table border=\"1\" class=\"dataframe\">\n",
       "  <thead>\n",
       "    <tr style=\"text-align: right;\">\n",
       "      <th></th>\n",
       "      <th>pca_0</th>\n",
       "      <th>pca_1</th>\n",
       "      <th>pca_2</th>\n",
       "      <th>pca_3</th>\n",
       "    </tr>\n",
       "  </thead>\n",
       "  <tbody>\n",
       "    <tr>\n",
       "      <th>0</th>\n",
       "      <td>-2.264703</td>\n",
       "      <td>0.480027</td>\n",
       "      <td>-0.127706</td>\n",
       "      <td>-0.024168</td>\n",
       "    </tr>\n",
       "    <tr>\n",
       "      <th>1</th>\n",
       "      <td>-2.080961</td>\n",
       "      <td>-0.674134</td>\n",
       "      <td>-0.234609</td>\n",
       "      <td>-0.103007</td>\n",
       "    </tr>\n",
       "    <tr>\n",
       "      <th>2</th>\n",
       "      <td>-2.364229</td>\n",
       "      <td>-0.341908</td>\n",
       "      <td>0.044201</td>\n",
       "      <td>-0.028377</td>\n",
       "    </tr>\n",
       "    <tr>\n",
       "      <th>3</th>\n",
       "      <td>-2.299384</td>\n",
       "      <td>-0.597395</td>\n",
       "      <td>0.091290</td>\n",
       "      <td>0.065956</td>\n",
       "    </tr>\n",
       "    <tr>\n",
       "      <th>4</th>\n",
       "      <td>-2.389842</td>\n",
       "      <td>0.646835</td>\n",
       "      <td>0.015738</td>\n",
       "      <td>0.035923</td>\n",
       "    </tr>\n",
       "  </tbody>\n",
       "</table>\n",
       "</div>"
      ],
      "text/plain": [
       "      pca_0     pca_1     pca_2     pca_3\n",
       "0 -2.264703  0.480027 -0.127706 -0.024168\n",
       "1 -2.080961 -0.674134 -0.234609 -0.103007\n",
       "2 -2.364229 -0.341908  0.044201 -0.028377\n",
       "3 -2.299384 -0.597395  0.091290  0.065956\n",
       "4 -2.389842  0.646835  0.015738  0.035923"
      ]
     },
     "execution_count": 6,
     "metadata": {},
     "output_type": "execute_result"
    }
   ],
   "source": [
    "# NOTE: iako postoji fit_transform, ali to izgleda nesto ne radi kako treba pa je prepruka da razdvojimo\n",
    "# fit i transform pozive\n",
    "pca.fit(X)\n",
    "X = pca.transform(X)\n",
    "\n",
    "# napravimo dataframe da bi bilo preglednije, pca_names ce biti neki novi atributi koji se naprave\n",
    "# koliko ih ima mozemo da vidimo sa n_compoents_ \n",
    "pca_names = [f'pca_{i}' for i in range(pca.n_components_)]\n",
    "#print(pca_names)\n",
    "\n",
    "X = pd.DataFrame(X, columns=pca_names)\n",
    "X.head()"
   ]
  },
  {
   "cell_type": "code",
   "execution_count": 16,
   "id": "backed-tulsa",
   "metadata": {},
   "outputs": [
    {
     "name": "stdout",
     "output_type": "stream",
     "text": [
      "[[ 0.52106591 -0.26934744  0.5804131   0.56485654]\n",
      " [ 0.37741762  0.92329566  0.02449161  0.06694199]\n",
      " [-0.71956635  0.24438178  0.14212637  0.63427274]\n",
      " [-0.26128628  0.12350962  0.80144925 -0.52359713]]\n",
      "\n",
      "[0.72962445 0.22850762 0.03668922 0.00517871]\n"
     ]
    },
    {
     "data": {
      "text/plain": [
       "<BarContainer object of 4 artists>"
      ]
     },
     "execution_count": 16,
     "metadata": {},
     "output_type": "execute_result"
    },
    {
     "data": {
      "image/png": "[encoded data removed]",
      "text/plain": [
       "<Figure size 432x288 with 1 Axes>"
      ]
     },
     "metadata": {
      "needs_background": "light"
     },
     "output_type": "display_data"
    }
   ],
   "source": [
    "# pca nove atribute pravi kao neku linearnu kombinaciju postojeciha tributa. Koeficijente te linearne kombinacijeabs\n",
    "# mozemo da vidimo sa components_\n",
    "print(pca.components_)\n",
    "\n",
    "print()\n",
    "\n",
    "# udeo objasnjene varijanse za svaki novodobijeni atribut kaze koliko on variajnse celog skupa pokriva.\n",
    "# Npr, vidimo da je prvi broj 0.72, to znaci da ako izbacimo sve atribute sem pca_0, samo taj prvi atribut\n",
    "# je dovoljan da se predstavi oko 72% razliciosti u nasim podacima, tj izgubili bismo oko 0.28 varijanse\n",
    "# slicno za sledeci broj. za pca_1 je 0.22, znaci on predstavlja oko 22% ukupne varijanse, tj izgubili bismo \n",
    "# oko 78% ako bismo izbacili sve atribute sem njega\n",
    "# kada se posmatra zajedno, vidimo da su prva+druga komponenta objasnile oko 0.94 tj oko 94% ukupne \n",
    "# varijanse u skupu, sto znaci da mozemo slobodno da ignorisemo preostala 2 atributa pca_2 i pca_3\n",
    "print(pca.explained_variance_ratio_)\n",
    "# mozemo i da ih vizuelizujemo na bar plotu koliko koji ucestvuje\n",
    "plt.bar(pca_names, pca.explained_variance_ratio_)"
   ]
  },
  {
   "cell_type": "code",
   "execution_count": 18,
   "id": "digital-merit",
   "metadata": {},
   "outputs": [
    {
     "data": {
      "text/plain": [
       "[<matplotlib.lines.Line2D at 0x200aebf3850>]"
      ]
     },
     "execution_count": 18,
     "metadata": {},
     "output_type": "execute_result"
    },
    {
     "data": {
      "image/png": "[encoded data removed]",
      "text/plain": [
       "<Figure size 432x288 with 1 Axes>"
      ]
     },
     "metadata": {
      "needs_background": "light"
     },
     "output_type": "display_data"
    }
   ],
   "source": [
    "# a evo npr kako bi vizuelizovali kako se kumulativno povecava objasnjen deo varijanse podataka\n",
    "# vidimo kada saberemo prva dva dobijamo vec oko 95% \n",
    "plt.plot(pca_names, np.cumsum(pca.explained_variance_ratio_), marker = 'o')"
   ]
  },
  {
   "cell_type": "code",
   "execution_count": 36,
   "id": "complete-leave",
   "metadata": {},
   "outputs": [
    {
     "name": "stdout",
     "output_type": "stream",
     "text": [
      "['setosa' 'versicolor' 'virginica']\n"
     ]
    },
    {
     "data": {
      "text/plain": [
       "<matplotlib.legend.Legend at 0x200aeac6520>"
      ]
     },
     "execution_count": 36,
     "metadata": {},
     "output_type": "execute_result"
    },
    {
     "data": {
      "image/png": "[encoded data removed]",
      "text/plain": [
       "<Figure size 432x288 with 1 Axes>"
      ]
     },
     "metadata": {
      "needs_background": "light"
     },
     "output_type": "display_data"
    }
   ],
   "source": [
    "# primetimo da smo hteli da redukujemo broj atributa, ali fit i transform su nam sada dali isto 4 atributa \n",
    "# tj nije se redukovao njihov broj, nas nista ne sprecava da pri iscrtavanju samo korsitimo onoliko \n",
    "# koliko nam treba alternativno, mogli smo pri konstrukciji PCA() da damo opcioni argument n_components= nesto\n",
    "# to moze da se korsiti na 2 nacina. Ako je to nesto integer, onda PCA zadrzava tacno toliko atributa koje\n",
    "# napravi, a ako je to nesto float, onda PCA zadrzava onoliko atributa koji pokrivaju toliki % varijasne skupa\n",
    "\n",
    "# hocemo sada nekako da vizuelizujemo nase podatke. Dodelicemo svakoj klasi koja postoji po neku boju da \n",
    "# bi se lepse videlo na crtezu\n",
    "class_names = y.unique()\n",
    "print(class_names)\n",
    "colors = ['red', 'green', 'blue']\n",
    "\n",
    "\n",
    "# hocemo za svaku klasu da iz skupa izvucemo sve instance koje su te klase\n",
    "for i, class_name in enumerate(class_names):\n",
    "    # ovo y[y==class_name] nam vraca Series, a nama je dovoljno da znamo njihove indekse\n",
    "    # a mi jos hocemoda da izvucemo atribute za te dobijene indekse pa mozemo da kazemo iloc\n",
    "    # (ilocu pored jednog broja mozemo da prosledimo i niz indeksa)\n",
    "    class_instances = X.iloc[ y[y == class_name].index ]\n",
    "    plt.scatter(class_instances['pca_0'], class_instances['pca_1'], color=colors[i], label=class_name)\n",
    "\n",
    "# da bismo koristili legend, moramo da imamo neke labele, zato smo dodali label za svaki scatter plot\n",
    "# argument za legendu je pozicija, sto mozemo da biramo sami, ili da kazemo 'best' pa se automatski doabere ze nas\n",
    "plt.legend(loc='best')"
   ]
  }
 ],
 "metadata": {
  "kernelspec": {
   "display_name": "Python 3",
   "language": "python",
   "name": "python3"
  },
  "language_info": {
   "codemirror_mode": {
    "name": "ipython",
    "version": 3
   },
   "file_extension": ".py",
   "mimetype": "text/x-python",
   "name": "python",
   "nbconvert_exporter": "python",
   "pygments_lexer": "ipython3",
   "version": "3.9.0"
  }
 },
 "nbformat": 4,
 "nbformat_minor": 5
}
