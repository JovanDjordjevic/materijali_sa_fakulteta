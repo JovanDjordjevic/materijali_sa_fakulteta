{
 "cells": [
  {
   "cell_type": "code",
   "execution_count": 29,
   "id": "minus-waste",
   "metadata": {},
   "outputs": [],
   "source": [
    "# MLP - multi-layer perceptron\n",
    "# u ovom primeru radimo klasifikaciju iris skupa neurosnkom mrezom. NOTE: sklearn nije bas predvidjen za rad \n",
    "# sa ovim, tako da ako bi nam trebalo nesto ozbiljnije, koristili bismo tensorflow i keras, ili pytorch\n",
    "\n",
    "import pandas as pd\n",
    "from sklearn.model_selection import train_test_split\n",
    "from sklearn.metrics import confusion_matrix\n",
    "\n",
    "# pored ovoga imamo i MLPRegressor. Razlika izmedju klasifikacije i regresije je sto je kod klasifikacije\n",
    "# ciljna promenljiva diskretna (neka klasa), dok je kod regresije neprekidna (neki realan broj)\n",
    "# Neuronska mreza moze da se korsiti i za regresiju. Razlika je sto cemo na kraju imati tacno jedan \n",
    "# neuron koji ne mora cak ni da ima aktivacionu funkciju, ili mozemo prosto da uzmemo da je ona linearna\n",
    "# tj y=x, zato sto nam sam taj broj predstavlja izlaz. Jos jedna razlika ce biti kako se racunaju greske\n",
    "from sklearn.neural_network import MLPClassifier"
   ]
  },
  {
   "cell_type": "code",
   "execution_count": 30,
   "id": "silver-group",
   "metadata": {},
   "outputs": [],
   "source": [
    "df = pd.read_csv('../iris.csv')"
   ]
  },
  {
   "cell_type": "code",
   "execution_count": 31,
   "id": "ongoing-roads",
   "metadata": {},
   "outputs": [],
   "source": [
    "# jos jedan nacin da izdvojimo neke podatke. drop izbacuje ono sto prosledimo, smao moramo da pazimo na sledece\n",
    "# mozemo da izbacimo i neki red i neku kolonu. Po defaultu je izbacianje iz reda, tj axis=0, ako hocmeo da \n",
    "# ibacimo kolonu, moramo da kazemo axis=1\n",
    "X = df.drop('Species', axis=1)\n",
    "y = df['Species']"
   ]
  },
  {
   "cell_type": "code",
   "execution_count": 32,
   "id": "opening-nicholas",
   "metadata": {},
   "outputs": [],
   "source": [
    "X_train, X_test, y_train, y_test = train_test_split(X, y, test_size=0.3, stratify=y)"
   ]
  },
  {
   "cell_type": "code",
   "execution_count": 33,
   "id": "normal-cartoon",
   "metadata": {},
   "outputs": [],
   "source": [
    "# svi slojevi koji su izmejdu ualznog i izlaznog zovu se skriveni. Default vredsnot ovde je 1 skriveni \n",
    "# sloj sa 100 neurona, mi ovde stavljamo npr 2 sloja sa po 20 i 5 neurona\n",
    "model = MLPClassifier(hidden_layer_sizes=(20,5), max_iter=300)"
   ]
  },
  {
   "cell_type": "code",
   "execution_count": 34,
   "id": "impaired-irrigation",
   "metadata": {},
   "outputs": [
    {
     "name": "stderr",
     "output_type": "stream",
     "text": [
      "c:\\users\\jovan\\appdata\\local\\programs\\python\\python39\\lib\\site-packages\\sklearn\\neural_network\\_multilayer_perceptron.py:614: ConvergenceWarning: Stochastic Optimizer: Maximum iterations (300) reached and the optimization hasn't converged yet.\n",
      "  warnings.warn(\n"
     ]
    },
    {
     "data": {
      "text/plain": [
       "MLPClassifier(hidden_layer_sizes=(20, 5), max_iter=300)"
      ]
     },
     "execution_count": 34,
     "metadata": {},
     "output_type": "execute_result"
    }
   ],
   "source": [
    "model.fit(X_train, y_train)"
   ]
  },
  {
   "cell_type": "code",
   "execution_count": 35,
   "id": "weird-friendly",
   "metadata": {},
   "outputs": [
    {
     "name": "stdout",
     "output_type": "stream",
     "text": [
      "[[15  0  0]\n",
      " [ 0 14  1]\n",
      " [ 0  0 15]]\n"
     ]
    }
   ],
   "source": [
    "y_predicted = model.predict(X_test)\n",
    "print(confusion_matrix(y_test, y_predicted))"
   ]
  }
 ],
 "metadata": {
  "kernelspec": {
   "display_name": "Python 3",
   "language": "python",
   "name": "python3"
  },
  "language_info": {
   "codemirror_mode": {
    "name": "ipython",
    "version": 3
   },
   "file_extension": ".py",
   "mimetype": "text/x-python",
   "name": "python",
   "nbconvert_exporter": "python",
   "pygments_lexer": "ipython3",
   "version": "3.9.0"
  }
 },
 "nbformat": 4,
 "nbformat_minor": 5
}
