{
 "cells": [
  {
   "cell_type": "code",
   "execution_count": 21,
   "source": [
    "# dbscan klasterovanje na dogs skupu \n",
    "\n",
    "import pandas as pd\n",
    "from matplotlib import pyplot as plt\n",
    "from sklearn.preprocessing import MinMaxScaler\n",
    "from sklearn.metrics import silhouette_score\n",
    "\n",
    "from sklearn.cluster import DBSCAN"
   ],
   "outputs": [],
   "metadata": {}
  },
  {
   "cell_type": "code",
   "execution_count": 6,
   "source": [
    "# uciavamo podatke i radimo normalizaciju, sve isto kao u proslom primeru\n",
    "df = pd.read_csv('../dogs.csv')\n",
    "#df.head()\n",
    "\n",
    "feature_names = df.columns[1:].tolist()\n",
    "X = df[feature_names]\n",
    "\n",
    "X = MinMaxScaler().fit_transform(X)\n",
    "X = pd.DataFrame(X, columns=feature_names)\n",
    "\n",
    "print(X)"
   ],
   "outputs": [
    {
     "output_type": "stream",
     "name": "stdout",
     "text": [
      "      height    weight\n",
      "0   0.538462  0.248366\n",
      "1   0.384615  0.084967\n",
      "2   0.461538  0.183007\n",
      "3   0.807692  0.738562\n",
      "4   0.076923  0.006536\n",
      "5   0.730769  0.464052\n",
      "6   0.653846  0.411765\n",
      "7   1.000000  1.000000\n",
      "8   0.576923  0.281046\n",
      "9   0.500000  0.379085\n",
      "10  0.000000  0.000000\n"
     ]
    }
   ],
   "metadata": {}
  },
  {
   "cell_type": "code",
   "execution_count": 18,
   "source": [
    "# min_samples je broj instanci koje moraju da postoje oko tacke da bi ona bila centar klastera (?)\n",
    "# eps je neka maksimalna razdaljina, za to moramo da isprobamo razlicite vrednosti, ovaj parametar je \n",
    "# bitniji da se dobro pogodi nego min_samples\n",
    "model = DBSCAN(eps=0.3, min_samples=2)\n",
    "model.fit(X)"
   ],
   "outputs": [
    {
     "output_type": "execute_result",
     "data": {
      "text/plain": [
       "DBSCAN(eps=0.3, min_samples=2)"
      ]
     },
     "metadata": {},
     "execution_count": 18
    }
   ],
   "metadata": {}
  },
  {
   "cell_type": "code",
   "execution_count": 20,
   "source": [
    "# podrazumevano eps=0.5, primetimo da ako pozovemo samo DBSCAN() bez da menjamo bilo koji parametar, \n",
    "# svi labeli ce biti isti, tj sve ce biti u jednom klasteru\n",
    "# ono sto se proceni da je sum ce biti oznaceno sa -1. Mi kada smo probali eps=0.1 ispalo je da se svi\n",
    "# podaci sum, znaci uzeli smo premalo eps\n",
    "# sa eps=0.3 smo vec dobili neke klastere i neke sumove\n",
    "print(model.labels_)"
   ],
   "outputs": [
    {
     "output_type": "stream",
     "name": "stdout",
     "text": [
      "[ 0  0  0  0  1  0  0 -1  0  0  1]\n"
     ]
    }
   ],
   "metadata": {}
  },
  {
   "cell_type": "code",
   "execution_count": 23,
   "source": [
    "# u metrics iamo i silhouette score, zaboravio je da pokaze to prosli cas\n",
    "print(silhouette_score(X, model.labels_))"
   ],
   "outputs": [
    {
     "output_type": "stream",
     "name": "stdout",
     "text": [
      "0.4306542372423945\n"
     ]
    }
   ],
   "metadata": {}
  },
  {
   "cell_type": "code",
   "execution_count": 32,
   "source": [
    "# mozemo u nekoj petlji da probamo razlicite vrednosti za eps i da vidimo kako se ponasa\r\n",
    "# prekopirali smo crtanje iz proslog primera uz malu izmenu\r\n",
    "eps_values = [0.2, 0.225, 0.25, 0.275, 0.3]\r\n",
    "\r\n",
    "colors = ['red', 'green', 'blue']\r\n",
    "fig = plt.figure(figsize=(15, 4))\r\n",
    "\r\n",
    "for i, eps in enumerate(eps_values):\r\n",
    "    model = DBSCAN(eps=eps, min_samples=2)\r\n",
    "    model.fit(X)\r\n",
    "    \r\n",
    "    df['label'] = model.labels_\r\n",
    "     \r\n",
    "    n_clusters = max(model.labels_) + 1\r\n",
    "    \r\n",
    "    fig.add_subplot(1, len(eps_values), i + 1)\r\n",
    "       \r\n",
    "    for cluster_label in range(-1, n_clusters):\r\n",
    "        cluster = df[df['label'] == cluster_label]\r\n",
    "        \r\n",
    "        # ako je sum, onda je label -1, samo cemo njih da crtamo crnom bojom\r\n",
    "        if cluster_label == -1:\r\n",
    "            plt.scatter(cluster['height'], cluster['weight'],\r\n",
    "                        marker='o', color='black', label='sum')\r\n",
    "        else:\r\n",
    "            plt.scatter(cluster['height'], cluster['weight'],\r\n",
    "                        marker='o', color=colors[cluster_label], label=f'klaster {cluster_label}')\r\n",
    "    \r\n",
    "    plt.title(f'silueta: {silhouette_score(X, model.labels_)}')\r\n",
    "    plt.legend(loc='best')\r\n",
    "plt.show()"
   ],
   "outputs": [
    {
     "output_type": "display_data",
     "data": {
      "text/plain": [
       "<Figure size 1080x288 with 5 Axes>"
      ],
      "image/png": "[encoded data removed]"
     },
     "metadata": {
      "needs_background": "light"
     }
    }
   ],
   "metadata": {}
  }
 ],
 "metadata": {
  "kernelspec": {
   "display_name": "Python 3",
   "language": "python",
   "name": "python3"
  },
  "language_info": {
   "codemirror_mode": {
    "name": "ipython",
    "version": 3
   },
   "file_extension": ".py",
   "mimetype": "text/x-python",
   "name": "python",
   "nbconvert_exporter": "python",
   "pygments_lexer": "ipython3",
   "version": "3.9.0"
  }
 },
 "nbformat": 4,
 "nbformat_minor": 5
}