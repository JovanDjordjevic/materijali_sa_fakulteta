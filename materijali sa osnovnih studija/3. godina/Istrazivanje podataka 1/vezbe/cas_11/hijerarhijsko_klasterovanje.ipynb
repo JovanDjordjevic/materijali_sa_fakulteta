{
 "cells": [
  {
   "cell_type": "code",
   "execution_count": 1,
   "id": "intelligent-dimension",
   "metadata": {},
   "outputs": [],
   "source": [
    "# radimo sakupljajuce (agglomerative) klasterovanje na dogs skupu \n",
    "\n",
    "import pandas as pd\n",
    "from matplotlib import pyplot as plt\n",
    "from sklearn.preprocessing import MinMaxScaler\n",
    "\n",
    "from sklearn.cluster import AgglomerativeClustering "
   ]
  },
  {
   "cell_type": "code",
   "execution_count": 2,
   "id": "sensitive-occasion",
   "metadata": {},
   "outputs": [
    {
     "data": {
      "text/html": [
       "<div>\n",
       "<style scoped>\n",
       "    .dataframe tbody tr th:only-of-type {\n",
       "        vertical-align: middle;\n",
       "    }\n",
       "\n",
       "    .dataframe tbody tr th {\n",
       "        vertical-align: top;\n",
       "    }\n",
       "\n",
       "    .dataframe thead th {\n",
       "        text-align: right;\n",
       "    }\n",
       "</style>\n",
       "<table border=\"1\" class=\"dataframe\">\n",
       "  <thead>\n",
       "    <tr style=\"text-align: right;\">\n",
       "      <th></th>\n",
       "      <th>breed</th>\n",
       "      <th>height</th>\n",
       "      <th>weight</th>\n",
       "    </tr>\n",
       "  </thead>\n",
       "  <tbody>\n",
       "    <tr>\n",
       "      <th>0</th>\n",
       "      <td>Border Collie</td>\n",
       "      <td>20</td>\n",
       "      <td>45</td>\n",
       "    </tr>\n",
       "    <tr>\n",
       "      <th>1</th>\n",
       "      <td>Boston Terrier</td>\n",
       "      <td>16</td>\n",
       "      <td>20</td>\n",
       "    </tr>\n",
       "    <tr>\n",
       "      <th>2</th>\n",
       "      <td>Brittany Spaniel</td>\n",
       "      <td>18</td>\n",
       "      <td>35</td>\n",
       "    </tr>\n",
       "    <tr>\n",
       "      <th>3</th>\n",
       "      <td>Bullmastiff</td>\n",
       "      <td>27</td>\n",
       "      <td>120</td>\n",
       "    </tr>\n",
       "    <tr>\n",
       "      <th>4</th>\n",
       "      <td>Chihuahua</td>\n",
       "      <td>8</td>\n",
       "      <td>8</td>\n",
       "    </tr>\n",
       "  </tbody>\n",
       "</table>\n",
       "</div>"
      ],
      "text/plain": [
       "              breed  height  weight\n",
       "0     Border Collie      20      45\n",
       "1    Boston Terrier      16      20\n",
       "2  Brittany Spaniel      18      35\n",
       "3       Bullmastiff      27     120\n",
       "4         Chihuahua       8       8"
      ]
     },
     "execution_count": 2,
     "metadata": {},
     "output_type": "execute_result"
    }
   ],
   "source": [
    "df = pd.read_csv('../dogs.csv')\n",
    "df.head()"
   ]
  },
  {
   "cell_type": "code",
   "execution_count": 3,
   "id": "linear-reliance",
   "metadata": {},
   "outputs": [
    {
     "name": "stdout",
     "output_type": "stream",
     "text": [
      "['height', 'weight']\n"
     ]
    }
   ],
   "source": [
    "# ignorisemo kategoricki atribut breed u klasterovanju\n",
    "feature_names = df.columns[1:].tolist()\n",
    "print(feature_names)"
   ]
  },
  {
   "cell_type": "code",
   "execution_count": 4,
   "id": "mechanical-listening",
   "metadata": {},
   "outputs": [
    {
     "name": "stdout",
     "output_type": "stream",
     "text": [
      "    height  weight\n",
      "0       20      45\n",
      "1       16      20\n",
      "2       18      35\n",
      "3       27     120\n",
      "4        8       8\n",
      "5       25      78\n",
      "6       23      70\n",
      "7       32     160\n",
      "8       21      50\n",
      "9       19      65\n",
      "10       6       7\n"
     ]
    }
   ],
   "source": [
    "X = df[feature_names]\n",
    "print(X)"
   ]
  },
  {
   "cell_type": "code",
   "execution_count": 5,
   "id": "sweet-short",
   "metadata": {},
   "outputs": [
    {
     "name": "stdout",
     "output_type": "stream",
     "text": [
      "      height    weight\n",
      "0   0.538462  0.248366\n",
      "1   0.384615  0.084967\n",
      "2   0.461538  0.183007\n",
      "3   0.807692  0.738562\n",
      "4   0.076923  0.006536\n",
      "5   0.730769  0.464052\n",
      "6   0.653846  0.411765\n",
      "7   1.000000  1.000000\n",
      "8   0.576923  0.281046\n",
      "9   0.500000  0.379085\n",
      "10  0.000000  0.000000\n"
     ]
    }
   ],
   "source": [
    "# normalizujemo, mozemo sve u jednoj liniji\n",
    "X = MinMaxScaler().fit_transform(X)\n",
    "# print(X)\n",
    "\n",
    "# pravimo dataframe da nam bude laske\n",
    "X = pd.DataFrame(X, columns=feature_names)\n",
    "print(X)"
   ]
  },
  {
   "cell_type": "code",
   "execution_count": 6,
   "id": "small-marine",
   "metadata": {},
   "outputs": [],
   "source": [
    "# mozemo da unaperd zadamo n_cluster parametar ako ga znamo. Ako ne znamo broj klastera, obavezno stavimo\n",
    "# n_clusters=None i postavimo distance_treshold na neku vrednost (distance_treshold je kao prag kada stajemo\n",
    "# sa klasterovanjem, tj neka blizina koja treba da se dostigne(?), po defaultu je None)\n",
    "# ako je distance_threshold=0, onda spajamo do kraja, kao u zadatku koji smo radili na papiru\n",
    "# affinity je rastojanje koje se koristi, po defaultu ekulidsko\n",
    "# linkage je vrsta veze, po defaultu je 'ward', (mi cemo uglavnom da biramo neku od one 3 koje smo pominjali \n",
    "# na predavanjima, tj single (min veza), complete (max veza), average (prosek))\n",
    "model = AgglomerativeClustering(n_clusters=None, distance_threshold=0, linkage='single')"
   ]
  },
  {
   "cell_type": "code",
   "execution_count": 7,
   "id": "sustainable-capital",
   "metadata": {},
   "outputs": [
    {
     "data": {
      "text/plain": [
       "AgglomerativeClustering(distance_threshold=0, linkage='single', n_clusters=None)"
      ]
     },
     "execution_count": 7,
     "metadata": {},
     "output_type": "execute_result"
    }
   ],
   "source": [
    "model.fit(X)"
   ]
  },
  {
   "cell_type": "code",
   "execution_count": 8,
   "id": "architectural-compatibility",
   "metadata": {},
   "outputs": [
    {
     "name": "stdout",
     "output_type": "stream",
     "text": [
      "[10  5  7  8  9  6  3  4  1  2  0]\n"
     ]
    }
   ],
   "source": [
    "# oznake klastera, kao u k_means\n",
    "print(model.labels_)"
   ]
  },
  {
   "cell_type": "code",
   "execution_count": 9,
   "id": "subjective-equality",
   "metadata": {},
   "outputs": [
    {
     "name": "stdout",
     "output_type": "stream",
     "text": [
      "[[ 0  8]\n",
      " [ 4 10]\n",
      " [ 6  5]\n",
      " [11  2]\n",
      " [14  9]\n",
      " [15  1]\n",
      " [16 13]\n",
      " [17  3]\n",
      " [18 12]\n",
      " [19  7]]\n"
     ]
    }
   ],
   "source": [
    "# iz sklearna ne mozemo bas da lepo nacrtamo dendrogram, to moramo sa nekom drugom bibliotekom, \n",
    "# ali children_ nam otprilike govori kako on izgleda)\n",
    "# nas skup ima 11 podataka, tako da brojevi od 0 do 10 predtavljaju instance. vidimo ovde npr, da je prva\n",
    "# lista koja se dobije [0, 8], to znaci da su instance 0 i 8 smestene u jedan klaster. Dobijeni klasteri ce\n",
    "# se redom imenovati brojevima 11, 12..., pa u daljim listama znamo da li se grupisu klasteri ili isntance\n",
    "print(model.children_)"
   ]
  },
  {
   "cell_type": "code",
   "execution_count": 10,
   "id": "pointed-marriage",
   "metadata": {},
   "outputs": [
    {
     "data": {
      "image/png": "[encoded data removed]",
      "text/plain": [
       "<Figure size 1080x288 with 3 Axes>"
      ]
     },
     "metadata": {
      "needs_background": "light"
     },
     "output_type": "display_data"
    }
   ],
   "source": [
    "# mozemo i drugaciji pristup da radimo. Mi ovde u psima ocekujemo da imamo neka 3 klastera, male, velike i\n",
    "# srednje pse, pa mozemo da napravimo AgglomerativeClustering sa n_clusters=3, ali ne znamo koji nam \n",
    "# linkage parametar najvise odgovara, pa mozemo da probamo razlitcite, slicno kao GridSearchCV\n",
    "\n",
    "# crtacemo u svakoj iteraciji novis scatter plot, mozemo sa figure\n",
    "colors = ['red', 'green', 'blue']\n",
    "# NOTE: ovaj figsize nije brotj subplotova, nego neka velicina u incima na ekranu(?)\n",
    "fig = plt.figure(figsize=(15, 4))\n",
    "\n",
    "for i, link in enumerate(['single', 'complete', 'average']):\n",
    "    model = AgglomerativeClustering(n_clusters=3, linkage=link)\n",
    "    model.fit(X)\n",
    "    \n",
    "    # posto radimo sa 3 klastera, ovde znamo da ce labeli biti 3 moguca razlicita broja 0, 1, 2 \n",
    "    # mozmeo da ih dodamo u dataframe\n",
    "    df['label'] = model.labels_\n",
    "    \n",
    "    # 1 red 3 kolone\n",
    "    fig.add_subplot(1, 3, i + 1)\n",
    "       \n",
    "    for cluster_label in range(0, 3):\n",
    "       cluster = df[df['label'] == cluster_label]\n",
    "       plt.scatter(cluster['height'], cluster['weight'], \n",
    "                   marker='o', color=colors[cluster_label], label=f'klaster {cluster_label}')\n",
    "    \n",
    "    plt.legend(loc='best')\n",
    "plt.show()\n",
    "\n",
    "# primetimo da razlicitim linkovima dobijamo potencijalno razlicite klastere istih podataka"
   ]
  },
  {
   "cell_type": "code",
   "execution_count": 11,
   "id": "prompt-jenny",
   "metadata": {},
   "outputs": [],
   "source": [
    "# sada hocemo da crtamo dendrogram. Za to mozemo da iskoristimo scipy biblioteku\n",
    "# u njoj imamo implementirano i hijerarhijsko klasterovanje, pa bismo mogli i odatle da pravimo nas model\n",
    "# to crtanje dendrograma je predvidjeno da radi sa rezultatom koji da samo klasterovanje iz scipy, tako da \n",
    "# ne mozemo tek tako da prosledimo ovo sto dobijemo iz sklearn\n",
    "from scipy.cluster.hierarchy import dendrogram, linkage"
   ]
  },
  {
   "cell_type": "code",
   "execution_count": 12,
   "id": "robust-scene",
   "metadata": {},
   "outputs": [
    {
     "name": "stdout",
     "output_type": "stream",
     "text": [
      "      height    weight\n",
      "0   0.538462  0.248366\n",
      "1   0.384615  0.084967\n",
      "2   0.461538  0.183007\n",
      "3   0.807692  0.738562\n",
      "4   0.076923  0.006536\n",
      "5   0.730769  0.464052\n",
      "6   0.653846  0.411765\n",
      "7   1.000000  1.000000\n",
      "8   0.576923  0.281046\n",
      "9   0.500000  0.379085\n",
      "10  0.000000  0.000000\n"
     ]
    }
   ],
   "source": [
    "# ponovo cemo da narpavimo sve samo pomocu scipy\n",
    "df = pd.read_csv('../dogs.csv')\n",
    "\n",
    "# ovo smo dodali kasnije, bice nam zgodno da se na dendrogramu instance vide po imenu rase psa\n",
    "# a ne po brojevima, ovako to postaje index u dataframeu umesto onog standardnog 0,1,2...\n",
    "df.set_index('breed', inplace=True)\n",
    "\n",
    "X = pd.DataFrame(MinMaxScaler().fit_transform(X), columns=feature_names)\n",
    "print(X)"
   ]
  },
  {
   "cell_type": "code",
   "execution_count": 13,
   "id": "informed-ceramic",
   "metadata": {},
   "outputs": [
    {
     "name": "stdout",
     "output_type": "stream",
     "text": [
      "[[ 0.          8.          0.05047034  2.        ]\n",
      " [ 4.         10.          0.07720025  2.        ]\n",
      " [ 5.          6.          0.09301156  2.        ]\n",
      " [ 2.         11.          0.10094068  3.        ]\n",
      " [ 9.         14.          0.1246148   4.        ]\n",
      " [ 1.         15.          0.1246148   5.        ]\n",
      " [13.         16.          0.15167269  7.        ]\n",
      " [ 3.         17.          0.28508383  8.        ]\n",
      " [12.         18.          0.31753116 10.        ]\n",
      " [ 7.         19.          0.32454896 11.        ]]\n",
      "(10, 4)\n"
     ]
    }
   ],
   "source": [
    "# linkage metod za nas radi hijerarhijsko klasterovanje na skupu koji prolseidmo\n",
    "Z = linkage(X)\n",
    "\n",
    "# rezultat je neka matrica, primetimo da se dobije slicna stvar kao kada smo iznad radili children_\n",
    "# tj dobijamo kako se sta spaja, samo imamo neka 2 dodatna parametra u svakoj listi\n",
    "# prvi dodatni parametar je rastojanje izmedju ta dva klastera koji se spajaju\n",
    "# drugi dodatni parametar je broj koliko instanci sada postoji u novom klasteru\n",
    "print(Z)\n",
    "print(Z.shape)"
   ]
  },
  {
   "cell_type": "code",
   "execution_count": 21,
   "id": "continuous-shade",
   "metadata": {},
   "outputs": [
    {
     "data": {
      "image/png": "[encoded data removed]",
      "text/plain": [
       "<Figure size 1080x288 with 1 Axes>"
      ]
     },
     "metadata": {
      "needs_background": "light"
     },
     "output_type": "display_data"
    }
   ],
   "source": [
    "# i crtamo, koristimo ovaj labels da nebi pisali brojevi instanci\n",
    "# ovo sa figure smo radili da bi slika bila veca i lepsa i da se tekst ne preklapa.\n",
    "# mogli smo i samo da pozovemo dendrogram(Z) i tu da stanemo\n",
    "fig = plt.figure(figsize=(15, 4))\n",
    "dendrogram(Z, labels=df.index, leaf_font_size=8)\n",
    "plt.show()"
   ]
  },
  {
   "cell_type": "code",
   "execution_count": 22,
   "id": "stylish-eleven",
   "metadata": {},
   "outputs": [],
   "source": [
    "# opciono sta jos mozemo da radimo. Kada smo dobili onu matricu Z, mozemo svakoj instanci polaznog skupa da\n",
    "# dodelimo oznaku nekog klastera, to mozemo da radimo sa fcluster\n",
    "from scipy.cluster.hierarchy import fcluster"
   ]
  },
  {
   "cell_type": "code",
   "execution_count": 28,
   "id": "guided-german",
   "metadata": {},
   "outputs": [],
   "source": [
    "# dodela oznake (broj izmedju 1 i k) klastera svakoj isntanci\n",
    "# ne spajamo dva kalstra izmedju kojih je rastojanje vece od 0.2\n",
    "# to 0.2 smo odabrali otprilike tako sto smo na dendrogramu iznad videli da tu moze da se povuce linija\n",
    "# koja bi lepo razdvojila klastere (?)\n",
    "threshold = 0.2\n",
    "df['label'] = fcluster(Z, t=threshold, criterion='distance')"
   ]
  },
  {
   "cell_type": "code",
   "execution_count": 29,
   "id": "rational-pursuit",
   "metadata": {},
   "outputs": [
    {
     "name": "stdout",
     "output_type": "stream",
     "text": [
      "[2 3 1 4]\n"
     ]
    }
   ],
   "source": [
    "print(df['label'].unique())"
   ]
  },
  {
   "cell_type": "code",
   "execution_count": 32,
   "id": "intimate-fireplace",
   "metadata": {},
   "outputs": [
    {
     "data": {
      "image/png": "[encoded data removed]",
      "text/plain": [
       "<Figure size 1080x288 with 1 Axes>"
      ]
     },
     "metadata": {
      "needs_background": "light"
     },
     "output_type": "display_data"
    }
   ],
   "source": [
    "# ova slika je identicna kao ona prosla (?)\n",
    "fig = plt.figure(figsize=(15, 4))\n",
    "dendrogram(Z, labels=df.index, leaf_font_size=8, color_threshold=threshold)\n",
    "plt.show()"
   ]
  },
  {
   "cell_type": "code",
   "execution_count": null,
   "id": "pretty-privacy",
   "metadata": {},
   "outputs": [],
   "source": [
    "# vidi u zvanicnim materijalima dodatno objasnjenje kako da bez scipy crtamo dendrogram na osnovu children_"
   ]
  }
 ],
 "metadata": {
  "kernelspec": {
   "display_name": "Python 3",
   "language": "python",
   "name": "python3"
  },
  "language_info": {
   "codemirror_mode": {
    "name": "ipython",
    "version": 3
   },
   "file_extension": ".py",
   "mimetype": "text/x-python",
   "name": "python",
   "nbconvert_exporter": "python",
   "pygments_lexer": "ipython3",
   "version": "3.9.0"
  }
 },
 "nbformat": 4,
 "nbformat_minor": 5
}
