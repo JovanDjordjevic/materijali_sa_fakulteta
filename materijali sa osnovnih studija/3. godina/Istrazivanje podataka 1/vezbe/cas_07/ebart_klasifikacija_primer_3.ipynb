{
 "cells": [
  {
   "cell_type": "code",
   "execution_count": 19,
   "id": "closing-protection",
   "metadata": {},
   "outputs": [],
   "source": [
    "# ovde treba da izvrsimo klasifikaciju na Ebart skupu podataka, koristicemo naivni bajes\n",
    "\n",
    "import os\n",
    "\n",
    "import pandas as pd\n",
    "\n",
    "from sklearn.feature_extraction import DictVectorizer\n",
    "from sklearn.model_selection import train_test_split\n",
    "from sklearn.naive_bayes import MultinomialNB\n",
    "from sklearn.metrics import accuracy_score, confusion_matrix, classification_report"
   ]
  },
  {
   "cell_type": "code",
   "execution_count": 2,
   "id": "fallen-collar",
   "metadata": {},
   "outputs": [],
   "source": [
    "#  od trening skupa treba nekako da napravimo dokument term matricu\n",
    "\n",
    "root_path = '../Ebart/Trening'\n",
    "\n",
    "# ovo ce biti lista gde su smesteni word counts za svaki dokument\n",
    "corpus = []\n",
    "# za svaki fajl u trening skupu poznato je kako je klasifikovan, tj da li je sport, politika itd\n",
    "classes = []\n",
    "\n",
    "for class_name in os.listdir(root_path):\n",
    "    #print(class_name)\n",
    "    class_dir = os.path.join(root_path, class_name)\n",
    "    for file_name in os.listdir(class_dir):\n",
    "        with open(os.path.join(class_dir, file_name)) as f:\n",
    "            word_counts = {}\n",
    "            for line in f:\n",
    "                word, count = line.split(' ')\n",
    "                word_counts[word] = int(count)  # posto ce split vratiti niske mora cast\n",
    "            corpus.append(word_counts)\n",
    "            classes.append(class_name)"
   ]
  },
  {
   "cell_type": "code",
   "execution_count": 3,
   "id": "creative-google",
   "metadata": {},
   "outputs": [
    {
     "name": "stdout",
     "output_type": "stream",
     "text": [
      "3492\n",
      "3492\n"
     ]
    }
   ],
   "source": [
    "print( len(corpus) )\n",
    "print( len(classes) )"
   ]
  },
  {
   "cell_type": "code",
   "execution_count": 4,
   "id": "careful-grace",
   "metadata": {},
   "outputs": [],
   "source": [
    "# imamo zgodnu klasu DictVectorizer koja za nas moze da napravi term matricu ako uzme listu mapa reci i \n",
    "# njihovih pojavljivanja, kao sto smo je napravili\n",
    "dv = DictVectorizer()"
   ]
  },
  {
   "cell_type": "code",
   "execution_count": 5,
   "id": "continental-inflation",
   "metadata": {},
   "outputs": [
    {
     "name": "stdout",
     "output_type": "stream",
     "text": [
      "[[0. 0. 0. ... 0. 0. 0.]\n",
      " [0. 0. 0. ... 0. 0. 0.]\n",
      " [0. 0. 0. ... 0. 0. 0.]\n",
      " ...\n",
      " [0. 0. 0. ... 0. 0. 0.]\n",
      " [0. 0. 0. ... 2. 0. 0.]\n",
      " [0. 0. 0. ... 0. 0. 0.]]\n"
     ]
    }
   ],
   "source": [
    "X = dv.fit_transform(corpus)\n",
    "# opet ovim dobijamo neku numpy retku matricu, a mozemod a je prikazemo i lepo sa .toarray()\n",
    "print(X.toarray())"
   ]
  },
  {
   "cell_type": "code",
   "execution_count": 6,
   "id": "naughty-infrared",
   "metadata": {},
   "outputs": [
    {
     "data": {
      "text/html": [
       "<div>\n",
       "<style scoped>\n",
       "    .dataframe tbody tr th:only-of-type {\n",
       "        vertical-align: middle;\n",
       "    }\n",
       "\n",
       "    .dataframe tbody tr th {\n",
       "        vertical-align: top;\n",
       "    }\n",
       "\n",
       "    .dataframe thead th {\n",
       "        text-align: right;\n",
       "    }\n",
       "</style>\n",
       "<table border=\"1\" class=\"dataframe\">\n",
       "  <thead>\n",
       "    <tr style=\"text-align: right;\">\n",
       "      <th></th>\n",
       "      <th>ab</th>\n",
       "      <th>abasu</th>\n",
       "      <th>abati</th>\n",
       "      <th>abc</th>\n",
       "      <th>abdul</th>\n",
       "      <th>abdulah</th>\n",
       "      <th>abe</th>\n",
       "      <th>aberdin</th>\n",
       "      <th>abhaziji</th>\n",
       "      <th>abida</th>\n",
       "      <th>...</th>\n",
       "      <th>zxurno</th>\n",
       "      <th>zxustel</th>\n",
       "      <th>zxustrine</th>\n",
       "      <th>zxustro</th>\n",
       "      <th>zxuticx</th>\n",
       "      <th>zxutih</th>\n",
       "      <th>zxutilovine</th>\n",
       "      <th>zxuto</th>\n",
       "      <th>zxutra</th>\n",
       "      <th>zxuzxa</th>\n",
       "    </tr>\n",
       "  </thead>\n",
       "  <tbody>\n",
       "    <tr>\n",
       "      <th>0</th>\n",
       "      <td>0.0</td>\n",
       "      <td>0.0</td>\n",
       "      <td>0.0</td>\n",
       "      <td>0.0</td>\n",
       "      <td>0.0</td>\n",
       "      <td>0.0</td>\n",
       "      <td>0.0</td>\n",
       "      <td>0.0</td>\n",
       "      <td>0.0</td>\n",
       "      <td>0.0</td>\n",
       "      <td>...</td>\n",
       "      <td>0.0</td>\n",
       "      <td>0.0</td>\n",
       "      <td>0.0</td>\n",
       "      <td>0.0</td>\n",
       "      <td>0.0</td>\n",
       "      <td>0.0</td>\n",
       "      <td>0.0</td>\n",
       "      <td>0.0</td>\n",
       "      <td>0.0</td>\n",
       "      <td>0.0</td>\n",
       "    </tr>\n",
       "    <tr>\n",
       "      <th>1</th>\n",
       "      <td>0.0</td>\n",
       "      <td>0.0</td>\n",
       "      <td>0.0</td>\n",
       "      <td>0.0</td>\n",
       "      <td>0.0</td>\n",
       "      <td>0.0</td>\n",
       "      <td>0.0</td>\n",
       "      <td>0.0</td>\n",
       "      <td>0.0</td>\n",
       "      <td>0.0</td>\n",
       "      <td>...</td>\n",
       "      <td>0.0</td>\n",
       "      <td>0.0</td>\n",
       "      <td>0.0</td>\n",
       "      <td>0.0</td>\n",
       "      <td>0.0</td>\n",
       "      <td>0.0</td>\n",
       "      <td>0.0</td>\n",
       "      <td>0.0</td>\n",
       "      <td>0.0</td>\n",
       "      <td>0.0</td>\n",
       "    </tr>\n",
       "    <tr>\n",
       "      <th>2</th>\n",
       "      <td>0.0</td>\n",
       "      <td>0.0</td>\n",
       "      <td>0.0</td>\n",
       "      <td>0.0</td>\n",
       "      <td>0.0</td>\n",
       "      <td>0.0</td>\n",
       "      <td>0.0</td>\n",
       "      <td>0.0</td>\n",
       "      <td>0.0</td>\n",
       "      <td>0.0</td>\n",
       "      <td>...</td>\n",
       "      <td>0.0</td>\n",
       "      <td>0.0</td>\n",
       "      <td>0.0</td>\n",
       "      <td>0.0</td>\n",
       "      <td>0.0</td>\n",
       "      <td>0.0</td>\n",
       "      <td>0.0</td>\n",
       "      <td>0.0</td>\n",
       "      <td>0.0</td>\n",
       "      <td>0.0</td>\n",
       "    </tr>\n",
       "    <tr>\n",
       "      <th>3</th>\n",
       "      <td>0.0</td>\n",
       "      <td>0.0</td>\n",
       "      <td>0.0</td>\n",
       "      <td>0.0</td>\n",
       "      <td>0.0</td>\n",
       "      <td>0.0</td>\n",
       "      <td>0.0</td>\n",
       "      <td>0.0</td>\n",
       "      <td>0.0</td>\n",
       "      <td>0.0</td>\n",
       "      <td>...</td>\n",
       "      <td>0.0</td>\n",
       "      <td>0.0</td>\n",
       "      <td>0.0</td>\n",
       "      <td>0.0</td>\n",
       "      <td>0.0</td>\n",
       "      <td>0.0</td>\n",
       "      <td>0.0</td>\n",
       "      <td>0.0</td>\n",
       "      <td>0.0</td>\n",
       "      <td>0.0</td>\n",
       "    </tr>\n",
       "    <tr>\n",
       "      <th>4</th>\n",
       "      <td>0.0</td>\n",
       "      <td>0.0</td>\n",
       "      <td>0.0</td>\n",
       "      <td>0.0</td>\n",
       "      <td>0.0</td>\n",
       "      <td>0.0</td>\n",
       "      <td>0.0</td>\n",
       "      <td>0.0</td>\n",
       "      <td>0.0</td>\n",
       "      <td>0.0</td>\n",
       "      <td>...</td>\n",
       "      <td>0.0</td>\n",
       "      <td>0.0</td>\n",
       "      <td>0.0</td>\n",
       "      <td>0.0</td>\n",
       "      <td>0.0</td>\n",
       "      <td>0.0</td>\n",
       "      <td>0.0</td>\n",
       "      <td>0.0</td>\n",
       "      <td>0.0</td>\n",
       "      <td>0.0</td>\n",
       "    </tr>\n",
       "  </tbody>\n",
       "</table>\n",
       "<p>5 rows × 36830 columns</p>\n",
       "</div>"
      ],
      "text/plain": [
       "    ab  abasu  abati  abc  abdul  abdulah  abe  aberdin  abhaziji  abida  ...  \\\n",
       "0  0.0    0.0    0.0  0.0    0.0      0.0  0.0      0.0       0.0    0.0  ...   \n",
       "1  0.0    0.0    0.0  0.0    0.0      0.0  0.0      0.0       0.0    0.0  ...   \n",
       "2  0.0    0.0    0.0  0.0    0.0      0.0  0.0      0.0       0.0    0.0  ...   \n",
       "3  0.0    0.0    0.0  0.0    0.0      0.0  0.0      0.0       0.0    0.0  ...   \n",
       "4  0.0    0.0    0.0  0.0    0.0      0.0  0.0      0.0       0.0    0.0  ...   \n",
       "\n",
       "   zxurno  zxustel  zxustrine  zxustro  zxuticx  zxutih  zxutilovine  zxuto  \\\n",
       "0     0.0      0.0        0.0      0.0      0.0     0.0          0.0    0.0   \n",
       "1     0.0      0.0        0.0      0.0      0.0     0.0          0.0    0.0   \n",
       "2     0.0      0.0        0.0      0.0      0.0     0.0          0.0    0.0   \n",
       "3     0.0      0.0        0.0      0.0      0.0     0.0          0.0    0.0   \n",
       "4     0.0      0.0        0.0      0.0      0.0     0.0          0.0    0.0   \n",
       "\n",
       "   zxutra  zxuzxa  \n",
       "0     0.0     0.0  \n",
       "1     0.0     0.0  \n",
       "2     0.0     0.0  \n",
       "3     0.0     0.0  \n",
       "4     0.0     0.0  \n",
       "\n",
       "[5 rows x 36830 columns]"
      ]
     },
     "execution_count": 6,
     "metadata": {},
     "output_type": "execute_result"
    }
   ],
   "source": [
    "# ili jos lepse da napravimo dataframe\n",
    "# feature_names_ nam daje sve reci koje se nalaze u matrici\n",
    "features = dv.feature_names_\n",
    "#print(features)\n",
    "\n",
    "df = pd.DataFrame(X.toarray(), columns=features)\n",
    "df.head()"
   ]
  },
  {
   "cell_type": "code",
   "execution_count": 7,
   "id": "established-department",
   "metadata": {},
   "outputs": [],
   "source": [
    "X_train, X_test, y_train, y_test = train_test_split(df, classes, test_size=0.3, stratify=classes)"
   ]
  },
  {
   "cell_type": "code",
   "execution_count": 8,
   "id": "rotary-richmond",
   "metadata": {},
   "outputs": [
    {
     "name": "stdout",
     "output_type": "stream",
     "text": [
      "(2444, 36830)\n",
      "(1048, 36830)\n"
     ]
    }
   ],
   "source": [
    "print(X_train.shape)\n",
    "print(X_test.shape)"
   ]
  },
  {
   "cell_type": "code",
   "execution_count": 9,
   "id": "protected-learning",
   "metadata": {},
   "outputs": [],
   "source": [
    "model = MultinomialNB()"
   ]
  },
  {
   "cell_type": "code",
   "execution_count": 12,
   "id": "supposed-vitamin",
   "metadata": {},
   "outputs": [
    {
     "data": {
      "text/plain": [
       "MultinomialNB()"
      ]
     },
     "execution_count": 12,
     "metadata": {},
     "output_type": "execute_result"
    }
   ],
   "source": [
    "model.fit(X_train, y_train)"
   ]
  },
  {
   "cell_type": "code",
   "execution_count": 21,
   "id": "sudden-average",
   "metadata": {},
   "outputs": [
    {
     "name": "stdout",
     "output_type": "stream",
     "text": [
      "0.8883587786259542\n",
      "[[ 83   2   2  13   0]\n",
      " [  5 136   1  43   1]\n",
      " [  1   3 175   6   3]\n",
      " [  3  19   2 255   2]\n",
      " [  0   2   3   6 282]]\n",
      "                 precision    recall  f1-score   support\n",
      "\n",
      "      Ekonomija       0.90      0.83      0.86       100\n",
      "HronikaKriminal       0.84      0.73      0.78       186\n",
      "  KulturaZabava       0.96      0.93      0.94       188\n",
      "       Politika       0.79      0.91      0.84       281\n",
      "          Sport       0.98      0.96      0.97       293\n",
      "\n",
      "       accuracy                           0.89      1048\n",
      "      macro avg       0.89      0.87      0.88      1048\n",
      "   weighted avg       0.89      0.89      0.89      1048\n",
      "\n"
     ]
    }
   ],
   "source": [
    "y_predicted = model.predict(X_test)\n",
    "print(accuracy_score(y_test, y_predicted))\n",
    "print(confusion_matrix(y_test, y_predicted))\n",
    "print(classification_report(y_test, y_predicted))"
   ]
  },
  {
   "cell_type": "code",
   "execution_count": 22,
   "id": "opposed-cabinet",
   "metadata": {},
   "outputs": [
    {
     "data": {
      "text/plain": [
       "DecisionTreeClassifier()"
      ]
     },
     "execution_count": 22,
     "metadata": {},
     "output_type": "execute_result"
    }
   ],
   "source": [
    "# mozemo npr da probamo da koristimo i drugi klasifikator pa da uporedimo rezultate, npr stablo odlucivanja\n",
    "from sklearn.tree import DecisionTreeClassifier\n",
    "\n",
    "# mozemo da primetimo da je treniranje stabla odlucivanja trajalo znacajno duze nego treninranje za bajesa\n",
    "model = DecisionTreeClassifier()\n",
    "model.fit(X_train, y_train)"
   ]
  },
  {
   "cell_type": "code",
   "execution_count": 24,
   "id": "informational-avenue",
   "metadata": {},
   "outputs": [
    {
     "name": "stdout",
     "output_type": "stream",
     "text": [
      "0.7251908396946565\n",
      "[[ 50  11   3  33   3]\n",
      " [  9  99   4  59  15]\n",
      " [  7   7 137  15  22]\n",
      " [ 17  34   7 211  12]\n",
      " [  6   8   5  11 263]]\n",
      "                 precision    recall  f1-score   support\n",
      "\n",
      "      Ekonomija       0.56      0.50      0.53       100\n",
      "HronikaKriminal       0.62      0.53      0.57       186\n",
      "  KulturaZabava       0.88      0.73      0.80       188\n",
      "       Politika       0.64      0.75      0.69       281\n",
      "          Sport       0.83      0.90      0.87       293\n",
      "\n",
      "       accuracy                           0.73      1048\n",
      "      macro avg       0.71      0.68      0.69      1048\n",
      "   weighted avg       0.73      0.73      0.72      1048\n",
      "\n"
     ]
    }
   ],
   "source": [
    "y_predicted = model.predict(X_test)\n",
    "print(accuracy_score(y_test, y_predicted))\n",
    "print(confusion_matrix(y_test, y_predicted))\n",
    "print(classification_report(y_test, y_predicted))"
   ]
  },
  {
   "cell_type": "code",
   "execution_count": 26,
   "id": "freelance-alliance",
   "metadata": {},
   "outputs": [
    {
     "data": {
      "text/plain": [
       "KNeighborsClassifier()"
      ]
     },
     "execution_count": 26,
     "metadata": {},
     "output_type": "execute_result"
    }
   ],
   "source": [
    "# probamo npr i KNN\n",
    "from sklearn.neighbors import KNeighborsClassifier\n",
    "\n",
    "# vidimo da je fit relativno brz, ali predict ce biti sporiji\n",
    "# (zato sto KNN prakticno ne pravi model, jer se svi podaci koriste za odlucivanje)\n",
    "model = KNeighborsClassifier()\n",
    "model.fit(X_train, y_train)"
   ]
  },
  {
   "cell_type": "code",
   "execution_count": 27,
   "id": "forward-assurance",
   "metadata": {},
   "outputs": [
    {
     "name": "stdout",
     "output_type": "stream",
     "text": [
      "0.5896946564885496\n",
      "[[ 28   1  11  50  10]\n",
      " [  2  26  11 100  47]\n",
      " [  1   2  72  46  67]\n",
      " [  1   8   4 241  27]\n",
      " [  0   0   4  38 251]]\n",
      "                 precision    recall  f1-score   support\n",
      "\n",
      "      Ekonomija       0.88      0.28      0.42       100\n",
      "HronikaKriminal       0.70      0.14      0.23       186\n",
      "  KulturaZabava       0.71      0.38      0.50       188\n",
      "       Politika       0.51      0.86      0.64       281\n",
      "          Sport       0.62      0.86      0.72       293\n",
      "\n",
      "       accuracy                           0.59      1048\n",
      "      macro avg       0.68      0.50      0.50      1048\n",
      "   weighted avg       0.65      0.59      0.54      1048\n",
      "\n"
     ]
    }
   ],
   "source": [
    "y_predicted = model.predict(X_test)\n",
    "print(accuracy_score(y_test, y_predicted))\n",
    "print(confusion_matrix(y_test, y_predicted))\n",
    "print(classification_report(y_test, y_predicted))"
   ]
  }
 ],
 "metadata": {
  "kernelspec": {
   "display_name": "Python 3",
   "language": "python",
   "name": "python3"
  },
  "language_info": {
   "codemirror_mode": {
    "name": "ipython",
    "version": 3
   },
   "file_extension": ".py",
   "mimetype": "text/x-python",
   "name": "python",
   "nbconvert_exporter": "python",
   "pygments_lexer": "ipython3",
   "version": "3.9.0"
  }
 },
 "nbformat": 4,
 "nbformat_minor": 5
}
