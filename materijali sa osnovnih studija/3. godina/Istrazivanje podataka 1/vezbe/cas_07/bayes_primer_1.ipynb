{
 "cells": [
  {
   "cell_type": "code",
   "execution_count": 25,
   "id": "biological-accuracy",
   "metadata": {},
   "outputs": [],
   "source": [
    "# radimo klasifikaciju na skupu baloons.csv naivnim bajesom. Treba jos da ispisemo ukupnu preciznost i\n",
    "# izvestaj o klasifikaciji (za svaku klasu preciznost, odziv i f1) za test skup\n",
    "\n",
    "import pandas as pd\n",
    "\n",
    "from sklearn.model_selection import train_test_split\n",
    "# ima vise verzija naivnog bajesa, a ovaj kategoricki je bas ono sto smo radili na papiru\n",
    "# ovaj je pogodan kada su nam i atributi kategoricki\n",
    "from sklearn.naive_bayes import CategoricalNB\n",
    "from sklearn.preprocessing import OrdinalEncoder\n",
    "from sklearn.metrics import accuracy_score, confusion_matrix, classification_report"
   ]
  },
  {
   "cell_type": "code",
   "execution_count": 26,
   "id": "dedicated-congo",
   "metadata": {},
   "outputs": [
    {
     "data": {
      "text/html": [
       "<div>\n",
       "<style scoped>\n",
       "    .dataframe tbody tr th:only-of-type {\n",
       "        vertical-align: middle;\n",
       "    }\n",
       "\n",
       "    .dataframe tbody tr th {\n",
       "        vertical-align: top;\n",
       "    }\n",
       "\n",
       "    .dataframe thead th {\n",
       "        text-align: right;\n",
       "    }\n",
       "</style>\n",
       "<table border=\"1\" class=\"dataframe\">\n",
       "  <thead>\n",
       "    <tr style=\"text-align: right;\">\n",
       "      <th></th>\n",
       "      <th>color</th>\n",
       "      <th>size</th>\n",
       "      <th>act</th>\n",
       "      <th>age</th>\n",
       "      <th>inflated</th>\n",
       "    </tr>\n",
       "  </thead>\n",
       "  <tbody>\n",
       "    <tr>\n",
       "      <th>count</th>\n",
       "      <td>76</td>\n",
       "      <td>76</td>\n",
       "      <td>76</td>\n",
       "      <td>76</td>\n",
       "      <td>76</td>\n",
       "    </tr>\n",
       "    <tr>\n",
       "      <th>unique</th>\n",
       "      <td>2</td>\n",
       "      <td>2</td>\n",
       "      <td>2</td>\n",
       "      <td>2</td>\n",
       "      <td>2</td>\n",
       "    </tr>\n",
       "    <tr>\n",
       "      <th>top</th>\n",
       "      <td>YELLOW</td>\n",
       "      <td>SMALL</td>\n",
       "      <td>DIP</td>\n",
       "      <td>CHILD</td>\n",
       "      <td>F</td>\n",
       "    </tr>\n",
       "    <tr>\n",
       "      <th>freq</th>\n",
       "      <td>40</td>\n",
       "      <td>40</td>\n",
       "      <td>38</td>\n",
       "      <td>38</td>\n",
       "      <td>41</td>\n",
       "    </tr>\n",
       "  </tbody>\n",
       "</table>\n",
       "</div>"
      ],
      "text/plain": [
       "         color   size  act    age inflated\n",
       "count       76     76   76     76       76\n",
       "unique       2      2    2      2        2\n",
       "top     YELLOW  SMALL  DIP  CHILD        F\n",
       "freq        40     40   38     38       41"
      ]
     },
     "execution_count": 26,
     "metadata": {},
     "output_type": "execute_result"
    }
   ],
   "source": [
    "df = pd.read_csv('../baloons.csv')\n",
    "df.describe()"
   ]
  },
  {
   "cell_type": "code",
   "execution_count": 27,
   "id": "eastern-biography",
   "metadata": {},
   "outputs": [
    {
     "data": {
      "text/html": [
       "<div>\n",
       "<style scoped>\n",
       "    .dataframe tbody tr th:only-of-type {\n",
       "        vertical-align: middle;\n",
       "    }\n",
       "\n",
       "    .dataframe tbody tr th {\n",
       "        vertical-align: top;\n",
       "    }\n",
       "\n",
       "    .dataframe thead th {\n",
       "        text-align: right;\n",
       "    }\n",
       "</style>\n",
       "<table border=\"1\" class=\"dataframe\">\n",
       "  <thead>\n",
       "    <tr style=\"text-align: right;\">\n",
       "      <th></th>\n",
       "      <th>color</th>\n",
       "      <th>size</th>\n",
       "      <th>act</th>\n",
       "      <th>age</th>\n",
       "      <th>inflated</th>\n",
       "    </tr>\n",
       "  </thead>\n",
       "  <tbody>\n",
       "    <tr>\n",
       "      <th>0</th>\n",
       "      <td>YELLOW</td>\n",
       "      <td>SMALL</td>\n",
       "      <td>STRETCH</td>\n",
       "      <td>ADULT</td>\n",
       "      <td>T</td>\n",
       "    </tr>\n",
       "    <tr>\n",
       "      <th>1</th>\n",
       "      <td>YELLOW</td>\n",
       "      <td>SMALL</td>\n",
       "      <td>STRETCH</td>\n",
       "      <td>ADULT</td>\n",
       "      <td>T</td>\n",
       "    </tr>\n",
       "    <tr>\n",
       "      <th>2</th>\n",
       "      <td>YELLOW</td>\n",
       "      <td>SMALL</td>\n",
       "      <td>STRETCH</td>\n",
       "      <td>CHILD</td>\n",
       "      <td>F</td>\n",
       "    </tr>\n",
       "    <tr>\n",
       "      <th>3</th>\n",
       "      <td>YELLOW</td>\n",
       "      <td>SMALL</td>\n",
       "      <td>DIP</td>\n",
       "      <td>ADULT</td>\n",
       "      <td>F</td>\n",
       "    </tr>\n",
       "    <tr>\n",
       "      <th>4</th>\n",
       "      <td>YELLOW</td>\n",
       "      <td>SMALL</td>\n",
       "      <td>DIP</td>\n",
       "      <td>CHILD</td>\n",
       "      <td>F</td>\n",
       "    </tr>\n",
       "  </tbody>\n",
       "</table>\n",
       "</div>"
      ],
      "text/plain": [
       "    color   size      act    age inflated\n",
       "0  YELLOW  SMALL  STRETCH  ADULT        T\n",
       "1  YELLOW  SMALL  STRETCH  ADULT        T\n",
       "2  YELLOW  SMALL  STRETCH  CHILD        F\n",
       "3  YELLOW  SMALL      DIP  ADULT        F\n",
       "4  YELLOW  SMALL      DIP  CHILD        F"
      ]
     },
     "execution_count": 27,
     "metadata": {},
     "output_type": "execute_result"
    }
   ],
   "source": [
    "df.head()"
   ]
  },
  {
   "cell_type": "code",
   "execution_count": 28,
   "id": "considerable-request",
   "metadata": {},
   "outputs": [],
   "source": [
    "# primetimo da columns varaca Index objekat, zato moramo od njega da pravimo listu \n",
    "feature_names = df.columns[:-1].tolist()  \n",
    "X = df[feature_names]\n",
    "y = df.iloc[:,-1]"
   ]
  },
  {
   "cell_type": "code",
   "execution_count": 29,
   "id": "accomplished-superintendent",
   "metadata": {},
   "outputs": [
    {
     "name": "stdout",
     "output_type": "stream",
     "text": [
      "(53, 4)\n",
      "(23, 4)\n",
      "(53,)\n",
      "(23,)\n"
     ]
    }
   ],
   "source": [
    "X_train, X_test, y_train, y_test = train_test_split(X, y, train_size=0.7, stratify=y)\n",
    "\n",
    "print(X_train.shape)\n",
    "print(X_test.shape)\n",
    "print(y_train.shape)\n",
    "print(y_test.shape)"
   ]
  },
  {
   "cell_type": "code",
   "execution_count": 30,
   "id": "favorite-sentence",
   "metadata": {},
   "outputs": [],
   "source": [
    "# pri izgradnji modela mozemo da prosledimo one alfa i d parametre za Laplase smoothing ako su potrebni\n",
    "model = CategoricalNB()"
   ]
  },
  {
   "cell_type": "code",
   "execution_count": 31,
   "id": "voluntary-steel",
   "metadata": {},
   "outputs": [
    {
     "name": "stdout",
     "output_type": "stream",
     "text": [
      "[array(['PURPLE', 'YELLOW'], dtype=object), array(['LARGE', 'SMALL'], dtype=object), array(['DIP', 'STRETCH'], dtype=object), array(['ADULT', 'CHILD'], dtype=object)]\n"
     ]
    }
   ],
   "source": [
    "# CategoricalNB je dobar kada su nam atributi kategoricki, kao sto nama jesu, ali on trazi da oni\n",
    "# bas budu neki brojevi, tako da pre fitovanja moramo da svakoj kategoriji dodelimo neku integer oznaku\n",
    "# za to mozemo da korsitimo OrdinalEncoder (slicno kao za Scaler, to nije model tako da nema predict)\n",
    "oe = OrdinalEncoder()\n",
    "oe.fit(X_train)\n",
    "\n",
    "# mozemo da vidimo koji broj je kategorije su pronadjene za koji atribut\n",
    "print(oe.categories_)\n",
    "\n",
    "# kao za Scaler, sada radimo izmenu naseg trin skupa \n",
    "X_train = oe.transform(X_train)\n",
    "# obvezno izmenimo i test skup na isti nacin (vidi u proslom primeru zasto)\n",
    "X_test = oe.transform(X_test)"
   ]
  },
  {
   "cell_type": "code",
   "execution_count": 32,
   "id": "forty-finger",
   "metadata": {},
   "outputs": [
    {
     "data": {
      "text/plain": [
       "CategoricalNB()"
      ]
     },
     "execution_count": 32,
     "metadata": {},
     "output_type": "execute_result"
    }
   ],
   "source": [
    "model.fit(X_train, y_train)"
   ]
  },
  {
   "cell_type": "code",
   "execution_count": 33,
   "id": "mineral-venezuela",
   "metadata": {},
   "outputs": [
    {
     "name": "stdout",
     "output_type": "stream",
     "text": [
      "0.6086956521739131\n",
      "[[8 4]\n",
      " [5 6]]\n",
      "              precision    recall  f1-score   support\n",
      "\n",
      "           F       0.62      0.67      0.64        12\n",
      "           T       0.60      0.55      0.57        11\n",
      "\n",
      "    accuracy                           0.61        23\n",
      "   macro avg       0.61      0.61      0.61        23\n",
      "weighted avg       0.61      0.61      0.61        23\n",
      "\n"
     ]
    }
   ],
   "source": [
    "y_predicted = model.predict(X_test)\n",
    "print(accuracy_score(y_test, y_predicted))\n",
    "print(confusion_matrix(y_test, y_predicted))\n",
    "print(classification_report(y_test, y_predicted))"
   ]
  },
  {
   "cell_type": "code",
   "execution_count": 34,
   "id": "hawaiian-nicaragua",
   "metadata": {},
   "outputs": [
    {
     "name": "stdout",
     "output_type": "stream",
     "text": [
      "[array([[18., 11.],\n",
      "       [ 7., 17.]]), array([[13., 16.],\n",
      "       [ 9., 15.]]), array([[20.,  9.],\n",
      "       [ 5., 19.]]), array([[ 8., 21.],\n",
      "       [18.,  6.]])]\n"
     ]
    }
   ],
   "source": [
    "# mozemo da vidimo one brojeve koje smo racunali rucno na papiru, svaki niz koji se dobije je za \n",
    "# jedan atribut, a svaki niz u tom nizu je broj instanci u nekoj kategoriji,\n",
    "# npr niz koji se dobije ovde za prvi atribut je [[16, 13], [8, 16]]\n",
    "# prvi 16 je P(color=PURPLE | true), 13 je P(color=YELLOW | true)\n",
    "# 8 je P(color=PURPLE | false), 16 je P(color=YELLOW | false)\n",
    "# i tako slicno za svaki\n",
    "print(model.category_count_)"
   ]
  },
  {
   "cell_type": "code",
   "execution_count": 35,
   "id": "stunning-conducting",
   "metadata": {},
   "outputs": [
    {
     "name": "stdout",
     "output_type": "stream",
     "text": [
      "[29. 24.]\n"
     ]
    }
   ],
   "source": [
    "# vidimo i koliko puta je true a koliko puta je false\n",
    "print(model.class_count_)"
   ]
  },
  {
   "cell_type": "code",
   "execution_count": 37,
   "id": "friendly-arthritis",
   "metadata": {},
   "outputs": [
    {
     "ename": "TypeError",
     "evalue": "fit() missing 1 required positional argument: 'y'",
     "output_type": "error",
     "traceback": [
      "\u001b[1;31m---------------------------------------------------------------------------\u001b[0m",
      "\u001b[1;31mTypeError\u001b[0m                                 Traceback (most recent call last)",
      "\u001b[1;32m<ipython-input-37-b641fcef92ed>\u001b[0m in \u001b[0;36m<module>\u001b[1;34m\u001b[0m\n\u001b[0;32m     19\u001b[0m \u001b[1;31m# i na kraju fit za estimator\u001b[0m\u001b[1;33m\u001b[0m\u001b[1;33m\u001b[0m\u001b[1;33m\u001b[0m\u001b[0m\n\u001b[0;32m     20\u001b[0m \u001b[1;31m# NOTE: ovaj poziv mi daje gresku, iako je sve isto kao na vezbama, ne vidim zasto\u001b[0m\u001b[1;33m\u001b[0m\u001b[1;33m\u001b[0m\u001b[1;33m\u001b[0m\u001b[0m\n\u001b[1;32m---> 21\u001b[1;33m \u001b[0mpipe\u001b[0m\u001b[1;33m.\u001b[0m\u001b[0mfit\u001b[0m\u001b[1;33m(\u001b[0m\u001b[0mX_train\u001b[0m\u001b[1;33m,\u001b[0m \u001b[0my_train\u001b[0m\u001b[1;33m)\u001b[0m\u001b[1;33m\u001b[0m\u001b[1;33m\u001b[0m\u001b[0m\n\u001b[0m\u001b[0;32m     22\u001b[0m \u001b[1;33m\u001b[0m\u001b[0m\n\u001b[0;32m     23\u001b[0m \u001b[1;31m# kada smo uradili ovaj fit, mozemo pristupiti svakom koraku(mozemo i preko imena), i onda iz njega vaditi\u001b[0m\u001b[1;33m\u001b[0m\u001b[1;33m\u001b[0m\u001b[1;33m\u001b[0m\u001b[0m\n",
      "\u001b[1;32mc:\\users\\jovan\\appdata\\local\\programs\\python\\python39\\lib\\site-packages\\sklearn\\pipeline.py\u001b[0m in \u001b[0;36mfit\u001b[1;34m(self, X, y, **fit_params)\u001b[0m\n\u001b[0;32m    344\u001b[0m             \u001b[1;32mif\u001b[0m \u001b[0mself\u001b[0m\u001b[1;33m.\u001b[0m\u001b[0m_final_estimator\u001b[0m \u001b[1;33m!=\u001b[0m \u001b[1;34m'passthrough'\u001b[0m\u001b[1;33m:\u001b[0m\u001b[1;33m\u001b[0m\u001b[1;33m\u001b[0m\u001b[0m\n\u001b[0;32m    345\u001b[0m                 \u001b[0mfit_params_last_step\u001b[0m \u001b[1;33m=\u001b[0m \u001b[0mfit_params_steps\u001b[0m\u001b[1;33m[\u001b[0m\u001b[0mself\u001b[0m\u001b[1;33m.\u001b[0m\u001b[0msteps\u001b[0m\u001b[1;33m[\u001b[0m\u001b[1;33m-\u001b[0m\u001b[1;36m1\u001b[0m\u001b[1;33m]\u001b[0m\u001b[1;33m[\u001b[0m\u001b[1;36m0\u001b[0m\u001b[1;33m]\u001b[0m\u001b[1;33m]\u001b[0m\u001b[1;33m\u001b[0m\u001b[1;33m\u001b[0m\u001b[0m\n\u001b[1;32m--> 346\u001b[1;33m                 \u001b[0mself\u001b[0m\u001b[1;33m.\u001b[0m\u001b[0m_final_estimator\u001b[0m\u001b[1;33m.\u001b[0m\u001b[0mfit\u001b[0m\u001b[1;33m(\u001b[0m\u001b[0mXt\u001b[0m\u001b[1;33m,\u001b[0m \u001b[0my\u001b[0m\u001b[1;33m,\u001b[0m \u001b[1;33m**\u001b[0m\u001b[0mfit_params_last_step\u001b[0m\u001b[1;33m)\u001b[0m\u001b[1;33m\u001b[0m\u001b[1;33m\u001b[0m\u001b[0m\n\u001b[0m\u001b[0;32m    347\u001b[0m \u001b[1;33m\u001b[0m\u001b[0m\n\u001b[0;32m    348\u001b[0m         \u001b[1;32mreturn\u001b[0m \u001b[0mself\u001b[0m\u001b[1;33m\u001b[0m\u001b[1;33m\u001b[0m\u001b[0m\n",
      "\u001b[1;31mTypeError\u001b[0m: fit() missing 1 required positional argument: 'y'"
     ]
    }
   ],
   "source": [
    "# mi smo ovde kao i uvek do sada imali neko preprocesiranje, pravljenje modela, fit, predict itd\n",
    "# imamo jos jedan nacin da to uradimo, a to je preko Pipeline, kome mi mozemo odmah na pocetku da kazemo\n",
    "# operacije koje hocemo da radimo, npr skaliranje, ecodiranje, pa bajesa itd itd i onda jednom pozovemo \n",
    "# fit i predict i on uradi sve sto treba\n",
    "# pipeline je zgodan jer na nekim mestima moze da eliminise neku nasu ljudsku gresku, npr da mi negde slucajno\n",
    "# pri treniranju koristimo podatke iz test skupa itd\n",
    "from sklearn.pipeline import Pipeline\n",
    "\n",
    "# argumenti su lista transformacija koje se rade(transformacijje su nesto sto ima fit i transform)\n",
    "# i na kraju liste jedan estimator (to je nesto sto ima fit i predict), tj jedan klasifikator\n",
    "# listu koraka mozemo da damo i kao obicnu listu npr [OrdinalEncoder(), Scaler()], a mozemo i kao \n",
    "# listu tuple-ova gde im damo neka imena\n",
    "pipe = Pipeline( [('encoder', OrdinalEncoder()), \n",
    "                  ('classifier', CategoricalNB)])\n",
    "\n",
    "# NOTE: ovde opet pozivamo train test split da bi dobili trening i test skupove na kojima nisu izvrsene \n",
    "# one transformacije koje smo radili iznad, tj da bi ovaj primer imao smisla\n",
    "X_train, X_test, y_train, y_test = train_test_split(X, y, train_size=0.7, stratify=y)\n",
    "\n",
    "# kada pozovemo ovaj fit, bice pozvani fit i transform za sve transformacije\n",
    "# i na kraju fit za estimator\n",
    "# NOTE: ovaj poziv mi daje gresku, iako je sve isto kao na vezbama, ne vidim zasto\n",
    "pipe.fit(X_train, y_train)\n",
    "\n",
    "# kada smo uradili ovaj fit, mozemo pristupiti svakom koraku(mozemo i preko imena), i onda iz njega vaditi \n",
    "# one parametre isto kao pre, npr:\n",
    "print(pipe['encoder'].categories_)\n",
    "print(pipe['classifier'].category_count_)\n",
    "print(pipe['classifier'].class_count_)\n",
    "\n",
    "# kada su izvrsene sve transformacije i fitovan model, pozivamo sami predict\n",
    "y_predicted = pipe.predict(X_test)\n",
    "print(accuracy_score(y_test, y_predicted))\n",
    "print(confusion_matrix(y_test, y_predicted))\n",
    "print(classification_report(y_test, y_predicted))"
   ]
  }
 ],
 "metadata": {
  "kernelspec": {
   "display_name": "Python 3",
   "language": "python",
   "name": "python3"
  },
  "language_info": {
   "codemirror_mode": {
    "name": "ipython",
    "version": 3
   },
   "file_extension": ".py",
   "mimetype": "text/x-python",
   "name": "python",
   "nbconvert_exporter": "python",
   "pygments_lexer": "ipython3",
   "version": "3.9.0"
  }
 },
 "nbformat": 4,
 "nbformat_minor": 5
}
