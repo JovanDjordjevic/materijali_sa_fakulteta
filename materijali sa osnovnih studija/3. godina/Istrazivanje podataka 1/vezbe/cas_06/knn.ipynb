{
 "cells": [
  {
   "cell_type": "code",
   "execution_count": 1,
   "source": [
    "import pandas as pd\r\n",
    "from sklearn.model_selection import train_test_split\r\n",
    "from sklearn.neighbors import KNeighborsClassifier\r\n",
    "from sklearn.preprocessing import StandardScaler\r\n",
    "from sklearn.metrics import confusion_matrix, accuracy_score"
   ],
   "outputs": [],
   "metadata": {}
  },
  {
   "cell_type": "code",
   "execution_count": 2,
   "source": [
    "df = pd.read_csv('../iris.csv')\r\n",
    "df.describe()"
   ],
   "outputs": [
    {
     "output_type": "execute_result",
     "data": {
      "text/plain": [
       "       Sepal_Length  Sepal_Width  Petal_Length  Petal_Width\n",
       "count    150.000000   150.000000    150.000000   150.000000\n",
       "mean       5.843333     3.057333      3.758000     1.199333\n",
       "std        0.828066     0.435866      1.765298     0.762238\n",
       "min        4.300000     2.000000      1.000000     0.100000\n",
       "25%        5.100000     2.800000      1.600000     0.300000\n",
       "50%        5.800000     3.000000      4.350000     1.300000\n",
       "75%        6.400000     3.300000      5.100000     1.800000\n",
       "max        7.900000     4.400000      6.900000     2.500000"
      ],
      "text/html": [
       "<div>\n",
       "<style scoped>\n",
       "    .dataframe tbody tr th:only-of-type {\n",
       "        vertical-align: middle;\n",
       "    }\n",
       "\n",
       "    .dataframe tbody tr th {\n",
       "        vertical-align: top;\n",
       "    }\n",
       "\n",
       "    .dataframe thead th {\n",
       "        text-align: right;\n",
       "    }\n",
       "</style>\n",
       "<table border=\"1\" class=\"dataframe\">\n",
       "  <thead>\n",
       "    <tr style=\"text-align: right;\">\n",
       "      <th></th>\n",
       "      <th>Sepal_Length</th>\n",
       "      <th>Sepal_Width</th>\n",
       "      <th>Petal_Length</th>\n",
       "      <th>Petal_Width</th>\n",
       "    </tr>\n",
       "  </thead>\n",
       "  <tbody>\n",
       "    <tr>\n",
       "      <th>count</th>\n",
       "      <td>150.000000</td>\n",
       "      <td>150.000000</td>\n",
       "      <td>150.000000</td>\n",
       "      <td>150.000000</td>\n",
       "    </tr>\n",
       "    <tr>\n",
       "      <th>mean</th>\n",
       "      <td>5.843333</td>\n",
       "      <td>3.057333</td>\n",
       "      <td>3.758000</td>\n",
       "      <td>1.199333</td>\n",
       "    </tr>\n",
       "    <tr>\n",
       "      <th>std</th>\n",
       "      <td>0.828066</td>\n",
       "      <td>0.435866</td>\n",
       "      <td>1.765298</td>\n",
       "      <td>0.762238</td>\n",
       "    </tr>\n",
       "    <tr>\n",
       "      <th>min</th>\n",
       "      <td>4.300000</td>\n",
       "      <td>2.000000</td>\n",
       "      <td>1.000000</td>\n",
       "      <td>0.100000</td>\n",
       "    </tr>\n",
       "    <tr>\n",
       "      <th>25%</th>\n",
       "      <td>5.100000</td>\n",
       "      <td>2.800000</td>\n",
       "      <td>1.600000</td>\n",
       "      <td>0.300000</td>\n",
       "    </tr>\n",
       "    <tr>\n",
       "      <th>50%</th>\n",
       "      <td>5.800000</td>\n",
       "      <td>3.000000</td>\n",
       "      <td>4.350000</td>\n",
       "      <td>1.300000</td>\n",
       "    </tr>\n",
       "    <tr>\n",
       "      <th>75%</th>\n",
       "      <td>6.400000</td>\n",
       "      <td>3.300000</td>\n",
       "      <td>5.100000</td>\n",
       "      <td>1.800000</td>\n",
       "    </tr>\n",
       "    <tr>\n",
       "      <th>max</th>\n",
       "      <td>7.900000</td>\n",
       "      <td>4.400000</td>\n",
       "      <td>6.900000</td>\n",
       "      <td>2.500000</td>\n",
       "    </tr>\n",
       "  </tbody>\n",
       "</table>\n",
       "</div>"
      ]
     },
     "metadata": {},
     "execution_count": 2
    }
   ],
   "metadata": {}
  },
  {
   "cell_type": "code",
   "execution_count": 3,
   "source": [
    "df.head()"
   ],
   "outputs": [
    {
     "output_type": "execute_result",
     "data": {
      "text/plain": [
       "   Sepal_Length  Sepal_Width  Petal_Length  Petal_Width Species\n",
       "0           5.1          3.5           1.4          0.2  setosa\n",
       "1           4.9          3.0           1.4          0.2  setosa\n",
       "2           4.7          3.2           1.3          0.2  setosa\n",
       "3           4.6          3.1           1.5          0.2  setosa\n",
       "4           5.0          3.6           1.4          0.2  setosa"
      ],
      "text/html": [
       "<div>\n",
       "<style scoped>\n",
       "    .dataframe tbody tr th:only-of-type {\n",
       "        vertical-align: middle;\n",
       "    }\n",
       "\n",
       "    .dataframe tbody tr th {\n",
       "        vertical-align: top;\n",
       "    }\n",
       "\n",
       "    .dataframe thead th {\n",
       "        text-align: right;\n",
       "    }\n",
       "</style>\n",
       "<table border=\"1\" class=\"dataframe\">\n",
       "  <thead>\n",
       "    <tr style=\"text-align: right;\">\n",
       "      <th></th>\n",
       "      <th>Sepal_Length</th>\n",
       "      <th>Sepal_Width</th>\n",
       "      <th>Petal_Length</th>\n",
       "      <th>Petal_Width</th>\n",
       "      <th>Species</th>\n",
       "    </tr>\n",
       "  </thead>\n",
       "  <tbody>\n",
       "    <tr>\n",
       "      <th>0</th>\n",
       "      <td>5.1</td>\n",
       "      <td>3.5</td>\n",
       "      <td>1.4</td>\n",
       "      <td>0.2</td>\n",
       "      <td>setosa</td>\n",
       "    </tr>\n",
       "    <tr>\n",
       "      <th>1</th>\n",
       "      <td>4.9</td>\n",
       "      <td>3.0</td>\n",
       "      <td>1.4</td>\n",
       "      <td>0.2</td>\n",
       "      <td>setosa</td>\n",
       "    </tr>\n",
       "    <tr>\n",
       "      <th>2</th>\n",
       "      <td>4.7</td>\n",
       "      <td>3.2</td>\n",
       "      <td>1.3</td>\n",
       "      <td>0.2</td>\n",
       "      <td>setosa</td>\n",
       "    </tr>\n",
       "    <tr>\n",
       "      <th>3</th>\n",
       "      <td>4.6</td>\n",
       "      <td>3.1</td>\n",
       "      <td>1.5</td>\n",
       "      <td>0.2</td>\n",
       "      <td>setosa</td>\n",
       "    </tr>\n",
       "    <tr>\n",
       "      <th>4</th>\n",
       "      <td>5.0</td>\n",
       "      <td>3.6</td>\n",
       "      <td>1.4</td>\n",
       "      <td>0.2</td>\n",
       "      <td>setosa</td>\n",
       "    </tr>\n",
       "  </tbody>\n",
       "</table>\n",
       "</div>"
      ]
     },
     "metadata": {},
     "execution_count": 3
    }
   ],
   "metadata": {}
  },
  {
   "cell_type": "code",
   "execution_count": 4,
   "source": [
    "# jos jedan pajtonovski nacin da izdvojimo odredjene kolone, uzimamo sve redove i prve 4 kolone\r\n",
    "# NOTE: ovde pise 2 zbog necega sto smo radili tek nakon sto smo napravili model, vidi posle zasto,\r\n",
    "# ali u normalnim situacijama uzeli bismo svih 4 kolona\r\n",
    "X = df.iloc[:, :2]\r\n",
    "\r\n",
    "# NOTE: za y je prvo stajalo ovo sto je u komentaru ispod, a zbog onog posle smo uradili factorize,\r\n",
    "# da od kategorickih atributa dobijemo neke brojeve, zato sto nam je trebalo za crtanje\r\n",
    "# y = df.iloc[:, -1]  # prakticno isto sto i df['Species']\r\n",
    "\r\n",
    "# factorize nam vrati tuple gde je prvo niz a drugo Index objekat, a posto nam treba samo taj niz\r\n",
    "# uzimamo [0]\r\n",
    "y = pd.factorize(df['Species'])[0]"
   ],
   "outputs": [],
   "metadata": {}
  },
  {
   "cell_type": "code",
   "execution_count": 5,
   "source": [
    "X_train, X_test, y_train, y_test = train_test_split(X, y, test_size=0.3, stratify=y)\r\n",
    "print(X_train.shape)\r\n",
    "print(y_test.shape)"
   ],
   "outputs": [
    {
     "output_type": "stream",
     "name": "stdout",
     "text": [
      "(105, 2)\n",
      "(45,)\n"
     ]
    }
   ],
   "metadata": {}
  },
  {
   "cell_type": "code",
   "execution_count": 6,
   "source": [
    "# bitna stvar za KNN je skala na kojoj se podaci nalaze, tj bitno nam je da li je neki sused veoma blizu \r\n",
    "# ili veoma daleko. U ovakvim situacija nam je pametno da za svaki slucaj uradimo normalizaciju ili \r\n",
    "# standardizaciju (zavisi kako nam je pogodnije), da se svi ti podaci prebace na neku novu skalu\r\n",
    "\r\n",
    "# za standardizaciju mozemod a koristimo ugradjenu klasu StandardScaler iz sklearn.preprocessing\r\n",
    "# .fit() ce da nam, izracuna mean i stddev. \r\n",
    "scaler = StandardScaler()\r\n",
    "scaler.fit(X_train)"
   ],
   "outputs": [
    {
     "output_type": "execute_result",
     "data": {
      "text/plain": [
       "StandardScaler()"
      ]
     },
     "metadata": {},
     "execution_count": 6
    }
   ],
   "metadata": {}
  },
  {
   "cell_type": "code",
   "execution_count": 7,
   "source": [
    "print(scaler.mean_)   # srednje vrednosti za svaki od atributa\r\n",
    "print(scaler.var_)    # varijanse za svaki od atributa"
   ],
   "outputs": [
    {
     "output_type": "stream",
     "name": "stdout",
     "text": [
      "[5.84380952 3.04190476]\n",
      "[0.70893787 0.17157732]\n"
     ]
    }
   ],
   "metadata": {}
  },
  {
   "cell_type": "code",
   "execution_count": 8,
   "source": [
    "# Primetimo da StandardScaler nema predict metod posto to samo po sebi nije model\r\n",
    "# koristimo transform(skup) da bi prtomenili skup tako da mu mean = 0 a stddev = 1\r\n",
    "X_train = scaler.transform(X_train)"
   ],
   "outputs": [],
   "metadata": {}
  },
  {
   "cell_type": "code",
   "execution_count": 9,
   "source": [
    "# transformacija mora da se desi i na test skupu. Tu imamo 2 opcije:\r\n",
    "# 1) da pravimo novi scaler specijalno za test skup\r\n",
    "# 2) da koristimo vec postojeci scaler sa train skupa\r\n",
    "# U prvoj opciji je naravno realnije skaliranje na test podacima, ali druga opcija je bolja zato sto\r\n",
    "# mi treba da se pravimo da test skup ne postoji do trenutka kad pozove predict. I treba da predvidjamo\r\n",
    "# na osnovu modela koji je izgradjen sa train skupom, pa makar on ne odgovarao u potpunosti test podacima\r\n",
    "\r\n",
    "# u scaleru su nam ostali zapamceni podaci za skaliranje\r\n",
    "X_test = scaler.transform(X_test)"
   ],
   "outputs": [],
   "metadata": {}
  },
  {
   "cell_type": "code",
   "execution_count": 10,
   "source": [
    "# zavrisli smo preprocesiranje, sada pravimo model\r\n",
    "\r\n",
    "# po defaultu k=5.  weights nam sluzi da odredimo koliko su susedi bitni. Ako stavmo uniform(ovo je po\r\n",
    "# dafaultu, svi susedi su podjednako bitni, a ako stavimo distance, susedi koji su blizi imaju vecu tezinu \r\n",
    "model = KNeighborsClassifier(n_neighbors=10)"
   ],
   "outputs": [],
   "metadata": {}
  },
  {
   "cell_type": "code",
   "execution_count": 11,
   "source": [
    "model.fit(X_train, y_train)"
   ],
   "outputs": [
    {
     "output_type": "execute_result",
     "data": {
      "text/plain": [
       "KNeighborsClassifier(n_neighbors=10)"
      ]
     },
     "metadata": {},
     "execution_count": 11
    }
   ],
   "metadata": {}
  },
  {
   "cell_type": "code",
   "execution_count": 12,
   "source": [
    "y_predicted = model.predict(X_test)\r\n",
    "print(confusion_matrix(y_test, y_predicted))\r\n",
    "print(accuracy_score(y_test, y_predicted))"
   ],
   "outputs": [
    {
     "output_type": "stream",
     "name": "stdout",
     "text": [
      "[[15  0  0]\n",
      " [ 0 11  4]\n",
      " [ 0  6  9]]\n",
      "0.7777777777777778\n"
     ]
    }
   ],
   "metadata": {}
  },
  {
   "cell_type": "code",
   "execution_count": 13,
   "source": [
    "# sada dolazi na red isprobavanje razlicith parametara pri pravljenju modela u nadi da ce se poboljsati\r\n",
    "# opet mozemo da koristimo GridSearchCV da nebi pisali sve kombinacije rucno, ali to ne radimo u ovom\r\n",
    "# primeru, isto je sve kao prosle nedelje"
   ],
   "outputs": [],
   "metadata": {}
  },
  {
   "cell_type": "code",
   "execution_count": 14,
   "source": [
    "# NOTE: objasnjenje zasto gore u iloc pise 2 umesto 4\r\n",
    "# Sada hocemo da vizuelizujemo KNN, ali imamo problem. Mi imamo 4 numericka tributa, sto fizicki ne mozemo \r\n",
    "# da predstavimo na grafiku (maksimalno mozmoemo da imamo 3 dimenzije). Sada smo odlucili da hocemo 2D \r\n",
    "# grafik. Da bismo to postigli odlucili smo da odbacimo 2 cele kolone podataka, i onda da vidimo kakav \r\n",
    "# model dobijamo. Siugurno se dobija losiji model, samo je pitanje koliko losiji.\r\n",
    "# Kada smo dobili taj model, posto imamo samo 2 atributa, sada mozemo da vizuelizujemo. Hocemo nekako\r\n",
    "# na grafiku da povucemo linije tako da ga izdelimo na regione gde je neka klasa\r\n",
    "# da bi nam lepo izgldao grafik koristicemo neke stvari koje nisu bas toliko bitne za IP kurs\r\n",
    "import numpy as np\r\n",
    "import matplotlib.pyplot as plt\r\n",
    "from matplotlib.colors import ListedColormap\r\n",
    "\r\n",
    "x_min = X_train[:, 0].min()\r\n",
    "x_max = X_train[:, 0].max()\r\n",
    "y_min = X_train[:, 1].min()\r\n",
    "y_max = X_train[:, 1].max()\r\n",
    "\r\n",
    "# pravimo neku kao mrezu na osnovu intervala koje smo nasli iznad, gde je svaka kockica velicine step*step\r\n",
    "step = 0.02\r\n",
    "xx, yy = np.meshgrid( np.arange(x_min, x_max, step)\r\n",
    "                    , np.arange(y_min, y_max, step) )\r\n",
    "# ovo nije preterano bitno, ne mora da se uci napame\r\n",
    "z = model.predict( np.c_[xx.ravel(), yy.ravel()] )\r\n",
    "z = z.reshape(xx.shape)\r\n",
    "\r\n",
    "plt.contour(xx, yy, z)\r\n",
    "plt.scatter(x=X_train[:,0], y=X_train[:,1], c=y_train, cmap=ListedColormap(['red', 'blue', 'green']))"
   ],
   "outputs": [
    {
     "output_type": "execute_result",
     "data": {
      "text/plain": [
       "<matplotlib.collections.PathCollection at 0x2091fe466a0>"
      ]
     },
     "metadata": {},
     "execution_count": 14
    },
    {
     "output_type": "display_data",
     "data": {
      "text/plain": [
       "<Figure size 432x288 with 1 Axes>"
      ],
      "image/png": "[encoded data removed]"
     },
     "metadata": {
      "needs_background": "light"
     }
    }
   ],
   "metadata": {}
  }
 ],
 "metadata": {
  "kernelspec": {
   "display_name": "Python 3",
   "language": "python",
   "name": "python3"
  },
  "language_info": {
   "codemirror_mode": {
    "name": "ipython",
    "version": 3
   },
   "file_extension": ".py",
   "mimetype": "text/x-python",
   "name": "python",
   "nbconvert_exporter": "python",
   "pygments_lexer": "ipython3",
   "version": "3.9.0"
  }
 },
 "nbformat": 4,
 "nbformat_minor": 5
}