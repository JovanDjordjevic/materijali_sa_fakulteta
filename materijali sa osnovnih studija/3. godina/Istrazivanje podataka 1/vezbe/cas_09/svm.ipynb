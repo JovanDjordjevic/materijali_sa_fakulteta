{
 "cells": [
  {
   "cell_type": "code",
   "execution_count": 12,
   "id": "weird-friendly",
   "metadata": {},
   "outputs": [],
   "source": [
    "# hocemo da iskoristimo SVN iz sklearn da razdvojimo podatke iz iris skupa\n",
    "\n",
    "import pandas as pd\n",
    "import numpy as np\n",
    "from sklearn.model_selection import train_test_split, GridSearchCV\n",
    "from sklearn.preprocessing import StandardScaler\n",
    "from sklearn.metrics import accuracy_score, confusion_matrix, classification_report\n",
    "\n",
    "# SVC je za classifier, a SVR je za regressor, ovde radimo klasifikaciju pa koristimo prvi\n",
    "from sklearn.svm import SVC"
   ]
  },
  {
   "cell_type": "code",
   "execution_count": 2,
   "id": "cordless-function",
   "metadata": {},
   "outputs": [
    {
     "data": {
      "text/html": [
       "<div>\n",
       "<style scoped>\n",
       "    .dataframe tbody tr th:only-of-type {\n",
       "        vertical-align: middle;\n",
       "    }\n",
       "\n",
       "    .dataframe tbody tr th {\n",
       "        vertical-align: top;\n",
       "    }\n",
       "\n",
       "    .dataframe thead th {\n",
       "        text-align: right;\n",
       "    }\n",
       "</style>\n",
       "<table border=\"1\" class=\"dataframe\">\n",
       "  <thead>\n",
       "    <tr style=\"text-align: right;\">\n",
       "      <th></th>\n",
       "      <th>Sepal_Length</th>\n",
       "      <th>Sepal_Width</th>\n",
       "      <th>Petal_Length</th>\n",
       "      <th>Petal_Width</th>\n",
       "      <th>Species</th>\n",
       "    </tr>\n",
       "  </thead>\n",
       "  <tbody>\n",
       "    <tr>\n",
       "      <th>0</th>\n",
       "      <td>5.1</td>\n",
       "      <td>3.5</td>\n",
       "      <td>1.4</td>\n",
       "      <td>0.2</td>\n",
       "      <td>setosa</td>\n",
       "    </tr>\n",
       "    <tr>\n",
       "      <th>1</th>\n",
       "      <td>4.9</td>\n",
       "      <td>3.0</td>\n",
       "      <td>1.4</td>\n",
       "      <td>0.2</td>\n",
       "      <td>setosa</td>\n",
       "    </tr>\n",
       "    <tr>\n",
       "      <th>2</th>\n",
       "      <td>4.7</td>\n",
       "      <td>3.2</td>\n",
       "      <td>1.3</td>\n",
       "      <td>0.2</td>\n",
       "      <td>setosa</td>\n",
       "    </tr>\n",
       "    <tr>\n",
       "      <th>3</th>\n",
       "      <td>4.6</td>\n",
       "      <td>3.1</td>\n",
       "      <td>1.5</td>\n",
       "      <td>0.2</td>\n",
       "      <td>setosa</td>\n",
       "    </tr>\n",
       "    <tr>\n",
       "      <th>4</th>\n",
       "      <td>5.0</td>\n",
       "      <td>3.6</td>\n",
       "      <td>1.4</td>\n",
       "      <td>0.2</td>\n",
       "      <td>setosa</td>\n",
       "    </tr>\n",
       "  </tbody>\n",
       "</table>\n",
       "</div>"
      ],
      "text/plain": [
       "   Sepal_Length  Sepal_Width  Petal_Length  Petal_Width Species\n",
       "0           5.1          3.5           1.4          0.2  setosa\n",
       "1           4.9          3.0           1.4          0.2  setosa\n",
       "2           4.7          3.2           1.3          0.2  setosa\n",
       "3           4.6          3.1           1.5          0.2  setosa\n",
       "4           5.0          3.6           1.4          0.2  setosa"
      ]
     },
     "execution_count": 2,
     "metadata": {},
     "output_type": "execute_result"
    }
   ],
   "source": [
    "df = pd.read_csv('../iris.csv')\n",
    "df.head()"
   ]
  },
  {
   "cell_type": "code",
   "execution_count": 3,
   "id": "stock-bronze",
   "metadata": {},
   "outputs": [],
   "source": [
    "X = df.drop('Species', axis=1)\n",
    "y = df['Species']"
   ]
  },
  {
   "cell_type": "code",
   "execution_count": 4,
   "id": "athletic-neutral",
   "metadata": {},
   "outputs": [],
   "source": [
    "X_train, X_test, y_train, y_test = train_test_split(X, y, test_size=0.3, stratify=y)"
   ]
  },
  {
   "cell_type": "code",
   "execution_count": 5,
   "id": "coated-proof",
   "metadata": {},
   "outputs": [
    {
     "name": "stdout",
     "output_type": "stream",
     "text": [
      "(105, 4)\n",
      "(45, 4)\n"
     ]
    }
   ],
   "source": [
    "print(X_train.shape)\n",
    "print(X_test.shape)"
   ]
  },
  {
   "cell_type": "code",
   "execution_count": 6,
   "id": "fourth-profession",
   "metadata": {},
   "outputs": [
    {
     "data": {
      "text/plain": [
       "StandardScaler()"
      ]
     },
     "execution_count": 6,
     "metadata": {},
     "output_type": "execute_result"
    }
   ],
   "source": [
    "# pogodno nam je da ovde izvrsimo normalizaciju ili standardizaciju (zasto (?))\n",
    "scaler = StandardScaler()\n",
    "scaler.fit(X_train)"
   ]
  },
  {
   "cell_type": "code",
   "execution_count": 7,
   "id": "failing-burning",
   "metadata": {},
   "outputs": [],
   "source": [
    "X_train = scaler.transform(X_train)\n",
    "X_test = scaler.transform(X_test)"
   ]
  },
  {
   "cell_type": "code",
   "execution_count": 8,
   "id": "separated-vegetarian",
   "metadata": {},
   "outputs": [],
   "source": [
    "# ostavljamo default parametre, ali vidimo da mozemo da podesimo c, tj tezine koje dodajemo greskama \n",
    "model = SVC()"
   ]
  },
  {
   "cell_type": "code",
   "execution_count": 9,
   "id": "reserved-correlation",
   "metadata": {},
   "outputs": [
    {
     "data": {
      "text/plain": [
       "SVC()"
      ]
     },
     "execution_count": 9,
     "metadata": {},
     "output_type": "execute_result"
    }
   ],
   "source": [
    "model.fit(X_train, y_train)"
   ]
  },
  {
   "cell_type": "code",
   "execution_count": 10,
   "id": "brave-intermediate",
   "metadata": {},
   "outputs": [
    {
     "name": "stdout",
     "output_type": "stream",
     "text": [
      "0.9333333333333333\n"
     ]
    }
   ],
   "source": [
    "y_predicted = model.predict(X_test)\n",
    "print(accuracy_score(y_test, y_predicted))"
   ]
  },
  {
   "cell_type": "code",
   "execution_count": 16,
   "id": "hungry-cambridge",
   "metadata": {},
   "outputs": [],
   "source": [
    "# mozemo npr da probamo sa grid search da trazimo optimalne parametre, samo moramo da pazimo na sledece\n",
    "# ako bismo napravili smao jednu mapu sa parametrima kao u sledecm primeru, nece se lepo racunati za neke modele\n",
    "# npr ako je jedan od parametara kernel i moguca vrednost 'linear', ako mi u mapi imamo i neke vrednosti\n",
    "#  za parametar gamma, one ce biti ignorisane, zato sto linearni kernel ne moze da ima gama parametar\n",
    "\n",
    "# bolji pristup je da napravimo listu mapa, gde cemo davati moguce parametre u svakoj mapi koji \n",
    "# imaju smisla u tom kontekstu (naravno i prvi pristup ce da radi, ali trajace vise vremena)\n",
    "# C treba da bude neki broj izmedju 0 (malo vrednujemo gresku) i 1 (puno vrednujemo gresku)\n",
    "params = [  {\n",
    "             'kernel' : ['linear'],\n",
    "             'C' : [pow(2, x) for x in range(-5, 5)]\n",
    "            },\n",
    "            {\n",
    "              'kernel' : ['poly'],\n",
    "              'degree' : [2, 3, 4, 5],\n",
    "              'C' : [pow(2, x) for x in range(-5, 5)],\n",
    "              'gamma' : np.arange(0, 1, 0.1)\n",
    "            }\n",
    "         ]"
   ]
  },
  {
   "cell_type": "code",
   "execution_count": 17,
   "id": "hispanic-mouth",
   "metadata": {},
   "outputs": [],
   "source": [
    "model = GridSearchCV(SVC(), param_grid=params, cv=5)"
   ]
  },
  {
   "cell_type": "code",
   "execution_count": 18,
   "id": "motivated-gallery",
   "metadata": {},
   "outputs": [
    {
     "data": {
      "text/plain": [
       "GridSearchCV(cv=5, estimator=SVC(),\n",
       "             param_grid=[{'C': [0.03125, 0.0625, 0.125, 0.25, 0.5, 1, 2, 4, 8,\n",
       "                                16],\n",
       "                          'kernel': ['linear']},\n",
       "                         {'C': [0.03125, 0.0625, 0.125, 0.25, 0.5, 1, 2, 4, 8,\n",
       "                                16],\n",
       "                          'degree': [2, 3, 4, 5],\n",
       "                          'gamma': array([0. , 0.1, 0.2, 0.3, 0.4, 0.5, 0.6, 0.7, 0.8, 0.9]),\n",
       "                          'kernel': ['poly']}])"
      ]
     },
     "execution_count": 18,
     "metadata": {},
     "output_type": "execute_result"
    }
   ],
   "source": [
    "model.fit(X_train, y_train)"
   ]
  },
  {
   "cell_type": "code",
   "execution_count": 22,
   "id": "planned-configuration",
   "metadata": {},
   "outputs": [
    {
     "name": "stdout",
     "output_type": "stream",
     "text": [
      "SVC(C=0.125, kernel='linear')\n"
     ]
    }
   ],
   "source": [
    "# vidimo sta se ispotavilo najbolje\n",
    "print(model.best_estimator_)"
   ]
  },
  {
   "cell_type": "code",
   "execution_count": 27,
   "id": "medieval-gothic",
   "metadata": {},
   "outputs": [
    {
     "name": "stdout",
     "output_type": "stream",
     "text": [
      "[ 6 26 20]\n"
     ]
    }
   ],
   "source": [
    "# vidimo koliko ima potpornih vektora za svaku klasu (nisam skapirao bas sta su tacno ti vektori)\n",
    "print(model.best_estimator_.n_support_)"
   ]
  },
  {
   "cell_type": "code",
   "execution_count": 28,
   "id": "directed-perception",
   "metadata": {},
   "outputs": [
    {
     "name": "stdout",
     "output_type": "stream",
     "text": [
      "[[-0.85542696  0.56565306 -1.15815801 -0.91130239]\n",
      " [-1.56640187 -1.6422864  -1.38663446 -1.17599603]\n",
      " [-1.21091441 -0.09672878 -1.32951534 -1.17599603]\n",
      " [-1.21091441  0.12406517 -1.21527712 -1.30834285]\n",
      " [-0.14445205  1.6696228  -1.15815801 -1.17599603]\n",
      " [-0.97392278 -0.09672878 -1.21527712 -1.30834285]\n",
      " [ 0.44802705 -0.31752272  0.32693892  0.14747217]\n",
      " [-0.14445205 -0.97990456 -0.13001398 -0.24956829]\n",
      " [ 1.04050614  0.12406517  0.38405803  0.27981899]\n",
      " [ 0.56652287  0.56565306  0.55541537  0.54451263]\n",
      " [ 0.92201032 -0.31752272  0.49829626  0.14747217]\n",
      " [ 0.09253959  0.34485912  0.61253448  0.80920627]\n",
      " [ 1.15900196 -0.53831667  0.61253448  0.27981899]\n",
      " [ 0.44802705 -1.86308035  0.44117715  0.41216581]\n",
      " [-0.26294786 -0.09672878  0.44117715  0.41216581]\n",
      " [ 0.21103541 -0.31752272  0.44117715  0.41216581]\n",
      " [ 1.27749778  0.12406517  0.6696536   0.41216581]\n",
      " [ 0.32953123 -0.09672878  0.49829626  0.27981899]\n",
      " [ 1.3959936   0.34485912  0.55541537  0.27981899]\n",
      " [ 1.04050614  0.12406517  0.55541537  0.41216581]\n",
      " [-0.26294786 -0.31752272 -0.07289487  0.14747217]\n",
      " [-1.09241859 -1.42149246 -0.24425221 -0.24956829]\n",
      " [ 0.32953123 -0.53831667  0.55541537  0.01512535]\n",
      " [ 0.56652287 -1.6422864   0.38405803  0.14747217]\n",
      " [-0.38144368 -1.20069851  0.15558158  0.14747217]\n",
      " [-0.4999395  -0.09672878  0.44117715  0.41216581]\n",
      " [-0.97392278 -1.6422864  -0.24425221 -0.24956829]\n",
      " [-0.38144368 -0.97990456  0.38405803  0.01512535]\n",
      " [-0.14445205 -0.09672878  0.26981981  0.01512535]\n",
      " [ 0.68501868  0.34485912  0.44117715  0.41216581]\n",
      " [-0.85542696 -1.20069851 -0.41560954 -0.11722147]\n",
      " [ 0.09253959 -0.09672878  0.26981981  0.41216581]\n",
      " [ 1.63298523  0.34485912  1.29796383  0.80920627]\n",
      " [ 0.56652287 -0.75911062  0.6696536   0.80920627]\n",
      " [ 0.32953123 -0.09672878  0.6696536   0.80920627]\n",
      " [ 0.56652287 -0.31752272  1.06948738  0.80920627]\n",
      " [ 1.27749778  0.12406517  0.95524916  1.20624673]\n",
      " [ 0.8035145  -0.09672878  1.01236827  0.80920627]\n",
      " [ 0.68501868 -0.75911062  0.89813005  0.94155309]\n",
      " [ 0.8035145  -0.09672878  0.84101093  1.07389991]\n",
      " [-0.26294786 -0.53831667  0.6696536   1.07389991]\n",
      " [-0.14445205 -1.20069851  0.72677271  1.07389991]\n",
      " [-0.02595623 -0.75911062  0.78389182  0.94155309]\n",
      " [ 0.44802705  0.78644701  0.95524916  1.47094037]\n",
      " [ 0.8035145   0.34485912  0.78389182  1.07389991]\n",
      " [ 2.46245596  1.6696228   1.52644028  1.07389991]\n",
      " [ 0.44802705 -0.53831667  0.61253448  0.80920627]\n",
      " [ 0.21103541 -1.86308035  0.72677271  0.41216581]\n",
      " [ 0.21103541 -0.09672878  0.61253448  0.80920627]\n",
      " [ 0.56652287 -0.53831667  0.78389182  0.41216581]\n",
      " [ 0.56652287 -1.20069851  0.72677271  0.94155309]\n",
      " [-1.09241859 -1.20069851  0.44117715  0.67685945]]\n"
     ]
    }
   ],
   "source": [
    "# vidimo tacno i koji su to vektori\n",
    "print(model.best_estimator_.support_vectors_)"
   ]
  },
  {
   "cell_type": "code",
   "execution_count": 30,
   "id": "convenient-heart",
   "metadata": {},
   "outputs": [
    {
     "name": "stdout",
     "output_type": "stream",
     "text": [
      "[ 20  37  70  73  79  80   2   4   7  16  17  23  24  30  33  35  36  41\n",
      "  42  44  52  57  58  67  75  83  84  86  91  94 101 102   0   5   9  15\n",
      "  27  28  34  43  45  50  51  60  63  64  66  71  72  85  93  99]\n"
     ]
    }
   ],
   "source": [
    "# mozda nam onaj ispis iznad ne znaci mnogo, pa mozemod a vidimo i tacno indekse tih instanci koje cine\n",
    "# odredjen potporni vektor \n",
    "print(model.best_estimator_.support_)"
   ]
  },
  {
   "cell_type": "code",
   "execution_count": 31,
   "id": "linear-particular",
   "metadata": {},
   "outputs": [
    {
     "name": "stdout",
     "output_type": "stream",
     "text": [
      "0.9555555555555556\n"
     ]
    }
   ],
   "source": [
    "y_predicted = model.predict(X_test)\n",
    "print(accuracy_score(y_test, y_predicted))"
   ]
  }
 ],
 "metadata": {
  "kernelspec": {
   "display_name": "Python 3",
   "language": "python",
   "name": "python3"
  },
  "language_info": {
   "codemirror_mode": {
    "name": "ipython",
    "version": 3
   },
   "file_extension": ".py",
   "mimetype": "text/x-python",
   "name": "python",
   "nbconvert_exporter": "python",
   "pygments_lexer": "ipython3",
   "version": "3.9.0"
  }
 },
 "nbformat": 4,
 "nbformat_minor": 5
}
